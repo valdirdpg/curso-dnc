{
 "cells": [
  {
   "cell_type": "markdown",
   "metadata": {
    "id": "pGcaupB1DL9y"
   },
   "source": [
    "É essencial no dia a dia de um Analista, Cientista e Engenheiro de Dados analisarmos os dados brutos através do SQL e responder perguntas importantes do nosso dia a dia e sobre o negócio. Para responder e observar esses problemas através do dados é indispensável a utilização do SQL e uma ferramenta de BI (Metabase) para disponibilizar os dados de forma rápida e prática para os tomadores de decisão.\n",
    "\n",
    "Aqui temos a Lojinha de Presentes da DNC, que é responsável por vender apetrechos, aparelhos, presentinhos e outros itens da mesma categoria para alunos da DNC. Você como um consultor, deve analisar os dados brutos de venda e responder algumas questões chaves para que os tomadores de decisão tenham informação suficiente para decidir a continuidade de algum produto, se fazem ou não promoções e no final, fornecer um dashboard para que os mesmos consigam acompanhar os resultados dessas tomadas de decisão.\n",
    "\n",
    "Primeiro analise os dados disponíveis e entenda como as diversas tabelas se comunicam entre sí. Usando SQL/ Metabase, responda as 5 questões abaixo: "
   ]
  },
  {
   "cell_type": "markdown",
   "metadata": {
    "id": "cdIAjlvIDPRe"
   },
   "source": [
    "**1 - Quais os 5 produtos mais caros da tabela products?**\n",
    "\n",
    "select Category, Price, Title from PRODUCTS order by Price desc limit 5"
   ]
  },
  {
   "cell_type": "markdown",
   "metadata": {
    "id": "DuuTEkp-EErh"
   },
   "source": [
    "**2 - Quais os 5 produtos mais vendidos da loja?**\n",
    "\n",
    "SELECT A.PRODUCT_ID, B.TITLE, SUM(A.QUANTITY) from ORDERS AS A LEFT JOIN PRODUCTS AS B ON B.ID = A.PRODUCT_ID GROUP BY PRODUCT_ID LIMIT 5"
   ]
  },
  {
   "cell_type": "markdown",
   "metadata": {
    "id": "qVIrh8tWD_cq"
   },
   "source": [
    "**3 - Quais os 5 produtos da loja mais vendidos em 2020?**\n",
    "\n",
    "SELECT A.PRODUCT_ID, B.TITLE, SUM(A.QUANTITY) from ORDERS AS A LEFT JOIN PRODUCTS AS B ON B.ID = A.PRODUCT_ID  WHERE YEAR(A.CREATED_AT) = 2020 GROUP BY PRODUCT_ID LIMIT 5\n"
   ]
  },
  {
   "cell_type": "markdown",
   "metadata": {
    "id": "DtcIDgAvEf9A"
   },
   "source": [
    "**4 - Quais os 5 produtos mais avaliados?**\n",
    "\n",
    "SELECT R.PRODUCT_ID, P.TITLE, COUNT(DISTINCT REVIEWER) AS contagem FROM REVIEWS AS R LEFT JOIN PRODUCTS AS P ON P.ID = R.PRODUCT_ID GROUP BY R.PRODUCT_ID, P.TITLE ORDER BY contagem DESC, PRICE asc LIMIT 5\n"
   ]
  },
  {
   "cell_type": "markdown",
   "metadata": {
    "id": "PW31Gg3uEjcu"
   },
   "source": [
    "**5 - De todas as avaliações, qual é a pessoa que mais avaliou algum produto com nota 5? (Em caso de empate, selecione por ordem alfabética: A- B- C-..)**\n",
    "\n",
    "SELECT REVIEWER, RATING, COUNT(ID) as Qtd FROM REVIEWS GROUP BY REVIEWER, RATING order BY Qtd DESC, RATING DESC, REVIEWER asc\n"
   ]
  },
  {
   "cell_type": "markdown",
   "metadata": {
    "id": "e2fKqcOIEzMO"
   },
   "source": [
    "**6 - Calcule o ticket médio por pessoa de todos os pedidos registrados na tabela ORDERS. (Ticket Médio = Total de vendas (Em U$S)/ Número de pedidos)?**\n",
    "\n",
    "WITH temp AS ( SELECT NAME, SUM(TOTAL) AS TOTAL_SALES, COUNT(O.ID) AS NUM_ORDERS FROM ORDERS AS O LEFT JOIN PEOPLE AS H ON H.ID = O.USER_ID GROUP BY NAME )\n",
    "\n",
    "SELECT *, TOTAL_SALES/NUM_ORDERS AS ticket_medio FROM temp"
   ]
  },
  {
   "cell_type": "markdown",
   "metadata": {
    "id": "TEOHM_0XGMpL"
   },
   "source": [
    "**7 - Construa um gráfico de linhas que apresente o número de pedidos e total de vendas em U$S no mesmo gráfico (Gráfico com 2 eixos y). Dica utilize esse link: https://www.metabase.com/learn/sql-questions/dates-in-sql#group-results-by-a-time-period**\n",
    "\n",
    "\n",
    "WITH temp AS ( SELECT *, DATE_TRUNC('week', created_at) AS WEEK_DATE FROM ORDERS AS O)\n",
    "\n",
    "SELECT WEEK_DATE AS period, COUNT(ID) AS NUM_ORDERS, SUM(TOTAL) AS TOTAL_CASH FROM temp GROUP BY period\n"
   ]
  },
  {
   "cell_type": "markdown",
   "metadata": {
    "id": "cRRiKTqrGSrP"
   },
   "source": [
    "**8 - O ticket médio por Mês de vendas? (Utilizar a dica da questão anterior)**\n",
    "\n",
    "SELECT DATE_TRUNC('month', created_at) AS MONTH, SUM(TOTAL)/COUNT(ID) AS ticket_medio FROM ORDERS AS O GROUP BY MONTH\n"
   ]
  },
  {
   "cell_type": "markdown",
   "metadata": {
    "id": "xMprCbypGWvC"
   },
   "source": [
    "**9 - Top 5 mais bem avaliados produtos ( Em caso de empate, escolha o mais barato)**\n",
    "\n",
    "\n",
    "SELECT A.PRODUCT_ID, B.TITLE, B.EAN, AVG(CAST(A.RATING AS DECIMAL)) AS RATING_AVG, B.PRICE FROM REVIEWS AS A LEFT JOIN PRODUCTS AS B ON A.PRODUCT_ID = B.ID GROUP BY A.PRODUCT_ID ORDER BY RATING_AVG DESC, B.PRICE ASC LIMIT 5\n"
   ]
  },
  {
   "cell_type": "markdown",
   "metadata": {
    "id": "ZfmK3JICGaNv"
   },
   "source": [
    "**10 - Agrupando por fornecedor, quais são os Top 10 fornecedores que mais geraram rendimento em Dezembro de 2019 (Considere rendimento como a soma total do valor do pedido e não a quantidade de pedidos daquele fornecedor).**\n",
    "\n",
    "\n",
    "SELECT P.VENDOR, SUM(O.TOTAL) FROM ORDERS AS O LEFT JOIN PRODUCTS AS P ON P.ID = O.PRODUCT_ID WHERE YEAR(O.CREATED_AT) = 2019 AND MONTH(O.CREATED_AT) = 12 GROUP BY P.VENDOR ORDER BY SUM(O.TOTAL) DESC LIMIT 10\n"
   ]
  },
  {
   "cell_type": "markdown",
   "metadata": {
    "id": "1qktm5HbGfEU"
   },
   "source": [
    "**11 - Mostre o total de pedidos distintos por categoria dos pedidos realizados no ano de 2019 ou posterior e que algum cliente tenha avaliado o produto com nota 4 ou maior.**\n",
    "\n",
    "\n",
    "SELECT CATEGORY, COUNT(DISTINCT O.ID) FROM ORDERS AS O LEFT JOIN PRODUCTS AS P ON P.ID = O.PRODUCT_ID LEFT JOIN REVIEWS AS R ON R.PRODUCT_ID = O.PRODUCT_ID WHERE R.RATING >= 4 AND YEAR(O.CREATED_AT)>= 2019 GROUP BY CATEGORY\n"
   ]
  }
 ],
 "metadata": {
  "colab": {
   "provenance": []
  },
  "kernelspec": {
   "display_name": "Python 3 (ipykernel)",
   "language": "python",
   "name": "python3"
  },
  "language_info": {
   "codemirror_mode": {
    "name": "ipython",
    "version": 3
   },
   "file_extension": ".py",
   "mimetype": "text/x-python",
   "name": "python",
   "nbconvert_exporter": "python",
   "pygments_lexer": "ipython3",
   "version": "3.9.7"
  }
 },
 "nbformat": 4,
 "nbformat_minor": 1
}
