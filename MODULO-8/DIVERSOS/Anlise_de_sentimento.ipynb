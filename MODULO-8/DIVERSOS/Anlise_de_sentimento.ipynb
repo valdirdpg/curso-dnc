{
  "cells": [
    {
      "attachments": {},
      "cell_type": "markdown",
      "metadata": {
        "id": "pGCnXVOxK0l-"
      },
      "source": [
        "#Análise de Satisfação de Bancos"
      ]
    },
    {
      "attachments": {},
      "cell_type": "markdown",
      "metadata": {
        "id": "JKAAu67gK5GZ"
      },
      "source": [
        "Imagine que você e eu fomos contratados por uma instituição financeira de grande porte para analisar a satisfação dos clientes com os serviços prestados pela empresa. Como analistas de dados, nossa missão é coletar, processar e analisar um grande volume de dados para obter insights valiosos sobre o que os clientes pensam sobre a empresa, suas necessidades e expectativas.\n",
        "\n",
        "Para começar, vamos coletar dados de diversas fontes, como pesquisas de satisfação, registros de atendimento ao cliente, feedbacks nas redes sociais e reclamações registradas em plataformas de avaliação de empresas. Com esses dados em mãos, podemos criar um banco de dados robusto e padronizado para análise.\n",
        "\n",
        "Faça as seguintes análises\n",
        "\n",
        "1. Analisar NPS de classificação de cada instituição\n",
        "2. Calcular a % de elogios do app para cada instituição\n",
        "3. Calcular a % de reclamações do app para cada instituição\n",
        "4. Calcular a % de elogios a instituição para cada instituição\n",
        "5. Calcular a % de reclamação a instituição para cada instituição\n",
        "6. Plote um gráfico de linhas para entender a tendência das classificações por instituição"
      ]
    },
    {
      "attachments": {},
      "cell_type": "markdown",
      "metadata": {
        "id": "ovtqBsoXnJJD"
      },
      "source": [
        "##Configuração dos dados"
      ]
    },
    {
      "cell_type": "code",
      "execution_count": 5,
      "metadata": {
        "id": "liG1QLSfJ_gR"
      },
      "outputs": [],
      "source": [
        "import pandas as pd\n",
        "import seaborn as sns\n",
        "import matplotlib.pyplot as plt"
      ]
    },
    {
      "cell_type": "code",
      "execution_count": 6,
      "metadata": {
        "id": "xT3Ioq8MKsck"
      },
      "outputs": [],
      "source": [
        "#df = pd.read_excel(\"/content/drive/MyDrive/Datasets/Satisfao com App.xlsx\")\n",
        "df = pd.read_excel('Dados_Satisfacao.xlsx')\n"
      ]
    },
    {
      "cell_type": "code",
      "execution_count": 7,
      "metadata": {
        "id": "4vwuVMCHWSfF"
      },
      "outputs": [],
      "source": [
        "df[\"Elogio quanto ao app\"] = df[\"Elogio quanto ao app\"].str.replace(\"NAO\",\"NÃO\")\n",
        "df[\"Elogio quanto ao app\"] = df[\"Elogio quanto ao app\"].str.replace(\"NÃO\",\"0\")\n",
        "df[\"Elogio quanto ao app\"] = df[\"Elogio quanto ao app\"].str.replace(\"SIM\",\"1\")\n",
        "df[\"Reclamação quanto ao app\"] = df[\"Reclamação quanto ao app\"].str.replace(\"SIM\",\"1\")\n",
        "df[\"Reclamação quanto ao app\"] = df[\"Reclamação quanto ao app\"].str.replace(\"NÃO\",\"0\")\n",
        "df[\"Elogio a Instituição\"] = df[\"Elogio a Instituição\"].str.replace(\"SIM\",\"1\")\n",
        "df[\"Elogio a Instituição\"] = df[\"Elogio a Instituição\"].str.replace(\"NÃO\",\"0\")\n",
        "df[\"Reclamação a Instituição\"] = df[\"Reclamação a Instituição\"].str.replace(\"SIM\",\"1\")\n",
        "df[\"Reclamação a Instituição\"] = df[\"Reclamação a Instituição\"].str.replace(\"NÃO\",\"0\")\n",
        "df[\"Não Classificável\"] = df[\"Não Classificável\"].str.replace(\"SIM\",\"1\")\n",
        "df[\"Não Classificável\"] = df[\"Não Classificável\"].str.replace(\"NÃO\",\"0\")\n",
        "\n",
        "# Define the replacement dictionary\n",
        "replace_dict = {'NAO': '0', 'NÃO': '0', 'SIM': '1'}\n",
        "colunas_replace = [\n",
        "    \"Elogio quanto ao app\",\n",
        "    \"Reclamação quanto ao app\",\n",
        "    \"Elogio a Instituição\",\n",
        "    \"Reclamação a Instituição\",\n",
        "    \"Não Classificável\"\n",
        "]\n",
        "# Replace the strings in the 'col1' column\n",
        "df[colunas_replace] = df[colunas_replace].replace(replace_dict)"
      ]
    },
    {
      "cell_type": "code",
      "execution_count": 8,
      "metadata": {
        "colab": {
          "base_uri": "https://localhost:8080/"
        },
        "id": "xKQ0IGd8YC2m",
        "outputId": "8ccf2cf8-7309-4b0d-f17c-555d37157a34"
      },
      "outputs": [
        {
          "name": "stdout",
          "output_type": "stream",
          "text": [
            "<class 'pandas.core.frame.DataFrame'>\n",
            "RangeIndex: 8702 entries, 0 to 8701\n",
            "Data columns (total 9 columns):\n",
            " #   Column                    Non-Null Count  Dtype \n",
            "---  ------                    --------------  ----- \n",
            " 0   Instituição               8702 non-null   object\n",
            " 1   Comentario                8698 non-null   object\n",
            " 2   Data                      8702 non-null   int64 \n",
            " 3   Classificação             8702 non-null   int64 \n",
            " 4   Elogio quanto ao app      8702 non-null   object\n",
            " 5   Reclamação quanto ao app  8702 non-null   object\n",
            " 6   Elogio a Instituição      8702 non-null   object\n",
            " 7   Reclamação a Instituição  8702 non-null   object\n",
            " 8   Não Classificável         8702 non-null   object\n",
            "dtypes: int64(2), object(7)\n",
            "memory usage: 612.0+ KB\n"
          ]
        }
      ],
      "source": [
        "df.info()"
      ]
    },
    {
      "cell_type": "code",
      "execution_count": 9,
      "metadata": {
        "id": "Y2EB-mMnYfUj"
      },
      "outputs": [],
      "source": [
        "df[\"Elogio quanto ao app\"] = df[\"Elogio quanto ao app\"].astype(int)\n",
        "df[\"Elogio quanto ao app\"] = df[\"Elogio quanto ao app\"].astype(int)\n",
        "df[\"Elogio quanto ao app\"] = df[\"Elogio quanto ao app\"].astype(int)\n",
        "df[\"Reclamação quanto ao app\"] = df[\"Reclamação quanto ao app\"].astype(int)\n",
        "df[\"Reclamação quanto ao app\"] = df[\"Reclamação quanto ao app\"].astype(int)\n",
        "df[\"Elogio a Instituição\"] = df[\"Elogio a Instituição\"].astype(int)\n",
        "df[\"Elogio a Instituição\"] = df[\"Elogio a Instituição\"].astype(int)\n",
        "df[\"Reclamação a Instituição\"] = df[\"Reclamação a Instituição\"].astype(int)\n",
        "df[\"Reclamação a Instituição\"] = df[\"Reclamação a Instituição\"].astype(int)\n",
        "df[\"Não Classificável\"] = df[\"Não Classificável\"].astype(int)\n",
        "df[\"Não Classificável\"] = df[\"Não Classificável\"].astype(int)\n",
        "\n",
        "# Replace the strings in the 'col1' column\n",
        "df[colunas_replace] = df[colunas_replace].astype(int)"
      ]
    },
    {
      "cell_type": "code",
      "execution_count": 10,
      "metadata": {
        "colab": {
          "base_uri": "https://localhost:8080/"
        },
        "id": "kD2yH_auYrRr",
        "outputId": "fcf16228-fe7f-4c77-e434-9820da5156ce"
      },
      "outputs": [
        {
          "name": "stdout",
          "output_type": "stream",
          "text": [
            "<class 'pandas.core.frame.DataFrame'>\n",
            "RangeIndex: 8702 entries, 0 to 8701\n",
            "Data columns (total 9 columns):\n",
            " #   Column                    Non-Null Count  Dtype \n",
            "---  ------                    --------------  ----- \n",
            " 0   Instituição               8702 non-null   object\n",
            " 1   Comentario                8698 non-null   object\n",
            " 2   Data                      8702 non-null   int64 \n",
            " 3   Classificação             8702 non-null   int64 \n",
            " 4   Elogio quanto ao app      8702 non-null   int64 \n",
            " 5   Reclamação quanto ao app  8702 non-null   int64 \n",
            " 6   Elogio a Instituição      8702 non-null   int64 \n",
            " 7   Reclamação a Instituição  8702 non-null   int64 \n",
            " 8   Não Classificável         8702 non-null   int64 \n",
            "dtypes: int64(7), object(2)\n",
            "memory usage: 612.0+ KB\n"
          ]
        }
      ],
      "source": [
        "df.info()"
      ]
    },
    {
      "cell_type": "code",
      "execution_count": 11,
      "metadata": {
        "colab": {
          "base_uri": "https://localhost:8080/",
          "height": 354
        },
        "id": "ddHPbzb1KxMJ",
        "outputId": "4f4f6aee-66ae-4e2e-8485-64d6a8985f86"
      },
      "outputs": [
        {
          "data": {
            "text/html": [
              "<div>\n",
              "<style scoped>\n",
              "    .dataframe tbody tr th:only-of-type {\n",
              "        vertical-align: middle;\n",
              "    }\n",
              "\n",
              "    .dataframe tbody tr th {\n",
              "        vertical-align: top;\n",
              "    }\n",
              "\n",
              "    .dataframe thead th {\n",
              "        text-align: right;\n",
              "    }\n",
              "</style>\n",
              "<table border=\"1\" class=\"dataframe\">\n",
              "  <thead>\n",
              "    <tr style=\"text-align: right;\">\n",
              "      <th></th>\n",
              "      <th>Data</th>\n",
              "      <th>Classificação</th>\n",
              "      <th>Elogio quanto ao app</th>\n",
              "      <th>Reclamação quanto ao app</th>\n",
              "      <th>Elogio a Instituição</th>\n",
              "      <th>Reclamação a Instituição</th>\n",
              "      <th>Não Classificável</th>\n",
              "    </tr>\n",
              "  </thead>\n",
              "  <tbody>\n",
              "    <tr>\n",
              "      <th>count</th>\n",
              "      <td>8702.000000</td>\n",
              "      <td>8702.000000</td>\n",
              "      <td>8702.000000</td>\n",
              "      <td>8702.000000</td>\n",
              "      <td>8702.000000</td>\n",
              "      <td>8702.000000</td>\n",
              "      <td>8702.000000</td>\n",
              "    </tr>\n",
              "    <tr>\n",
              "      <th>mean</th>\n",
              "      <td>43866.945760</td>\n",
              "      <td>4.158584</td>\n",
              "      <td>0.722937</td>\n",
              "      <td>0.219835</td>\n",
              "      <td>0.046081</td>\n",
              "      <td>0.051023</td>\n",
              "      <td>0.035049</td>\n",
              "    </tr>\n",
              "    <tr>\n",
              "      <th>std</th>\n",
              "      <td>117.149061</td>\n",
              "      <td>1.439392</td>\n",
              "      <td>0.447573</td>\n",
              "      <td>0.414158</td>\n",
              "      <td>0.209673</td>\n",
              "      <td>0.220057</td>\n",
              "      <td>0.183915</td>\n",
              "    </tr>\n",
              "    <tr>\n",
              "      <th>min</th>\n",
              "      <td>43667.000000</td>\n",
              "      <td>1.000000</td>\n",
              "      <td>0.000000</td>\n",
              "      <td>0.000000</td>\n",
              "      <td>0.000000</td>\n",
              "      <td>0.000000</td>\n",
              "      <td>0.000000</td>\n",
              "    </tr>\n",
              "    <tr>\n",
              "      <th>25%</th>\n",
              "      <td>43765.000000</td>\n",
              "      <td>4.000000</td>\n",
              "      <td>0.000000</td>\n",
              "      <td>0.000000</td>\n",
              "      <td>0.000000</td>\n",
              "      <td>0.000000</td>\n",
              "      <td>0.000000</td>\n",
              "    </tr>\n",
              "    <tr>\n",
              "      <th>50%</th>\n",
              "      <td>43870.000000</td>\n",
              "      <td>5.000000</td>\n",
              "      <td>1.000000</td>\n",
              "      <td>0.000000</td>\n",
              "      <td>0.000000</td>\n",
              "      <td>0.000000</td>\n",
              "      <td>0.000000</td>\n",
              "    </tr>\n",
              "    <tr>\n",
              "      <th>75%</th>\n",
              "      <td>43968.000000</td>\n",
              "      <td>5.000000</td>\n",
              "      <td>1.000000</td>\n",
              "      <td>0.000000</td>\n",
              "      <td>0.000000</td>\n",
              "      <td>0.000000</td>\n",
              "      <td>0.000000</td>\n",
              "    </tr>\n",
              "    <tr>\n",
              "      <th>max</th>\n",
              "      <td>44067.000000</td>\n",
              "      <td>5.000000</td>\n",
              "      <td>1.000000</td>\n",
              "      <td>1.000000</td>\n",
              "      <td>1.000000</td>\n",
              "      <td>1.000000</td>\n",
              "      <td>1.000000</td>\n",
              "    </tr>\n",
              "  </tbody>\n",
              "</table>\n",
              "</div>"
            ],
            "text/plain": [
              "               Data  Classificação  Elogio quanto ao app  \\\n",
              "count   8702.000000    8702.000000           8702.000000   \n",
              "mean   43866.945760       4.158584              0.722937   \n",
              "std      117.149061       1.439392              0.447573   \n",
              "min    43667.000000       1.000000              0.000000   \n",
              "25%    43765.000000       4.000000              0.000000   \n",
              "50%    43870.000000       5.000000              1.000000   \n",
              "75%    43968.000000       5.000000              1.000000   \n",
              "max    44067.000000       5.000000              1.000000   \n",
              "\n",
              "       Reclamação quanto ao app  Elogio a Instituição  \\\n",
              "count               8702.000000           8702.000000   \n",
              "mean                   0.219835              0.046081   \n",
              "std                    0.414158              0.209673   \n",
              "min                    0.000000              0.000000   \n",
              "25%                    0.000000              0.000000   \n",
              "50%                    0.000000              0.000000   \n",
              "75%                    0.000000              0.000000   \n",
              "max                    1.000000              1.000000   \n",
              "\n",
              "       Reclamação a Instituição  Não Classificável  \n",
              "count               8702.000000        8702.000000  \n",
              "mean                   0.051023           0.035049  \n",
              "std                    0.220057           0.183915  \n",
              "min                    0.000000           0.000000  \n",
              "25%                    0.000000           0.000000  \n",
              "50%                    0.000000           0.000000  \n",
              "75%                    0.000000           0.000000  \n",
              "max                    1.000000           1.000000  "
            ]
          },
          "execution_count": 11,
          "metadata": {},
          "output_type": "execute_result"
        }
      ],
      "source": [
        "df.describe()"
      ]
    },
    {
      "cell_type": "code",
      "execution_count": 12,
      "metadata": {},
      "outputs": [
        {
          "name": "stdout",
          "output_type": "stream",
          "text": [
            "<class 'pandas.core.frame.DataFrame'>\n",
            "RangeIndex: 8702 entries, 0 to 8701\n",
            "Data columns (total 9 columns):\n",
            " #   Column                    Non-Null Count  Dtype \n",
            "---  ------                    --------------  ----- \n",
            " 0   Instituição               8702 non-null   object\n",
            " 1   Comentario                8698 non-null   object\n",
            " 2   Data                      8702 non-null   int64 \n",
            " 3   Classificação             8702 non-null   int64 \n",
            " 4   Elogio quanto ao app      8702 non-null   int64 \n",
            " 5   Reclamação quanto ao app  8702 non-null   int64 \n",
            " 6   Elogio a Instituição      8702 non-null   int64 \n",
            " 7   Reclamação a Instituição  8702 non-null   int64 \n",
            " 8   Não Classificável         8702 non-null   int64 \n",
            "dtypes: int64(7), object(2)\n",
            "memory usage: 612.0+ KB\n"
          ]
        }
      ],
      "source": [
        "df.info()"
      ]
    },
    {
      "cell_type": "code",
      "execution_count": 13,
      "metadata": {},
      "outputs": [
        {
          "data": {
            "text/plain": [
              "<AxesSubplot:>"
            ]
          },
          "execution_count": 13,
          "metadata": {},
          "output_type": "execute_result"
        },
        {
          "data": {
            "image/png": "[encoded data removed]",
            "text/plain": [
              "<Figure size 432x288 with 1 Axes>"
            ]
          },
          "metadata": {
            "needs_background": "light"
          },
          "output_type": "display_data"
        }
      ],
      "source": [
        "df['Classificação'].hist(bins = 5)"
      ]
    },
    {
      "cell_type": "code",
      "execution_count": 14,
      "metadata": {},
      "outputs": [
        {
          "data": {
            "text/plain": [
              "<AxesSubplot:xlabel='Classificação'>"
            ]
          },
          "execution_count": 14,
          "metadata": {},
          "output_type": "execute_result"
        },
        {
          "data": {
            "image/png": "[encoded data removed]",
            "text/plain": [
              "<Figure size 432x288 with 1 Axes>"
            ]
          },
          "metadata": {
            "needs_background": "light"
          },
          "output_type": "display_data"
        }
      ],
      "source": [
        "# Plot the boxplot\n",
        "sns.boxplot(x = df['Classificação'])"
      ]
    },
    {
      "cell_type": "code",
      "execution_count": 15,
      "metadata": {},
      "outputs": [
        {
          "data": {
            "text/plain": [
              "5    68.501494\n",
              "1    13.502643\n",
              "4     9.618479\n",
              "3     4.619628\n",
              "2     3.757757\n",
              "Name: Classificação, dtype: float64"
            ]
          },
          "execution_count": 15,
          "metadata": {},
          "output_type": "execute_result"
        }
      ],
      "source": [
        "df['Classificação'].value_counts(normalize = True) * 100"
      ]
    },
    {
      "cell_type": "code",
      "execution_count": 16,
      "metadata": {
        "id": "qaAIOtb1ezMQ"
      },
      "outputs": [],
      "source": [
        "df[\"Classificação\"] = df[\"Classificação\"].replace(1,-1)\n",
        "df[\"Classificação\"] = df[\"Classificação\"].replace(2,-1)\n",
        "df[\"Classificação\"] = df[\"Classificação\"].replace(3,0)\n",
        "df[\"Classificação\"] = df[\"Classificação\"].replace(4,1)\n",
        "df[\"Classificação\"] = df[\"Classificação\"].replace(5,1)"
      ]
    },
    {
      "attachments": {},
      "cell_type": "markdown",
      "metadata": {
        "id": "aJnZxOA8Rfsl"
      },
      "source": [
        "##NPS Instituição\n",
        "\n",
        "\n"
      ]
    },
    {
      "cell_type": "code",
      "execution_count": 17,
      "metadata": {
        "colab": {
          "base_uri": "https://localhost:8080/",
          "height": 354
        },
        "id": "fT4B7qCbgkF6",
        "outputId": "8da1344a-afc6-44e4-8ab1-6f2d58dd3c84"
      },
      "outputs": [
        {
          "data": {
            "text/html": [
              "<div>\n",
              "<style scoped>\n",
              "    .dataframe tbody tr th:only-of-type {\n",
              "        vertical-align: middle;\n",
              "    }\n",
              "\n",
              "    .dataframe tbody tr th {\n",
              "        vertical-align: top;\n",
              "    }\n",
              "\n",
              "    .dataframe thead th {\n",
              "        text-align: right;\n",
              "    }\n",
              "</style>\n",
              "<table border=\"1\" class=\"dataframe\">\n",
              "  <thead>\n",
              "    <tr style=\"text-align: right;\">\n",
              "      <th></th>\n",
              "      <th>Instituição</th>\n",
              "      <th>Comentario</th>\n",
              "      <th>Data</th>\n",
              "      <th>Classificação</th>\n",
              "      <th>Elogio quanto ao app</th>\n",
              "      <th>Reclamação quanto ao app</th>\n",
              "      <th>Elogio a Instituição</th>\n",
              "      <th>Reclamação a Instituição</th>\n",
              "      <th>Não Classificável</th>\n",
              "    </tr>\n",
              "  </thead>\n",
              "  <tbody>\n",
              "    <tr>\n",
              "      <th>0</th>\n",
              "      <td>Banco do Brasil</td>\n",
              "      <td>Muito bom ajuda muito</td>\n",
              "      <td>43667</td>\n",
              "      <td>1</td>\n",
              "      <td>1</td>\n",
              "      <td>0</td>\n",
              "      <td>0</td>\n",
              "      <td>0</td>\n",
              "      <td>0</td>\n",
              "    </tr>\n",
              "    <tr>\n",
              "      <th>1</th>\n",
              "      <td>Banco do Brasil</td>\n",
              "      <td>excelente</td>\n",
              "      <td>43667</td>\n",
              "      <td>1</td>\n",
              "      <td>1</td>\n",
              "      <td>0</td>\n",
              "      <td>0</td>\n",
              "      <td>0</td>\n",
              "      <td>0</td>\n",
              "    </tr>\n",
              "    <tr>\n",
              "      <th>2</th>\n",
              "      <td>Banco do Brasil</td>\n",
              "      <td>Bom</td>\n",
              "      <td>43667</td>\n",
              "      <td>1</td>\n",
              "      <td>1</td>\n",
              "      <td>0</td>\n",
              "      <td>0</td>\n",
              "      <td>0</td>\n",
              "      <td>0</td>\n",
              "    </tr>\n",
              "    <tr>\n",
              "      <th>3</th>\n",
              "      <td>Banco do Brasil</td>\n",
              "      <td>aplicativo muito top</td>\n",
              "      <td>43667</td>\n",
              "      <td>1</td>\n",
              "      <td>1</td>\n",
              "      <td>0</td>\n",
              "      <td>0</td>\n",
              "      <td>0</td>\n",
              "      <td>0</td>\n",
              "    </tr>\n",
              "    <tr>\n",
              "      <th>4</th>\n",
              "      <td>Banco do Brasil</td>\n",
              "      <td>Fácil e prático</td>\n",
              "      <td>43667</td>\n",
              "      <td>1</td>\n",
              "      <td>1</td>\n",
              "      <td>0</td>\n",
              "      <td>0</td>\n",
              "      <td>0</td>\n",
              "      <td>0</td>\n",
              "    </tr>\n",
              "  </tbody>\n",
              "</table>\n",
              "</div>"
            ],
            "text/plain": [
              "       Instituição             Comentario   Data  Classificação  \\\n",
              "0  Banco do Brasil  Muito bom ajuda muito  43667              1   \n",
              "1  Banco do Brasil              excelente  43667              1   \n",
              "2  Banco do Brasil                    Bom  43667              1   \n",
              "3  Banco do Brasil   aplicativo muito top  43667              1   \n",
              "4  Banco do Brasil        Fácil e prático  43667              1   \n",
              "\n",
              "   Elogio quanto ao app  Reclamação quanto ao app  Elogio a Instituição  \\\n",
              "0                     1                         0                     0   \n",
              "1                     1                         0                     0   \n",
              "2                     1                         0                     0   \n",
              "3                     1                         0                     0   \n",
              "4                     1                         0                     0   \n",
              "\n",
              "   Reclamação a Instituição  Não Classificável  \n",
              "0                         0                  0  \n",
              "1                         0                  0  \n",
              "2                         0                  0  \n",
              "3                         0                  0  \n",
              "4                         0                  0  "
            ]
          },
          "execution_count": 17,
          "metadata": {},
          "output_type": "execute_result"
        }
      ],
      "source": [
        "df.head()"
      ]
    },
    {
      "cell_type": "code",
      "execution_count": 18,
      "metadata": {},
      "outputs": [
        {
          "data": {
            "text/html": [
              "<div>\n",
              "<style scoped>\n",
              "    .dataframe tbody tr th:only-of-type {\n",
              "        vertical-align: middle;\n",
              "    }\n",
              "\n",
              "    .dataframe tbody tr th {\n",
              "        vertical-align: top;\n",
              "    }\n",
              "\n",
              "    .dataframe thead th {\n",
              "        text-align: right;\n",
              "    }\n",
              "</style>\n",
              "<table border=\"1\" class=\"dataframe\">\n",
              "  <thead>\n",
              "    <tr style=\"text-align: right;\">\n",
              "      <th></th>\n",
              "      <th>Data</th>\n",
              "      <th>Classificação</th>\n",
              "      <th>Elogio quanto ao app</th>\n",
              "      <th>Reclamação quanto ao app</th>\n",
              "      <th>Elogio a Instituição</th>\n",
              "      <th>Reclamação a Instituição</th>\n",
              "      <th>Não Classificável</th>\n",
              "    </tr>\n",
              "  </thead>\n",
              "  <tbody>\n",
              "    <tr>\n",
              "      <th>count</th>\n",
              "      <td>8702.000000</td>\n",
              "      <td>8702.000000</td>\n",
              "      <td>8702.000000</td>\n",
              "      <td>8702.000000</td>\n",
              "      <td>8702.000000</td>\n",
              "      <td>8702.000000</td>\n",
              "      <td>8702.000000</td>\n",
              "    </tr>\n",
              "    <tr>\n",
              "      <th>mean</th>\n",
              "      <td>43866.945760</td>\n",
              "      <td>0.608596</td>\n",
              "      <td>0.722937</td>\n",
              "      <td>0.219835</td>\n",
              "      <td>0.046081</td>\n",
              "      <td>0.051023</td>\n",
              "      <td>0.035049</td>\n",
              "    </tr>\n",
              "    <tr>\n",
              "      <th>std</th>\n",
              "      <td>117.149061</td>\n",
              "      <td>0.763860</td>\n",
              "      <td>0.447573</td>\n",
              "      <td>0.414158</td>\n",
              "      <td>0.209673</td>\n",
              "      <td>0.220057</td>\n",
              "      <td>0.183915</td>\n",
              "    </tr>\n",
              "    <tr>\n",
              "      <th>min</th>\n",
              "      <td>43667.000000</td>\n",
              "      <td>-1.000000</td>\n",
              "      <td>0.000000</td>\n",
              "      <td>0.000000</td>\n",
              "      <td>0.000000</td>\n",
              "      <td>0.000000</td>\n",
              "      <td>0.000000</td>\n",
              "    </tr>\n",
              "    <tr>\n",
              "      <th>25%</th>\n",
              "      <td>43765.000000</td>\n",
              "      <td>1.000000</td>\n",
              "      <td>0.000000</td>\n",
              "      <td>0.000000</td>\n",
              "      <td>0.000000</td>\n",
              "      <td>0.000000</td>\n",
              "      <td>0.000000</td>\n",
              "    </tr>\n",
              "    <tr>\n",
              "      <th>50%</th>\n",
              "      <td>43870.000000</td>\n",
              "      <td>1.000000</td>\n",
              "      <td>1.000000</td>\n",
              "      <td>0.000000</td>\n",
              "      <td>0.000000</td>\n",
              "      <td>0.000000</td>\n",
              "      <td>0.000000</td>\n",
              "    </tr>\n",
              "    <tr>\n",
              "      <th>75%</th>\n",
              "      <td>43968.000000</td>\n",
              "      <td>1.000000</td>\n",
              "      <td>1.000000</td>\n",
              "      <td>0.000000</td>\n",
              "      <td>0.000000</td>\n",
              "      <td>0.000000</td>\n",
              "      <td>0.000000</td>\n",
              "    </tr>\n",
              "    <tr>\n",
              "      <th>max</th>\n",
              "      <td>44067.000000</td>\n",
              "      <td>1.000000</td>\n",
              "      <td>1.000000</td>\n",
              "      <td>1.000000</td>\n",
              "      <td>1.000000</td>\n",
              "      <td>1.000000</td>\n",
              "      <td>1.000000</td>\n",
              "    </tr>\n",
              "  </tbody>\n",
              "</table>\n",
              "</div>"
            ],
            "text/plain": [
              "               Data  Classificação  Elogio quanto ao app  \\\n",
              "count   8702.000000    8702.000000           8702.000000   \n",
              "mean   43866.945760       0.608596              0.722937   \n",
              "std      117.149061       0.763860              0.447573   \n",
              "min    43667.000000      -1.000000              0.000000   \n",
              "25%    43765.000000       1.000000              0.000000   \n",
              "50%    43870.000000       1.000000              1.000000   \n",
              "75%    43968.000000       1.000000              1.000000   \n",
              "max    44067.000000       1.000000              1.000000   \n",
              "\n",
              "       Reclamação quanto ao app  Elogio a Instituição  \\\n",
              "count               8702.000000           8702.000000   \n",
              "mean                   0.219835              0.046081   \n",
              "std                    0.414158              0.209673   \n",
              "min                    0.000000              0.000000   \n",
              "25%                    0.000000              0.000000   \n",
              "50%                    0.000000              0.000000   \n",
              "75%                    0.000000              0.000000   \n",
              "max                    1.000000              1.000000   \n",
              "\n",
              "       Reclamação a Instituição  Não Classificável  \n",
              "count               8702.000000        8702.000000  \n",
              "mean                   0.051023           0.035049  \n",
              "std                    0.220057           0.183915  \n",
              "min                    0.000000           0.000000  \n",
              "25%                    0.000000           0.000000  \n",
              "50%                    0.000000           0.000000  \n",
              "75%                    0.000000           0.000000  \n",
              "max                    1.000000           1.000000  "
            ]
          },
          "execution_count": 18,
          "metadata": {},
          "output_type": "execute_result"
        }
      ],
      "source": [
        "df.describe()"
      ]
    },
    {
      "cell_type": "code",
      "execution_count": 19,
      "metadata": {
        "colab": {
          "base_uri": "https://localhost:8080/",
          "height": 206
        },
        "id": "WrxuBr-dKy_w",
        "outputId": "dca2bb9a-2a2f-48c5-a2b7-32e775f97d22"
      },
      "outputs": [
        {
          "data": {
            "text/html": [
              "<div>\n",
              "<style scoped>\n",
              "    .dataframe tbody tr th:only-of-type {\n",
              "        vertical-align: middle;\n",
              "    }\n",
              "\n",
              "    .dataframe tbody tr th {\n",
              "        vertical-align: top;\n",
              "    }\n",
              "\n",
              "    .dataframe thead th {\n",
              "        text-align: right;\n",
              "    }\n",
              "</style>\n",
              "<table border=\"1\" class=\"dataframe\">\n",
              "  <thead>\n",
              "    <tr style=\"text-align: right;\">\n",
              "      <th></th>\n",
              "      <th>Instituição</th>\n",
              "      <th>Classificação</th>\n",
              "    </tr>\n",
              "  </thead>\n",
              "  <tbody>\n",
              "    <tr>\n",
              "      <th>0</th>\n",
              "      <td>Caixa Econômica Federal</td>\n",
              "      <td>42.413793</td>\n",
              "    </tr>\n",
              "    <tr>\n",
              "      <th>1</th>\n",
              "      <td>Banco Itau</td>\n",
              "      <td>56.954023</td>\n",
              "    </tr>\n",
              "    <tr>\n",
              "      <th>2</th>\n",
              "      <td>Nubank</td>\n",
              "      <td>58.529581</td>\n",
              "    </tr>\n",
              "    <tr>\n",
              "      <th>3</th>\n",
              "      <td>Banco Bradesco</td>\n",
              "      <td>68.236646</td>\n",
              "    </tr>\n",
              "    <tr>\n",
              "      <th>4</th>\n",
              "      <td>Banco do Brasil</td>\n",
              "      <td>78.160920</td>\n",
              "    </tr>\n",
              "  </tbody>\n",
              "</table>\n",
              "</div>"
            ],
            "text/plain": [
              "               Instituição  Classificação\n",
              "0  Caixa Econômica Federal      42.413793\n",
              "1               Banco Itau      56.954023\n",
              "2                   Nubank      58.529581\n",
              "3           Banco Bradesco      68.236646\n",
              "4          Banco do Brasil      78.160920"
            ]
          },
          "execution_count": 19,
          "metadata": {},
          "output_type": "execute_result"
        }
      ],
      "source": [
        "df_bancos_agrupados = df.groupby([\"Instituição\"])[\"Classificação\"].agg(\"mean\").sort_values().reset_index()\n",
        "#df_bancos_agrupados = df.groupby([\"Instituição\"])[\"Classificação\"].median().sort_values().reset_index()\n",
        "\n",
        "df_bancos_agrupados['Classificação'] = df_bancos_agrupados['Classificação'] * 100\n",
        "df_bancos_agrupados"
      ]
    },
    {
      "cell_type": "code",
      "execution_count": 20,
      "metadata": {},
      "outputs": [
        {
          "data": {
            "text/plain": [
              " 1    77.139575\n",
              "-1    18.609994\n",
              " 0     4.250431\n",
              "Name: Classificação, dtype: float64"
            ]
          },
          "execution_count": 20,
          "metadata": {},
          "output_type": "execute_result"
        }
      ],
      "source": [
        "df[df['Instituição'] == 'Nubank']['Classificação'].value_counts(normalize = True) * 100"
      ]
    },
    {
      "cell_type": "code",
      "execution_count": 21,
      "metadata": {},
      "outputs": [
        {
          "data": {
            "text/plain": [
              "58.52958099999999"
            ]
          },
          "execution_count": 21,
          "metadata": {},
          "output_type": "execute_result"
        }
      ],
      "source": [
        "77.139575 - 18.609994"
      ]
    },
    {
      "cell_type": "code",
      "execution_count": 22,
      "metadata": {
        "id": "GjCrgmPPPbNk"
      },
      "outputs": [],
      "source": [
        "sns.set_palette(\"Set1\")\n",
        "sns.set_style(\"darkgrid\")"
      ]
    },
    {
      "cell_type": "code",
      "execution_count": 23,
      "metadata": {
        "colab": {
          "base_uri": "https://localhost:8080/",
          "height": 406
        },
        "id": "_Y9Aj9ReMurr",
        "outputId": "d70ea5ea-45a5-4346-a071-c6b51ec3c9c5"
      },
      "outputs": [
        {
          "data": {
            "text/plain": [
              "<AxesSubplot:xlabel='Instituição', ylabel='Classificação'>"
            ]
          },
          "execution_count": 23,
          "metadata": {},
          "output_type": "execute_result"
        },
        {
          "data": {
            "image/png": "[encoded data removed]",
            "text/plain": [
              "<Figure size 720x288 with 1 Axes>"
            ]
          },
          "metadata": {},
          "output_type": "display_data"
        }
      ],
      "source": [
        "#O banco mais bem avaliado no quesito \"Classificação\" é o Banco do Brasil, seguido pelo Bradesco, Nubank, Itau e Caixa Econômica Federal\n",
        "\n",
        "plt.subplots(figsize = (10,4))\n",
        "sns.barplot(data = df_bancos_agrupados, x = 'Instituição', y= 'Classificação')"
      ]
    },
    {
      "attachments": {},
      "cell_type": "markdown",
      "metadata": {
        "id": "kbkqmu2-RkCF"
      },
      "source": [
        "##% de elogios do app para cada instituição"
      ]
    },
    {
      "cell_type": "code",
      "execution_count": 24,
      "metadata": {
        "colab": {
          "base_uri": "https://localhost:8080/",
          "height": 354
        },
        "id": "_EBxRPD9RwNQ",
        "outputId": "ff44cf6f-1d9c-49ab-fa5a-8715659e97b1"
      },
      "outputs": [
        {
          "data": {
            "text/html": [
              "<div>\n",
              "<style scoped>\n",
              "    .dataframe tbody tr th:only-of-type {\n",
              "        vertical-align: middle;\n",
              "    }\n",
              "\n",
              "    .dataframe tbody tr th {\n",
              "        vertical-align: top;\n",
              "    }\n",
              "\n",
              "    .dataframe thead th {\n",
              "        text-align: right;\n",
              "    }\n",
              "</style>\n",
              "<table border=\"1\" class=\"dataframe\">\n",
              "  <thead>\n",
              "    <tr style=\"text-align: right;\">\n",
              "      <th></th>\n",
              "      <th>Instituição</th>\n",
              "      <th>Comentario</th>\n",
              "      <th>Data</th>\n",
              "      <th>Classificação</th>\n",
              "      <th>Elogio quanto ao app</th>\n",
              "      <th>Reclamação quanto ao app</th>\n",
              "      <th>Elogio a Instituição</th>\n",
              "      <th>Reclamação a Instituição</th>\n",
              "      <th>Não Classificável</th>\n",
              "    </tr>\n",
              "  </thead>\n",
              "  <tbody>\n",
              "    <tr>\n",
              "      <th>0</th>\n",
              "      <td>Banco do Brasil</td>\n",
              "      <td>Muito bom ajuda muito</td>\n",
              "      <td>43667</td>\n",
              "      <td>1</td>\n",
              "      <td>1</td>\n",
              "      <td>0</td>\n",
              "      <td>0</td>\n",
              "      <td>0</td>\n",
              "      <td>0</td>\n",
              "    </tr>\n",
              "    <tr>\n",
              "      <th>1</th>\n",
              "      <td>Banco do Brasil</td>\n",
              "      <td>excelente</td>\n",
              "      <td>43667</td>\n",
              "      <td>1</td>\n",
              "      <td>1</td>\n",
              "      <td>0</td>\n",
              "      <td>0</td>\n",
              "      <td>0</td>\n",
              "      <td>0</td>\n",
              "    </tr>\n",
              "    <tr>\n",
              "      <th>2</th>\n",
              "      <td>Banco do Brasil</td>\n",
              "      <td>Bom</td>\n",
              "      <td>43667</td>\n",
              "      <td>1</td>\n",
              "      <td>1</td>\n",
              "      <td>0</td>\n",
              "      <td>0</td>\n",
              "      <td>0</td>\n",
              "      <td>0</td>\n",
              "    </tr>\n",
              "    <tr>\n",
              "      <th>3</th>\n",
              "      <td>Banco do Brasil</td>\n",
              "      <td>aplicativo muito top</td>\n",
              "      <td>43667</td>\n",
              "      <td>1</td>\n",
              "      <td>1</td>\n",
              "      <td>0</td>\n",
              "      <td>0</td>\n",
              "      <td>0</td>\n",
              "      <td>0</td>\n",
              "    </tr>\n",
              "    <tr>\n",
              "      <th>4</th>\n",
              "      <td>Banco do Brasil</td>\n",
              "      <td>Fácil e prático</td>\n",
              "      <td>43667</td>\n",
              "      <td>1</td>\n",
              "      <td>1</td>\n",
              "      <td>0</td>\n",
              "      <td>0</td>\n",
              "      <td>0</td>\n",
              "      <td>0</td>\n",
              "    </tr>\n",
              "  </tbody>\n",
              "</table>\n",
              "</div>"
            ],
            "text/plain": [
              "       Instituição             Comentario   Data  Classificação  \\\n",
              "0  Banco do Brasil  Muito bom ajuda muito  43667              1   \n",
              "1  Banco do Brasil              excelente  43667              1   \n",
              "2  Banco do Brasil                    Bom  43667              1   \n",
              "3  Banco do Brasil   aplicativo muito top  43667              1   \n",
              "4  Banco do Brasil        Fácil e prático  43667              1   \n",
              "\n",
              "   Elogio quanto ao app  Reclamação quanto ao app  Elogio a Instituição  \\\n",
              "0                     1                         0                     0   \n",
              "1                     1                         0                     0   \n",
              "2                     1                         0                     0   \n",
              "3                     1                         0                     0   \n",
              "4                     1                         0                     0   \n",
              "\n",
              "   Reclamação a Instituição  Não Classificável  \n",
              "0                         0                  0  \n",
              "1                         0                  0  \n",
              "2                         0                  0  \n",
              "3                         0                  0  \n",
              "4                         0                  0  "
            ]
          },
          "execution_count": 24,
          "metadata": {},
          "output_type": "execute_result"
        }
      ],
      "source": [
        "df.head()"
      ]
    },
    {
      "cell_type": "code",
      "execution_count": 25,
      "metadata": {
        "colab": {
          "base_uri": "https://localhost:8080/",
          "height": 406
        },
        "id": "8isvu6uLVi8o",
        "outputId": "637cf7f1-9f67-4520-91a9-6fb4c50f7fdf"
      },
      "outputs": [
        {
          "data": {
            "text/plain": [
              "<AxesSubplot:xlabel='Instituição', ylabel='Elogio quanto ao app'>"
            ]
          },
          "execution_count": 25,
          "metadata": {},
          "output_type": "execute_result"
        },
        {
          "data": {
            "image/png": "[encoded data removed]",
            "text/plain": [
              "<Figure size 720x288 with 1 Axes>"
            ]
          },
          "metadata": {},
          "output_type": "display_data"
        }
      ],
      "source": [
        "#Calculando NPS da métrica de Elogio do APP\n",
        "df_Elogio_App = df.groupby('Instituição')['Elogio quanto ao app'].mean().reset_index()\n",
        "df_Elogio_App['Elogio quanto ao app'] = df_Elogio_App['Elogio quanto ao app']*100\n",
        "plt.subplots(figsize = (10,4))\n",
        "sns.barplot(x = 'Instituição', y = 'Elogio quanto ao app', data = df_Elogio_App)"
      ]
    },
    {
      "cell_type": "code",
      "execution_count": 26,
      "metadata": {
        "colab": {
          "base_uri": "https://localhost:8080/",
          "height": 206
        },
        "id": "aJzyW_9soXg9",
        "outputId": "546ca008-5953-46c0-b30b-bb8040f82df4"
      },
      "outputs": [
        {
          "data": {
            "text/html": [
              "<div>\n",
              "<style scoped>\n",
              "    .dataframe tbody tr th:only-of-type {\n",
              "        vertical-align: middle;\n",
              "    }\n",
              "\n",
              "    .dataframe tbody tr th {\n",
              "        vertical-align: top;\n",
              "    }\n",
              "\n",
              "    .dataframe thead th {\n",
              "        text-align: right;\n",
              "    }\n",
              "</style>\n",
              "<table border=\"1\" class=\"dataframe\">\n",
              "  <thead>\n",
              "    <tr style=\"text-align: right;\">\n",
              "      <th></th>\n",
              "      <th>Instituição</th>\n",
              "      <th>Elogio quanto ao app</th>\n",
              "    </tr>\n",
              "  </thead>\n",
              "  <tbody>\n",
              "    <tr>\n",
              "      <th>0</th>\n",
              "      <td>Banco Bradesco</td>\n",
              "      <td>77.886272</td>\n",
              "    </tr>\n",
              "    <tr>\n",
              "      <th>1</th>\n",
              "      <td>Banco Itau</td>\n",
              "      <td>72.816092</td>\n",
              "    </tr>\n",
              "    <tr>\n",
              "      <th>2</th>\n",
              "      <td>Banco do Brasil</td>\n",
              "      <td>84.252874</td>\n",
              "    </tr>\n",
              "    <tr>\n",
              "      <th>3</th>\n",
              "      <td>Caixa Econômica Federal</td>\n",
              "      <td>63.505747</td>\n",
              "    </tr>\n",
              "    <tr>\n",
              "      <th>4</th>\n",
              "      <td>Nubank</td>\n",
              "      <td>63.009765</td>\n",
              "    </tr>\n",
              "  </tbody>\n",
              "</table>\n",
              "</div>"
            ],
            "text/plain": [
              "               Instituição  Elogio quanto ao app\n",
              "0           Banco Bradesco             77.886272\n",
              "1               Banco Itau             72.816092\n",
              "2          Banco do Brasil             84.252874\n",
              "3  Caixa Econômica Federal             63.505747\n",
              "4                   Nubank             63.009765"
            ]
          },
          "execution_count": 26,
          "metadata": {},
          "output_type": "execute_result"
        }
      ],
      "source": [
        "df_Elogio_App"
      ]
    },
    {
      "attachments": {},
      "cell_type": "markdown",
      "metadata": {
        "id": "6uKuwyp9m5Ls"
      },
      "source": [
        "##% de reclamações do app para cada instituição"
      ]
    },
    {
      "cell_type": "code",
      "execution_count": 33,
      "metadata": {
        "colab": {
          "base_uri": "https://localhost:8080/",
          "height": 407
        },
        "id": "B4g9gDD9S9Qk",
        "outputId": "760b3b17-03f0-47dd-8fd0-5efe21a32c22"
      },
      "outputs": [
        {
          "name": "stdout",
          "output_type": "stream",
          "text": [
            "               Instituição  Reclamação quanto ao app\n",
            "0           Banco Bradesco                 19.356692\n",
            "1               Banco Itau                 25.402299\n",
            "2          Banco do Brasil                 13.620690\n",
            "3  Caixa Econômica Federal                 33.793103\n",
            "4                   Nubank                 17.748420\n"
          ]
        },
        {
          "data": {
            "text/plain": [
              "<AxesSubplot:xlabel='Instituição', ylabel='Reclamação quanto ao app'>"
            ]
          },
          "execution_count": 33,
          "metadata": {},
          "output_type": "execute_result"
        },
        {
          "data": {
            "image/png": "[encoded data removed]",
            "text/plain": [
              "<Figure size 720x288 with 1 Axes>"
            ]
          },
          "metadata": {},
          "output_type": "display_data"
        }
      ],
      "source": [
        "#Calculando % de reclamação do app de cada instituição\n",
        "\n",
        "df_reclamacao_App = df.groupby('Instituição')['Reclamação quanto ao app'].mean().reset_index()\n",
        "df_reclamacao_App['Reclamação quanto ao app'] = df_reclamacao_App['Reclamação quanto ao app']*100\n",
        "plt.subplots(figsize = (10,4))\n",
        "print(df_reclamacao_App)\n",
        "sns.barplot(x='Instituição', y = 'Reclamação quanto ao app', data=df_reclamacao_App)"
      ]
    },
    {
      "attachments": {},
      "cell_type": "markdown",
      "metadata": {
        "id": "THStGVLNm_aB"
      },
      "source": [
        "##% de elogios a instituição para cada instituição"
      ]
    },
    {
      "cell_type": "code",
      "execution_count": 34,
      "metadata": {
        "colab": {
          "base_uri": "https://localhost:8080/",
          "height": 406
        },
        "id": "9rqogNapa_vg",
        "outputId": "a0e3d688-ed97-4d2d-d1f1-19f1860b2a46"
      },
      "outputs": [
        {
          "name": "stdout",
          "output_type": "stream",
          "text": [
            "               Instituição  Elogio a Instituição\n",
            "0           Banco Bradesco              2.067777\n",
            "1               Banco Itau              2.643678\n",
            "2          Banco do Brasil              2.068966\n",
            "3  Caixa Econômica Federal              0.747126\n",
            "4                   Nubank             15.508329\n"
          ]
        },
        {
          "data": {
            "text/plain": [
              "<AxesSubplot:xlabel='Instituição', ylabel='Elogio a Instituição'>"
            ]
          },
          "execution_count": 34,
          "metadata": {},
          "output_type": "execute_result"
        },
        {
          "data": {
            "image/png": "[encoded data removed]",
            "text/plain": [
              "<Figure size 720x288 with 1 Axes>"
            ]
          },
          "metadata": {},
          "output_type": "display_data"
        }
      ],
      "source": [
        "#Calculando % de elogio de cada instituição\n",
        "\n",
        "df_elogio_instituicao = df.groupby('Instituição')['Elogio a Instituição'].mean().reset_index()\n",
        "df_elogio_instituicao['Elogio a Instituição'] = df_elogio_instituicao['Elogio a Instituição']*100\n",
        "print(df_elogio_instituicao)\n",
        "plt.subplots(figsize = (10,4))\n",
        "sns.barplot(x='Instituição', y = 'Elogio a Instituição', data=df_elogio_instituicao)"
      ]
    },
    {
      "attachments": {},
      "cell_type": "markdown",
      "metadata": {
        "id": "sltDQdSOnBWz"
      },
      "source": [
        "##% de reclamações a instituição para cada instituição"
      ]
    },
    {
      "cell_type": "code",
      "execution_count": 29,
      "metadata": {
        "colab": {
          "base_uri": "https://localhost:8080/",
          "height": 406
        },
        "id": "Qql7hTKbd_DM",
        "outputId": "fcfe12c8-13d2-4153-eeb7-b4fae9f6428c"
      },
      "outputs": [
        {
          "name": "stdout",
          "output_type": "stream",
          "text": [
            "               Instituição  Reclamação a Instituição\n",
            "0           Banco Bradesco                  2.354968\n",
            "1               Banco Itau                  3.678161\n",
            "2          Banco do Brasil                  2.471264\n",
            "3  Caixa Econômica Federal                  2.126437\n",
            "4                   Nubank                 14.876508\n"
          ]
        },
        {
          "data": {
            "image/png": "[encoded data removed]",
            "text/plain": [
              "<Figure size 720x288 with 1 Axes>"
            ]
          },
          "metadata": {},
          "output_type": "display_data"
        }
      ],
      "source": [
        "#Calculando % de reclamação cada instituição\n",
        "\n",
        "df_reclamacao_instituicao = df.groupby('Instituição')['Reclamação a Instituição'].mean().reset_index()\n",
        "df_reclamacao_instituicao['Reclamação a Instituição'] = df_reclamacao_instituicao['Reclamação a Instituição']*100\n",
        "plt.subplots(figsize = (10,4))\n",
        "sns.barplot(x='Instituição', y = 'Reclamação a Instituição', data=df_reclamacao_instituicao)\n",
        "print(df_reclamacao_instituicao)"
      ]
    },
    {
      "cell_type": "code",
      "execution_count": 30,
      "metadata": {
        "colab": {
          "base_uri": "https://localhost:8080/",
          "height": 372
        },
        "id": "pm9TjI7Yo4YB",
        "outputId": "75ea1c39-fc98-44d4-ae5d-b64e9b396b75"
      },
      "outputs": [
        {
          "data": {
            "text/html": [
              "<div>\n",
              "<style scoped>\n",
              "    .dataframe tbody tr th:only-of-type {\n",
              "        vertical-align: middle;\n",
              "    }\n",
              "\n",
              "    .dataframe tbody tr th {\n",
              "        vertical-align: top;\n",
              "    }\n",
              "\n",
              "    .dataframe thead th {\n",
              "        text-align: right;\n",
              "    }\n",
              "</style>\n",
              "<table border=\"1\" class=\"dataframe\">\n",
              "  <thead>\n",
              "    <tr style=\"text-align: right;\">\n",
              "      <th></th>\n",
              "      <th>Instituição</th>\n",
              "      <th>Comentario</th>\n",
              "      <th>Data</th>\n",
              "      <th>Classificação</th>\n",
              "      <th>Elogio quanto ao app</th>\n",
              "      <th>Reclamação quanto ao app</th>\n",
              "      <th>Elogio a Instituição</th>\n",
              "      <th>Reclamação a Instituição</th>\n",
              "      <th>Não Classificável</th>\n",
              "    </tr>\n",
              "  </thead>\n",
              "  <tbody>\n",
              "    <tr>\n",
              "      <th>0</th>\n",
              "      <td>Banco do Brasil</td>\n",
              "      <td>Muito bom ajuda muito</td>\n",
              "      <td>43667</td>\n",
              "      <td>1</td>\n",
              "      <td>1</td>\n",
              "      <td>0</td>\n",
              "      <td>0</td>\n",
              "      <td>0</td>\n",
              "      <td>0</td>\n",
              "    </tr>\n",
              "    <tr>\n",
              "      <th>1</th>\n",
              "      <td>Banco do Brasil</td>\n",
              "      <td>excelente</td>\n",
              "      <td>43667</td>\n",
              "      <td>1</td>\n",
              "      <td>1</td>\n",
              "      <td>0</td>\n",
              "      <td>0</td>\n",
              "      <td>0</td>\n",
              "      <td>0</td>\n",
              "    </tr>\n",
              "    <tr>\n",
              "      <th>2</th>\n",
              "      <td>Banco do Brasil</td>\n",
              "      <td>Bom</td>\n",
              "      <td>43667</td>\n",
              "      <td>1</td>\n",
              "      <td>1</td>\n",
              "      <td>0</td>\n",
              "      <td>0</td>\n",
              "      <td>0</td>\n",
              "      <td>0</td>\n",
              "    </tr>\n",
              "    <tr>\n",
              "      <th>3</th>\n",
              "      <td>Banco do Brasil</td>\n",
              "      <td>aplicativo muito top</td>\n",
              "      <td>43667</td>\n",
              "      <td>1</td>\n",
              "      <td>1</td>\n",
              "      <td>0</td>\n",
              "      <td>0</td>\n",
              "      <td>0</td>\n",
              "      <td>0</td>\n",
              "    </tr>\n",
              "    <tr>\n",
              "      <th>4</th>\n",
              "      <td>Banco do Brasil</td>\n",
              "      <td>Fácil e prático</td>\n",
              "      <td>43667</td>\n",
              "      <td>1</td>\n",
              "      <td>1</td>\n",
              "      <td>0</td>\n",
              "      <td>0</td>\n",
              "      <td>0</td>\n",
              "      <td>0</td>\n",
              "    </tr>\n",
              "  </tbody>\n",
              "</table>\n",
              "</div>"
            ],
            "text/plain": [
              "       Instituição             Comentario   Data  Classificação  \\\n",
              "0  Banco do Brasil  Muito bom ajuda muito  43667              1   \n",
              "1  Banco do Brasil              excelente  43667              1   \n",
              "2  Banco do Brasil                    Bom  43667              1   \n",
              "3  Banco do Brasil   aplicativo muito top  43667              1   \n",
              "4  Banco do Brasil        Fácil e prático  43667              1   \n",
              "\n",
              "   Elogio quanto ao app  Reclamação quanto ao app  Elogio a Instituição  \\\n",
              "0                     1                         0                     0   \n",
              "1                     1                         0                     0   \n",
              "2                     1                         0                     0   \n",
              "3                     1                         0                     0   \n",
              "4                     1                         0                     0   \n",
              "\n",
              "   Reclamação a Instituição  Não Classificável  \n",
              "0                         0                  0  \n",
              "1                         0                  0  \n",
              "2                         0                  0  \n",
              "3                         0                  0  \n",
              "4                         0                  0  "
            ]
          },
          "execution_count": 30,
          "metadata": {},
          "output_type": "execute_result"
        }
      ],
      "source": [
        "df.head()"
      ]
    },
    {
      "cell_type": "code",
      "execution_count": 31,
      "metadata": {
        "colab": {
          "base_uri": "https://localhost:8080/",
          "height": 384
        },
        "id": "7b7HSTm7nNud",
        "outputId": "2d226482-fac4-4055-b31b-338ea9273bd1"
      },
      "outputs": [
        {
          "data": {
            "text/plain": [
              "<AxesSubplot:xlabel='Data', ylabel='Classificação'>"
            ]
          },
          "execution_count": 31,
          "metadata": {},
          "output_type": "execute_result"
        },
        {
          "data": {
            "image/png": "[encoded data removed]",
            "text/plain": [
              "<Figure size 864x288 with 1 Axes>"
            ]
          },
          "metadata": {},
          "output_type": "display_data"
        }
      ],
      "source": [
        "plt.subplots(figsize = (12,4))\n",
        "sns.set_palette(\"deep\")\n",
        "\n",
        "sns.lineplot(data = df, x = 'Data',  y = 'Classificação', hue = 'Instituição')"
      ]
    }
  ],
  "metadata": {
    "colab": {
      "provenance": []
    },
    "kernelspec": {
      "display_name": "Python 3",
      "name": "python3"
    },
    "language_info": {
      "codemirror_mode": {
        "name": "ipython",
        "version": 3
      },
      "file_extension": ".py",
      "mimetype": "text/x-python",
      "name": "python",
      "nbconvert_exporter": "python",
      "pygments_lexer": "ipython3",
      "version": "3.8.16"
    }
  },
  "nbformat": 4,
  "nbformat_minor": 0
}
