{
  "nbformat": 4,
  "nbformat_minor": 0,
  "metadata": {
    "colab": {
      "provenance": [],
      "authorship_tag": "ABX9TyO/hPl7Phsn3LIEpaVQHkCU",
      "include_colab_link": true
    },
    "kernelspec": {
      "name": "python3",
      "display_name": "Python 3"
    },
    "language_info": {
      "name": "python"
    }
  },
  "cells": [
    {
      "cell_type": "markdown",
      "metadata": {
        "id": "view-in-github",
        "colab_type": "text"
      },
      "source": [
        "<a href=\"https://colab.research.google.com/github/valdirdpg/curso-dnc/blob/master/Concersor_Audio_Texto.ipynb\" target=\"_parent\"><img src=\"https://colab.research.google.com/assets/colab-badge.svg\" alt=\"Open In Colab\"/></a>"
      ]
    },
    {
      "cell_type": "code",
      "source": [
        "# !pip install SpeechRecognition\n",
        "# !pip install pydub\n",
        "\n"
      ],
      "metadata": {
        "colab": {
          "base_uri": "https://localhost:8080/"
        },
        "id": "kuIEB0e4NIcq",
        "outputId": "f6aa6ca9-b2af-4cd9-af63-839ce8249a8b"
      },
      "execution_count": 4,
      "outputs": [
        {
          "output_type": "stream",
          "name": "stdout",
          "text": [
            "Collecting pydub\n",
            "  Downloading pydub-0.25.1-py2.py3-none-any.whl (32 kB)\n",
            "Installing collected packages: pydub\n",
            "Successfully installed pydub-0.25.1\n"
          ]
        }
      ]
    },
    {
      "cell_type": "code",
      "source": [
        "from pydub import AudioSegment\n",
        "\n",
        "# Especifique o caminho para o arquivo de áudio estéreo\n",
        "input_audio_file = \"/content/2023-12-06-09-14-50-2.wav\"\n",
        "\n",
        "# Carregue o arquivo de áudio\n",
        "audio = AudioSegment.from_file(input_audio_file)\n",
        "\n",
        "# Converta o áudio estéreo em mono\n",
        "mono_audio = audio.set_channels(1)\n",
        "\n",
        "# Especifique o caminho de saída para o arquivo mono\n",
        "output_audio_file =\"/content/reuniao.wav\"\n",
        "\n",
        "# Salve o arquivo mono\n",
        "mono_audio.export(output_audio_file, format=\"wav\")\n",
        "\n",
        "print(\"Conversão de estéreo para mono concluída com sucesso!\")\n"
      ],
      "metadata": {
        "colab": {
          "base_uri": "https://localhost:8080/"
        },
        "id": "F0nx_7-gBmVH",
        "outputId": "161e2826-8446-4875-e943-f5ad65a784b1"
      },
      "execution_count": 5,
      "outputs": [
        {
          "output_type": "stream",
          "name": "stdout",
          "text": [
            "Conversão de estéreo para mono concluída com sucesso!\n"
          ]
        }
      ]
    },
    {
      "cell_type": "code",
      "execution_count": 8,
      "metadata": {
        "colab": {
          "base_uri": "https://localhost:8080/"
        },
        "id": "g8flmES2NAEr",
        "outputId": "d08e8924-02c7-4a9d-f801-0108b3de1b7e"
      },
      "outputs": [
        {
          "output_type": "stream",
          "name": "stdout",
          "text": [
            "Erro na solicitação: recognition connection failed: [Errno 32] Broken pipe\n"
          ]
        }
      ],
      "source": [
        "import speech_recognition as sr\n",
        "\n",
        "# Crie um objeto Recognizer\n",
        "recognizer = sr.Recognizer()\n",
        "\n",
        "# Especifique o arquivo de áudio que você deseja transcrever\n",
        "audio_file = \"/content/reuniao.wav\"\n",
        "\n",
        "# Abra o arquivo de áudio usando a biblioteca SpeechRecognition\n",
        "with sr.AudioFile(audio_file) as source:\n",
        "    # Ouça o áudio e reconheça o texto\n",
        "    audio_data = recognizer.record(source)\n",
        "    try:\n",
        "        # Use um mecanismo de reconhecimento de fala, por exemplo, o Google Web Speech API\n",
        "        text = recognizer.recognize_google(audio_data)\n",
        "        print(\"Texto reconhecido: \", text)\n",
        "    except sr.UnknownValueError:\n",
        "        print(\"Não foi possível reconhecer o áudio.\")\n",
        "    except sr.RequestError as e:\n",
        "        print(f\"Erro na solicitação: {e}\")\n",
        "\n"
      ]
    }
  ]
}