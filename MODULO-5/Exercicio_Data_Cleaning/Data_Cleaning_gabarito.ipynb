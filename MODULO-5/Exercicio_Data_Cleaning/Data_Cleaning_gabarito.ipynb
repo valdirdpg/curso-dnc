{
  "nbformat": 4,
  "nbformat_minor": 0,
  "metadata": {
    "colab": {
      "provenance": [],
      "collapsed_sections": [
        "GAHls9jC5utz",
        "hV_a9S74iTED",
        "dnNgE5GFV5GF",
        "pQWVpaHKWbTs",
        "g7_XQWAliWFa",
        "4ikq9hEHmt-B",
        "W7grcwdTr7Hf",
        "lVQ-V1B9s4B1"
      ]
    },
    "kernelspec": {
      "name": "python3",
      "display_name": "Python 3"
    },
    "language_info": {
      "name": "python"
    }
  },
  "cells": [
    {
      "cell_type": "markdown",
      "source": [
        "O Airbnb é uma empresa mundialmente conhecida pela inovação no quesito de locação rápida e prática de casas, espaços durante as viagens. Porém, toda a etapa de cadastro do imóvel ou avaliação do imóvel por usuários é feito de forma livre e por isso, alguns dados podom vir a faltar ou estarem mal formatados. Dito isto, você utilizando o dataset [New York City Airbnb Open Data](https://www.kaggle.com/datasets/dgomonov/new-york-city-airbnb-open-data) para aplicar os conceitos de data cleaning dentro do dataset proposto.\n",
        "- 1 - Quantas colunas apresentam ao menos um único valor nulo?\n",
        "- 2 - Se existir uma coluna do tipo Date com formatação errada, arrume essa coluna.\n",
        "- 3 - Verifique a porcetagem de dados nulos por coluna. Para as colunas com menos de 1%, exclua estes registros onde tem valor nulo.\n",
        "- 4 - Perceba que existem valores ausentes em casos de imóveis que nao receberam nenhum review. Neste caso, as colunas last_review e reviews_per_month vieram nulos. Preencha somente a coluna reviews_per_month com 0 (Pois não tem reviews por mês).\n",
        "- 5 - Uma das etapas de cleaning é encontrar os outliers. Uma forma de fazer isso é através do Boxplot. Crie um boxplot e veza os Outliers do preço geral e outro outlier agrupando por room_type.\n",
        "- 6 - Os dois gráficos acima mostram uma péssima visualização dos fatos, isto é, tem muitos outliers. Vamos reproduzir as análises acima após aplicar 2 ténicas diferentes para remoção dos outliers. Crie um DataFrame novo e aplique a técnica de IQR - [Interquartile Range](https://builtin.com/data-science/how-to-find-outliers-with-iqr) sobre a variável price. Reproduza os gráficos do exercício anterior.\n",
        "- 7 - Infelizmente, mesmo após aplicar o IQR os dados ainda apresentam alguns outliers. Vamo aplicar uma segundo técnica, em cima do dataset ajustado. Aplicando o conceito de percentil, filtre novamente o dataset para selecionar os dados que estejam dentre os 95%. Reproduza os gráficos.\n",
        "- 8 - Se olharmos esse novo dataset, quantos registros tem o mesmo nome (nome do imóvel registrado).\n",
        "- 9 - Vamos supor que estes dados com o nome duplicado sejam dados erradas ou não atualizados. Filtre (exclua essas linhas) com o name repetido, mantendo apenas 1 dado com o last_review mais recente.\n",
        "- 10 - Observe a figura abaixo, utilizando os dados fornecidos. Crie um gráfico que represente os imóveis em cada grupo e que a configuração fique semelhante a imagem abaixo. Dica: relacionar variáveis geográficas e o agrupamentos de bairro. Para isso, utilize o dataset resultante da questão anterior.\n",
        "![img](https://www.vidadeturista.com/wp-content/uploads/2020/01/mapa-de-nova-york-5.gif)\n",
        "\n",
        "Caso se interesse por um dataset mais novo ou analisar outra localidade, utilize o [Airbnb Open Data](http://insideairbnb.com/get-the-data/).\n"
      ],
      "metadata": {
        "id": "iyeJnD-scFSv"
      }
    },
    {
      "cell_type": "markdown",
      "source": [
        "## Importação dos dados"
      ],
      "metadata": {
        "id": "GAHls9jC5utz"
      }
    },
    {
      "cell_type": "code",
      "execution_count": null,
      "metadata": {
        "id": "iRXUW9v9frz6"
      },
      "outputs": [],
      "source": [
        "#-- Importação de bibliotecas e dados\n",
        "\n",
        "import numpy as np\n",
        "import pandas as pd\n",
        "import matplotlib.pyplot as plt\n",
        "import seaborn as sns\n",
        "\n",
        "df = pd.read_csv('/content/drive/MyDrive/Colab Notebooks/dnc/Dataset/AB_NYC_2019.csv')"
      ]
    },
    {
      "cell_type": "markdown",
      "source": [
        "## 1 - Quantas colunas apresentam ao menos um único valor nulo?"
      ],
      "metadata": {
        "id": "hV_a9S74iTED"
      }
    },
    {
      "cell_type": "code",
      "source": [
        "#Resposta: 4 colunas\n",
        "df.isnull().sum().sort_values()"
      ],
      "metadata": {
        "colab": {
          "base_uri": "https://localhost:8080/"
        },
        "id": "3Nz-kOv4iZvk",
        "outputId": "3010c1ee-a454-4170-defd-bc385249f826"
      },
      "execution_count": null,
      "outputs": [
        {
          "output_type": "execute_result",
          "data": {
            "text/plain": [
              "id                                    0\n",
              "host_id                               0\n",
              "neighbourhood_group                   0\n",
              "neighbourhood                         0\n",
              "latitude                              0\n",
              "longitude                             0\n",
              "room_type                             0\n",
              "price                                 0\n",
              "minimum_nights                        0\n",
              "number_of_reviews                     0\n",
              "calculated_host_listings_count        0\n",
              "availability_365                      0\n",
              "name                                 16\n",
              "host_name                            21\n",
              "last_review                       10052\n",
              "reviews_per_month                 10052\n",
              "dtype: int64"
            ]
          },
          "metadata": {},
          "execution_count": 3
        }
      ]
    },
    {
      "cell_type": "markdown",
      "source": [
        "## 2 - Se existir uma coluna do tipo Date com formatação errada, arrume essa coluna."
      ],
      "metadata": {
        "id": "dnNgE5GFV5GF"
      }
    },
    {
      "cell_type": "code",
      "source": [
        "df['last_review'] = pd.to_datetime(df['last_review'])"
      ],
      "metadata": {
        "id": "BUuln-mV5buI"
      },
      "execution_count": null,
      "outputs": []
    },
    {
      "cell_type": "code",
      "source": [
        "df.dtypes"
      ],
      "metadata": {
        "colab": {
          "base_uri": "https://localhost:8080/"
        },
        "id": "DKku3lgtV4m7",
        "outputId": "27d6b7a2-e715-45df-96f6-7053fdabc08a"
      },
      "execution_count": null,
      "outputs": [
        {
          "output_type": "execute_result",
          "data": {
            "text/plain": [
              "id                                         int64\n",
              "name                                      object\n",
              "host_id                                    int64\n",
              "host_name                                 object\n",
              "neighbourhood_group                       object\n",
              "neighbourhood                             object\n",
              "latitude                                 float64\n",
              "longitude                                float64\n",
              "room_type                                 object\n",
              "price                                      int64\n",
              "minimum_nights                             int64\n",
              "number_of_reviews                          int64\n",
              "last_review                       datetime64[ns]\n",
              "reviews_per_month                        float64\n",
              "calculated_host_listings_count             int64\n",
              "availability_365                           int64\n",
              "dtype: object"
            ]
          },
          "metadata": {},
          "execution_count": 5
        }
      ]
    },
    {
      "cell_type": "markdown",
      "source": [
        "## 3 - Verifique a porcetagem de dados nulos por coluna. Para as colunas com menos de 1%, exclua estes registros onde tem valor nulo.  "
      ],
      "metadata": {
        "id": "pQWVpaHKWbTs"
      }
    },
    {
      "cell_type": "code",
      "source": [
        "df.isnull().sum()/df.shape[0]*100"
      ],
      "metadata": {
        "colab": {
          "base_uri": "https://localhost:8080/"
        },
        "id": "y1fFL6k-WdTN",
        "outputId": "1797c5a9-9e63-43d2-a9bd-43949d6e9f17"
      },
      "execution_count": null,
      "outputs": [
        {
          "output_type": "execute_result",
          "data": {
            "text/plain": [
              "id                                 0.000000\n",
              "name                               0.032723\n",
              "host_id                            0.000000\n",
              "host_name                          0.042949\n",
              "neighbourhood_group                0.000000\n",
              "neighbourhood                      0.000000\n",
              "latitude                           0.000000\n",
              "longitude                          0.000000\n",
              "room_type                          0.000000\n",
              "price                              0.000000\n",
              "minimum_nights                     0.000000\n",
              "number_of_reviews                  0.000000\n",
              "last_review                       20.558339\n",
              "reviews_per_month                 20.558339\n",
              "calculated_host_listings_count     0.000000\n",
              "availability_365                   0.000000\n",
              "dtype: float64"
            ]
          },
          "metadata": {},
          "execution_count": 6
        }
      ]
    },
    {
      "cell_type": "code",
      "source": [
        "df.dropna(subset=['name','host_name'],axis=0,inplace=True)\n",
        "\n",
        "df.isnull().sum()"
      ],
      "metadata": {
        "colab": {
          "base_uri": "https://localhost:8080/"
        },
        "id": "jw9e2z7XZ7_E",
        "outputId": "5b1fdd08-600e-40c6-bcd5-9b08ebdc2e44"
      },
      "execution_count": null,
      "outputs": [
        {
          "output_type": "execute_result",
          "data": {
            "text/plain": [
              "id                                    0\n",
              "name                                  0\n",
              "host_id                               0\n",
              "host_name                             0\n",
              "neighbourhood_group                   0\n",
              "neighbourhood                         0\n",
              "latitude                              0\n",
              "longitude                             0\n",
              "room_type                             0\n",
              "price                                 0\n",
              "minimum_nights                        0\n",
              "number_of_reviews                     0\n",
              "last_review                       10037\n",
              "reviews_per_month                 10037\n",
              "calculated_host_listings_count        0\n",
              "availability_365                      0\n",
              "dtype: int64"
            ]
          },
          "metadata": {},
          "execution_count": 7
        }
      ]
    },
    {
      "cell_type": "markdown",
      "source": [
        "## 4 - Perceba que existem valores ausentes em casos de imóveis que nao receberam nenhum review. Neste caso, as colunas last_review e reviews_per_month vieram nulos. Preencha somente a coluna reviews_per_month com 0 (Pois não tem reviews por mês)."
      ],
      "metadata": {
        "id": "g7_XQWAliWFa"
      }
    },
    {
      "cell_type": "code",
      "source": [
        "df['reviews_per_month'] = df['reviews_per_month'].fillna(0)\n",
        "\n",
        "df.isnull().sum()\n"
      ],
      "metadata": {
        "colab": {
          "base_uri": "https://localhost:8080/"
        },
        "id": "YRuNvfhMj2k2",
        "outputId": "1e2a9a4e-1460-40e4-c988-bed138725b07"
      },
      "execution_count": null,
      "outputs": [
        {
          "output_type": "execute_result",
          "data": {
            "text/plain": [
              "id                                    0\n",
              "name                                  0\n",
              "host_id                               0\n",
              "host_name                             0\n",
              "neighbourhood_group                   0\n",
              "neighbourhood                         0\n",
              "latitude                              0\n",
              "longitude                             0\n",
              "room_type                             0\n",
              "price                                 0\n",
              "minimum_nights                        0\n",
              "number_of_reviews                     0\n",
              "last_review                       10037\n",
              "reviews_per_month                     0\n",
              "calculated_host_listings_count        0\n",
              "availability_365                      0\n",
              "dtype: int64"
            ]
          },
          "metadata": {},
          "execution_count": 8
        }
      ]
    },
    {
      "cell_type": "markdown",
      "source": [
        "## 5 - Uma das etapas de cleaning é encontrar os outliers. Uma forma de fazer isso é através do Boxplot. Crie um boxplot e veza os Outliers do preço geral e outro outlier agrupando por room_type."
      ],
      "metadata": {
        "id": "4ikq9hEHmt-B"
      }
    },
    {
      "cell_type": "code",
      "source": [
        "sns.boxplot(data=df,x = 'price')"
      ],
      "metadata": {
        "colab": {
          "base_uri": "https://localhost:8080/"
        },
        "id": "z4Vsh8RfeDlF",
        "outputId": "1cbb6617-22ac-4d19-8fb5-80b2a2e45a64"
      },
      "execution_count": null,
      "outputs": [
        {
          "output_type": "execute_result",
          "data": {
            "text/plain": [
              "<matplotlib.axes._subplots.AxesSubplot at 0x7f7a2c73bed0>"
            ]
          },
          "metadata": {},
          "execution_count": 9
        },
        {
          "output_type": "display_data",
          "data": {
            "text/plain": [
              "<Figure size 432x288 with 1 Axes>"
            ],
            "image/png": "[encoded data removed]"
          },
          "metadata": {
            "needs_background": "light"
          }
        }
      ]
    },
    {
      "cell_type": "code",
      "source": [
        "sns.boxplot(data=df,x = 'room_type', y = 'price')"
      ],
      "metadata": {
        "colab": {
          "base_uri": "https://localhost:8080/"
        },
        "id": "VuFc_o0beM9X",
        "outputId": "c716d13c-2dee-4546-8bc0-043c39ec6b93"
      },
      "execution_count": null,
      "outputs": [
        {
          "output_type": "execute_result",
          "data": {
            "text/plain": [
              "<matplotlib.axes._subplots.AxesSubplot at 0x7f7a2b7deb10>"
            ]
          },
          "metadata": {},
          "execution_count": 10
        },
        {
          "output_type": "display_data",
          "data": {
            "text/plain": [
              "<Figure size 432x288 with 1 Axes>"
            ],
            "image/png": "[encoded data removed]"
          },
          "metadata": {
            "needs_background": "light"
          }
        }
      ]
    },
    {
      "cell_type": "markdown",
      "source": [
        "## 6 - Os dois gráficos acima mostram uma péssima visualização dos fatos, isto é, tem muitos outliers. Vamos reproduzir as análises acima após aplicar 2 ténicas diferentes para remoção dos outliers. Crie um DataFrame novo e aplique a técnica de IQR - [Interquartile Range](https://builtin.com/data-science/how-to-find-outliers-with-iqr) sobre a variável price. Reproduza os gráficos do exercício anterior."
      ],
      "metadata": {
        "id": "W7grcwdTr7Hf"
      }
    },
    {
      "cell_type": "code",
      "source": [
        "price = df['price']\n",
        "\n",
        "Q1 = price.quantile(0.25)\n",
        "Q3 = price.quantile(0.75)\n",
        "IQR = Q3 - Q1\n",
        "lower_bound = Q1 - 1.5*IQR\n",
        "upper_bound = Q3 + 1.5*IQR\n",
        "\n",
        "df_iqr = df[(lower_bound <= df.price) & (df.price <= upper_bound)]\n",
        "sns.boxplot(data=df_iqr,x = 'price')"
      ],
      "metadata": {
        "colab": {
          "base_uri": "https://localhost:8080/"
        },
        "id": "ZfEOqxwKr6Ey",
        "outputId": "531fa49b-c825-4cb8-89e7-a9257e9525fc"
      },
      "execution_count": null,
      "outputs": [
        {
          "output_type": "execute_result",
          "data": {
            "text/plain": [
              "<matplotlib.axes._subplots.AxesSubplot at 0x7f7a2b2d2590>"
            ]
          },
          "metadata": {},
          "execution_count": 11
        },
        {
          "output_type": "display_data",
          "data": {
            "text/plain": [
              "<Figure size 432x288 with 1 Axes>"
            ],
            "image/png": "[encoded data removed]"
          },
          "metadata": {
            "needs_background": "light"
          }
        }
      ]
    },
    {
      "cell_type": "code",
      "source": [
        "sns.boxplot(data=df_iqr,x = 'room_type', y = 'price')"
      ],
      "metadata": {
        "colab": {
          "base_uri": "https://localhost:8080/"
        },
        "id": "wY7CU3xZhj0r",
        "outputId": "fdda0e54-f36b-4cbc-d978-212f1de38b22"
      },
      "execution_count": null,
      "outputs": [
        {
          "output_type": "execute_result",
          "data": {
            "text/plain": [
              "<matplotlib.axes._subplots.AxesSubplot at 0x7f7a2b258d10>"
            ]
          },
          "metadata": {},
          "execution_count": 12
        },
        {
          "output_type": "display_data",
          "data": {
            "text/plain": [
              "<Figure size 432x288 with 1 Axes>"
            ],
            "image/png": "[encoded data removed]"
          },
          "metadata": {
            "needs_background": "light"
          }
        }
      ]
    },
    {
      "cell_type": "markdown",
      "source": [
        "## 7 - Infelizmente, mesmo após aplicar o IQR os dados ainda apresentam alguns outliers. Vamo aplicar uma segundo técnica, em cima do dataset ajustado. Aplicando o conceito de percentil, filtre novamente o dataset para selecionar os dados que estejam dentre os 95%. Reproduza os gráficos."
      ],
      "metadata": {
        "id": "lVQ-V1B9s4B1"
      }
    },
    {
      "cell_type": "code",
      "source": [
        "df_99 = df_iqr[df_iqr.price <= df_iqr.price.quantile(0.95)]\n",
        "sns.boxplot(data=df_99,x = 'price')"
      ],
      "metadata": {
        "colab": {
          "base_uri": "https://localhost:8080/",
          "height": 296
        },
        "id": "5a2YmT8LtCsa",
        "outputId": "b46b9406-6632-4e3d-be15-ba0bf7d4576e"
      },
      "execution_count": null,
      "outputs": [
        {
          "output_type": "execute_result",
          "data": {
            "text/plain": [
              "<matplotlib.axes._subplots.AxesSubplot at 0x7f7a2c69d510>"
            ]
          },
          "metadata": {},
          "execution_count": 13
        },
        {
          "output_type": "display_data",
          "data": {
            "text/plain": [
              "<Figure size 432x288 with 1 Axes>"
            ],
            "image/png": "[encoded data removed]"
          },
          "metadata": {
            "needs_background": "light"
          }
        }
      ]
    },
    {
      "cell_type": "code",
      "source": [
        "sns.boxplot(data=df_99,x = 'room_type', y = 'price')"
      ],
      "metadata": {
        "colab": {
          "base_uri": "https://localhost:8080/",
          "height": 297
        },
        "id": "qryZvy4Un2l2",
        "outputId": "890830ce-f659-467e-e951-e25c24d04b43"
      },
      "execution_count": null,
      "outputs": [
        {
          "output_type": "execute_result",
          "data": {
            "text/plain": [
              "<matplotlib.axes._subplots.AxesSubplot at 0x7f7a2b164cd0>"
            ]
          },
          "metadata": {},
          "execution_count": 14
        },
        {
          "output_type": "display_data",
          "data": {
            "text/plain": [
              "<Figure size 432x288 with 1 Axes>"
            ],
            "image/png": "[encoded data removed]"
          },
          "metadata": {
            "needs_background": "light"
          }
        }
      ]
    },
    {
      "cell_type": "markdown",
      "source": [
        "## 8 - Se olharmos esse novo dataset, quantos registres tem o mesmo nome (nome do imóvel registrado)."
      ],
      "metadata": {
        "id": "MJg1xX13s8Gy"
      }
    },
    {
      "cell_type": "code",
      "source": [
        "sum(df_99.name.value_counts() > 1)"
      ],
      "metadata": {
        "colab": {
          "base_uri": "https://localhost:8080/"
        },
        "id": "SbXmknrchfaR",
        "outputId": "3907e9a0-3c4f-40ca-c0fa-95f1dcbd8a74"
      },
      "execution_count": null,
      "outputs": [
        {
          "output_type": "execute_result",
          "data": {
            "text/plain": [
              "587"
            ]
          },
          "metadata": {},
          "execution_count": 21
        }
      ]
    },
    {
      "cell_type": "markdown",
      "source": [
        "## 9 - Vamos supor que estes dados com o nome duplicado sejam dados erradas ou não atualizados. Filtre (exclua essas linhas) com o name repetido, mantendo apenas 1 dado com o last_review mais recente."
      ],
      "metadata": {
        "id": "lrantfv2s9KA"
      }
    },
    {
      "cell_type": "code",
      "source": [
        "df_filtered = df_99.sort_values(by='last_review',ascending=False).reset_index(drop=True).drop_duplicates(subset='name')\n",
        "df_filtered\n"
      ],
      "metadata": {
        "colab": {
          "base_uri": "https://localhost:8080/",
          "height": 1000
        },
        "id": "6ZdAoIuxiTna",
        "outputId": "1eea742e-1a2b-451f-eb1c-a88280024bf1"
      },
      "execution_count": null,
      "outputs": [
        {
          "output_type": "execute_result",
          "data": {
            "text/plain": [
              "             id                                               name    host_id  \\\n",
              "0      36455809            Cozy Private Room in Bushwick, Brooklyn   74162901   \n",
              "1      22340384   Great Place! Great Space! Welcome 2 My BK Place!   18049970   \n",
              "2      23858270  Renovated Studio Apt! Walk to the Subway & Ferry!   18768995   \n",
              "3      35945823      PLUSH RENOVATED APARTMENT CLOSE TO MANHATTAN!  269818817   \n",
              "4      24391756                      Sunny Apartment in Park Slope   20813915   \n",
              "...         ...                                                ...        ...   \n",
              "43648  36484665    Charming one bedroom - newly renovated rowhouse    8232441   \n",
              "43649  36485057      Affordable room in Bushwick/East Williamsburg    6570630   \n",
              "43650  36485431            Sunny Studio at Historical Neighborhood   23492952   \n",
              "43651  36485609               43rd St. Time Square-cozy single bed   30985759   \n",
              "43652  36487245  Trendy duplex in the very heart of Hell's Kitchen   68119814   \n",
              "\n",
              "           host_name neighbourhood_group       neighbourhood  latitude  \\\n",
              "0          Christine            Brooklyn            Bushwick  40.69805   \n",
              "1                Lou            Brooklyn         Brownsville  40.65948   \n",
              "2            MJ & Al            Brooklyn           Bay Ridge  40.62989   \n",
              "3               Mark              Queens           Ridgewood  40.70320   \n",
              "4           Kimberly            Brooklyn         South Slope  40.66409   \n",
              "...              ...                 ...                 ...       ...   \n",
              "43648        Sabrina            Brooklyn  Bedford-Stuyvesant  40.67853   \n",
              "43649        Marisol            Brooklyn            Bushwick  40.70184   \n",
              "43650  Ilgar & Aysel           Manhattan              Harlem  40.81475   \n",
              "43651            Taz           Manhattan      Hell's Kitchen  40.75751   \n",
              "43652     Christophe           Manhattan      Hell's Kitchen  40.76404   \n",
              "\n",
              "       longitude        room_type  price  minimum_nights  number_of_reviews  \\\n",
              "0      -73.92801     Private room     30               1                  1   \n",
              "1      -73.90084  Entire home/apt    175               3                 56   \n",
              "2      -74.02345     Private room     90               3                 34   \n",
              "3      -73.89571  Entire home/apt    220               4                  2   \n",
              "4      -73.99090  Entire home/apt    145               1                 90   \n",
              "...          ...              ...    ...             ...                ...   \n",
              "43648  -73.94995     Private room     70               2                  0   \n",
              "43649  -73.93317     Private room     40               4                  0   \n",
              "43650  -73.94867  Entire home/apt    115              10                  0   \n",
              "43651  -73.99112      Shared room     55               1                  0   \n",
              "43652  -73.98933     Private room     90               7                  0   \n",
              "\n",
              "      last_review  reviews_per_month  calculated_host_listings_count  \\\n",
              "0      2019-07-08               1.00                               1   \n",
              "1      2019-07-08               3.00                               2   \n",
              "2      2019-07-08               2.24                               1   \n",
              "3      2019-07-08               2.00                               2   \n",
              "4      2019-07-08               5.97                               1   \n",
              "...           ...                ...                             ...   \n",
              "43648         NaT               0.00                               2   \n",
              "43649         NaT               0.00                               2   \n",
              "43650         NaT               0.00                               1   \n",
              "43651         NaT               0.00                               6   \n",
              "43652         NaT               0.00                               1   \n",
              "\n",
              "       availability_365  \n",
              "0                     1  \n",
              "1                   288  \n",
              "2                   231  \n",
              "3                   146  \n",
              "4                   212  \n",
              "...                 ...  \n",
              "43648                 9  \n",
              "43649                36  \n",
              "43650                27  \n",
              "43651                 2  \n",
              "43652                23  \n",
              "\n",
              "[42770 rows x 16 columns]"
            ],
            "text/html": [
              "\n",
              "  <div id=\"df-8ce8bce1-ad05-44a5-b30a-689dedcc5339\">\n",
              "    <div class=\"colab-df-container\">\n",
              "      <div>\n",
              "<style scoped>\n",
              "    .dataframe tbody tr th:only-of-type {\n",
              "        vertical-align: middle;\n",
              "    }\n",
              "\n",
              "    .dataframe tbody tr th {\n",
              "        vertical-align: top;\n",
              "    }\n",
              "\n",
              "    .dataframe thead th {\n",
              "        text-align: right;\n",
              "    }\n",
              "</style>\n",
              "<table border=\"1\" class=\"dataframe\">\n",
              "  <thead>\n",
              "    <tr style=\"text-align: right;\">\n",
              "      <th></th>\n",
              "      <th>id</th>\n",
              "      <th>name</th>\n",
              "      <th>host_id</th>\n",
              "      <th>host_name</th>\n",
              "      <th>neighbourhood_group</th>\n",
              "      <th>neighbourhood</th>\n",
              "      <th>latitude</th>\n",
              "      <th>longitude</th>\n",
              "      <th>room_type</th>\n",
              "      <th>price</th>\n",
              "      <th>minimum_nights</th>\n",
              "      <th>number_of_reviews</th>\n",
              "      <th>last_review</th>\n",
              "      <th>reviews_per_month</th>\n",
              "      <th>calculated_host_listings_count</th>\n",
              "      <th>availability_365</th>\n",
              "    </tr>\n",
              "  </thead>\n",
              "  <tbody>\n",
              "    <tr>\n",
              "      <th>0</th>\n",
              "      <td>36455809</td>\n",
              "      <td>Cozy Private Room in Bushwick, Brooklyn</td>\n",
              "      <td>74162901</td>\n",
              "      <td>Christine</td>\n",
              "      <td>Brooklyn</td>\n",
              "      <td>Bushwick</td>\n",
              "      <td>40.69805</td>\n",
              "      <td>-73.92801</td>\n",
              "      <td>Private room</td>\n",
              "      <td>30</td>\n",
              "      <td>1</td>\n",
              "      <td>1</td>\n",
              "      <td>2019-07-08</td>\n",
              "      <td>1.00</td>\n",
              "      <td>1</td>\n",
              "      <td>1</td>\n",
              "    </tr>\n",
              "    <tr>\n",
              "      <th>1</th>\n",
              "      <td>22340384</td>\n",
              "      <td>Great Place! Great Space! Welcome 2 My BK Place!</td>\n",
              "      <td>18049970</td>\n",
              "      <td>Lou</td>\n",
              "      <td>Brooklyn</td>\n",
              "      <td>Brownsville</td>\n",
              "      <td>40.65948</td>\n",
              "      <td>-73.90084</td>\n",
              "      <td>Entire home/apt</td>\n",
              "      <td>175</td>\n",
              "      <td>3</td>\n",
              "      <td>56</td>\n",
              "      <td>2019-07-08</td>\n",
              "      <td>3.00</td>\n",
              "      <td>2</td>\n",
              "      <td>288</td>\n",
              "    </tr>\n",
              "    <tr>\n",
              "      <th>2</th>\n",
              "      <td>23858270</td>\n",
              "      <td>Renovated Studio Apt! Walk to the Subway &amp; Ferry!</td>\n",
              "      <td>18768995</td>\n",
              "      <td>MJ &amp; Al</td>\n",
              "      <td>Brooklyn</td>\n",
              "      <td>Bay Ridge</td>\n",
              "      <td>40.62989</td>\n",
              "      <td>-74.02345</td>\n",
              "      <td>Private room</td>\n",
              "      <td>90</td>\n",
              "      <td>3</td>\n",
              "      <td>34</td>\n",
              "      <td>2019-07-08</td>\n",
              "      <td>2.24</td>\n",
              "      <td>1</td>\n",
              "      <td>231</td>\n",
              "    </tr>\n",
              "    <tr>\n",
              "      <th>3</th>\n",
              "      <td>35945823</td>\n",
              "      <td>PLUSH RENOVATED APARTMENT CLOSE TO MANHATTAN!</td>\n",
              "      <td>269818817</td>\n",
              "      <td>Mark</td>\n",
              "      <td>Queens</td>\n",
              "      <td>Ridgewood</td>\n",
              "      <td>40.70320</td>\n",
              "      <td>-73.89571</td>\n",
              "      <td>Entire home/apt</td>\n",
              "      <td>220</td>\n",
              "      <td>4</td>\n",
              "      <td>2</td>\n",
              "      <td>2019-07-08</td>\n",
              "      <td>2.00</td>\n",
              "      <td>2</td>\n",
              "      <td>146</td>\n",
              "    </tr>\n",
              "    <tr>\n",
              "      <th>4</th>\n",
              "      <td>24391756</td>\n",
              "      <td>Sunny Apartment in Park Slope</td>\n",
              "      <td>20813915</td>\n",
              "      <td>Kimberly</td>\n",
              "      <td>Brooklyn</td>\n",
              "      <td>South Slope</td>\n",
              "      <td>40.66409</td>\n",
              "      <td>-73.99090</td>\n",
              "      <td>Entire home/apt</td>\n",
              "      <td>145</td>\n",
              "      <td>1</td>\n",
              "      <td>90</td>\n",
              "      <td>2019-07-08</td>\n",
              "      <td>5.97</td>\n",
              "      <td>1</td>\n",
              "      <td>212</td>\n",
              "    </tr>\n",
              "    <tr>\n",
              "      <th>...</th>\n",
              "      <td>...</td>\n",
              "      <td>...</td>\n",
              "      <td>...</td>\n",
              "      <td>...</td>\n",
              "      <td>...</td>\n",
              "      <td>...</td>\n",
              "      <td>...</td>\n",
              "      <td>...</td>\n",
              "      <td>...</td>\n",
              "      <td>...</td>\n",
              "      <td>...</td>\n",
              "      <td>...</td>\n",
              "      <td>...</td>\n",
              "      <td>...</td>\n",
              "      <td>...</td>\n",
              "      <td>...</td>\n",
              "    </tr>\n",
              "    <tr>\n",
              "      <th>43648</th>\n",
              "      <td>36484665</td>\n",
              "      <td>Charming one bedroom - newly renovated rowhouse</td>\n",
              "      <td>8232441</td>\n",
              "      <td>Sabrina</td>\n",
              "      <td>Brooklyn</td>\n",
              "      <td>Bedford-Stuyvesant</td>\n",
              "      <td>40.67853</td>\n",
              "      <td>-73.94995</td>\n",
              "      <td>Private room</td>\n",
              "      <td>70</td>\n",
              "      <td>2</td>\n",
              "      <td>0</td>\n",
              "      <td>NaT</td>\n",
              "      <td>0.00</td>\n",
              "      <td>2</td>\n",
              "      <td>9</td>\n",
              "    </tr>\n",
              "    <tr>\n",
              "      <th>43649</th>\n",
              "      <td>36485057</td>\n",
              "      <td>Affordable room in Bushwick/East Williamsburg</td>\n",
              "      <td>6570630</td>\n",
              "      <td>Marisol</td>\n",
              "      <td>Brooklyn</td>\n",
              "      <td>Bushwick</td>\n",
              "      <td>40.70184</td>\n",
              "      <td>-73.93317</td>\n",
              "      <td>Private room</td>\n",
              "      <td>40</td>\n",
              "      <td>4</td>\n",
              "      <td>0</td>\n",
              "      <td>NaT</td>\n",
              "      <td>0.00</td>\n",
              "      <td>2</td>\n",
              "      <td>36</td>\n",
              "    </tr>\n",
              "    <tr>\n",
              "      <th>43650</th>\n",
              "      <td>36485431</td>\n",
              "      <td>Sunny Studio at Historical Neighborhood</td>\n",
              "      <td>23492952</td>\n",
              "      <td>Ilgar &amp; Aysel</td>\n",
              "      <td>Manhattan</td>\n",
              "      <td>Harlem</td>\n",
              "      <td>40.81475</td>\n",
              "      <td>-73.94867</td>\n",
              "      <td>Entire home/apt</td>\n",
              "      <td>115</td>\n",
              "      <td>10</td>\n",
              "      <td>0</td>\n",
              "      <td>NaT</td>\n",
              "      <td>0.00</td>\n",
              "      <td>1</td>\n",
              "      <td>27</td>\n",
              "    </tr>\n",
              "    <tr>\n",
              "      <th>43651</th>\n",
              "      <td>36485609</td>\n",
              "      <td>43rd St. Time Square-cozy single bed</td>\n",
              "      <td>30985759</td>\n",
              "      <td>Taz</td>\n",
              "      <td>Manhattan</td>\n",
              "      <td>Hell's Kitchen</td>\n",
              "      <td>40.75751</td>\n",
              "      <td>-73.99112</td>\n",
              "      <td>Shared room</td>\n",
              "      <td>55</td>\n",
              "      <td>1</td>\n",
              "      <td>0</td>\n",
              "      <td>NaT</td>\n",
              "      <td>0.00</td>\n",
              "      <td>6</td>\n",
              "      <td>2</td>\n",
              "    </tr>\n",
              "    <tr>\n",
              "      <th>43652</th>\n",
              "      <td>36487245</td>\n",
              "      <td>Trendy duplex in the very heart of Hell's Kitchen</td>\n",
              "      <td>68119814</td>\n",
              "      <td>Christophe</td>\n",
              "      <td>Manhattan</td>\n",
              "      <td>Hell's Kitchen</td>\n",
              "      <td>40.76404</td>\n",
              "      <td>-73.98933</td>\n",
              "      <td>Private room</td>\n",
              "      <td>90</td>\n",
              "      <td>7</td>\n",
              "      <td>0</td>\n",
              "      <td>NaT</td>\n",
              "      <td>0.00</td>\n",
              "      <td>1</td>\n",
              "      <td>23</td>\n",
              "    </tr>\n",
              "  </tbody>\n",
              "</table>\n",
              "<p>42770 rows × 16 columns</p>\n",
              "</div>\n",
              "      <button class=\"colab-df-convert\" onclick=\"convertToInteractive('df-8ce8bce1-ad05-44a5-b30a-689dedcc5339')\"\n",
              "              title=\"Convert this dataframe to an interactive table.\"\n",
              "              style=\"display:none;\">\n",
              "        \n",
              "  <svg xmlns=\"http://www.w3.org/2000/svg\" height=\"24px\"viewBox=\"0 0 24 24\"\n",
              "       width=\"24px\">\n",
              "    <path d=\"M0 0h24v24H0V0z\" fill=\"none\"/>\n",
              "    <path d=\"M18.56 5.44l.94 2.06.94-2.06 2.06-.94-2.06-.94-.94-2.06-.94 2.06-2.06.94zm-11 1L8.5 8.5l.94-2.06 2.06-.94-2.06-.94L8.5 2.5l-.94 2.06-2.06.94zm10 10l.94 2.06.94-2.06 2.06-.94-2.06-.94-.94-2.06-.94 2.06-2.06.94z\"/><path d=\"M17.41 7.96l-1.37-1.37c-.4-.4-.92-.59-1.43-.59-.52 0-1.04.2-1.43.59L10.3 9.45l-7.72 7.72c-.78.78-.78 2.05 0 2.83L4 21.41c.39.39.9.59 1.41.59.51 0 1.02-.2 1.41-.59l7.78-7.78 2.81-2.81c.8-.78.8-2.07 0-2.86zM5.41 20L4 18.59l7.72-7.72 1.47 1.35L5.41 20z\"/>\n",
              "  </svg>\n",
              "      </button>\n",
              "      \n",
              "  <style>\n",
              "    .colab-df-container {\n",
              "      display:flex;\n",
              "      flex-wrap:wrap;\n",
              "      gap: 12px;\n",
              "    }\n",
              "\n",
              "    .colab-df-convert {\n",
              "      background-color: #E8F0FE;\n",
              "      border: none;\n",
              "      border-radius: 50%;\n",
              "      cursor: pointer;\n",
              "      display: none;\n",
              "      fill: #1967D2;\n",
              "      height: 32px;\n",
              "      padding: 0 0 0 0;\n",
              "      width: 32px;\n",
              "    }\n",
              "\n",
              "    .colab-df-convert:hover {\n",
              "      background-color: #E2EBFA;\n",
              "      box-shadow: 0px 1px 2px rgba(60, 64, 67, 0.3), 0px 1px 3px 1px rgba(60, 64, 67, 0.15);\n",
              "      fill: #174EA6;\n",
              "    }\n",
              "\n",
              "    [theme=dark] .colab-df-convert {\n",
              "      background-color: #3B4455;\n",
              "      fill: #D2E3FC;\n",
              "    }\n",
              "\n",
              "    [theme=dark] .colab-df-convert:hover {\n",
              "      background-color: #434B5C;\n",
              "      box-shadow: 0px 1px 3px 1px rgba(0, 0, 0, 0.15);\n",
              "      filter: drop-shadow(0px 1px 2px rgba(0, 0, 0, 0.3));\n",
              "      fill: #FFFFFF;\n",
              "    }\n",
              "  </style>\n",
              "\n",
              "      <script>\n",
              "        const buttonEl =\n",
              "          document.querySelector('#df-8ce8bce1-ad05-44a5-b30a-689dedcc5339 button.colab-df-convert');\n",
              "        buttonEl.style.display =\n",
              "          google.colab.kernel.accessAllowed ? 'block' : 'none';\n",
              "\n",
              "        async function convertToInteractive(key) {\n",
              "          const element = document.querySelector('#df-8ce8bce1-ad05-44a5-b30a-689dedcc5339');\n",
              "          const dataTable =\n",
              "            await google.colab.kernel.invokeFunction('convertToInteractive',\n",
              "                                                     [key], {});\n",
              "          if (!dataTable) return;\n",
              "\n",
              "          const docLinkHtml = 'Like what you see? Visit the ' +\n",
              "            '<a target=\"_blank\" href=https://colab.research.google.com/notebooks/data_table.ipynb>data table notebook</a>'\n",
              "            + ' to learn more about interactive tables.';\n",
              "          element.innerHTML = '';\n",
              "          dataTable['output_type'] = 'display_data';\n",
              "          await google.colab.output.renderOutput(dataTable, element);\n",
              "          const docLink = document.createElement('div');\n",
              "          docLink.innerHTML = docLinkHtml;\n",
              "          element.appendChild(docLink);\n",
              "        }\n",
              "      </script>\n",
              "    </div>\n",
              "  </div>\n",
              "  "
            ]
          },
          "metadata": {},
          "execution_count": 30
        }
      ]
    },
    {
      "cell_type": "markdown",
      "source": [
        "## 10 - Observe a figura abaixo, utilizando os dados fornecidos. Crie um gráfico que represente os imóveis em cada grupo e que a configuração fique semelhante a imagem abaixo. Dica: relacionar variáveis geográficas e o agrupamentos de bairro. Para isso, utilize o dataset resultante da questão anterior.\n",
        "![img](https://www.vidadeturista.com/wp-content/uploads/2020/01/mapa-de-nova-york-5.gif)"
      ],
      "metadata": {
        "id": "LVOAAzE4s-RE"
      }
    },
    {
      "cell_type": "code",
      "source": [
        "sns.scatterplot(data=df_filtered,x='longitude',y='latitude',hue='neighbourhood_group')"
      ],
      "metadata": {
        "colab": {
          "base_uri": "https://localhost:8080/",
          "height": 296
        },
        "id": "B9zgkI2MlVIp",
        "outputId": "e7a7d2e0-0871-4000-8f9e-dcda6c25f4f1"
      },
      "execution_count": null,
      "outputs": [
        {
          "output_type": "execute_result",
          "data": {
            "text/plain": [
              "<matplotlib.axes._subplots.AxesSubplot at 0x7f7a255b9950>"
            ]
          },
          "metadata": {},
          "execution_count": 37
        },
        {
          "output_type": "display_data",
          "data": {
            "text/plain": [
              "<Figure size 432x288 with 1 Axes>"
            ],
            "image/png": "[encoded data removed]"
          },
          "metadata": {
            "needs_background": "light"
          }
        }
      ]
    }
  ]
}