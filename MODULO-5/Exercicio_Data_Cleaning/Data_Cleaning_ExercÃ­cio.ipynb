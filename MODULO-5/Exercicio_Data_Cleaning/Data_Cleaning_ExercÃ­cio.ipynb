{
  "nbformat": 4,
  "nbformat_minor": 0,
  "metadata": {
    "colab": {
      "provenance": [],
      "collapsed_sections": [
        "GAHls9jC5utz",
        "hV_a9S74iTED",
        "dnNgE5GFV5GF",
        "pQWVpaHKWbTs",
        "g7_XQWAliWFa",
        "4ikq9hEHmt-B",
        "W7grcwdTr7Hf",
        "lVQ-V1B9s4B1"
      ]
    },
    "kernelspec": {
      "name": "python3",
      "display_name": "Python 3"
    },
    "language_info": {
      "name": "python"
    }
  },
  "cells": [
    {
      "cell_type": "markdown",
      "source": [
        "O Airbnb é uma empresa mundialmente conhecida pela inovação no quesito de locação rápida e prática de casas, espaços durante as viagens. Porém, toda a etapa de cadastro do imóvel ou avaliação do imóvel por usuários é feito de forma livre e por isso, alguns dados podom vir a faltar ou estarem mal formatados. Dito isto, você utilizando o dataset [New York City Airbnb Open Data](https://www.kaggle.com/datasets/dgomonov/new-york-city-airbnb-open-data) para aplicar os conceitos de data cleaning dentro do dataset proposto.\n",
        "- 1 - Quantas colunas apresentam ao menos um único valor nulo?\n",
        "- 2 - Se existir uma coluna do tipo Date com formatação errada, arrume essa coluna.\n",
        "- 3 - Verifique a porcetagem de dados nulos por coluna. Para as colunas com menos de 1%, exclua estes registros onde tem valor nulo.\n",
        "- 4 - Perceba que existem valores ausentes em casos de imóveis que nao receberam nenhum review. Neste caso, as colunas last_review e reviews_per_month vieram nulos. Preencha somente a coluna reviews_per_month com 0 (Pois não tem reviews por mês).\n",
        "- 5 - Uma das etapas de cleaning é encontrar os outliers. Uma forma de fazer isso é através do Boxplot. Crie um boxplot e veza os Outliers do preço geral e outro outlier agrupando por room_type.\n",
        "- 6 - Os dois gráficos acima mostram uma péssima visualização dos fatos, isto é, tem muitos outliers. Vamos reproduzir as análises acima após aplicar 2 ténicas diferentes para remoção dos outliers. Crie um DataFrame novo e aplique a técnica de IQR - [Interquartile Range](https://builtin.com/data-science/how-to-find-outliers-with-iqr) sobre a variável price. Reproduza os gráficos do exercício anterior.\n",
        "- 7 - Infelizmente, mesmo após aplicar o IQR os dados ainda apresentam alguns outliers. Vamo aplicar uma segundo técnica, em cima do dataset ajustado. Aplicando o conceito de percentil, filtre novamente o dataset para selecionar os dados que estejam dentre os 95%. Reproduza os gráficos.\n",
        "- 8 - Se olharmos esse novo dataset, quantos registros tem o mesmo nome (nome do imóvel registrado).\n",
        "- 9 - Vamos supor que estes dados com o nome duplicado sejam dados erradas ou não atualizados. Filtre (exclua essas linhas) com o name repetido, mantendo apenas 1 dado com o last_review mais recente.\n",
        "- 10 - Observe a figura abaixo, utilizando os dados fornecidos. Crie um gráfico que represente os imóveis em cada grupo e que a configuração fique semelhante a imagem abaixo. Dica: relacionar variáveis geográficas e o agrupamentos de bairro. Para isso, utilize o dataset resultante da questão anterior.\n",
        "![img](https://www.vidadeturista.com/wp-content/uploads/2020/01/mapa-de-nova-york-5.gif)\n",
        "\n",
        "Caso se interesse por um dataset mais novo ou analisar outra localidade, utilize o [Airbnb Open Data](http://insideairbnb.com/get-the-data/).\n"
      ],
      "metadata": {
        "id": "iyeJnD-scFSv"
      }
    },
    {
      "cell_type": "markdown",
      "source": [
        "## Importação dos dados"
      ],
      "metadata": {
        "id": "GAHls9jC5utz"
      }
    },
    {
      "cell_type": "markdown",
      "source": [
        "## 1 - Quantas colunas apresentam ao menos um único valor nulo?"
      ],
      "metadata": {
        "id": "hV_a9S74iTED"
      }
    },
    {
      "cell_type": "markdown",
      "source": [
        "## 2 - Se existir uma coluna do tipo Date com formatação errada, arrume essa coluna."
      ],
      "metadata": {
        "id": "dnNgE5GFV5GF"
      }
    },
    {
      "cell_type": "markdown",
      "source": [
        "## 3 - Verifique a porcetagem de dados nulos por coluna. Para as colunas com menos de 1%, exclua estes registros onde tem valor nulo.  "
      ],
      "metadata": {
        "id": "pQWVpaHKWbTs"
      }
    },
    {
      "cell_type": "markdown",
      "source": [
        "## 4 - Perceba que existem valores ausentes em casos de imóveis que nao receberam nenhum review. Neste caso, as colunas last_review e reviews_per_month vieram nulos. Preencha somente a coluna reviews_per_month com 0 (Pois não tem reviews por mês)."
      ],
      "metadata": {
        "id": "g7_XQWAliWFa"
      }
    },
    {
      "cell_type": "markdown",
      "source": [
        "## 5 - Uma das etapas de cleaning é encontrar os outliers. Uma forma de fazer isso é através do Boxplot. Crie um boxplot e veza os Outliers do preço geral e outro outlier agrupando por room_type."
      ],
      "metadata": {
        "id": "4ikq9hEHmt-B"
      }
    },
    {
      "cell_type": "markdown",
      "source": [
        "## 6 - Os dois gráficos acima mostram uma péssima visualização dos fatos, isto é, tem muitos outliers. Vamos reproduzir as análises acima após aplicar 2 ténicas diferentes para remoção dos outliers. Crie um DataFrame novo e aplique a técnica de IQR - [Interquartile Range](https://builtin.com/data-science/how-to-find-outliers-with-iqr) sobre a variável price. Reproduza os gráficos do exercício anterior."
      ],
      "metadata": {
        "id": "W7grcwdTr7Hf"
      }
    },
    {
      "cell_type": "markdown",
      "source": [
        "## 7 - Infelizmente, mesmo após aplicar o IQR os dados ainda apresentam alguns outliers. Vamo aplicar uma segundo técnica, em cima do dataset ajustado. Aplicando o conceito de percentil, filtre novamente o dataset para selecionar os dados que estejam dentre os 95%. Reproduza os gráficos."
      ],
      "metadata": {
        "id": "lVQ-V1B9s4B1"
      }
    },
    {
      "cell_type": "markdown",
      "source": [
        "## 8 - Se olharmos esse novo dataset, quantos registres tem o mesmo nome (nome do imóvel registrado)."
      ],
      "metadata": {
        "id": "MJg1xX13s8Gy"
      }
    },
    {
      "cell_type": "markdown",
      "source": [
        "## 9 - Vamos supor que estes dados com o nome duplicado sejam dados erradas ou não atualizados. Filtre (exclua essas linhas) com o name repetido, mantendo apenas 1 dado com o last_review mais recente."
      ],
      "metadata": {
        "id": "lrantfv2s9KA"
      }
    },
    {
      "cell_type": "markdown",
      "source": [
        "## 10 - Observe a figura abaixo, utilizando os dados fornecidos. Crie um gráfico que represente os imóveis em cada grupo e que a configuração fique semelhante a imagem abaixo. Dica: relacionar variáveis geográficas e o agrupamentos de bairro. Para isso, utilize o dataset resultante da questão anterior.\n",
        "![img](https://www.vidadeturista.com/wp-content/uploads/2020/01/mapa-de-nova-york-5.gif)"
      ],
      "metadata": {
        "id": "LVOAAzE4s-RE"
      }
    }
  ]
}