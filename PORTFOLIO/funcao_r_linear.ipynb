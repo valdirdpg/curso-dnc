{
 "cells": [
  {
   "cell_type": "code",
   "execution_count": null,
   "metadata": {},
   "outputs": [],
   "source": [
    "# PARA CALCULAR A REGRESÃO LINEAR UTILIZAR FORMULA y = a.x + b\n",
    "# SOMATORIA DE x.y e x²\n",
    "# a = (n.∑xy - ∑x.∑y) / (n.∑x² - (∑x)²)\n",
    "# b = (1/n) . (∑y - a.∑x) = ym - a.xm\n",
    "# CALCULAR Y = a.x + b\n",
    "# encontrar a coluna do dataframe pelo seu indice\n",
    "# df.iloc[:, 0]\n",
    "#criar uma nova coluna para indice ao importar o arquivo csv\n",
    "\n",
    "\n"
   ]
  },
  {
   "cell_type": "code",
   "execution_count": 73,
   "metadata": {},
   "outputs": [],
   "source": [
    "import pandas as pd\n",
    "\n",
    "base = pd.read_excel('BaseDados_RegressaoLinear.xlsx')\n",
    "\n",
    "dados = pd.DataFrame({\n",
    "        \"Apartamento\": ['Apto 01', 'Apto 02', 'Apto 03', 'Apto 04', 'Apto 05'],\n",
    "        'x': [45,50,55,60,65],\n",
    "        'y': [210950,250250,380670,410200,450900]\n",
    "        \n",
    "        })\n",
    "\n",
    "def calculaxy(tabela):\n",
    "    tabela['x.y'] = tabela.iloc[:,1] * tabela.iloc[:,2]\n",
    "    return tabela\n",
    "\n",
    "def calculax2(tabela):\n",
    "    tabela['x²'] = tabela.iloc[:,1]**2\n",
    "    return tabela\n",
    "\n",
    "def calcula_a(tabela):\n",
    "    n = len(tabela.iloc[:,0])\n",
    "    numerador = n * tabela['x.y'].sum() - tabela.iloc[:,1].sum() * tabela.iloc[:,2].sum()\n",
    "    denominador = n * tabela['x²'].sum() - tabela.iloc[:,1].sum()**2\n",
    "    a = numerador /denominador\n",
    "    return a\n",
    "\n",
    "def calcula_b(tabela):\n",
    "    b = tabela.iloc[:,2].mean()-calcula_a(tabela)*tabela.iloc[:,1].mean()\n",
    "    return b\n",
    "\n",
    "def calcula_y(tabela):\n",
    "    tabela['y_calculado'] = calcula_a(tabela)*tabela.iloc[:,1] + calcula_b(tabela)\n",
    "    return tabela\n",
    "\n",
    "def calcual_previsao(tabela, x):\n",
    "    y = calcula_a(tabela)*x + calcula_b(tabela)\n",
    "    return y\n",
    "    \n"
   ]
  },
  {
   "cell_type": "code",
   "execution_count": 69,
   "metadata": {},
   "outputs": [
    {
     "data": {
      "text/plain": [
       "0     2900.124323\n",
       "1     2929.125566\n",
       "2     2958.416822\n",
       "3     2988.000990\n",
       "4     3017.881000\n",
       "         ...     \n",
       "94    7279.937858\n",
       "95    7315.799621\n",
       "96    7351.661384\n",
       "97    7387.523147\n",
       "98    7423.384910\n",
       "Name: Limite_Emprestimo, Length: 99, dtype: float64"
      ]
     },
     "execution_count": 69,
     "metadata": {},
     "output_type": "execute_result"
    }
   ],
   "source": [
    "base.iloc[:,2] "
   ]
  },
  {
   "cell_type": "code",
   "execution_count": 70,
   "metadata": {},
   "outputs": [],
   "source": [
    "xy = calculaxy(base)\n",
    "nova_tabela = calculax2(xy)"
   ]
  },
  {
   "cell_type": "code",
   "execution_count": 71,
   "metadata": {},
   "outputs": [
    {
     "name": "stdout",
     "output_type": "stream",
     "text": [
      "      INDICE      Salario  Limite_Emprestimo           x.y            x²\n",
      "0   0.909144  1250.219130        2900.124323  3.625791e+06  1.563048e+06\n",
      "1   0.536008  1262.721321        2929.125566  3.698669e+06  1.594465e+06\n",
      "2   0.260186  1275.348535        2958.416822  3.773013e+06  1.626514e+06\n",
      "3   0.486808  1288.102020        2988.000990  3.848850e+06  1.659207e+06\n",
      "4   0.551902  1300.983040        3017.881000  3.926212e+06  1.692557e+06\n",
      "..       ...          ...                ...           ...           ...\n",
      "94  0.862964  3185.629581        7279.937858  2.319119e+07  1.014824e+07\n",
      "95  0.014223  3217.485877        7315.799621  2.353848e+07  1.035222e+07\n",
      "96  0.603589  3249.660736        7351.661384  2.389041e+07  1.056029e+07\n",
      "97  0.407157  3282.157343        7387.523147  2.424701e+07  1.077256e+07\n",
      "98  0.777109  3314.978916        7423.384910  2.460836e+07  1.098909e+07\n",
      "\n",
      "[99 rows x 5 columns]\n"
     ]
    }
   ],
   "source": [
    "print(nova_tabela)\n"
   ]
  },
  {
   "cell_type": "code",
   "execution_count": 74,
   "metadata": {},
   "outputs": [
    {
     "data": {
      "text/plain": [
       "2.292520233866347"
      ]
     },
     "execution_count": 74,
     "metadata": {},
     "output_type": "execute_result"
    }
   ],
   "source": [
    "calcula_a(nova_tabela)"
   ]
  },
  {
   "cell_type": "code",
   "execution_count": 75,
   "metadata": {},
   "outputs": [
    {
     "data": {
      "text/plain": [
       "42.57109912743363"
      ]
     },
     "execution_count": 75,
     "metadata": {},
     "output_type": "execute_result"
    }
   ],
   "source": [
    "calcula_b(nova_tabela)"
   ]
  },
  {
   "cell_type": "code",
   "execution_count": 76,
   "metadata": {},
   "outputs": [
    {
     "data": {
      "text/html": [
       "<div>\n",
       "<style scoped>\n",
       "    .dataframe tbody tr th:only-of-type {\n",
       "        vertical-align: middle;\n",
       "    }\n",
       "\n",
       "    .dataframe tbody tr th {\n",
       "        vertical-align: top;\n",
       "    }\n",
       "\n",
       "    .dataframe thead th {\n",
       "        text-align: right;\n",
       "    }\n",
       "</style>\n",
       "<table border=\"1\" class=\"dataframe\">\n",
       "  <thead>\n",
       "    <tr style=\"text-align: right;\">\n",
       "      <th></th>\n",
       "      <th>INDICE</th>\n",
       "      <th>Salario</th>\n",
       "      <th>Limite_Emprestimo</th>\n",
       "      <th>x.y</th>\n",
       "      <th>x²</th>\n",
       "      <th>y_calculado</th>\n",
       "    </tr>\n",
       "  </thead>\n",
       "  <tbody>\n",
       "    <tr>\n",
       "      <th>0</th>\n",
       "      <td>0.909144</td>\n",
       "      <td>1250.219130</td>\n",
       "      <td>2900.124323</td>\n",
       "      <td>3.625791e+06</td>\n",
       "      <td>1.563048e+06</td>\n",
       "      <td>2908.723751</td>\n",
       "    </tr>\n",
       "    <tr>\n",
       "      <th>1</th>\n",
       "      <td>0.536008</td>\n",
       "      <td>1262.721321</td>\n",
       "      <td>2929.125566</td>\n",
       "      <td>3.698669e+06</td>\n",
       "      <td>1.594465e+06</td>\n",
       "      <td>2937.385278</td>\n",
       "    </tr>\n",
       "    <tr>\n",
       "      <th>2</th>\n",
       "      <td>0.260186</td>\n",
       "      <td>1275.348535</td>\n",
       "      <td>2958.416822</td>\n",
       "      <td>3.773013e+06</td>\n",
       "      <td>1.626514e+06</td>\n",
       "      <td>2966.333420</td>\n",
       "    </tr>\n",
       "    <tr>\n",
       "      <th>3</th>\n",
       "      <td>0.486808</td>\n",
       "      <td>1288.102020</td>\n",
       "      <td>2988.000990</td>\n",
       "      <td>3.848850e+06</td>\n",
       "      <td>1.659207e+06</td>\n",
       "      <td>2995.571043</td>\n",
       "    </tr>\n",
       "    <tr>\n",
       "      <th>4</th>\n",
       "      <td>0.551902</td>\n",
       "      <td>1300.983040</td>\n",
       "      <td>3017.881000</td>\n",
       "      <td>3.926212e+06</td>\n",
       "      <td>1.692557e+06</td>\n",
       "      <td>3025.101042</td>\n",
       "    </tr>\n",
       "    <tr>\n",
       "      <th>...</th>\n",
       "      <td>...</td>\n",
       "      <td>...</td>\n",
       "      <td>...</td>\n",
       "      <td>...</td>\n",
       "      <td>...</td>\n",
       "      <td>...</td>\n",
       "    </tr>\n",
       "    <tr>\n",
       "      <th>94</th>\n",
       "      <td>0.862964</td>\n",
       "      <td>3185.629581</td>\n",
       "      <td>7279.937858</td>\n",
       "      <td>2.319119e+07</td>\n",
       "      <td>1.014824e+07</td>\n",
       "      <td>7345.691371</td>\n",
       "    </tr>\n",
       "    <tr>\n",
       "      <th>95</th>\n",
       "      <td>0.014223</td>\n",
       "      <td>3217.485877</td>\n",
       "      <td>7315.799621</td>\n",
       "      <td>2.353848e+07</td>\n",
       "      <td>1.035222e+07</td>\n",
       "      <td>7418.722574</td>\n",
       "    </tr>\n",
       "    <tr>\n",
       "      <th>96</th>\n",
       "      <td>0.603589</td>\n",
       "      <td>3249.660736</td>\n",
       "      <td>7351.661384</td>\n",
       "      <td>2.389041e+07</td>\n",
       "      <td>1.056029e+07</td>\n",
       "      <td>7492.484089</td>\n",
       "    </tr>\n",
       "    <tr>\n",
       "      <th>97</th>\n",
       "      <td>0.407157</td>\n",
       "      <td>3282.157343</td>\n",
       "      <td>7387.523147</td>\n",
       "      <td>2.424701e+07</td>\n",
       "      <td>1.077256e+07</td>\n",
       "      <td>7566.983219</td>\n",
       "    </tr>\n",
       "    <tr>\n",
       "      <th>98</th>\n",
       "      <td>0.777109</td>\n",
       "      <td>3314.978916</td>\n",
       "      <td>7423.384910</td>\n",
       "      <td>2.460836e+07</td>\n",
       "      <td>1.098909e+07</td>\n",
       "      <td>7642.227340</td>\n",
       "    </tr>\n",
       "  </tbody>\n",
       "</table>\n",
       "<p>99 rows × 6 columns</p>\n",
       "</div>"
      ],
      "text/plain": [
       "      INDICE      Salario  Limite_Emprestimo           x.y            x²  \\\n",
       "0   0.909144  1250.219130        2900.124323  3.625791e+06  1.563048e+06   \n",
       "1   0.536008  1262.721321        2929.125566  3.698669e+06  1.594465e+06   \n",
       "2   0.260186  1275.348535        2958.416822  3.773013e+06  1.626514e+06   \n",
       "3   0.486808  1288.102020        2988.000990  3.848850e+06  1.659207e+06   \n",
       "4   0.551902  1300.983040        3017.881000  3.926212e+06  1.692557e+06   \n",
       "..       ...          ...                ...           ...           ...   \n",
       "94  0.862964  3185.629581        7279.937858  2.319119e+07  1.014824e+07   \n",
       "95  0.014223  3217.485877        7315.799621  2.353848e+07  1.035222e+07   \n",
       "96  0.603589  3249.660736        7351.661384  2.389041e+07  1.056029e+07   \n",
       "97  0.407157  3282.157343        7387.523147  2.424701e+07  1.077256e+07   \n",
       "98  0.777109  3314.978916        7423.384910  2.460836e+07  1.098909e+07   \n",
       "\n",
       "    y_calculado  \n",
       "0   2908.723751  \n",
       "1   2937.385278  \n",
       "2   2966.333420  \n",
       "3   2995.571043  \n",
       "4   3025.101042  \n",
       "..          ...  \n",
       "94  7345.691371  \n",
       "95  7418.722574  \n",
       "96  7492.484089  \n",
       "97  7566.983219  \n",
       "98  7642.227340  \n",
       "\n",
       "[99 rows x 6 columns]"
      ]
     },
     "execution_count": 76,
     "metadata": {},
     "output_type": "execute_result"
    }
   ],
   "source": [
    "predicao = calcula_y(nova_tabela)\n",
    "\n",
    "predicao"
   ]
  },
  {
   "cell_type": "code",
   "execution_count": 80,
   "metadata": {},
   "outputs": [
    {
     "data": {
      "text/plain": [
       "<AxesSubplot:xlabel='Salario'>"
      ]
     },
     "execution_count": 80,
     "metadata": {},
     "output_type": "execute_result"
    },
    {
     "data": {
      "image/png": "[encoded data removed]",
      "text/plain": [
       "<Figure size 432x288 with 1 Axes>"
      ]
     },
     "metadata": {
      "needs_background": "light"
     },
     "output_type": "display_data"
    }
   ],
   "source": [
    "predicao.plot(x='Salario', y='y_calculado')"
   ]
  },
  {
   "cell_type": "code",
   "execution_count": 81,
   "metadata": {},
   "outputs": [
    {
     "data": {
      "text/plain": [
       "11505.172268459168"
      ]
     },
     "execution_count": 81,
     "metadata": {},
     "output_type": "execute_result"
    }
   ],
   "source": [
    "calcual_previsao(nova_tabela, 5000.00)"
   ]
  }
 ],
 "metadata": {
  "kernelspec": {
   "display_name": "dnc",
   "language": "python",
   "name": "python3"
  },
  "language_info": {
   "codemirror_mode": {
    "name": "ipython",
    "version": 3
   },
   "file_extension": ".py",
   "mimetype": "text/x-python",
   "name": "python",
   "nbconvert_exporter": "python",
   "pygments_lexer": "ipython3",
   "version": "3.8.16"
  },
  "orig_nbformat": 4
 },
 "nbformat": 4,
 "nbformat_minor": 2
}
