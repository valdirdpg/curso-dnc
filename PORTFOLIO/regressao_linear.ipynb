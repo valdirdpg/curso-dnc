{
 "cells": [
  {
   "cell_type": "code",
   "execution_count": 77,
   "metadata": {},
   "outputs": [],
   "source": [
    "import pandas as pd\n",
    "import numpy as np\n",
    "import matplotlib.pyplot as plt\n",
    "import seaborn as sns"
   ]
  },
  {
   "cell_type": "code",
   "execution_count": 78,
   "metadata": {},
   "outputs": [
    {
     "data": {
      "text/html": [
       "<div>\n",
       "<style scoped>\n",
       "    .dataframe tbody tr th:only-of-type {\n",
       "        vertical-align: middle;\n",
       "    }\n",
       "\n",
       "    .dataframe tbody tr th {\n",
       "        vertical-align: top;\n",
       "    }\n",
       "\n",
       "    .dataframe thead th {\n",
       "        text-align: right;\n",
       "    }\n",
       "</style>\n",
       "<table border=\"1\" class=\"dataframe\">\n",
       "  <thead>\n",
       "    <tr style=\"text-align: right;\">\n",
       "      <th></th>\n",
       "      <th>Salario</th>\n",
       "      <th>Limite_Emprestimo</th>\n",
       "    </tr>\n",
       "    <tr>\n",
       "      <th>INDICE</th>\n",
       "      <th></th>\n",
       "      <th></th>\n",
       "    </tr>\n",
       "  </thead>\n",
       "  <tbody>\n",
       "    <tr>\n",
       "      <th>0.909144</th>\n",
       "      <td>1250.219130</td>\n",
       "      <td>2900.124323</td>\n",
       "    </tr>\n",
       "    <tr>\n",
       "      <th>0.536008</th>\n",
       "      <td>1262.721321</td>\n",
       "      <td>2929.125566</td>\n",
       "    </tr>\n",
       "    <tr>\n",
       "      <th>0.260186</th>\n",
       "      <td>1275.348535</td>\n",
       "      <td>2958.416822</td>\n",
       "    </tr>\n",
       "    <tr>\n",
       "      <th>0.486808</th>\n",
       "      <td>1288.102020</td>\n",
       "      <td>2988.000990</td>\n",
       "    </tr>\n",
       "    <tr>\n",
       "      <th>0.551902</th>\n",
       "      <td>1300.983040</td>\n",
       "      <td>3017.881000</td>\n",
       "    </tr>\n",
       "  </tbody>\n",
       "</table>\n",
       "</div>"
      ],
      "text/plain": [
       "              Salario  Limite_Emprestimo\n",
       "INDICE                                  \n",
       "0.909144  1250.219130        2900.124323\n",
       "0.536008  1262.721321        2929.125566\n",
       "0.260186  1275.348535        2958.416822\n",
       "0.486808  1288.102020        2988.000990\n",
       "0.551902  1300.983040        3017.881000"
      ]
     },
     "execution_count": 78,
     "metadata": {},
     "output_type": "execute_result"
    }
   ],
   "source": [
    "base = pd.read_excel('BaseDados_RegressaoLinear.xlsx',index_col=0)\n",
    "base.head()"
   ]
  },
  {
   "cell_type": "code",
   "execution_count": 79,
   "metadata": {},
   "outputs": [
    {
     "data": {
      "text/html": [
       "<div>\n",
       "<style scoped>\n",
       "    .dataframe tbody tr th:only-of-type {\n",
       "        vertical-align: middle;\n",
       "    }\n",
       "\n",
       "    .dataframe tbody tr th {\n",
       "        vertical-align: top;\n",
       "    }\n",
       "\n",
       "    .dataframe thead th {\n",
       "        text-align: right;\n",
       "    }\n",
       "</style>\n",
       "<table border=\"1\" class=\"dataframe\">\n",
       "  <thead>\n",
       "    <tr style=\"text-align: right;\">\n",
       "      <th></th>\n",
       "      <th>Salario</th>\n",
       "      <th>Limite_Emprestimo</th>\n",
       "    </tr>\n",
       "    <tr>\n",
       "      <th>INDICE</th>\n",
       "      <th></th>\n",
       "      <th></th>\n",
       "    </tr>\n",
       "  </thead>\n",
       "  <tbody>\n",
       "    <tr>\n",
       "      <th>0.862964</th>\n",
       "      <td>3185.629581</td>\n",
       "      <td>7279.937858</td>\n",
       "    </tr>\n",
       "    <tr>\n",
       "      <th>0.014223</th>\n",
       "      <td>3217.485877</td>\n",
       "      <td>7315.799621</td>\n",
       "    </tr>\n",
       "    <tr>\n",
       "      <th>0.603589</th>\n",
       "      <td>3249.660736</td>\n",
       "      <td>7351.661384</td>\n",
       "    </tr>\n",
       "    <tr>\n",
       "      <th>0.407157</th>\n",
       "      <td>3282.157343</td>\n",
       "      <td>7387.523147</td>\n",
       "    </tr>\n",
       "    <tr>\n",
       "      <th>0.777109</th>\n",
       "      <td>3314.978916</td>\n",
       "      <td>7423.384910</td>\n",
       "    </tr>\n",
       "  </tbody>\n",
       "</table>\n",
       "</div>"
      ],
      "text/plain": [
       "              Salario  Limite_Emprestimo\n",
       "INDICE                                  \n",
       "0.862964  3185.629581        7279.937858\n",
       "0.014223  3217.485877        7315.799621\n",
       "0.603589  3249.660736        7351.661384\n",
       "0.407157  3282.157343        7387.523147\n",
       "0.777109  3314.978916        7423.384910"
      ]
     },
     "execution_count": 79,
     "metadata": {},
     "output_type": "execute_result"
    }
   ],
   "source": [
    "base.tail()"
   ]
  },
  {
   "cell_type": "code",
   "execution_count": 80,
   "metadata": {},
   "outputs": [
    {
     "data": {
      "text/plain": [
       "Index(['Salario', 'Limite_Emprestimo'], dtype='object')"
      ]
     },
     "execution_count": 80,
     "metadata": {},
     "output_type": "execute_result"
    }
   ],
   "source": [
    "base.columns"
   ]
  },
  {
   "cell_type": "code",
   "execution_count": 81,
   "metadata": {},
   "outputs": [
    {
     "data": {
      "text/plain": [
       "(99, 2)"
      ]
     },
     "execution_count": 81,
     "metadata": {},
     "output_type": "execute_result"
    }
   ],
   "source": [
    "base.shape"
   ]
  },
  {
   "cell_type": "code",
   "execution_count": 82,
   "metadata": {},
   "outputs": [
    {
     "data": {
      "text/html": [
       "<div>\n",
       "<style scoped>\n",
       "    .dataframe tbody tr th:only-of-type {\n",
       "        vertical-align: middle;\n",
       "    }\n",
       "\n",
       "    .dataframe tbody tr th {\n",
       "        vertical-align: top;\n",
       "    }\n",
       "\n",
       "    .dataframe thead th {\n",
       "        text-align: right;\n",
       "    }\n",
       "</style>\n",
       "<table border=\"1\" class=\"dataframe\">\n",
       "  <thead>\n",
       "    <tr style=\"text-align: right;\">\n",
       "      <th></th>\n",
       "      <th>Salario</th>\n",
       "      <th>Limite_Emprestimo</th>\n",
       "    </tr>\n",
       "  </thead>\n",
       "  <tbody>\n",
       "    <tr>\n",
       "      <th>count</th>\n",
       "      <td>99.000000</td>\n",
       "      <td>99.000000</td>\n",
       "    </tr>\n",
       "    <tr>\n",
       "      <th>mean</th>\n",
       "      <td>2119.100581</td>\n",
       "      <td>4900.652060</td>\n",
       "    </tr>\n",
       "    <tr>\n",
       "      <th>std</th>\n",
       "      <td>600.832983</td>\n",
       "      <td>1378.113961</td>\n",
       "    </tr>\n",
       "    <tr>\n",
       "      <th>min</th>\n",
       "      <td>1250.219130</td>\n",
       "      <td>2900.124323</td>\n",
       "    </tr>\n",
       "    <tr>\n",
       "      <th>25%</th>\n",
       "      <td>1595.383780</td>\n",
       "      <td>3700.800280</td>\n",
       "    </tr>\n",
       "    <tr>\n",
       "      <th>50%</th>\n",
       "      <td>2035.792243</td>\n",
       "      <td>4722.412623</td>\n",
       "    </tr>\n",
       "    <tr>\n",
       "      <th>75%</th>\n",
       "      <td>2597.840528</td>\n",
       "      <td>6026.191986</td>\n",
       "    </tr>\n",
       "    <tr>\n",
       "      <th>max</th>\n",
       "      <td>3314.978916</td>\n",
       "      <td>7423.384910</td>\n",
       "    </tr>\n",
       "  </tbody>\n",
       "</table>\n",
       "</div>"
      ],
      "text/plain": [
       "           Salario  Limite_Emprestimo\n",
       "count    99.000000          99.000000\n",
       "mean   2119.100581        4900.652060\n",
       "std     600.832983        1378.113961\n",
       "min    1250.219130        2900.124323\n",
       "25%    1595.383780        3700.800280\n",
       "50%    2035.792243        4722.412623\n",
       "75%    2597.840528        6026.191986\n",
       "max    3314.978916        7423.384910"
      ]
     },
     "execution_count": 82,
     "metadata": {},
     "output_type": "execute_result"
    }
   ],
   "source": [
    "base.describe()"
   ]
  },
  {
   "cell_type": "code",
   "execution_count": 83,
   "metadata": {},
   "outputs": [],
   "source": [
    "def eixo_x_array(base):\n",
    "    eixo_x = base.iloc[:,0].values\n",
    "    return eixo_x\n",
    "\n",
    "def eixo_y_array(base):\n",
    "    return np.array(base.iloc[:,1])\n",
    "\n",
    "def grafico_dispersao(funcaoX,funcaoY,base, titulo, titulo_x, titulo_y):\n",
    "    plt.figure(figsize=(10,5))\n",
    "    plt.scatter(funcaoX,funcaoY)\n",
    "    plt.title(titulo)\n",
    "    plt.xlabel(titulo_x)\n",
    "    plt.ylabel(titulo_y)\n",
    "    plt.show()\n",
    "\n",
    "def x_matriz(base):\n",
    "    eixo_x = base.reshape(-1,1)\n",
    "    return eixo_x\n",
    "\n",
    "def y_matriz(base):\n",
    "    eixo_y = base.reshape(-1,1)\n",
    "    return eixo_y\n",
    "\n",
    "def divisao_base_treino_teste(x,y):\n",
    "    from sklearn.model_selection import train_test_split\n",
    "    x_treino, x_teste, y_treino, y_teste = train_test_split(x,y,test_size=0.20,random_state=0)\n",
    "    return x_treino, x_teste, y_treino, y_teste\n",
    "\n",
    "def regressao_linear(x,y):\n",
    "    from sklearn.linear_model import LinearRegression\n",
    "    regressor = LinearRegression()\n",
    "    regressor.fit(x,y)\n",
    "    return regressor\n",
    "\n",
    "def metricas(x,y,regressor):\n",
    "    from sklearn.metrics import r2_score, mean_absolute_error, mean_squared_error\n",
    "    previsao = regressor.predict(x)\n",
    "    r2 = r2_score(y,previsao)\n",
    "    mae = mean_absolute_error(y,previsao)\n",
    "    mse = mean_squared_error(y,previsao)\n",
    "    rmse = np.sqrt(mse)\n",
    "    return r2, mae, mse, rmse"
   ]
  },
  {
   "cell_type": "code",
   "execution_count": 84,
   "metadata": {},
   "outputs": [],
   "source": [
    "Eixo_x = eixo_x_array(base)\n",
    "Eixo_y = eixo_y_array(base)"
   ]
  },
  {
   "cell_type": "code",
   "execution_count": 85,
   "metadata": {},
   "outputs": [
    {
     "data": {
      "text/plain": [
       "(array([1250.21913   , 1262.7213213 , 1275.34853451, 1288.10201986,\n",
       "        1300.98304006, 1313.99287046, 1327.13279916, 1340.40412715,\n",
       "        1353.80816843, 1367.34625011, 1381.01971261, 1394.82990974,\n",
       "        1408.77820883, 1422.86599092, 1437.09465083, 1451.46559734,\n",
       "        1465.98025331, 1480.64005585, 1495.4464564 , 1510.40092097,\n",
       "        1525.50493018, 1540.75997948, 1556.16757927, 1571.72925507,\n",
       "        1587.44654762, 1603.32101309, 1619.35422323, 1635.54776546,\n",
       "        1651.90324311, 1668.42227554, 1685.1064983 , 1701.95756328,\n",
       "        1718.97713891, 1736.1669103 , 1753.52857941, 1771.0638652 ,\n",
       "        1788.77450385, 1806.66224889, 1824.72887138, 1842.97616009,\n",
       "        1861.4059217 , 1880.01998091, 1898.82018072, 1917.80838253,\n",
       "        1936.98646635, 1956.35633102, 1975.91989433, 1995.67909327,\n",
       "        2015.6358842 , 2035.79224305, 2056.15016548, 2076.71166713,\n",
       "        2097.4787838 , 2118.45357164, 2139.63810736, 2161.03448843,\n",
       "        2182.64483331, 2204.47128165, 2226.51599446, 2248.78115441,\n",
       "        2271.26896595, 2293.98165561, 2316.92147217, 2340.09068689,\n",
       "        2363.49159376, 2387.1265097 , 2410.99777479, 2435.10775254,\n",
       "        2459.45883007, 2484.05341837, 2508.89395255, 2533.98289208,\n",
       "        2559.322721  , 2584.91594821, 2610.76510769, 2636.87275877,\n",
       "        2663.24148635, 2689.87390122, 2716.77264023, 2743.94036663,\n",
       "        2771.3797703 , 2799.093568  , 2827.08450368, 2855.35534872,\n",
       "        2883.90890221, 2912.74799123, 2941.87547114, 2971.29422585,\n",
       "        3001.00716811, 3031.01723979, 3061.32741219, 3091.94068631,\n",
       "        3122.86009317, 3154.08869411, 3185.62958105, 3217.48587686,\n",
       "        3249.66073563, 3282.15734298, 3314.97891641]),\n",
       " array([2900.124323  , 2929.12556623, 2958.41682189, 2988.00099011,\n",
       "        3017.88100001, 3048.05981001, 3078.54040811, 3109.32581219,\n",
       "        3140.41907032, 3171.82326102, 3203.54149363, 3235.57690857,\n",
       "        3267.93267765, 3300.61200443, 3333.61812447, 3366.95430572,\n",
       "        3400.62384877, 3434.63008726, 3434.63008726, 3434.63008726,\n",
       "        3434.63008726, 3574.08984167, 3609.83074009, 3645.92904749,\n",
       "        3682.38833796, 3719.21222134, 3756.40434356, 3793.96838699,\n",
       "        3831.90807086, 3870.22715157, 3870.22715157, 3870.22715157,\n",
       "        3870.22715157, 4027.37389354, 4067.64763247, 4108.3241088 ,\n",
       "        4149.40734988, 4190.90142338, 4232.81043762, 4275.13854199,\n",
       "        4317.88992741, 4361.06882669, 4404.67951495, 4448.7263101 ,\n",
       "        4493.2135732 , 4538.14570894, 4583.52716602, 4629.36243768,\n",
       "        4675.65606206, 4722.41262268, 4769.63674891, 4817.3331164 ,\n",
       "        4865.50644756, 4914.16151204, 4963.30312716, 5012.93615843,\n",
       "        5063.06552001, 5113.69617521, 5164.83313697, 5216.48146834,\n",
       "        5268.64628302, 5321.33274585, 5374.54607331, 5428.29153404,\n",
       "        5482.57444938, 5537.40019388, 5592.77419581, 5648.70193777,\n",
       "        5705.18895715, 5762.24084672, 5819.86325519, 5878.06188774,\n",
       "        5936.84250662, 5996.21093168, 6056.173041  , 6116.73477141,\n",
       "        6177.90211913, 6239.68114032, 6302.07795172, 6365.09873124,\n",
       "        6428.74971855, 6493.03721573, 6557.96758789, 6623.54726377,\n",
       "        6689.78273641, 6756.68056377, 6824.24736941, 6892.4898431 ,\n",
       "        6961.41474154, 7031.02888895, 7101.33917784, 7172.35256962,\n",
       "        7208.21433247, 7244.07609532, 7279.93785816, 7315.79962101,\n",
       "        7351.66138386, 7387.52314671, 7423.38490956]))"
      ]
     },
     "execution_count": 85,
     "metadata": {},
     "output_type": "execute_result"
    }
   ],
   "source": [
    "Eixo_x, Eixo_y"
   ]
  },
  {
   "cell_type": "code",
   "execution_count": 86,
   "metadata": {},
   "outputs": [
    {
     "data": {
      "image/png": "[encoded data removed]",
      "text/plain": [
       "<Figure size 720x360 with 1 Axes>"
      ]
     },
     "metadata": {
      "needs_background": "light"
     },
     "output_type": "display_data"
    }
   ],
   "source": [
    "grafico_dispersao(eixo_x_array(base),eixo_y_array(base),base, 'Gráfico de Dispersão - Salario x Limite', 'Salario', 'Limite')"
   ]
  },
  {
   "cell_type": "code",
   "execution_count": 87,
   "metadata": {},
   "outputs": [
    {
     "data": {
      "text/html": [
       "<div>\n",
       "<style scoped>\n",
       "    .dataframe tbody tr th:only-of-type {\n",
       "        vertical-align: middle;\n",
       "    }\n",
       "\n",
       "    .dataframe tbody tr th {\n",
       "        vertical-align: top;\n",
       "    }\n",
       "\n",
       "    .dataframe thead th {\n",
       "        text-align: right;\n",
       "    }\n",
       "</style>\n",
       "<table border=\"1\" class=\"dataframe\">\n",
       "  <thead>\n",
       "    <tr style=\"text-align: right;\">\n",
       "      <th></th>\n",
       "      <th>Salario</th>\n",
       "      <th>Limite_Emprestimo</th>\n",
       "    </tr>\n",
       "  </thead>\n",
       "  <tbody>\n",
       "    <tr>\n",
       "      <th>Salario</th>\n",
       "      <td>1.000000</td>\n",
       "      <td>0.999498</td>\n",
       "    </tr>\n",
       "    <tr>\n",
       "      <th>Limite_Emprestimo</th>\n",
       "      <td>0.999498</td>\n",
       "      <td>1.000000</td>\n",
       "    </tr>\n",
       "  </tbody>\n",
       "</table>\n",
       "</div>"
      ],
      "text/plain": [
       "                    Salario  Limite_Emprestimo\n",
       "Salario            1.000000           0.999498\n",
       "Limite_Emprestimo  0.999498           1.000000"
      ]
     },
     "execution_count": 87,
     "metadata": {},
     "output_type": "execute_result"
    }
   ],
   "source": [
    "base.corr()"
   ]
  },
  {
   "cell_type": "code",
   "execution_count": 88,
   "metadata": {},
   "outputs": [],
   "source": [
    "(xtr,xte,ytr,yte) = divisao_base_treino_teste(x_matriz(Eixo_x),y_matriz(Eixo_y))"
   ]
  },
  {
   "cell_type": "code",
   "execution_count": 89,
   "metadata": {},
   "outputs": [
    {
     "data": {
      "text/plain": [
       "(79, 20, 79, 20)"
      ]
     },
     "execution_count": 89,
     "metadata": {},
     "output_type": "execute_result"
    }
   ],
   "source": [
    "len(xtr), len(xte), len(ytr), len(yte)"
   ]
  },
  {
   "cell_type": "code",
   "execution_count": 90,
   "metadata": {},
   "outputs": [
    {
     "data": {
      "text/plain": [
       "LinearRegression()"
      ]
     },
     "execution_count": 90,
     "metadata": {},
     "output_type": "execute_result"
    }
   ],
   "source": [
    "r = regressao_linear(xtr,ytr)\n",
    "r\n"
   ]
  },
  {
   "cell_type": "code",
   "execution_count": 91,
   "metadata": {},
   "outputs": [
    {
     "data": {
      "text/plain": [
       "0.9987588543176282"
      ]
     },
     "execution_count": 91,
     "metadata": {},
     "output_type": "execute_result"
    }
   ],
   "source": [
    "r.score(xtr,ytr)"
   ]
  },
  {
   "attachments": {},
   "cell_type": "markdown",
   "metadata": {},
   "source": []
  },
  {
   "cell_type": "code",
   "execution_count": 92,
   "metadata": {},
   "outputs": [
    {
     "data": {
      "image/png": "[encoded data removed]",
      "text/plain": [
       "<Figure size 720x360 with 1 Axes>"
      ]
     },
     "metadata": {
      "needs_background": "light"
     },
     "output_type": "display_data"
    }
   ],
   "source": [
    "plt.figure(figsize=(10,5))\n",
    "plt.scatter(xtr,ytr,color='blue')\n",
    "plt.plot(xte,r.predict(xte),color='red');"
   ]
  },
  {
   "cell_type": "code",
   "execution_count": 93,
   "metadata": {},
   "outputs": [
    {
     "data": {
      "text/plain": [
       "(0.9997111684231244, 19.065467924656765, 658.3464505150492, 25.65826281171524)"
      ]
     },
     "execution_count": 93,
     "metadata": {},
     "output_type": "execute_result"
    }
   ],
   "source": [
    "metricas(xte,yte,r)"
   ]
  },
  {
   "cell_type": "code",
   "execution_count": 96,
   "metadata": {},
   "outputs": [
    {
     "name": "stdout",
     "output_type": "stream",
     "text": [
      "[[2937.30962108]]\n"
     ]
    }
   ],
   "source": [
    "print (r.predict([[1262]]))"
   ]
  },
  {
   "cell_type": "code",
   "execution_count": 99,
   "metadata": {},
   "outputs": [],
   "source": [
    "base['Limite_Previsto'] = r.predict(x_matriz(Eixo_x))\n",
    "base['Diferemca'] = base['Limite_Emprestimo'] - base['Limite_Previsto']"
   ]
  },
  {
   "cell_type": "code",
   "execution_count": 101,
   "metadata": {},
   "outputs": [
    {
     "data": {
      "text/html": [
       "<div>\n",
       "<style scoped>\n",
       "    .dataframe tbody tr th:only-of-type {\n",
       "        vertical-align: middle;\n",
       "    }\n",
       "\n",
       "    .dataframe tbody tr th {\n",
       "        vertical-align: top;\n",
       "    }\n",
       "\n",
       "    .dataframe thead th {\n",
       "        text-align: right;\n",
       "    }\n",
       "</style>\n",
       "<table border=\"1\" class=\"dataframe\">\n",
       "  <thead>\n",
       "    <tr style=\"text-align: right;\">\n",
       "      <th></th>\n",
       "      <th>Salario</th>\n",
       "      <th>Limite_Emprestimo</th>\n",
       "      <th>Limite_Previsto</th>\n",
       "      <th>Diferemca</th>\n",
       "    </tr>\n",
       "    <tr>\n",
       "      <th>INDICE</th>\n",
       "      <th></th>\n",
       "      <th></th>\n",
       "      <th></th>\n",
       "      <th></th>\n",
       "    </tr>\n",
       "  </thead>\n",
       "  <tbody>\n",
       "    <tr>\n",
       "      <th>0.909144</th>\n",
       "      <td>1250.219130</td>\n",
       "      <td>2900.124323</td>\n",
       "      <td>2910.340207</td>\n",
       "      <td>-10.215884</td>\n",
       "    </tr>\n",
       "    <tr>\n",
       "      <th>0.536008</th>\n",
       "      <td>1262.721321</td>\n",
       "      <td>2929.125566</td>\n",
       "      <td>2938.960909</td>\n",
       "      <td>-9.835343</td>\n",
       "    </tr>\n",
       "    <tr>\n",
       "      <th>0.260186</th>\n",
       "      <td>1275.348535</td>\n",
       "      <td>2958.416822</td>\n",
       "      <td>2967.867819</td>\n",
       "      <td>-9.450997</td>\n",
       "    </tr>\n",
       "    <tr>\n",
       "      <th>0.486808</th>\n",
       "      <td>1288.102020</td>\n",
       "      <td>2988.000990</td>\n",
       "      <td>2997.063798</td>\n",
       "      <td>-9.062808</td>\n",
       "    </tr>\n",
       "    <tr>\n",
       "      <th>0.551902</th>\n",
       "      <td>1300.983040</td>\n",
       "      <td>3017.881000</td>\n",
       "      <td>3026.551737</td>\n",
       "      <td>-8.670737</td>\n",
       "    </tr>\n",
       "    <tr>\n",
       "      <th>0.876431</th>\n",
       "      <td>1313.992870</td>\n",
       "      <td>3048.059810</td>\n",
       "      <td>3056.334555</td>\n",
       "      <td>-8.274745</td>\n",
       "    </tr>\n",
       "    <tr>\n",
       "      <th>0.621566</th>\n",
       "      <td>1327.132799</td>\n",
       "      <td>3078.540408</td>\n",
       "      <td>3086.415201</td>\n",
       "      <td>-7.874793</td>\n",
       "    </tr>\n",
       "    <tr>\n",
       "      <th>0.369229</th>\n",
       "      <td>1340.404127</td>\n",
       "      <td>3109.325812</td>\n",
       "      <td>3116.796654</td>\n",
       "      <td>-7.470842</td>\n",
       "    </tr>\n",
       "    <tr>\n",
       "      <th>0.730584</th>\n",
       "      <td>1353.808168</td>\n",
       "      <td>3140.419070</td>\n",
       "      <td>3147.481922</td>\n",
       "      <td>-7.062851</td>\n",
       "    </tr>\n",
       "    <tr>\n",
       "      <th>0.712558</th>\n",
       "      <td>1367.346250</td>\n",
       "      <td>3171.823261</td>\n",
       "      <td>3178.474042</td>\n",
       "      <td>-6.650781</td>\n",
       "    </tr>\n",
       "    <tr>\n",
       "      <th>0.809623</th>\n",
       "      <td>1381.019713</td>\n",
       "      <td>3203.541494</td>\n",
       "      <td>3209.776083</td>\n",
       "      <td>-6.234589</td>\n",
       "    </tr>\n",
       "    <tr>\n",
       "      <th>0.139012</th>\n",
       "      <td>1394.829910</td>\n",
       "      <td>3235.576909</td>\n",
       "      <td>3241.391144</td>\n",
       "      <td>-5.814236</td>\n",
       "    </tr>\n",
       "    <tr>\n",
       "      <th>0.086361</th>\n",
       "      <td>1408.778209</td>\n",
       "      <td>3267.932678</td>\n",
       "      <td>3273.322357</td>\n",
       "      <td>-5.389679</td>\n",
       "    </tr>\n",
       "    <tr>\n",
       "      <th>0.224498</th>\n",
       "      <td>1422.865991</td>\n",
       "      <td>3300.612004</td>\n",
       "      <td>3305.572881</td>\n",
       "      <td>-4.960877</td>\n",
       "    </tr>\n",
       "    <tr>\n",
       "      <th>0.856104</th>\n",
       "      <td>1437.094651</td>\n",
       "      <td>3333.618124</td>\n",
       "      <td>3338.145911</td>\n",
       "      <td>-4.527786</td>\n",
       "    </tr>\n",
       "    <tr>\n",
       "      <th>0.744725</th>\n",
       "      <td>1451.465597</td>\n",
       "      <td>3366.954306</td>\n",
       "      <td>3371.044670</td>\n",
       "      <td>-4.090365</td>\n",
       "    </tr>\n",
       "    <tr>\n",
       "      <th>0.680701</th>\n",
       "      <td>1465.980253</td>\n",
       "      <td>3400.623849</td>\n",
       "      <td>3404.272418</td>\n",
       "      <td>-3.648569</td>\n",
       "    </tr>\n",
       "    <tr>\n",
       "      <th>0.240729</th>\n",
       "      <td>1480.640056</td>\n",
       "      <td>3434.630087</td>\n",
       "      <td>3437.832443</td>\n",
       "      <td>-3.202356</td>\n",
       "    </tr>\n",
       "    <tr>\n",
       "      <th>0.093215</th>\n",
       "      <td>1495.446456</td>\n",
       "      <td>3434.630087</td>\n",
       "      <td>3471.728068</td>\n",
       "      <td>-37.097981</td>\n",
       "    </tr>\n",
       "    <tr>\n",
       "      <th>0.302661</th>\n",
       "      <td>1510.400921</td>\n",
       "      <td>3434.630087</td>\n",
       "      <td>3505.962650</td>\n",
       "      <td>-71.332562</td>\n",
       "    </tr>\n",
       "    <tr>\n",
       "      <th>0.315655</th>\n",
       "      <td>1525.504930</td>\n",
       "      <td>3434.630087</td>\n",
       "      <td>3540.539577</td>\n",
       "      <td>-105.909490</td>\n",
       "    </tr>\n",
       "    <tr>\n",
       "      <th>0.382061</th>\n",
       "      <td>1540.759979</td>\n",
       "      <td>3574.089842</td>\n",
       "      <td>3575.462273</td>\n",
       "      <td>-1.372432</td>\n",
       "    </tr>\n",
       "    <tr>\n",
       "      <th>0.387776</th>\n",
       "      <td>1556.167579</td>\n",
       "      <td>3609.830740</td>\n",
       "      <td>3610.734197</td>\n",
       "      <td>-0.903457</td>\n",
       "    </tr>\n",
       "    <tr>\n",
       "      <th>0.425597</th>\n",
       "      <td>1571.729255</td>\n",
       "      <td>3645.929047</td>\n",
       "      <td>3646.358840</td>\n",
       "      <td>-0.429792</td>\n",
       "    </tr>\n",
       "    <tr>\n",
       "      <th>0.825898</th>\n",
       "      <td>1587.446548</td>\n",
       "      <td>3682.388338</td>\n",
       "      <td>3682.339729</td>\n",
       "      <td>0.048609</td>\n",
       "    </tr>\n",
       "    <tr>\n",
       "      <th>0.273347</th>\n",
       "      <td>1603.321013</td>\n",
       "      <td>3719.212221</td>\n",
       "      <td>3718.680427</td>\n",
       "      <td>0.531794</td>\n",
       "    </tr>\n",
       "    <tr>\n",
       "      <th>0.218037</th>\n",
       "      <td>1619.354223</td>\n",
       "      <td>3756.404344</td>\n",
       "      <td>3755.384532</td>\n",
       "      <td>1.019812</td>\n",
       "    </tr>\n",
       "    <tr>\n",
       "      <th>0.219138</th>\n",
       "      <td>1635.547765</td>\n",
       "      <td>3793.968387</td>\n",
       "      <td>3792.455678</td>\n",
       "      <td>1.512709</td>\n",
       "    </tr>\n",
       "    <tr>\n",
       "      <th>0.512363</th>\n",
       "      <td>1651.903243</td>\n",
       "      <td>3831.908071</td>\n",
       "      <td>3829.897536</td>\n",
       "      <td>2.010535</td>\n",
       "    </tr>\n",
       "    <tr>\n",
       "      <th>0.194498</th>\n",
       "      <td>1668.422276</td>\n",
       "      <td>3870.227152</td>\n",
       "      <td>3867.713812</td>\n",
       "      <td>2.513340</td>\n",
       "    </tr>\n",
       "  </tbody>\n",
       "</table>\n",
       "</div>"
      ],
      "text/plain": [
       "              Salario  Limite_Emprestimo  Limite_Previsto   Diferemca\n",
       "INDICE                                                               \n",
       "0.909144  1250.219130        2900.124323      2910.340207  -10.215884\n",
       "0.536008  1262.721321        2929.125566      2938.960909   -9.835343\n",
       "0.260186  1275.348535        2958.416822      2967.867819   -9.450997\n",
       "0.486808  1288.102020        2988.000990      2997.063798   -9.062808\n",
       "0.551902  1300.983040        3017.881000      3026.551737   -8.670737\n",
       "0.876431  1313.992870        3048.059810      3056.334555   -8.274745\n",
       "0.621566  1327.132799        3078.540408      3086.415201   -7.874793\n",
       "0.369229  1340.404127        3109.325812      3116.796654   -7.470842\n",
       "0.730584  1353.808168        3140.419070      3147.481922   -7.062851\n",
       "0.712558  1367.346250        3171.823261      3178.474042   -6.650781\n",
       "0.809623  1381.019713        3203.541494      3209.776083   -6.234589\n",
       "0.139012  1394.829910        3235.576909      3241.391144   -5.814236\n",
       "0.086361  1408.778209        3267.932678      3273.322357   -5.389679\n",
       "0.224498  1422.865991        3300.612004      3305.572881   -4.960877\n",
       "0.856104  1437.094651        3333.618124      3338.145911   -4.527786\n",
       "0.744725  1451.465597        3366.954306      3371.044670   -4.090365\n",
       "0.680701  1465.980253        3400.623849      3404.272418   -3.648569\n",
       "0.240729  1480.640056        3434.630087      3437.832443   -3.202356\n",
       "0.093215  1495.446456        3434.630087      3471.728068  -37.097981\n",
       "0.302661  1510.400921        3434.630087      3505.962650  -71.332562\n",
       "0.315655  1525.504930        3434.630087      3540.539577 -105.909490\n",
       "0.382061  1540.759979        3574.089842      3575.462273   -1.372432\n",
       "0.387776  1556.167579        3609.830740      3610.734197   -0.903457\n",
       "0.425597  1571.729255        3645.929047      3646.358840   -0.429792\n",
       "0.825898  1587.446548        3682.388338      3682.339729    0.048609\n",
       "0.273347  1603.321013        3719.212221      3718.680427    0.531794\n",
       "0.218037  1619.354223        3756.404344      3755.384532    1.019812\n",
       "0.219138  1635.547765        3793.968387      3792.455678    1.512709\n",
       "0.512363  1651.903243        3831.908071      3829.897536    2.010535\n",
       "0.194498  1668.422276        3870.227152      3867.713812    2.513340"
      ]
     },
     "execution_count": 101,
     "metadata": {},
     "output_type": "execute_result"
    }
   ],
   "source": [
    "base.head(30)"
   ]
  },
  {
   "cell_type": "code",
   "execution_count": 102,
   "metadata": {},
   "outputs": [
    {
     "data": {
      "text/html": [
       "<div>\n",
       "<style scoped>\n",
       "    .dataframe tbody tr th:only-of-type {\n",
       "        vertical-align: middle;\n",
       "    }\n",
       "\n",
       "    .dataframe tbody tr th {\n",
       "        vertical-align: top;\n",
       "    }\n",
       "\n",
       "    .dataframe thead th {\n",
       "        text-align: right;\n",
       "    }\n",
       "</style>\n",
       "<table border=\"1\" class=\"dataframe\">\n",
       "  <thead>\n",
       "    <tr style=\"text-align: right;\">\n",
       "      <th></th>\n",
       "      <th>Salario</th>\n",
       "      <th>Limite_Emprestimo</th>\n",
       "      <th>Limite_Previsto</th>\n",
       "      <th>Diferemca</th>\n",
       "    </tr>\n",
       "  </thead>\n",
       "  <tbody>\n",
       "    <tr>\n",
       "      <th>count</th>\n",
       "      <td>99.000000</td>\n",
       "      <td>99.000000</td>\n",
       "      <td>99.000000</td>\n",
       "      <td>99.000000</td>\n",
       "    </tr>\n",
       "    <tr>\n",
       "      <th>mean</th>\n",
       "      <td>2119.100581</td>\n",
       "      <td>4900.652060</td>\n",
       "      <td>4899.431337</td>\n",
       "      <td>1.220722</td>\n",
       "    </tr>\n",
       "    <tr>\n",
       "      <th>std</th>\n",
       "      <td>600.832983</td>\n",
       "      <td>1378.113961</td>\n",
       "      <td>1375.459858</td>\n",
       "      <td>43.717304</td>\n",
       "    </tr>\n",
       "    <tr>\n",
       "      <th>min</th>\n",
       "      <td>1250.219130</td>\n",
       "      <td>2900.124323</td>\n",
       "      <td>2910.340207</td>\n",
       "      <td>-213.716780</td>\n",
       "    </tr>\n",
       "    <tr>\n",
       "      <th>25%</th>\n",
       "      <td>1595.383780</td>\n",
       "      <td>3700.800280</td>\n",
       "      <td>3700.510078</td>\n",
       "      <td>-5.175278</td>\n",
       "    </tr>\n",
       "    <tr>\n",
       "      <th>50%</th>\n",
       "      <td>2035.792243</td>\n",
       "      <td>4722.412623</td>\n",
       "      <td>4708.717314</td>\n",
       "      <td>10.104128</td>\n",
       "    </tr>\n",
       "    <tr>\n",
       "      <th>75%</th>\n",
       "      <td>2597.840528</td>\n",
       "      <td>6026.191986</td>\n",
       "      <td>5995.389112</td>\n",
       "      <td>25.482703</td>\n",
       "    </tr>\n",
       "    <tr>\n",
       "      <th>max</th>\n",
       "      <td>3314.978916</td>\n",
       "      <td>7423.384910</td>\n",
       "      <td>7637.101690</td>\n",
       "      <td>45.842244</td>\n",
       "    </tr>\n",
       "  </tbody>\n",
       "</table>\n",
       "</div>"
      ],
      "text/plain": [
       "           Salario  Limite_Emprestimo  Limite_Previsto   Diferemca\n",
       "count    99.000000          99.000000        99.000000   99.000000\n",
       "mean   2119.100581        4900.652060      4899.431337    1.220722\n",
       "std     600.832983        1378.113961      1375.459858   43.717304\n",
       "min    1250.219130        2900.124323      2910.340207 -213.716780\n",
       "25%    1595.383780        3700.800280      3700.510078   -5.175278\n",
       "50%    2035.792243        4722.412623      4708.717314   10.104128\n",
       "75%    2597.840528        6026.191986      5995.389112   25.482703\n",
       "max    3314.978916        7423.384910      7637.101690   45.842244"
      ]
     },
     "execution_count": 102,
     "metadata": {},
     "output_type": "execute_result"
    }
   ],
   "source": [
    "base.describe()"
   ]
  }
 ],
 "metadata": {
  "kernelspec": {
   "display_name": "dnc",
   "language": "python",
   "name": "python3"
  },
  "language_info": {
   "codemirror_mode": {
    "name": "ipython",
    "version": 3
   },
   "file_extension": ".py",
   "mimetype": "text/x-python",
   "name": "python",
   "nbconvert_exporter": "python",
   "pygments_lexer": "ipython3",
   "version": "3.8.16"
  },
  "orig_nbformat": 4
 },
 "nbformat": 4,
 "nbformat_minor": 2
}
