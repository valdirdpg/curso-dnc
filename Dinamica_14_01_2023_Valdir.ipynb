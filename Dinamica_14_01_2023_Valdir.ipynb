{
  "nbformat": 4,
  "nbformat_minor": 0,
  "metadata": {
    "colab": {
      "provenance": [],
      "authorship_tag": "ABX9TyMd0gEQNYsu3Oiew2bYFDZp",
      "include_colab_link": true
    },
    "kernelspec": {
      "name": "python3",
      "display_name": "Python 3"
    },
    "language_info": {
      "name": "python"
    }
  },
  "cells": [
    {
      "cell_type": "markdown",
      "metadata": {
        "id": "view-in-github",
        "colab_type": "text"
      },
      "source": [
        "<a href=\"https://colab.research.google.com/github/valdirdpg/curso-dnc/blob/main/Dinamica_14_01_2023_Valdir.ipynb\" target=\"_parent\"><img src=\"https://colab.research.google.com/assets/colab-badge.svg\" alt=\"Open In Colab\"/></a>"
      ]
    },
    {
      "cell_type": "markdown",
      "source": [
        "## 97581 - VALDIR NASCIMENTO DOS SANTOS\n"
      ],
      "metadata": {
        "id": "IGsZRJA5oMqx"
      }
    },
    {
      "cell_type": "code",
      "execution_count": null,
      "metadata": {
        "id": "r0EAqdZBoLEA"
      },
      "outputs": [],
      "source": [
        "nome = ['valdir','ana','vera','pedro','joao']\n",
        "idade = [25,30,20,12,18]\n"
      ]
    },
    {
      "cell_type": "code",
      "source": [
        "for x,y in zip(nome,idade):\n",
        "  print(f'{x} - {y}')"
      ],
      "metadata": {
        "colab": {
          "base_uri": "https://localhost:8080/"
        },
        "id": "x4qogNJEps-E",
        "outputId": "a9011df3-50d8-492e-93c2-3ff45b9dbc5f"
      },
      "execution_count": null,
      "outputs": [
        {
          "output_type": "stream",
          "name": "stdout",
          "text": [
            "valdir - 25\n",
            "ana - 30\n",
            "vera - 20\n",
            "pedro - 12\n",
            "joao - 18\n"
          ]
        }
      ]
    },
    {
      "cell_type": "code",
      "source": [
        "import matplotlib.pyplot as pl\n",
        "import numpy as np\n",
        "pl.figure(figsize=(18,15), dpi=50)\n",
        "pl.bar(nome,idade)\n",
        "pl.title('Grafico de Nome e Idade')"
      ],
      "metadata": {
        "colab": {
          "base_uri": "https://localhost:8080/",
          "height": 633
        },
        "id": "wgU0lcULqXcj",
        "outputId": "0259e604-f5ab-4402-daec-bc74b202bf61"
      },
      "execution_count": null,
      "outputs": [
        {
          "output_type": "execute_result",
          "data": {
            "text/plain": [
              "Text(0.5, 1.0, 'Grafico de Nome e Idade')"
            ]
          },
          "metadata": {},
          "execution_count": 29
        },
        {
          "output_type": "display_data",
          "data": {
            "text/plain": [
              "<Figure size 900x750 with 1 Axes>"
            ],
            "image/png": "[encoded data removed]"
          },
          "metadata": {
            "needs_background": "light"
          }
        }
      ]
    },
    {
      "cell_type": "code",
      "source": [
        "salario = [2500, 1750,3000,2800,3100]"
      ],
      "metadata": {
        "id": "RL0wVkpltJpE"
      },
      "execution_count": null,
      "outputs": []
    },
    {
      "cell_type": "code",
      "source": [
        "pl.bar(nome,salario)\n",
        "pl.title('Grafico de Salario')"
      ],
      "metadata": {
        "colab": {
          "base_uri": "https://localhost:8080/",
          "height": 299
        },
        "id": "F8kR8Z9ctbTz",
        "outputId": "7757aa49-3ffa-4e17-9fb1-3214b0648e98"
      },
      "execution_count": null,
      "outputs": [
        {
          "output_type": "execute_result",
          "data": {
            "text/plain": [
              "Text(0.5, 1.0, 'Grafico de Salario')"
            ]
          },
          "metadata": {},
          "execution_count": 14
        },
        {
          "output_type": "display_data",
          "data": {
            "text/plain": [
              "<Figure size 432x288 with 1 Axes>"
            ],
            "image/png": "[encoded data removed]"
          },
          "metadata": {
            "needs_background": "light"
          }
        }
      ]
    },
    {
      "cell_type": "code",
      "source": [
        "media_salario = sum(salario)/len(salario)\n",
        "media_idade = sum(idade)/len(idade)"
      ],
      "metadata": {
        "id": "1XvZ0xTBtrS7"
      },
      "execution_count": null,
      "outputs": []
    },
    {
      "cell_type": "code",
      "source": [
        "print(f\"\"\"media de idade: {media_idade}\n",
        "Media Salario: {media_salario}\"\"\"\n",
        "      \n",
        ")\n",
        "\n",
        "np.mean(salario)"
      ],
      "metadata": {
        "colab": {
          "base_uri": "https://localhost:8080/"
        },
        "id": "T7oemIaouHzE",
        "outputId": "83d812b1-6848-413f-eadf-4a9d38c30fd4"
      },
      "execution_count": null,
      "outputs": [
        {
          "output_type": "stream",
          "name": "stdout",
          "text": [
            "media de idade: 21.0\n",
            "Media Salario: 2630.0\n"
          ]
        },
        {
          "output_type": "execute_result",
          "data": {
            "text/plain": [
              "2630.0"
            ]
          },
          "metadata": {},
          "execution_count": 22
        }
      ]
    }
  ]
}