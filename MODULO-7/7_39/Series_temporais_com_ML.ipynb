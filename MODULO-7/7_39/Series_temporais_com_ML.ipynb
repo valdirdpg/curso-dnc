{
  "cells": [
    {
      "cell_type": "code",
      "execution_count": 1,
      "metadata": {
        "id": "MsW5ulwSW8kM"
      },
      "outputs": [],
      "source": [
        "\n",
        "import pandas as pd\n",
        "import numpy as np\n",
        "from matplotlib import pyplot as plt\n",
        "\n",
        "\n",
        "from statsmodels.tsa.arima.model import ARIMA"
      ]
    },
    {
      "cell_type": "code",
      "execution_count": 2,
      "metadata": {
        "colab": {
          "base_uri": "https://localhost:8080/"
        },
        "id": "WIPtG-5bXF4H",
        "outputId": "8f6a1283-40b3-4088-9248-48f56e1d622b"
      },
      "outputs": [],
      "source": [
        "# !pip install scipy"
      ]
    },
    {
      "cell_type": "code",
      "execution_count": 3,
      "metadata": {
        "colab": {
          "base_uri": "https://localhost:8080/"
        },
        "id": "WMm7jo9mXLgZ",
        "outputId": "258f2e4e-9a22-4a4c-e547-c7ddc0be5de2"
      },
      "outputs": [],
      "source": [
        "# !pip install pmdarima"
      ]
    },
    {
      "cell_type": "code",
      "execution_count": 4,
      "metadata": {
        "id": "dMus80OzXOdR"
      },
      "outputs": [],
      "source": [
        "from pmdarima.arima import auto_arima"
      ]
    },
    {
      "cell_type": "code",
      "execution_count": 5,
      "metadata": {
        "colab": {
          "base_uri": "https://localhost:8080/",
          "height": 237
        },
        "id": "DtGmOHG5B9Pe",
        "outputId": "250b5730-7b8b-4877-aec7-a854b52f80b3"
      },
      "outputs": [
        {
          "data": {
            "text/html": [
              "<div>\n",
              "<style scoped>\n",
              "    .dataframe tbody tr th:only-of-type {\n",
              "        vertical-align: middle;\n",
              "    }\n",
              "\n",
              "    .dataframe tbody tr th {\n",
              "        vertical-align: top;\n",
              "    }\n",
              "\n",
              "    .dataframe thead th {\n",
              "        text-align: right;\n",
              "    }\n",
              "</style>\n",
              "<table border=\"1\" class=\"dataframe\">\n",
              "  <thead>\n",
              "    <tr style=\"text-align: right;\">\n",
              "      <th></th>\n",
              "      <th>energy</th>\n",
              "    </tr>\n",
              "    <tr>\n",
              "      <th>DATE</th>\n",
              "      <th></th>\n",
              "    </tr>\n",
              "  </thead>\n",
              "  <tbody>\n",
              "    <tr>\n",
              "      <th>1985-01-01</th>\n",
              "      <td>71.5920</td>\n",
              "    </tr>\n",
              "    <tr>\n",
              "      <th>1985-02-01</th>\n",
              "      <td>69.7870</td>\n",
              "    </tr>\n",
              "    <tr>\n",
              "      <th>1985-03-01</th>\n",
              "      <td>61.6790</td>\n",
              "    </tr>\n",
              "    <tr>\n",
              "      <th>1985-04-01</th>\n",
              "      <td>56.7479</td>\n",
              "    </tr>\n",
              "    <tr>\n",
              "      <th>1985-05-01</th>\n",
              "      <td>54.6165</td>\n",
              "    </tr>\n",
              "  </tbody>\n",
              "</table>\n",
              "</div>"
            ],
            "text/plain": [
              "             energy\n",
              "DATE               \n",
              "1985-01-01  71.5920\n",
              "1985-02-01  69.7870\n",
              "1985-03-01  61.6790\n",
              "1985-04-01  56.7479\n",
              "1985-05-01  54.6165"
            ]
          },
          "execution_count": 5,
          "metadata": {},
          "output_type": "execute_result"
        }
      ],
      "source": [
        "# vamos importar a base de produção de energia elétrica\n",
        "df = pd.read_excel('energy.xlsx', index_col='DATE', parse_dates=True)\n",
        "df.head()"
      ]
    },
    {
      "cell_type": "code",
      "execution_count": 6,
      "metadata": {
        "colab": {
          "base_uri": "https://localhost:8080/"
        },
        "id": "PFIb69btCY2y",
        "outputId": "699f4c0a-ca59-455d-8db1-72835cc4a299"
      },
      "outputs": [
        {
          "data": {
            "text/plain": [
              "(408, 1)"
            ]
          },
          "execution_count": 6,
          "metadata": {},
          "output_type": "execute_result"
        }
      ],
      "source": [
        "# quantas linhas e colunas?\n",
        "df.shape"
      ]
    },
    {
      "cell_type": "code",
      "execution_count": 7,
      "metadata": {
        "colab": {
          "base_uri": "https://localhost:8080/",
          "height": 300
        },
        "id": "FcXhkrSyCbC4",
        "outputId": "b60ff91c-9d92-4b60-ef75-f4128a26d312"
      },
      "outputs": [
        {
          "data": {
            "text/html": [
              "<div>\n",
              "<style scoped>\n",
              "    .dataframe tbody tr th:only-of-type {\n",
              "        vertical-align: middle;\n",
              "    }\n",
              "\n",
              "    .dataframe tbody tr th {\n",
              "        vertical-align: top;\n",
              "    }\n",
              "\n",
              "    .dataframe thead th {\n",
              "        text-align: right;\n",
              "    }\n",
              "</style>\n",
              "<table border=\"1\" class=\"dataframe\">\n",
              "  <thead>\n",
              "    <tr style=\"text-align: right;\">\n",
              "      <th></th>\n",
              "      <th>energy</th>\n",
              "    </tr>\n",
              "  </thead>\n",
              "  <tbody>\n",
              "    <tr>\n",
              "      <th>count</th>\n",
              "      <td>408.000000</td>\n",
              "    </tr>\n",
              "    <tr>\n",
              "      <th>mean</th>\n",
              "      <td>88.062232</td>\n",
              "    </tr>\n",
              "    <tr>\n",
              "      <th>std</th>\n",
              "      <td>15.168540</td>\n",
              "    </tr>\n",
              "    <tr>\n",
              "      <th>min</th>\n",
              "      <td>54.616500</td>\n",
              "    </tr>\n",
              "    <tr>\n",
              "      <th>25%</th>\n",
              "      <td>76.499750</td>\n",
              "    </tr>\n",
              "    <tr>\n",
              "      <th>50%</th>\n",
              "      <td>88.940450</td>\n",
              "    </tr>\n",
              "    <tr>\n",
              "      <th>75%</th>\n",
              "      <td>99.733200</td>\n",
              "    </tr>\n",
              "    <tr>\n",
              "      <th>max</th>\n",
              "      <td>126.362600</td>\n",
              "    </tr>\n",
              "  </tbody>\n",
              "</table>\n",
              "</div>"
            ],
            "text/plain": [
              "           energy\n",
              "count  408.000000\n",
              "mean    88.062232\n",
              "std     15.168540\n",
              "min     54.616500\n",
              "25%     76.499750\n",
              "50%     88.940450\n",
              "75%     99.733200\n",
              "max    126.362600"
            ]
          },
          "execution_count": 7,
          "metadata": {},
          "output_type": "execute_result"
        }
      ],
      "source": [
        "# Estatística descritiva\n",
        "df.describe()"
      ]
    },
    {
      "cell_type": "code",
      "execution_count": 8,
      "metadata": {
        "colab": {
          "base_uri": "https://localhost:8080/"
        },
        "id": "u9YbUviBCc8g",
        "outputId": "c92ab9a5-0d59-42f8-e077-baf7149c605f"
      },
      "outputs": [
        {
          "data": {
            "text/plain": [
              "(Timestamp('1985-01-01 00:00:00'), Timestamp('2018-12-01 00:00:00'))"
            ]
          },
          "execution_count": 8,
          "metadata": {},
          "output_type": "execute_result"
        }
      ],
      "source": [
        "# Quando começam e terminam os dados?\n",
        "df.index.min(), df.index.max()"
      ]
    },
    {
      "cell_type": "code",
      "execution_count": 9,
      "metadata": {
        "id": "QKy7RfYnCfKs"
      },
      "outputs": [],
      "source": [
        "df.columns = ['producao']"
      ]
    },
    {
      "cell_type": "code",
      "execution_count": 10,
      "metadata": {
        "colab": {
          "base_uri": "https://localhost:8080/",
          "height": 406
        },
        "id": "OCQ2x63FChuQ",
        "outputId": "086d4158-73aa-43f9-d423-af8507da8212"
      },
      "outputs": [
        {
          "data": {
            "text/plain": [
              "<AxesSubplot:xlabel='DATE'>"
            ]
          },
          "execution_count": 10,
          "metadata": {},
          "output_type": "execute_result"
        },
        {
          "data": {
            "image/png": "[encoded data removed]",
            "text/plain": [
              "<Figure size 720x432 with 1 Axes>"
            ]
          },
          "metadata": {
            "needs_background": "light"
          },
          "output_type": "display_data"
        }
      ],
      "source": [
        "# Vamos dar uma olhada no gráfico de consumo x anos\n",
        "df['producao'].plot(figsize=(10,6))\n"
      ]
    },
    {
      "cell_type": "code",
      "execution_count": 11,
      "metadata": {
        "colab": {
          "base_uri": "https://localhost:8080/",
          "height": 316
        },
        "id": "GvsuwNEJCkaM",
        "outputId": "38df2f2c-3044-4faa-bc41-219c26ebf1a6"
      },
      "outputs": [
        {
          "data": {
            "text/plain": [
              "<Figure size 576x432 with 0 Axes>"
            ]
          },
          "metadata": {},
          "output_type": "display_data"
        },
        {
          "data": {
            "image/png": "[encoded data removed]",
            "text/plain": [
              "<Figure size 432x288 with 4 Axes>"
            ]
          },
          "metadata": {
            "needs_background": "light"
          },
          "output_type": "display_data"
        }
      ],
      "source": [
        "# Primeiro, vamos decompor a série pra avaliar tendência\n",
        "# Sazonalidade e resíduo\n",
        "from statsmodels.tsa.seasonal import seasonal_decompose\n",
        "\n",
        "resultado = seasonal_decompose(df)\n",
        "\n",
        "fig = plt.figure(figsize=(8, 6))  \n",
        "fig = resultado.plot()"
      ]
    },
    {
      "cell_type": "code",
      "execution_count": 12,
      "metadata": {
        "colab": {
          "base_uri": "https://localhost:8080/"
        },
        "id": "dJV78vgkCnHU",
        "outputId": "57cd4e3d-40c1-478f-a487-da9e5d312b62"
      },
      "outputs": [
        {
          "name": "stdout",
          "output_type": "stream",
          "text": [
            "Teste ADF:-2.252399047046594\n",
            "p-valor:0.18777984601967806\n"
          ]
        }
      ],
      "source": [
        "# Teste de estacionariedade. \n",
        "# A hipótese nula é que a série não é estacionária\n",
        "# Ou seja, se o p-valor for menor que 0,05, rejeitamos\n",
        "# que a série não é estacionária. Caso seja maior, não podemos\n",
        "# descartar que a série não é estacionária\n",
        "from statsmodels.tsa.stattools import adfuller\n",
        "\n",
        "result=adfuller(df['producao'].dropna())\n",
        "print(f'Teste ADF:{result[0]}')\n",
        "print(f'p-valor:{result[1]}')"
      ]
    },
    {
      "cell_type": "code",
      "execution_count": 13,
      "metadata": {
        "colab": {
          "base_uri": "https://localhost:8080/"
        },
        "id": "1VWFI9aMCwhv",
        "outputId": "b5b10a0d-7a14-422e-cfcd-cf48c58151d4"
      },
      "outputs": [
        {
          "name": "stdout",
          "output_type": "stream",
          "text": [
            "Teste ADF:-7.450892277526341\n",
            "p-valor:5.67456995585561e-11\n"
          ]
        }
      ],
      "source": [
        "# Teste de estacionariedade. \n",
        "# A hipótese nula é que a série não é estacionária\n",
        "# Ou seja, se o p-valor for menor que 0,05, rejeitamos\n",
        "# que a série não é estacionária. Caso seja maior, não podemos\n",
        "# descartar que a série não é estacionária\n",
        "from statsmodels.tsa.stattools import adfuller\n",
        "\n",
        "result=adfuller(df['producao'].diff().dropna())\n",
        "print(f'Teste ADF:{result[0]}')\n",
        "print(f'p-valor:{result[1]}')"
      ]
    },
    {
      "cell_type": "code",
      "execution_count": 14,
      "metadata": {
        "colab": {
          "base_uri": "https://localhost:8080/"
        },
        "id": "UzLf-ZfQCpvL",
        "outputId": "46b62d6b-c2cc-4457-8e8e-ba0b353eda52"
      },
      "outputs": [
        {
          "name": "stdout",
          "output_type": "stream",
          "text": [
            "Performing stepwise search to minimize aic\n",
            " ARIMA(1,1,1)(1,1,1)[6]             : AIC=1968.148, Time=2.15 sec\n",
            " ARIMA(0,1,0)(0,1,0)[6]             : AIC=2494.965, Time=0.05 sec\n",
            " ARIMA(1,1,0)(1,1,0)[6]             : AIC=2053.701, Time=0.41 sec\n",
            " ARIMA(0,1,1)(0,1,1)[6]             : AIC=2128.799, Time=0.81 sec\n",
            " ARIMA(1,1,1)(0,1,1)[6]             : AIC=2064.883, Time=1.66 sec\n",
            " ARIMA(1,1,1)(1,1,0)[6]             : AIC=inf, Time=1.19 sec\n",
            " ARIMA(1,1,1)(2,1,1)[6]             : AIC=1928.298, Time=2.83 sec\n",
            " ARIMA(1,1,1)(2,1,0)[6]             : AIC=inf, Time=3.23 sec\n",
            " ARIMA(1,1,1)(2,1,2)[6]             : AIC=1868.200, Time=5.18 sec\n",
            " ARIMA(1,1,1)(1,1,2)[6]             : AIC=1866.400, Time=4.61 sec\n",
            " ARIMA(1,1,1)(0,1,2)[6]             : AIC=2014.153, Time=1.95 sec\n",
            " ARIMA(0,1,1)(1,1,2)[6]             : AIC=1916.488, Time=3.15 sec\n",
            " ARIMA(1,1,0)(1,1,2)[6]             : AIC=1936.850, Time=3.36 sec\n",
            " ARIMA(2,1,1)(1,1,2)[6]             : AIC=1868.120, Time=4.17 sec\n",
            " ARIMA(1,1,2)(1,1,2)[6]             : AIC=1867.969, Time=3.65 sec\n",
            " ARIMA(0,1,0)(1,1,2)[6]             : AIC=1955.628, Time=0.93 sec\n",
            " ARIMA(0,1,2)(1,1,2)[6]             : AIC=1874.900, Time=1.88 sec\n",
            " ARIMA(2,1,0)(1,1,2)[6]             : AIC=1910.032, Time=1.92 sec\n",
            " ARIMA(2,1,2)(1,1,2)[6]             : AIC=1867.492, Time=3.87 sec\n",
            " ARIMA(1,1,1)(1,1,2)[6] intercept   : AIC=inf, Time=5.22 sec\n",
            "\n",
            "Best model:  ARIMA(1,1,1)(1,1,2)[6]          \n",
            "Total fit time: 52.252 seconds\n"
          ]
        }
      ],
      "source": [
        "# Auto ARIMA nos ajuda a buscar os melhores parâmetros\n",
        "fit_arima = auto_arima(df, d=1, start_p=1, start_q=1, max_p=3, max_q=3,\n",
        "                    seasonal=True, \n",
        "                           m=6, \n",
        "                           D=1, \n",
        "                           start_P=1, \n",
        "                           start_Q=1, \n",
        "                           max_P=2, \n",
        "                           max_Q=2, \n",
        "                           information_criterion='aic',\n",
        "                           trace=True, \n",
        "                           error_action='ignore', \n",
        "                           stepwise=True)"
      ]
    },
    {
      "cell_type": "code",
      "execution_count": 15,
      "metadata": {
        "colab": {
          "base_uri": "https://localhost:8080/"
        },
        "id": "_QFWbx2pC0YL",
        "outputId": "2a50b4e1-bd31-431f-b175-0d6c30e601d1"
      },
      "outputs": [
        {
          "name": "stderr",
          "output_type": "stream",
          "text": [
            "/home/valdir/anaconda3/envs/dnc/lib/python3.8/site-packages/statsmodels/tsa/base/tsa_model.py:471: ValueWarning: No frequency information was provided, so inferred frequency MS will be used.\n",
            "  self._init_dates(dates, freq)\n",
            "/home/valdir/anaconda3/envs/dnc/lib/python3.8/site-packages/statsmodels/tsa/base/tsa_model.py:471: ValueWarning: No frequency information was provided, so inferred frequency MS will be used.\n",
            "  self._init_dates(dates, freq)\n",
            " This problem is unconstrained.\n"
          ]
        },
        {
          "name": "stdout",
          "output_type": "stream",
          "text": [
            "RUNNING THE L-BFGS-B CODE\n",
            "\n",
            "           * * *\n",
            "\n",
            "Machine precision = 2.220D-16\n",
            " N =            6     M =           10\n",
            "\n",
            "At X0         0 variables are exactly at the bounds\n",
            "\n",
            "At iterate    0    f=  2.68969D+00    |proj g|=  1.36575D-01\n",
            "\n",
            "At iterate    5    f=  2.32533D+00    |proj g|=  2.86408D-02\n",
            "\n",
            "At iterate   10    f=  2.28942D+00    |proj g|=  2.27651D-02\n",
            "\n",
            "At iterate   15    f=  2.28115D+00    |proj g|=  4.27440D-03\n",
            "\n",
            "At iterate   20    f=  2.27269D+00    |proj g|=  3.76831D-03\n",
            "\n",
            "At iterate   25    f=  2.27255D+00    |proj g|=  6.96738D-04\n",
            "\n",
            "           * * *\n",
            "\n",
            "Tit   = total number of iterations\n",
            "Tnf   = total number of function evaluations\n",
            "Tnint = total number of segments explored during Cauchy searches\n",
            "Skip  = number of BFGS updates skipped\n",
            "Nact  = number of active bounds at final generalized Cauchy point\n",
            "Projg = norm of the final projected gradient\n",
            "F     = final function value\n",
            "\n",
            "           * * *\n",
            "\n",
            "   N    Tit     Tnf  Tnint  Skip  Nact     Projg        F\n",
            "    6     27     33      1     0     0   9.694D-06   2.273D+00\n",
            "  F =   2.2725489384153357     \n",
            "\n",
            "CONVERGENCE: NORM_OF_PROJECTED_GRADIENT_<=_PGTOL            \n"
          ]
        }
      ],
      "source": [
        "# Agora que sabemos os melhores parâmetros, vamos criar um modelo SARIMAX \n",
        "# (versão do arima com parametros para sazonalidade)\n",
        "\n",
        "from statsmodels.tsa.statespace.sarimax import SARIMAX\n",
        "\n",
        "model = SARIMAX(df,order=(1,1,1),  seasonal_order=(1, 1, 2, 6))\n",
        "resultado_sarimax = model.fit()"
      ]
    },
    {
      "cell_type": "code",
      "execution_count": 16,
      "metadata": {
        "colab": {
          "base_uri": "https://localhost:8080/",
          "height": 489
        },
        "id": "PTItIS6gC_-q",
        "outputId": "5f7d1194-9487-4b7a-bb58-10e3ef2c4eb5"
      },
      "outputs": [
        {
          "data": {
            "text/html": [
              "<table class=\"simpletable\">\n",
              "<caption>SARIMAX Results</caption>\n",
              "<tr>\n",
              "  <th>Dep. Variable:</th>                <td>producao</td>              <th>  No. Observations:  </th>    <td>408</td>  \n",
              "</tr>\n",
              "<tr>\n",
              "  <th>Model:</th>           <td>SARIMAX(1, 1, 1)x(1, 1, [1, 2], 6)</td> <th>  Log Likelihood     </th> <td>-927.200</td>\n",
              "</tr>\n",
              "<tr>\n",
              "  <th>Date:</th>                     <td>Thu, 08 Jun 2023</td>          <th>  AIC                </th> <td>1866.400</td>\n",
              "</tr>\n",
              "<tr>\n",
              "  <th>Time:</th>                         <td>11:55:11</td>              <th>  BIC                </th> <td>1890.364</td>\n",
              "</tr>\n",
              "<tr>\n",
              "  <th>Sample:</th>                      <td>01-01-1985</td>             <th>  HQIC               </th> <td>1875.889</td>\n",
              "</tr>\n",
              "<tr>\n",
              "  <th></th>                            <td>- 12-01-2018</td>            <th>                     </th>     <td> </td>   \n",
              "</tr>\n",
              "<tr>\n",
              "  <th>Covariance Type:</th>                 <td>opg</td>                <th>                     </th>     <td> </td>   \n",
              "</tr>\n",
              "</table>\n",
              "<table class=\"simpletable\">\n",
              "<tr>\n",
              "      <td></td>        <th>coef</th>     <th>std err</th>      <th>z</th>      <th>P>|z|</th>  <th>[0.025</th>    <th>0.975]</th>  \n",
              "</tr>\n",
              "<tr>\n",
              "  <th>ar.L1</th>    <td>    0.5125</td> <td>    0.042</td> <td>   12.156</td> <td> 0.000</td> <td>    0.430</td> <td>    0.595</td>\n",
              "</tr>\n",
              "<tr>\n",
              "  <th>ma.L1</th>    <td>   -0.9601</td> <td>    0.017</td> <td>  -56.250</td> <td> 0.000</td> <td>   -0.994</td> <td>   -0.927</td>\n",
              "</tr>\n",
              "<tr>\n",
              "  <th>ar.S.L6</th>  <td>   -0.9973</td> <td>    0.003</td> <td> -350.055</td> <td> 0.000</td> <td>   -1.003</td> <td>   -0.992</td>\n",
              "</tr>\n",
              "<tr>\n",
              "  <th>ma.S.L6</th>  <td>    0.1026</td> <td>    0.037</td> <td>    2.775</td> <td> 0.006</td> <td>    0.030</td> <td>    0.175</td>\n",
              "</tr>\n",
              "<tr>\n",
              "  <th>ma.S.L12</th> <td>   -0.7748</td> <td>    0.035</td> <td>  -22.180</td> <td> 0.000</td> <td>   -0.843</td> <td>   -0.706</td>\n",
              "</tr>\n",
              "<tr>\n",
              "  <th>sigma2</th>   <td>    5.6413</td> <td>    0.322</td> <td>   17.544</td> <td> 0.000</td> <td>    5.011</td> <td>    6.272</td>\n",
              "</tr>\n",
              "</table>\n",
              "<table class=\"simpletable\">\n",
              "<tr>\n",
              "  <th>Ljung-Box (L1) (Q):</th>     <td>0.04</td> <th>  Jarque-Bera (JB):  </th> <td>29.17</td>\n",
              "</tr>\n",
              "<tr>\n",
              "  <th>Prob(Q):</th>                <td>0.84</td> <th>  Prob(JB):          </th> <td>0.00</td> \n",
              "</tr>\n",
              "<tr>\n",
              "  <th>Heteroskedasticity (H):</th> <td>2.99</td> <th>  Skew:              </th> <td>-0.18</td>\n",
              "</tr>\n",
              "<tr>\n",
              "  <th>Prob(H) (two-sided):</th>    <td>0.00</td> <th>  Kurtosis:          </th> <td>4.27</td> \n",
              "</tr>\n",
              "</table><br/><br/>Warnings:<br/>[1] Covariance matrix calculated using the outer product of gradients (complex-step)."
            ],
            "text/plain": [
              "<class 'statsmodels.iolib.summary.Summary'>\n",
              "\"\"\"\n",
              "                                       SARIMAX Results                                        \n",
              "==============================================================================================\n",
              "Dep. Variable:                               producao   No. Observations:                  408\n",
              "Model:             SARIMAX(1, 1, 1)x(1, 1, [1, 2], 6)   Log Likelihood                -927.200\n",
              "Date:                                Thu, 08 Jun 2023   AIC                           1866.400\n",
              "Time:                                        11:55:11   BIC                           1890.364\n",
              "Sample:                                    01-01-1985   HQIC                          1875.889\n",
              "                                         - 12-01-2018                                         \n",
              "Covariance Type:                                  opg                                         \n",
              "==============================================================================\n",
              "                 coef    std err          z      P>|z|      [0.025      0.975]\n",
              "------------------------------------------------------------------------------\n",
              "ar.L1          0.5125      0.042     12.156      0.000       0.430       0.595\n",
              "ma.L1         -0.9601      0.017    -56.250      0.000      -0.994      -0.927\n",
              "ar.S.L6       -0.9973      0.003   -350.055      0.000      -1.003      -0.992\n",
              "ma.S.L6        0.1026      0.037      2.775      0.006       0.030       0.175\n",
              "ma.S.L12      -0.7748      0.035    -22.180      0.000      -0.843      -0.706\n",
              "sigma2         5.6413      0.322     17.544      0.000       5.011       6.272\n",
              "===================================================================================\n",
              "Ljung-Box (L1) (Q):                   0.04   Jarque-Bera (JB):                29.17\n",
              "Prob(Q):                              0.84   Prob(JB):                         0.00\n",
              "Heteroskedasticity (H):               2.99   Skew:                            -0.18\n",
              "Prob(H) (two-sided):                  0.00   Kurtosis:                         4.27\n",
              "===================================================================================\n",
              "\n",
              "Warnings:\n",
              "[1] Covariance matrix calculated using the outer product of gradients (complex-step).\n",
              "\"\"\""
            ]
          },
          "execution_count": 16,
          "metadata": {},
          "output_type": "execute_result"
        }
      ],
      "source": [
        "# resultados do modelo SARIMAX(2,1,2)\n",
        "resultado_sarimax.summary()"
      ]
    },
    {
      "cell_type": "code",
      "execution_count": 17,
      "metadata": {
        "id": "LDgs_G3dDA3H"
      },
      "outputs": [],
      "source": [
        "# Vamos realizar um \"backtesting\" com predições de valores dos 12 meses anteriores\n",
        "predicoes = resultado_sarimax.get_prediction(start=-12)\n",
        "predicao_media = predicoes.predicted_mean"
      ]
    },
    {
      "cell_type": "code",
      "execution_count": 18,
      "metadata": {
        "colab": {
          "base_uri": "https://localhost:8080/"
        },
        "id": "zM1qSCVADC-b",
        "outputId": "b78396c6-e5de-470f-90f2-7da065fe70b1"
      },
      "outputs": [
        {
          "data": {
            "text/plain": [
              "(115.1447404570401, 124.45517675290846)"
            ]
          },
          "execution_count": 18,
          "metadata": {},
          "output_type": "execute_result"
        }
      ],
      "source": [
        "# intervalo de confiança\n",
        "\n",
        "intervalo_confianca = predicoes.conf_int()\n",
        "limites_abaixo = intervalo_confianca.iloc[:,0]\n",
        "limites_acima = intervalo_confianca.iloc[:,1]\n",
        "\n",
        "limites_abaixo[0], limites_acima[0]"
      ]
    },
    {
      "cell_type": "code",
      "execution_count": 19,
      "metadata": {
        "colab": {
          "base_uri": "https://localhost:8080/"
        },
        "id": "S9PxXC_iDFGk",
        "outputId": "5465c7fa-2c3b-4615-e8f6-fbaf575a7d7e"
      },
      "outputs": [
        {
          "data": {
            "text/plain": [
              "119.79995860497428"
            ]
          },
          "execution_count": 19,
          "metadata": {},
          "output_type": "execute_result"
        }
      ],
      "source": [
        "predicao_media[0]"
      ]
    },
    {
      "cell_type": "code",
      "execution_count": 20,
      "metadata": {
        "id": "CuFlpkg3DG22"
      },
      "outputs": [],
      "source": [
        "datas_previsao = np.asarray(predicao_media.index)\n",
        "datas = np.asarray(df.index)"
      ]
    },
    {
      "cell_type": "code",
      "execution_count": 21,
      "metadata": {
        "colab": {
          "base_uri": "https://localhost:8080/",
          "height": 374
        },
        "id": "NSJwbZLGDIsh",
        "outputId": "6bc7518a-20b9-4f7c-b793-d023070672bf"
      },
      "outputs": [
        {
          "data": {
            "image/png": "[encoded data removed]",
            "text/plain": [
              "<Figure size 720x432 with 1 Axes>"
            ]
          },
          "metadata": {
            "needs_background": "light"
          },
          "output_type": "display_data"
        }
      ],
      "source": [
        "\n",
        "plt.figure(figsize=(10,6))\n",
        "plt.plot(datas_previsao,predicao_media.values,color='red',label='prediction')\n",
        "plt.fill_between(datas_previsao, limites_abaixo, limites_acima, color='red')\n",
        "plt.plot(datas, df.values, label='real')\n",
        "plt.legend()\n",
        "plt.show()"
      ]
    },
    {
      "cell_type": "code",
      "execution_count": 22,
      "metadata": {
        "colab": {
          "base_uri": "https://localhost:8080/"
        },
        "id": "fsAUCxHADKwo",
        "outputId": "a7b1983f-8195-4820-a9be-99a64f8d25cd"
      },
      "outputs": [
        {
          "name": "stdout",
          "output_type": "stream",
          "text": [
            "3.4262786953866433\n"
          ]
        }
      ],
      "source": [
        "from sklearn.metrics import mean_squared_error\n",
        "from math import sqrt\n",
        "\n",
        "rmse_sarima = sqrt(mean_squared_error(df[-12:].values,predicao_media.values))\n",
        "print(rmse_sarima)"
      ]
    },
    {
      "cell_type": "markdown",
      "metadata": {
        "id": "9joLPoKDDOx6"
      },
      "source": [
        "##FORECAST COM ARIMA"
      ]
    },
    {
      "cell_type": "code",
      "execution_count": 23,
      "metadata": {
        "colab": {
          "base_uri": "https://localhost:8080/"
        },
        "id": "x83eiSikDNAj",
        "outputId": "5d0cc292-e439-4790-cf38-7cb3d22356a0"
      },
      "outputs": [
        {
          "data": {
            "text/plain": [
              "12"
            ]
          },
          "execution_count": 23,
          "metadata": {},
          "output_type": "execute_result"
        }
      ],
      "source": [
        "# Forecast pra 12 values\n",
        "\n",
        "forecast = resultado_sarimax.get_forecast(steps=12)\n",
        "forecast_medio = forecast.predicted_mean\n",
        "forecast_medio.size"
      ]
    },
    {
      "cell_type": "code",
      "execution_count": 24,
      "metadata": {
        "colab": {
          "base_uri": "https://localhost:8080/"
        },
        "id": "Zk1zt_1dDSCS",
        "outputId": "d59970b5-4be2-4194-9534-f7b4045fe592"
      },
      "outputs": [
        {
          "data": {
            "text/plain": [
              "(91.38813005236821, 103.10930985132882)"
            ]
          },
          "execution_count": 24,
          "metadata": {},
          "output_type": "execute_result"
        }
      ],
      "source": [
        "\n",
        "intervalo_confianca_forecast = forecast.conf_int()\n",
        "intervalo_abaixo_f = intervalo_confianca_forecast.iloc[:,0]\n",
        "intervalo_acima_f = intervalo_confianca_forecast.iloc[:,1]\n",
        "\n",
        "intervalo_abaixo_f[10], intervalo_acima_f[10]"
      ]
    },
    {
      "cell_type": "code",
      "execution_count": 25,
      "metadata": {
        "colab": {
          "base_uri": "https://localhost:8080/"
        },
        "id": "gH9PTpBfDURG",
        "outputId": "75e3e5f5-124e-4d5d-d252-9fc73be4af74"
      },
      "outputs": [
        {
          "data": {
            "text/plain": [
              "97.24871995184851"
            ]
          },
          "execution_count": 25,
          "metadata": {},
          "output_type": "execute_result"
        }
      ],
      "source": [
        "forecast_medio[10]"
      ]
    },
    {
      "cell_type": "code",
      "execution_count": 26,
      "metadata": {
        "id": "46ktpJFIDUIl"
      },
      "outputs": [],
      "source": [
        "datas_forecast = np.asarray(forecast_medio.index)\n",
        "pred_dates=np.asarray(predicao_media.index)"
      ]
    },
    {
      "cell_type": "code",
      "execution_count": 27,
      "metadata": {
        "colab": {
          "base_uri": "https://localhost:8080/",
          "height": 374
        },
        "id": "9fpHSby7DYAl",
        "outputId": "fe0f1c39-f7fd-48d2-f143-5836de62e0bc"
      },
      "outputs": [
        {
          "data": {
            "image/png": "[encoded data removed]",
            "text/plain": [
              "<Figure size 720x432 with 1 Axes>"
            ]
          },
          "metadata": {
            "needs_background": "light"
          },
          "output_type": "display_data"
        }
      ],
      "source": [
        "\n",
        "dates=np.asarray(df.index)\n",
        "plt.figure(figsize=(10,6))\n",
        "plt.plot(datas_forecast,forecast_medio.values,color='green',label='forecast')\n",
        "plt.fill_between(datas_forecast, intervalo_abaixo_f, intervalo_acima_f, color='lightgreen')\n",
        "\n",
        "plt.plot(datas_previsao,predicao_media.values,color='red',label='prediction')\n",
        "plt.fill_between(datas_previsao, limites_abaixo, limites_acima, color='pink')\n",
        "\n",
        "plt.plot(dates,df.values, label='real')\n",
        "plt.legend(loc='upper left')\n",
        "plt.show()"
      ]
    },
    {
      "cell_type": "code",
      "execution_count": 28,
      "metadata": {
        "id": "UvBMi0SclBKH"
      },
      "outputs": [],
      "source": [
        "from xgboost import XGBRegressor"
      ]
    },
    {
      "cell_type": "code",
      "execution_count": 29,
      "metadata": {
        "colab": {
          "base_uri": "https://localhost:8080/"
        },
        "id": "j3UROzmb56qg",
        "outputId": "58c177ec-2789-4bb1-a260-22a24127f10b"
      },
      "outputs": [
        {
          "data": {
            "text/plain": [
              "((384, 1), (24, 1))"
            ]
          },
          "execution_count": 29,
          "metadata": {},
          "output_type": "execute_result"
        }
      ],
      "source": [
        "treino = df.loc[df.index < \"2016-12-31\"]\n",
        "validacao = df.loc[df.index > \"2016-12-31\"]\n",
        "\n",
        "treino.shape, validacao.shape"
      ]
    },
    {
      "cell_type": "code",
      "execution_count": 30,
      "metadata": {
        "colab": {
          "base_uri": "https://localhost:8080/",
          "height": 237
        },
        "id": "uLgmtLQP6PNQ",
        "outputId": "a8d7b75d-a824-45d1-82a2-8aca52606fbe"
      },
      "outputs": [
        {
          "data": {
            "text/html": [
              "<div>\n",
              "<style scoped>\n",
              "    .dataframe tbody tr th:only-of-type {\n",
              "        vertical-align: middle;\n",
              "    }\n",
              "\n",
              "    .dataframe tbody tr th {\n",
              "        vertical-align: top;\n",
              "    }\n",
              "\n",
              "    .dataframe thead th {\n",
              "        text-align: right;\n",
              "    }\n",
              "</style>\n",
              "<table border=\"1\" class=\"dataframe\">\n",
              "  <thead>\n",
              "    <tr style=\"text-align: right;\">\n",
              "      <th></th>\n",
              "      <th>producao</th>\n",
              "    </tr>\n",
              "    <tr>\n",
              "      <th>DATE</th>\n",
              "      <th></th>\n",
              "    </tr>\n",
              "  </thead>\n",
              "  <tbody>\n",
              "    <tr>\n",
              "      <th>1985-01-01</th>\n",
              "      <td>71.5920</td>\n",
              "    </tr>\n",
              "    <tr>\n",
              "      <th>1985-02-01</th>\n",
              "      <td>69.7870</td>\n",
              "    </tr>\n",
              "    <tr>\n",
              "      <th>1985-03-01</th>\n",
              "      <td>61.6790</td>\n",
              "    </tr>\n",
              "    <tr>\n",
              "      <th>1985-04-01</th>\n",
              "      <td>56.7479</td>\n",
              "    </tr>\n",
              "    <tr>\n",
              "      <th>1985-05-01</th>\n",
              "      <td>54.6165</td>\n",
              "    </tr>\n",
              "  </tbody>\n",
              "</table>\n",
              "</div>"
            ],
            "text/plain": [
              "            producao\n",
              "DATE                \n",
              "1985-01-01   71.5920\n",
              "1985-02-01   69.7870\n",
              "1985-03-01   61.6790\n",
              "1985-04-01   56.7479\n",
              "1985-05-01   54.6165"
            ]
          },
          "execution_count": 30,
          "metadata": {},
          "output_type": "execute_result"
        }
      ],
      "source": [
        "treino.head()"
      ]
    },
    {
      "cell_type": "code",
      "execution_count": 31,
      "metadata": {
        "colab": {
          "base_uri": "https://localhost:8080/",
          "height": 347
        },
        "id": "Zdj7tChM6SUn",
        "outputId": "fad17a09-9c6d-4a8c-eae9-5c4c4a00f97a"
      },
      "outputs": [
        {
          "name": "stderr",
          "output_type": "stream",
          "text": [
            "/tmp/ipykernel_25301/2982848084.py:1: SettingWithCopyWarning: \n",
            "A value is trying to be set on a copy of a slice from a DataFrame.\n",
            "Try using .loc[row_indexer,col_indexer] = value instead\n",
            "\n",
            "See the caveats in the documentation: https://pandas.pydata.org/pandas-docs/stable/user_guide/indexing.html#returning-a-view-versus-a-copy\n",
            "  treino[\"target\"] = treino[\"producao\"].shift(-1)\n"
          ]
        },
        {
          "data": {
            "text/html": [
              "<div>\n",
              "<style scoped>\n",
              "    .dataframe tbody tr th:only-of-type {\n",
              "        vertical-align: middle;\n",
              "    }\n",
              "\n",
              "    .dataframe tbody tr th {\n",
              "        vertical-align: top;\n",
              "    }\n",
              "\n",
              "    .dataframe thead th {\n",
              "        text-align: right;\n",
              "    }\n",
              "</style>\n",
              "<table border=\"1\" class=\"dataframe\">\n",
              "  <thead>\n",
              "    <tr style=\"text-align: right;\">\n",
              "      <th></th>\n",
              "      <th>producao</th>\n",
              "      <th>target</th>\n",
              "    </tr>\n",
              "    <tr>\n",
              "      <th>DATE</th>\n",
              "      <th></th>\n",
              "      <th></th>\n",
              "    </tr>\n",
              "  </thead>\n",
              "  <tbody>\n",
              "    <tr>\n",
              "      <th>1985-01-01</th>\n",
              "      <td>71.5920</td>\n",
              "      <td>69.7870</td>\n",
              "    </tr>\n",
              "    <tr>\n",
              "      <th>1985-02-01</th>\n",
              "      <td>69.7870</td>\n",
              "      <td>61.6790</td>\n",
              "    </tr>\n",
              "    <tr>\n",
              "      <th>1985-03-01</th>\n",
              "      <td>61.6790</td>\n",
              "      <td>56.7479</td>\n",
              "    </tr>\n",
              "    <tr>\n",
              "      <th>1985-04-01</th>\n",
              "      <td>56.7479</td>\n",
              "      <td>54.6165</td>\n",
              "    </tr>\n",
              "    <tr>\n",
              "      <th>1985-05-01</th>\n",
              "      <td>54.6165</td>\n",
              "      <td>57.3509</td>\n",
              "    </tr>\n",
              "  </tbody>\n",
              "</table>\n",
              "</div>"
            ],
            "text/plain": [
              "            producao   target\n",
              "DATE                         \n",
              "1985-01-01   71.5920  69.7870\n",
              "1985-02-01   69.7870  61.6790\n",
              "1985-03-01   61.6790  56.7479\n",
              "1985-04-01   56.7479  54.6165\n",
              "1985-05-01   54.6165  57.3509"
            ]
          },
          "execution_count": 31,
          "metadata": {},
          "output_type": "execute_result"
        }
      ],
      "source": [
        "treino[\"target\"] = treino[\"producao\"].shift(-1)\n",
        "treino.head()"
      ]
    },
    {
      "cell_type": "code",
      "execution_count": 32,
      "metadata": {
        "colab": {
          "base_uri": "https://localhost:8080/"
        },
        "id": "8Ix4o5i26qHI",
        "outputId": "89fa5c6d-3eea-42a4-8625-89ff1e444601"
      },
      "outputs": [
        {
          "name": "stderr",
          "output_type": "stream",
          "text": [
            "/tmp/ipykernel_25301/3273225221.py:1: SettingWithCopyWarning: \n",
            "A value is trying to be set on a copy of a slice from a DataFrame\n",
            "\n",
            "See the caveats in the documentation: https://pandas.pydata.org/pandas-docs/stable/user_guide/indexing.html#returning-a-view-versus-a-copy\n",
            "  treino.dropna(inplace=True)\n"
          ]
        }
      ],
      "source": [
        "treino.dropna(inplace=True)"
      ]
    },
    {
      "cell_type": "code",
      "execution_count": 33,
      "metadata": {
        "colab": {
          "base_uri": "https://localhost:8080/",
          "height": 347
        },
        "id": "vdUBm8gP6zns",
        "outputId": "a21aad0f-2eba-4a48-d5a2-1988b540c134"
      },
      "outputs": [
        {
          "name": "stderr",
          "output_type": "stream",
          "text": [
            "/tmp/ipykernel_25301/445988932.py:1: SettingWithCopyWarning: \n",
            "A value is trying to be set on a copy of a slice from a DataFrame.\n",
            "Try using .loc[row_indexer,col_indexer] = value instead\n",
            "\n",
            "See the caveats in the documentation: https://pandas.pydata.org/pandas-docs/stable/user_guide/indexing.html#returning-a-view-versus-a-copy\n",
            "  validacao[\"target\"] = validacao[\"producao\"].shift(-1)\n"
          ]
        },
        {
          "data": {
            "text/html": [
              "<div>\n",
              "<style scoped>\n",
              "    .dataframe tbody tr th:only-of-type {\n",
              "        vertical-align: middle;\n",
              "    }\n",
              "\n",
              "    .dataframe tbody tr th {\n",
              "        vertical-align: top;\n",
              "    }\n",
              "\n",
              "    .dataframe thead th {\n",
              "        text-align: right;\n",
              "    }\n",
              "</style>\n",
              "<table border=\"1\" class=\"dataframe\">\n",
              "  <thead>\n",
              "    <tr style=\"text-align: right;\">\n",
              "      <th></th>\n",
              "      <th>producao</th>\n",
              "      <th>target</th>\n",
              "    </tr>\n",
              "    <tr>\n",
              "      <th>DATE</th>\n",
              "      <th></th>\n",
              "      <th></th>\n",
              "    </tr>\n",
              "  </thead>\n",
              "  <tbody>\n",
              "    <tr>\n",
              "      <th>2017-01-01</th>\n",
              "      <td>114.8282</td>\n",
              "      <td>98.2191</td>\n",
              "    </tr>\n",
              "    <tr>\n",
              "      <th>2017-02-01</th>\n",
              "      <td>98.2191</td>\n",
              "      <td>99.6408</td>\n",
              "    </tr>\n",
              "    <tr>\n",
              "      <th>2017-03-01</th>\n",
              "      <td>99.6408</td>\n",
              "      <td>85.9106</td>\n",
              "    </tr>\n",
              "    <tr>\n",
              "      <th>2017-04-01</th>\n",
              "      <td>85.9106</td>\n",
              "      <td>89.2053</td>\n",
              "    </tr>\n",
              "    <tr>\n",
              "      <th>2017-05-01</th>\n",
              "      <td>89.2053</td>\n",
              "      <td>99.1945</td>\n",
              "    </tr>\n",
              "  </tbody>\n",
              "</table>\n",
              "</div>"
            ],
            "text/plain": [
              "            producao   target\n",
              "DATE                         \n",
              "2017-01-01  114.8282  98.2191\n",
              "2017-02-01   98.2191  99.6408\n",
              "2017-03-01   99.6408  85.9106\n",
              "2017-04-01   85.9106  89.2053\n",
              "2017-05-01   89.2053  99.1945"
            ]
          },
          "execution_count": 33,
          "metadata": {},
          "output_type": "execute_result"
        }
      ],
      "source": [
        "validacao[\"target\"] = validacao[\"producao\"].shift(-1)\n",
        "validacao.head()"
      ]
    },
    {
      "cell_type": "code",
      "execution_count": 34,
      "metadata": {
        "colab": {
          "base_uri": "https://localhost:8080/"
        },
        "id": "LN6dXjrt68a0",
        "outputId": "c2102ed1-803f-4c99-8977-72027ba18b3c"
      },
      "outputs": [
        {
          "name": "stderr",
          "output_type": "stream",
          "text": [
            "/tmp/ipykernel_25301/2352323553.py:1: SettingWithCopyWarning: \n",
            "A value is trying to be set on a copy of a slice from a DataFrame\n",
            "\n",
            "See the caveats in the documentation: https://pandas.pydata.org/pandas-docs/stable/user_guide/indexing.html#returning-a-view-versus-a-copy\n",
            "  validacao.dropna(inplace=True)\n"
          ]
        }
      ],
      "source": [
        "validacao.dropna(inplace=True)"
      ]
    },
    {
      "cell_type": "code",
      "execution_count": 35,
      "metadata": {
        "id": "6SlWOA3c7AW4"
      },
      "outputs": [],
      "source": [
        "x_treino = treino.loc[:, [\"producao\"]].values\n",
        "y_treino = treino.loc[:, [\"target\"]].values\n",
        "x_validacao = validacao.loc[:, [\"producao\"]].values\n",
        "y_validacao = validacao.loc[:, [\"target\"]].values"
      ]
    },
    {
      "cell_type": "code",
      "execution_count": 36,
      "metadata": {
        "colab": {
          "base_uri": "https://localhost:8080/"
        },
        "id": "rHt7oE2J7aDv",
        "outputId": "fee37b12-1cb6-4144-9999-33c095da4db2"
      },
      "outputs": [
        {
          "name": "stdout",
          "output_type": "stream",
          "text": [
            "[11:55:15] WARNING: /workspace/src/objective/regression_obj.cu:152: reg:linear is now deprecated in favor of reg:squarederror.\n"
          ]
        },
        {
          "data": {
            "text/plain": [
              "XGBRegressor()"
            ]
          },
          "execution_count": 36,
          "metadata": {},
          "output_type": "execute_result"
        }
      ],
      "source": [
        "modelo_xgba = XGBRegressor()\n",
        "modelo_xgba.fit(x_treino, y_treino)"
      ]
    },
    {
      "cell_type": "code",
      "execution_count": 37,
      "metadata": {
        "colab": {
          "base_uri": "https://localhost:8080/"
        },
        "id": "aG7AHFpA7mFc",
        "outputId": "66314850-6dcc-4c4b-f84a-3cce0bae0bde"
      },
      "outputs": [
        {
          "data": {
            "text/plain": [
              "producao    114.8282\n",
              "target       98.2191\n",
              "Name: 2017-01-01 00:00:00, dtype: float64"
            ]
          },
          "execution_count": 37,
          "metadata": {},
          "output_type": "execute_result"
        }
      ],
      "source": [
        "validacao.iloc[0]"
      ]
    },
    {
      "cell_type": "code",
      "execution_count": 38,
      "metadata": {
        "colab": {
          "base_uri": "https://localhost:8080/"
        },
        "id": "CdFh5P0x7qDu",
        "outputId": "de5e6b09-76fb-465a-b99c-80bf2c81575a"
      },
      "outputs": [
        {
          "data": {
            "text/plain": [
              "array([104.399086,  95.61575 , 103.10387 ,  85.04508 ,  94.05464 ,\n",
              "        98.045296, 103.522705, 103.06118 ,  96.16103 ,  97.07032 ,\n",
              "        96.16103 , 104.22538 , 110.307556, 102.25154 , 101.48239 ,\n",
              "        93.75535 ,  90.328575, 101.48239 , 111.06515 , 111.06515 ,\n",
              "       101.72752 ,  94.60005 , 101.72752 ], dtype=float32)"
            ]
          },
          "execution_count": 38,
          "metadata": {},
          "output_type": "execute_result"
        }
      ],
      "source": [
        "predicao = modelo_xgba.predict(x_validacao)\n",
        "predicao"
      ]
    },
    {
      "cell_type": "code",
      "execution_count": 39,
      "metadata": {
        "colab": {
          "base_uri": "https://localhost:8080/",
          "height": 347
        },
        "id": "Pu9LseV67yYX",
        "outputId": "6ed6dc4b-a65a-498a-bbdb-96edb6a1798e"
      },
      "outputs": [
        {
          "name": "stderr",
          "output_type": "stream",
          "text": [
            "/tmp/ipykernel_25301/272540517.py:1: SettingWithCopyWarning: \n",
            "A value is trying to be set on a copy of a slice from a DataFrame.\n",
            "Try using .loc[row_indexer,col_indexer] = value instead\n",
            "\n",
            "See the caveats in the documentation: https://pandas.pydata.org/pandas-docs/stable/user_guide/indexing.html#returning-a-view-versus-a-copy\n",
            "  validacao[\"pred\"] = predicao\n"
          ]
        },
        {
          "data": {
            "text/html": [
              "<div>\n",
              "<style scoped>\n",
              "    .dataframe tbody tr th:only-of-type {\n",
              "        vertical-align: middle;\n",
              "    }\n",
              "\n",
              "    .dataframe tbody tr th {\n",
              "        vertical-align: top;\n",
              "    }\n",
              "\n",
              "    .dataframe thead th {\n",
              "        text-align: right;\n",
              "    }\n",
              "</style>\n",
              "<table border=\"1\" class=\"dataframe\">\n",
              "  <thead>\n",
              "    <tr style=\"text-align: right;\">\n",
              "      <th></th>\n",
              "      <th>producao</th>\n",
              "      <th>target</th>\n",
              "      <th>pred</th>\n",
              "    </tr>\n",
              "    <tr>\n",
              "      <th>DATE</th>\n",
              "      <th></th>\n",
              "      <th></th>\n",
              "      <th></th>\n",
              "    </tr>\n",
              "  </thead>\n",
              "  <tbody>\n",
              "    <tr>\n",
              "      <th>2017-01-01</th>\n",
              "      <td>114.8282</td>\n",
              "      <td>98.2191</td>\n",
              "      <td>104.399086</td>\n",
              "    </tr>\n",
              "    <tr>\n",
              "      <th>2017-02-01</th>\n",
              "      <td>98.2191</td>\n",
              "      <td>99.6408</td>\n",
              "      <td>95.615753</td>\n",
              "    </tr>\n",
              "    <tr>\n",
              "      <th>2017-03-01</th>\n",
              "      <td>99.6408</td>\n",
              "      <td>85.9106</td>\n",
              "      <td>103.103867</td>\n",
              "    </tr>\n",
              "    <tr>\n",
              "      <th>2017-04-01</th>\n",
              "      <td>85.9106</td>\n",
              "      <td>89.2053</td>\n",
              "      <td>85.045082</td>\n",
              "    </tr>\n",
              "    <tr>\n",
              "      <th>2017-05-01</th>\n",
              "      <td>89.2053</td>\n",
              "      <td>99.1945</td>\n",
              "      <td>94.054642</td>\n",
              "    </tr>\n",
              "  </tbody>\n",
              "</table>\n",
              "</div>"
            ],
            "text/plain": [
              "            producao   target        pred\n",
              "DATE                                     \n",
              "2017-01-01  114.8282  98.2191  104.399086\n",
              "2017-02-01   98.2191  99.6408   95.615753\n",
              "2017-03-01   99.6408  85.9106  103.103867\n",
              "2017-04-01   85.9106  89.2053   85.045082\n",
              "2017-05-01   89.2053  99.1945   94.054642"
            ]
          },
          "execution_count": 39,
          "metadata": {},
          "output_type": "execute_result"
        }
      ],
      "source": [
        "validacao[\"pred\"] = predicao\n",
        "validacao.head()"
      ]
    },
    {
      "cell_type": "code",
      "execution_count": 40,
      "metadata": {
        "colab": {
          "base_uri": "https://localhost:8080/"
        },
        "id": "05sQlrgV74MW",
        "outputId": "04f20ba4-2154-4844-9f86-482a9714577e"
      },
      "outputs": [
        {
          "data": {
            "text/plain": [
              "3.586096144701088"
            ]
          },
          "execution_count": 40,
          "metadata": {},
          "output_type": "execute_result"
        }
      ],
      "source": [
        "from sklearn.metrics import mean_absolute_error\n",
        "mean_absolute_error(x_validacao, predicao)"
      ]
    },
    {
      "cell_type": "code",
      "execution_count": null,
      "metadata": {
        "id": "HTCEBOCs8BxH"
      },
      "outputs": [],
      "source": []
    }
  ],
  "metadata": {
    "colab": {
      "collapsed_sections": [],
      "provenance": []
    },
    "kernelspec": {
      "display_name": "Python 3",
      "name": "python3"
    },
    "language_info": {
      "codemirror_mode": {
        "name": "ipython",
        "version": 3
      },
      "file_extension": ".py",
      "mimetype": "text/x-python",
      "name": "python",
      "nbconvert_exporter": "python",
      "pygments_lexer": "ipython3",
      "version": "3.8.16"
    }
  },
  "nbformat": 4,
  "nbformat_minor": 0
}
