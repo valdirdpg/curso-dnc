{
 "cells": [
  {
   "cell_type": "markdown",
   "metadata": {},
   "source": [
    "# SME0822 Análise Multivariada e Aprendizado não-Supervisionado\n",
    "\n",
    "Por Cibele Russo - ICMC USP\n",
    "\n",
    "## Aula 5b: Aplicações em Python de testes de hipóteses para o vetor de médias\n",
    "\n",
    "- Testes de hipóteses para a média populacional (multidimensional)\n",
    "- Testes para a comparação de médias populacionais em amostras independentes\n",
    "- Testes para a comparação de médias populacionais em amostras correlacionadas\n"
   ]
  },
  {
   "cell_type": "markdown",
   "metadata": {},
   "source": [
    "## Testes de hipóteses para a média (multidimensional)"
   ]
  },
  {
   "cell_type": "markdown",
   "metadata": {},
   "source": [
    "Seja $\\underline{X}_1,\\ldots,\\underline{X}_n$ uma amostra aleatória de uma distribuição normal p-variada com vetor de médias $\\underline{\\mu}$ e matriz de variâncias e covariâncias $\\Sigma$. Sejam $\\overline{\\underline{X}}$ e $S$ o vetor de médias amostrais e a matriz de variâncias e covariâncias amostrais.\n",
    "\t\t\t\n",
    "Queremos avaliar se\n",
    "\t\t\t\n",
    "$$\\begin{array}{l}H_0:\\underline{\\mu}=\\underline{\\mu}_0\\mbox{ contra }\\\\H_1:\\underline{\\mu}\\neq\\underline{\\mu}_0.\\end{array}$$ \n",
    "\t\t\n",
    "\n",
    "Temos que\n",
    "\n",
    "\n",
    "1. $\\overline{\\underline{X}}\\sim  N_p\\left(\\underline{\\mu},\\displaystyle\\frac{\\Sigma}{n}\\right)$.\n",
    "2. $(n-1)S\\sim Wishart(n-1)$.\n",
    "3. $\\overline{\\underline{X}}$ e $S$ são independentes. \n",
    "\n",
    "\n",
    "\n",
    "Sob $H_0$,  a estatística $T^2$ de Hotelling\n",
    "$$T^2 = \\sqrt{n}(\\overline{\\underline{X}}-\\underline{\\mu}_0)^\\top \\displaystyle\\left(\\frac{(n-1)S}{n-1}^{-1}\\right)\\sqrt{n}(\\overline{\\underline{X}}-\\underline{\\mu}_0)\\sim \\displaystyle\\frac{(n-1)p}{n-p}F_{p,n-p}$$     \n",
    "     \n",
    "\n",
    "\n",
    "\n",
    "\n",
    "\n"
   ]
  },
  {
   "cell_type": "markdown",
   "metadata": {},
   "source": [
    "### Exemplo: dados banco.csv"
   ]
  },
  {
   "cell_type": "markdown",
   "metadata": {},
   "source": [
    "O arquivo banco.csv, disponível no E-disciplinas, mostra dados de todos os clientes de um banco de acordo com a descrição a seguir.\n",
    "\n",
    "- Sexo (1: Feminino, 0: Masculino);\n",
    "- Idade (em anos);\n",
    "- CartaodeCredito (1: Sim, 0: Não);\n",
    "- ChequeEspecial (1: Sim, 0: Não);\n",
    "- Renda (mensal, em reais);\n",
    "- LimiteCartaodeCredito (em reais);\n",
    "- LimiteChequeEspecial (em reais);\n",
    "- Devedor (1: Sim, 0: Não);\n",
    "- SaldoDevedor (em reais).\n",
    "\n",
    "\n"
   ]
  },
  {
   "cell_type": "markdown",
   "metadata": {},
   "source": [
    "**Exercício 1**\n",
    "\n",
    "1. Considere uma amostra de tamanho 100. \n",
    "2. Teste se o vetor de médias pode ser considerado $\\underline{\\mu}_0=(0.3, 30, 0.48, 0.43, 3000, 2100, 1240, 0.28, 2150)^T$ usando a amostra.\n",
    "3. Verifique se  $\\underline{\\mu}_0$ está na região de confiança de $\\underline{\\mu}$."
   ]
  },
  {
   "cell_type": "code",
   "execution_count": 1,
   "metadata": {},
   "outputs": [],
   "source": [
    "import numpy as np\n",
    "import pandas as pd\n",
    "import matplotlib.pyplot as plt"
   ]
  },
  {
   "cell_type": "code",
   "execution_count": 2,
   "metadata": {},
   "outputs": [],
   "source": [
    "import random\n",
    "\n",
    "random.seed(123)"
   ]
  },
  {
   "cell_type": "code",
   "execution_count": 3,
   "metadata": {},
   "outputs": [],
   "source": [
    "df = pd.read_csv('https://edisciplinas.usp.br/mod/resource/view.php?id=3179488', decimal=',',sep=',', index_col=0)"
   ]
  },
  {
   "cell_type": "code",
   "execution_count": 4,
   "metadata": {},
   "outputs": [
    {
     "data": {
      "text/html": [
       "<div>\n",
       "<style scoped>\n",
       "    .dataframe tbody tr th:only-of-type {\n",
       "        vertical-align: middle;\n",
       "    }\n",
       "\n",
       "    .dataframe tbody tr th {\n",
       "        vertical-align: top;\n",
       "    }\n",
       "\n",
       "    .dataframe thead th {\n",
       "        text-align: right;\n",
       "    }\n",
       "</style>\n",
       "<table border=\"1\" class=\"dataframe\">\n",
       "  <thead>\n",
       "    <tr style=\"text-align: right;\">\n",
       "      <th></th>\n",
       "      <th>Sexo</th>\n",
       "      <th>Idade</th>\n",
       "      <th>CartaodeCredito</th>\n",
       "      <th>ChequeEspecial</th>\n",
       "      <th>Renda</th>\n",
       "      <th>LimiteCartaodeCredito</th>\n",
       "      <th>LimiteChequeEspecial</th>\n",
       "      <th>Devedor</th>\n",
       "      <th>SaldoDevedor</th>\n",
       "    </tr>\n",
       "    <tr>\n",
       "      <th>ID</th>\n",
       "      <th></th>\n",
       "      <th></th>\n",
       "      <th></th>\n",
       "      <th></th>\n",
       "      <th></th>\n",
       "      <th></th>\n",
       "      <th></th>\n",
       "      <th></th>\n",
       "      <th></th>\n",
       "    </tr>\n",
       "  </thead>\n",
       "  <tbody>\n",
       "    <tr>\n",
       "      <th>1</th>\n",
       "      <td>0</td>\n",
       "      <td>26</td>\n",
       "      <td>0</td>\n",
       "      <td>0</td>\n",
       "      <td>2471.51</td>\n",
       "      <td>0.00</td>\n",
       "      <td>0.00</td>\n",
       "      <td>0.0</td>\n",
       "      <td>0.00</td>\n",
       "    </tr>\n",
       "    <tr>\n",
       "      <th>2</th>\n",
       "      <td>1</td>\n",
       "      <td>25</td>\n",
       "      <td>1</td>\n",
       "      <td>1</td>\n",
       "      <td>2781.90</td>\n",
       "      <td>4172.85</td>\n",
       "      <td>2781.90</td>\n",
       "      <td>0.0</td>\n",
       "      <td>0.00</td>\n",
       "    </tr>\n",
       "    <tr>\n",
       "      <th>3</th>\n",
       "      <td>0</td>\n",
       "      <td>29</td>\n",
       "      <td>0</td>\n",
       "      <td>0</td>\n",
       "      <td>2567.38</td>\n",
       "      <td>0.00</td>\n",
       "      <td>0.00</td>\n",
       "      <td>0.0</td>\n",
       "      <td>0.00</td>\n",
       "    </tr>\n",
       "    <tr>\n",
       "      <th>4</th>\n",
       "      <td>1</td>\n",
       "      <td>29</td>\n",
       "      <td>1</td>\n",
       "      <td>0</td>\n",
       "      <td>3329.50</td>\n",
       "      <td>4994.24</td>\n",
       "      <td>0.00</td>\n",
       "      <td>0.0</td>\n",
       "      <td>0.00</td>\n",
       "    </tr>\n",
       "    <tr>\n",
       "      <th>5</th>\n",
       "      <td>1</td>\n",
       "      <td>19</td>\n",
       "      <td>0</td>\n",
       "      <td>1</td>\n",
       "      <td>2074.08</td>\n",
       "      <td>0.00</td>\n",
       "      <td>2074.08</td>\n",
       "      <td>1.0</td>\n",
       "      <td>5887.33</td>\n",
       "    </tr>\n",
       "  </tbody>\n",
       "</table>\n",
       "</div>"
      ],
      "text/plain": [
       "    Sexo  Idade  CartaodeCredito  ChequeEspecial    Renda  \\\n",
       "ID                                                          \n",
       "1      0     26                0               0  2471.51   \n",
       "2      1     25                1               1  2781.90   \n",
       "3      0     29                0               0  2567.38   \n",
       "4      1     29                1               0  3329.50   \n",
       "5      1     19                0               1  2074.08   \n",
       "\n",
       "    LimiteCartaodeCredito  LimiteChequeEspecial  Devedor  SaldoDevedor  \n",
       "ID                                                                      \n",
       "1                    0.00                  0.00      0.0          0.00  \n",
       "2                 4172.85               2781.90      0.0          0.00  \n",
       "3                    0.00                  0.00      0.0          0.00  \n",
       "4                 4994.24                  0.00      0.0          0.00  \n",
       "5                    0.00               2074.08      1.0       5887.33  "
      ]
     },
     "execution_count": 4,
     "metadata": {},
     "output_type": "execute_result"
    }
   ],
   "source": [
    "df.head()"
   ]
  },
  {
   "cell_type": "code",
   "execution_count": 5,
   "metadata": {},
   "outputs": [],
   "source": [
    "# Documentação: https://docs.scipy.org/doc/scipy/reference/generated/scipy.stats.f.html\n",
    "\n",
    "from scipy.stats import f\n"
   ]
  },
  {
   "cell_type": "code",
   "execution_count": 6,
   "metadata": {},
   "outputs": [],
   "source": [
    "def T2Hotelling(df, mu0, n, p):\n",
    "    Xbarra=df.mean()\n",
    "    S = df.cov()\n",
    "    S_inv = np.linalg.inv(S)\n",
    "    T2Hotelling = n*np.array(Xbarra-mu0).T.dot(S_inv).dot(np.array(Xbarra-mu0))\n",
    "    qf = f.ppf(0.95, p , n-p, loc=0, scale=1)\n",
    "    teste = T2Hotelling > (n-1) * p / (n-p) * qf\n",
    "    pvalor = 1-f.cdf(T2Hotelling/((n-1) * p / (n-p) ), p, n-p)\n",
    "    print('Rejeitamos H0') if teste else print('Não rejeitamos H0')\n",
    "    print('Valor da estatística', T2Hotelling)\n",
    "    print('valor p', pvalor)\n",
    "    "
   ]
  },
  {
   "cell_type": "code",
   "execution_count": 7,
   "metadata": {},
   "outputs": [],
   "source": [
    "df_amostra = df.sample(100)"
   ]
  },
  {
   "cell_type": "code",
   "execution_count": 8,
   "metadata": {},
   "outputs": [
    {
     "name": "stdout",
     "output_type": "stream",
     "text": [
      "Não rejeitamos H0\n",
      "Valor da estatística 14.271963352833856\n",
      "valor p 0.1758534221481306\n"
     ]
    }
   ],
   "source": [
    "mu0 = [0.3, 30, 0.48, 0.43, 3000, 2100, 1240, 0.28, 2150]\n",
    "n=len(df_amostra)\n",
    "p=len(df_amostra.columns)\n",
    "\n",
    "T2Hotelling(df_amostra, mu0, n, p)"
   ]
  },
  {
   "cell_type": "code",
   "execution_count": 11,
   "metadata": {},
   "outputs": [
    {
     "data": {
      "text/plain": [
       "Sexo                        0.3100\n",
       "Idade                      30.2300\n",
       "CartaodeCredito             0.5100\n",
       "ChequeEspecial              0.4000\n",
       "Renda                    2987.6827\n",
       "LimiteCartaodeCredito    2297.4788\n",
       "LimiteChequeEspecial     1190.2413\n",
       "Devedor                     0.2800\n",
       "SaldoDevedor             2948.8496\n",
       "dtype: float64"
      ]
     },
     "execution_count": 11,
     "metadata": {},
     "output_type": "execute_result"
    }
   ],
   "source": [
    "df_amostra.mean()"
   ]
  },
  {
   "cell_type": "markdown",
   "metadata": {},
   "source": [
    "**Região de confiança**"
   ]
  },
  {
   "cell_type": "code",
   "execution_count": 14,
   "metadata": {},
   "outputs": [
    {
     "name": "stdout",
     "output_type": "stream",
     "text": [
      "Resultado: mu0 está na região de confiança de mu\n"
     ]
    }
   ],
   "source": [
    "Xbarra = df_amostra.mean()\n",
    "mu0 = [0.3, 30, 0.48, 0.43, 3000, 2100, 1240, 0.28, 2150]\n",
    "S_inv = np.linalg.inv(df_amostra.cov())\n",
    "n = len(df_amostra)\n",
    "\n",
    "Teste = n*np.array(Xbarra-mu0).T.dot(S_inv).dot(np.array(Xbarra-mu0)) < (n-1) * p / (n-p) * f.ppf(0.95, p , n-p, loc=0, scale=1)\n",
    "\n",
    "print('Resultado: mu0 está na região de confiança de mu') if(Teste) else print('Resultado: mu0 não está na região de confiança de mu')\n",
    "    "
   ]
  },
  {
   "cell_type": "markdown",
   "metadata": {},
   "source": [
    "## Testes de hipóteses para a comparação de médias em amostras independentes"
   ]
  },
  {
   "cell_type": "markdown",
   "metadata": {},
   "source": [
    "Sejam \n",
    "\n",
    "- $\\underline{X}_{11},\\ldots,\\underline{X}_{1n_1}$ vetores aleatórios $p\\times 1$ referentes a uma população com  $E(\\underline{X}_{1j})=\\underline{\\mu}_1$ para $j=1,\\ldots,n_1$,\n",
    "- $\\underline{X}_{21},\\ldots,\\underline{X}_{2n_2}$ vetores aleatórios $p\\times 1$ referentes a uma população com  $E(\\underline{X}_{2j})=\\underline{\\mu}_2$ para $j=1,\\ldots,n_2$,\n",
    "\n",
    "supondo que a população 1 é independente da população 2.\n",
    "\n",
    "\n",
    "Deseja-se avaliar as hipóteses \n",
    "\n",
    "$\\begin{array}{l}H_0:\\underline{\\mu}_1=\\underline{\\mu}_2\\mbox{ contra }\\\\H_1:\\underline{\\mu}_1\\neq\\underline{\\mu}_2\\end{array}$\n",
    "\n",
    "Primeiramente, consideramos um estimador para $\\Sigma$, por exemplo\n",
    "\t\t\t   \n",
    "$S= S_{pooled} = \\displaystyle\\frac{\\displaystyle\\sum_{j=1}^{n_1} (\\underline{X}_{1j}-\\overline{\\underline{X}}_1)(\\underline{X}_{1j}-\\overline{\\underline{X}}_1)^\\top + \\displaystyle\\sum_{j=1}^{n_2}(\\underline{X}_{2j}-\\overline{\\underline{X}}_2)(\\underline{X}_{2j}-\\overline{\\underline{X}}_2)^\\top}{n_1+n_2-2}$\n",
    "\t\t\t\n",
    "ou seja\n",
    "\t\t\t\n",
    "$S_{pooled} = \\displaystyle\\frac{(n_1-1)S_1 + (n_2-1)S_2}{n_1+n_2-2}$\n",
    "\t\t\t\n"
   ]
  },
  {
   "cell_type": "markdown",
   "metadata": {},
   "source": [
    "\t\t\t\n",
    "Então, reescrevemos as hipóteses de interesse na forma mais geral\n",
    "\t\t\t\n",
    "$\\begin{array}{l}H_0:\\underline{\\mu}_1-\\underline{\\mu}_2=\\underline{\\delta}_0\\mbox{ contra } \\\\  \\ H_1:\\underline{\\mu}_1-\\underline{\\mu}_2\\neq\\underline{\\delta}_0.\\end{array}$\n",
    "\t\t\t   \n",
    "               \n",
    "e rejeitamos $H_0$ ao nível de significância $\\alpha$ se\n",
    "\n",
    "$T^2_{obs} = (\\overline{\\underline{X}}_1-\\overline{\\underline{X}}_2-\\underline{\\delta}_0)\\left[\\left(\\displaystyle\\frac{1}{n_1}+\\frac{1}{n_2}\\right)S \\right]^{-1}(\\overline{\\underline{X}}_1-\\overline{\\underline{X}}_2-\\underline{\\delta}_0) > c^2$\n",
    "\n",
    "com $c^2 = \\displaystyle\\frac{(n_1+n_2-2)p}{n_1+n_2-p-1} q_{F_{p,n_1+n_2-p-1,\\alpha}}.$\n",
    "\t\t\t\n",
    "            \n",
    "          "
   ]
  },
  {
   "cell_type": "markdown",
   "metadata": {},
   "source": [
    "  \n",
    "Se as hipóteses de interesse são\n",
    "\n",
    "\t\t\t\n",
    "$\\begin{array}{l}H_0:\\underline{\\mu}_1=\\underline{\\mu}_2\\mbox{ contra } \\ H_1:\\underline{\\mu}_1\\neq\\underline{\\mu}_2\\end{array}$\n",
    "\t\t\t   \n",
    "               \n",
    "então a estatística se simplifica, sob $H_0$, em\n",
    "\t\t\t\n",
    "            \n",
    "$T^2 =  ( \\overline{\\underline{X}}_1 - \\overline{\\underline{X}}_2 )^\\top \\displaystyle\\frac{S_{pooled}^{-1}}{n_1+n_2-2 }  ( \\overline{\\underline{X}}_1 - \\overline{\\underline{X}}_2 ) \\sim \\displaystyle\\frac{(n_1+n_2-2)p}{n_1+n_2-p-1} F_{p,n_1+n_2-p-1}.$                        \n",
    "\t\t"
   ]
  },
  {
   "cell_type": "markdown",
   "metadata": {},
   "source": [
    "**Exercício 2**\n",
    "\n",
    "1. Considere que a primeira população é composta por mulheres e a segunda população é composta por homens. Com base na amostra obtida no Exercício 1, verifique se os vetores de médias podem ser considerados iguais."
   ]
  },
  {
   "cell_type": "markdown",
   "metadata": {},
   "source": [
    "**Médias amostrais**"
   ]
  },
  {
   "cell_type": "code",
   "execution_count": 15,
   "metadata": {},
   "outputs": [
    {
     "data": {
      "text/plain": [
       "Sexo                        0.000000\n",
       "Idade                      30.579710\n",
       "CartaodeCredito             0.376812\n",
       "ChequeEspecial              0.188406\n",
       "Renda                    3029.261449\n",
       "LimiteCartaodeCredito    1728.385797\n",
       "LimiteChequeEspecial      587.988841\n",
       "Devedor                     0.362319\n",
       "SaldoDevedor             3241.563043\n",
       "dtype: float64"
      ]
     },
     "execution_count": 15,
     "metadata": {},
     "output_type": "execute_result"
    }
   ],
   "source": [
    "df_amostra[df_amostra['Sexo']==0].mean()"
   ]
  },
  {
   "cell_type": "code",
   "execution_count": 16,
   "metadata": {},
   "outputs": [
    {
     "data": {
      "text/plain": [
       "Sexo                        1.000000\n",
       "Idade                      29.451613\n",
       "CartaodeCredito             0.806452\n",
       "ChequeEspecial              0.870968\n",
       "Renda                    2895.136452\n",
       "LimiteCartaodeCredito    3564.169677\n",
       "LimiteChequeEspecial     2530.738710\n",
       "Devedor                     0.096774\n",
       "SaldoDevedor             2297.326129\n",
       "dtype: float64"
      ]
     },
     "execution_count": 16,
     "metadata": {},
     "output_type": "execute_result"
    }
   ],
   "source": [
    "df_amostra[df_amostra['Sexo']==1].mean()"
   ]
  },
  {
   "cell_type": "code",
   "execution_count": 17,
   "metadata": {},
   "outputs": [
    {
     "data": {
      "image/png": "[encoded data removed]",
      "text/plain": [
       "<Figure size 1440x720 with 2 Axes>"
      ]
     },
     "metadata": {
      "needs_background": "light"
     },
     "output_type": "display_data"
    }
   ],
   "source": [
    "import seaborn as sns\n",
    "\n",
    "corrmat =  df_amostra.corr()\n",
    "corrmat\n",
    "\n",
    "fig, ax = plt.subplots(figsize=(20,10))  \n",
    "sns.heatmap(corrmat, vmax=1., square=False).xaxis.tick_top()"
   ]
  },
  {
   "cell_type": "code",
   "execution_count": 18,
   "metadata": {},
   "outputs": [
    {
     "data": {
      "text/html": [
       "<div>\n",
       "<style scoped>\n",
       "    .dataframe tbody tr th:only-of-type {\n",
       "        vertical-align: middle;\n",
       "    }\n",
       "\n",
       "    .dataframe tbody tr th {\n",
       "        vertical-align: top;\n",
       "    }\n",
       "\n",
       "    .dataframe thead th {\n",
       "        text-align: right;\n",
       "    }\n",
       "</style>\n",
       "<table border=\"1\" class=\"dataframe\">\n",
       "  <thead>\n",
       "    <tr style=\"text-align: right;\">\n",
       "      <th></th>\n",
       "      <th>Idade</th>\n",
       "      <th>CartaodeCredito</th>\n",
       "      <th>ChequeEspecial</th>\n",
       "      <th>Renda</th>\n",
       "      <th>LimiteCartaodeCredito</th>\n",
       "      <th>LimiteChequeEspecial</th>\n",
       "      <th>Devedor</th>\n",
       "    </tr>\n",
       "  </thead>\n",
       "  <tbody>\n",
       "    <tr>\n",
       "      <th>Idade</th>\n",
       "      <td>9.855914</td>\n",
       "      <td>0.090323</td>\n",
       "      <td>0.160215</td>\n",
       "      <td>907.630989</td>\n",
       "      <td>1.573383e+03</td>\n",
       "      <td>1.360068e+03</td>\n",
       "      <td>0.021505</td>\n",
       "    </tr>\n",
       "    <tr>\n",
       "      <th>CartaodeCredito</th>\n",
       "      <td>0.090323</td>\n",
       "      <td>0.161290</td>\n",
       "      <td>-0.025806</td>\n",
       "      <td>42.703290</td>\n",
       "      <td>7.128339e+02</td>\n",
       "      <td>-3.017626e+01</td>\n",
       "      <td>0.019355</td>\n",
       "    </tr>\n",
       "    <tr>\n",
       "      <th>ChequeEspecial</th>\n",
       "      <td>0.160215</td>\n",
       "      <td>-0.025806</td>\n",
       "      <td>0.116129</td>\n",
       "      <td>9.473860</td>\n",
       "      <td>-8.959438e+01</td>\n",
       "      <td>3.374318e+02</td>\n",
       "      <td>-0.020430</td>\n",
       "    </tr>\n",
       "    <tr>\n",
       "      <th>Renda</th>\n",
       "      <td>907.630989</td>\n",
       "      <td>42.703290</td>\n",
       "      <td>9.473860</td>\n",
       "      <td>211575.419397</td>\n",
       "      <td>4.520597e+05</td>\n",
       "      <td>2.349786e+05</td>\n",
       "      <td>17.880688</td>\n",
       "    </tr>\n",
       "    <tr>\n",
       "      <th>LimiteCartaodeCredito</th>\n",
       "      <td>1573.382817</td>\n",
       "      <td>712.833935</td>\n",
       "      <td>-89.594376</td>\n",
       "      <td>452059.749922</td>\n",
       "      <td>3.545414e+06</td>\n",
       "      <td>1.940102e+05</td>\n",
       "      <td>104.674366</td>\n",
       "    </tr>\n",
       "    <tr>\n",
       "      <th>LimiteChequeEspecial</th>\n",
       "      <td>1360.068269</td>\n",
       "      <td>-30.176258</td>\n",
       "      <td>337.431828</td>\n",
       "      <td>234978.626875</td>\n",
       "      <td>1.940102e+05</td>\n",
       "      <td>1.187914e+06</td>\n",
       "      <td>-44.347871</td>\n",
       "    </tr>\n",
       "    <tr>\n",
       "      <th>Devedor</th>\n",
       "      <td>0.021505</td>\n",
       "      <td>0.019355</td>\n",
       "      <td>-0.020430</td>\n",
       "      <td>17.880688</td>\n",
       "      <td>1.046744e+02</td>\n",
       "      <td>-4.434787e+01</td>\n",
       "      <td>0.090323</td>\n",
       "    </tr>\n",
       "  </tbody>\n",
       "</table>\n",
       "</div>"
      ],
      "text/plain": [
       "                             Idade  CartaodeCredito  ChequeEspecial  \\\n",
       "Idade                     9.855914         0.090323        0.160215   \n",
       "CartaodeCredito           0.090323         0.161290       -0.025806   \n",
       "ChequeEspecial            0.160215        -0.025806        0.116129   \n",
       "Renda                   907.630989        42.703290        9.473860   \n",
       "LimiteCartaodeCredito  1573.382817       712.833935      -89.594376   \n",
       "LimiteChequeEspecial   1360.068269       -30.176258      337.431828   \n",
       "Devedor                   0.021505         0.019355       -0.020430   \n",
       "\n",
       "                               Renda  LimiteCartaodeCredito  \\\n",
       "Idade                     907.630989           1.573383e+03   \n",
       "CartaodeCredito            42.703290           7.128339e+02   \n",
       "ChequeEspecial              9.473860          -8.959438e+01   \n",
       "Renda                  211575.419397           4.520597e+05   \n",
       "LimiteCartaodeCredito  452059.749922           3.545414e+06   \n",
       "LimiteChequeEspecial   234978.626875           1.940102e+05   \n",
       "Devedor                    17.880688           1.046744e+02   \n",
       "\n",
       "                       LimiteChequeEspecial     Devedor  \n",
       "Idade                          1.360068e+03    0.021505  \n",
       "CartaodeCredito               -3.017626e+01    0.019355  \n",
       "ChequeEspecial                 3.374318e+02   -0.020430  \n",
       "Renda                          2.349786e+05   17.880688  \n",
       "LimiteCartaodeCredito          1.940102e+05  104.674366  \n",
       "LimiteChequeEspecial           1.187914e+06  -44.347871  \n",
       "Devedor                       -4.434787e+01    0.090323  "
      ]
     },
     "execution_count": 18,
     "metadata": {},
     "output_type": "execute_result"
    }
   ],
   "source": [
    "# Dados mulheres\n",
    "\n",
    "S1 = df_amostra.iloc[:,1:8][df_amostra['Sexo']==1].cov()\n",
    "n1 = len(df_amostra[df_amostra['Sexo']==1])\n",
    "Xbarra1 = df_amostra[df_amostra['Sexo']==1].mean()\n",
    "S1"
   ]
  },
  {
   "cell_type": "code",
   "execution_count": 19,
   "metadata": {},
   "outputs": [
    {
     "data": {
      "text/plain": [
       "31"
      ]
     },
     "execution_count": 19,
     "metadata": {},
     "output_type": "execute_result"
    }
   ],
   "source": [
    "n1"
   ]
  },
  {
   "cell_type": "code",
   "execution_count": 20,
   "metadata": {},
   "outputs": [
    {
     "data": {
      "text/html": [
       "<div>\n",
       "<style scoped>\n",
       "    .dataframe tbody tr th:only-of-type {\n",
       "        vertical-align: middle;\n",
       "    }\n",
       "\n",
       "    .dataframe tbody tr th {\n",
       "        vertical-align: top;\n",
       "    }\n",
       "\n",
       "    .dataframe thead th {\n",
       "        text-align: right;\n",
       "    }\n",
       "</style>\n",
       "<table border=\"1\" class=\"dataframe\">\n",
       "  <thead>\n",
       "    <tr style=\"text-align: right;\">\n",
       "      <th></th>\n",
       "      <th>Idade</th>\n",
       "      <th>CartaodeCredito</th>\n",
       "      <th>ChequeEspecial</th>\n",
       "      <th>Renda</th>\n",
       "      <th>LimiteCartaodeCredito</th>\n",
       "      <th>LimiteChequeEspecial</th>\n",
       "      <th>Devedor</th>\n",
       "    </tr>\n",
       "  </thead>\n",
       "  <tbody>\n",
       "    <tr>\n",
       "      <th>Idade</th>\n",
       "      <td>15.503126</td>\n",
       "      <td>-0.024716</td>\n",
       "      <td>0.028504</td>\n",
       "      <td>1530.500155</td>\n",
       "      <td>7.437871e+02</td>\n",
       "      <td>3.557481e+02</td>\n",
       "      <td>0.041430</td>\n",
       "    </tr>\n",
       "    <tr>\n",
       "      <th>CartaodeCredito</th>\n",
       "      <td>-0.024716</td>\n",
       "      <td>0.238668</td>\n",
       "      <td>0.003039</td>\n",
       "      <td>-6.527132</td>\n",
       "      <td>1.053693e+03</td>\n",
       "      <td>7.902214e+00</td>\n",
       "      <td>0.001473</td>\n",
       "    </tr>\n",
       "    <tr>\n",
       "      <th>ChequeEspecial</th>\n",
       "      <td>0.028504</td>\n",
       "      <td>0.003039</td>\n",
       "      <td>0.150218</td>\n",
       "      <td>2.260385</td>\n",
       "      <td>1.498600e+01</td>\n",
       "      <td>4.464707e+02</td>\n",
       "      <td>0.004352</td>\n",
       "    </tr>\n",
       "    <tr>\n",
       "      <th>Renda</th>\n",
       "      <td>1530.500155</td>\n",
       "      <td>-6.527132</td>\n",
       "      <td>2.260385</td>\n",
       "      <td>240646.349643</td>\n",
       "      <td>1.154767e+05</td>\n",
       "      <td>5.165076e+04</td>\n",
       "      <td>2.773754</td>\n",
       "    </tr>\n",
       "    <tr>\n",
       "      <th>LimiteCartaodeCredito</th>\n",
       "      <td>743.787071</td>\n",
       "      <td>1053.693138</td>\n",
       "      <td>14.986003</td>\n",
       "      <td>115476.659727</td>\n",
       "      <td>4.868377e+06</td>\n",
       "      <td>7.295678e+04</td>\n",
       "      <td>7.124906</td>\n",
       "    </tr>\n",
       "    <tr>\n",
       "      <th>LimiteChequeEspecial</th>\n",
       "      <td>355.748102</td>\n",
       "      <td>7.902214</td>\n",
       "      <td>446.470735</td>\n",
       "      <td>51650.758400</td>\n",
       "      <td>7.295678e+04</td>\n",
       "      <td>1.371908e+06</td>\n",
       "      <td>16.766938</td>\n",
       "    </tr>\n",
       "    <tr>\n",
       "      <th>Devedor</th>\n",
       "      <td>0.041430</td>\n",
       "      <td>0.001473</td>\n",
       "      <td>0.004352</td>\n",
       "      <td>2.773754</td>\n",
       "      <td>7.124906e+00</td>\n",
       "      <td>1.676694e+01</td>\n",
       "      <td>0.193529</td>\n",
       "    </tr>\n",
       "  </tbody>\n",
       "</table>\n",
       "</div>"
      ],
      "text/plain": [
       "                             Idade  CartaodeCredito  ChequeEspecial  \\\n",
       "Idade                    15.503126        -0.024716        0.028504   \n",
       "CartaodeCredito          -0.024716         0.238668        0.003039   \n",
       "ChequeEspecial            0.028504         0.003039        0.150218   \n",
       "Renda                  1530.500155        -6.527132        2.260385   \n",
       "LimiteCartaodeCredito   743.787071      1053.693138       14.986003   \n",
       "LimiteChequeEspecial    355.748102         7.902214      446.470735   \n",
       "Devedor                   0.041430         0.001473        0.004352   \n",
       "\n",
       "                               Renda  LimiteCartaodeCredito  \\\n",
       "Idade                    1530.500155           7.437871e+02   \n",
       "CartaodeCredito            -6.527132           1.053693e+03   \n",
       "ChequeEspecial              2.260385           1.498600e+01   \n",
       "Renda                  240646.349643           1.154767e+05   \n",
       "LimiteCartaodeCredito  115476.659727           4.868377e+06   \n",
       "LimiteChequeEspecial    51650.758400           7.295678e+04   \n",
       "Devedor                     2.773754           7.124906e+00   \n",
       "\n",
       "                       LimiteChequeEspecial    Devedor  \n",
       "Idade                          3.557481e+02   0.041430  \n",
       "CartaodeCredito                7.902214e+00   0.001473  \n",
       "ChequeEspecial                 4.464707e+02   0.004352  \n",
       "Renda                          5.165076e+04   2.773754  \n",
       "LimiteCartaodeCredito          7.295678e+04   7.124906  \n",
       "LimiteChequeEspecial           1.371908e+06  16.766938  \n",
       "Devedor                        1.676694e+01   0.193529  "
      ]
     },
     "execution_count": 20,
     "metadata": {},
     "output_type": "execute_result"
    }
   ],
   "source": [
    "# Dados homens\n",
    "S2 = df.iloc[:,1:8][df['Sexo']==0].cov()\n",
    "n2 = len(df_amostra[df_amostra['Sexo']==0])\n",
    "Xbarra2 = df_amostra[df_amostra['Sexo']==0].mean()\n",
    "S2"
   ]
  },
  {
   "cell_type": "code",
   "execution_count": 21,
   "metadata": {},
   "outputs": [
    {
     "data": {
      "text/plain": [
       "69"
      ]
     },
     "execution_count": 21,
     "metadata": {},
     "output_type": "execute_result"
    }
   ],
   "source": [
    "n2"
   ]
  },
  {
   "cell_type": "code",
   "execution_count": 22,
   "metadata": {},
   "outputs": [
    {
     "data": {
      "text/html": [
       "<div>\n",
       "<style scoped>\n",
       "    .dataframe tbody tr th:only-of-type {\n",
       "        vertical-align: middle;\n",
       "    }\n",
       "\n",
       "    .dataframe tbody tr th {\n",
       "        vertical-align: top;\n",
       "    }\n",
       "\n",
       "    .dataframe thead th {\n",
       "        text-align: right;\n",
       "    }\n",
       "</style>\n",
       "<table border=\"1\" class=\"dataframe\">\n",
       "  <thead>\n",
       "    <tr style=\"text-align: right;\">\n",
       "      <th></th>\n",
       "      <th>Idade</th>\n",
       "      <th>CartaodeCredito</th>\n",
       "      <th>ChequeEspecial</th>\n",
       "      <th>Renda</th>\n",
       "      <th>LimiteCartaodeCredito</th>\n",
       "      <th>LimiteChequeEspecial</th>\n",
       "      <th>Devedor</th>\n",
       "    </tr>\n",
       "  </thead>\n",
       "  <tbody>\n",
       "    <tr>\n",
       "      <th>Idade</th>\n",
       "      <td>13.774387</td>\n",
       "      <td>0.010500</td>\n",
       "      <td>0.068824</td>\n",
       "      <td>1339.825921</td>\n",
       "      <td>9.977450e+02</td>\n",
       "      <td>6.631931e+02</td>\n",
       "      <td>0.035331</td>\n",
       "    </tr>\n",
       "    <tr>\n",
       "      <th>CartaodeCredito</th>\n",
       "      <td>0.010500</td>\n",
       "      <td>0.214981</td>\n",
       "      <td>-0.005791</td>\n",
       "      <td>8.543405</td>\n",
       "      <td>9.493485e+02</td>\n",
       "      <td>-3.754461e+00</td>\n",
       "      <td>0.006947</td>\n",
       "    </tr>\n",
       "    <tr>\n",
       "      <th>ChequeEspecial</th>\n",
       "      <td>0.068824</td>\n",
       "      <td>-0.005791</td>\n",
       "      <td>0.139783</td>\n",
       "      <td>4.468591</td>\n",
       "      <td>-1.702840e+01</td>\n",
       "      <td>4.130915e+02</td>\n",
       "      <td>-0.003235</td>\n",
       "    </tr>\n",
       "    <tr>\n",
       "      <th>Renda</th>\n",
       "      <td>1339.825921</td>\n",
       "      <td>8.543405</td>\n",
       "      <td>4.468591</td>\n",
       "      <td>231747.085282</td>\n",
       "      <td>2.185123e+05</td>\n",
       "      <td>1.077715e+05</td>\n",
       "      <td>7.398325</td>\n",
       "    </tr>\n",
       "    <tr>\n",
       "      <th>LimiteCartaodeCredito</th>\n",
       "      <td>997.744952</td>\n",
       "      <td>949.348484</td>\n",
       "      <td>-17.028399</td>\n",
       "      <td>218512.299583</td>\n",
       "      <td>4.463388e+06</td>\n",
       "      <td>1.100140e+05</td>\n",
       "      <td>36.986985</td>\n",
       "    </tr>\n",
       "    <tr>\n",
       "      <th>LimiteChequeEspecial</th>\n",
       "      <td>663.193051</td>\n",
       "      <td>-3.754461</td>\n",
       "      <td>413.091478</td>\n",
       "      <td>107771.534464</td>\n",
       "      <td>1.100140e+05</td>\n",
       "      <td>1.315583e+06</td>\n",
       "      <td>-1.941677</td>\n",
       "    </tr>\n",
       "    <tr>\n",
       "      <th>Devedor</th>\n",
       "      <td>0.035331</td>\n",
       "      <td>0.006947</td>\n",
       "      <td>-0.003235</td>\n",
       "      <td>7.398325</td>\n",
       "      <td>3.698699e+01</td>\n",
       "      <td>-1.941677e+00</td>\n",
       "      <td>0.161935</td>\n",
       "    </tr>\n",
       "  </tbody>\n",
       "</table>\n",
       "</div>"
      ],
      "text/plain": [
       "                             Idade  CartaodeCredito  ChequeEspecial  \\\n",
       "Idade                    13.774387         0.010500        0.068824   \n",
       "CartaodeCredito           0.010500         0.214981       -0.005791   \n",
       "ChequeEspecial            0.068824        -0.005791        0.139783   \n",
       "Renda                  1339.825921         8.543405        4.468591   \n",
       "LimiteCartaodeCredito   997.744952       949.348484      -17.028399   \n",
       "LimiteChequeEspecial    663.193051        -3.754461      413.091478   \n",
       "Devedor                   0.035331         0.006947       -0.003235   \n",
       "\n",
       "                               Renda  LimiteCartaodeCredito  \\\n",
       "Idade                    1339.825921           9.977450e+02   \n",
       "CartaodeCredito             8.543405           9.493485e+02   \n",
       "ChequeEspecial              4.468591          -1.702840e+01   \n",
       "Renda                  231747.085282           2.185123e+05   \n",
       "LimiteCartaodeCredito  218512.299583           4.463388e+06   \n",
       "LimiteChequeEspecial   107771.534464           1.100140e+05   \n",
       "Devedor                     7.398325           3.698699e+01   \n",
       "\n",
       "                       LimiteChequeEspecial    Devedor  \n",
       "Idade                          6.631931e+02   0.035331  \n",
       "CartaodeCredito               -3.754461e+00   0.006947  \n",
       "ChequeEspecial                 4.130915e+02  -0.003235  \n",
       "Renda                          1.077715e+05   7.398325  \n",
       "LimiteCartaodeCredito          1.100140e+05  36.986985  \n",
       "LimiteChequeEspecial           1.315583e+06  -1.941677  \n",
       "Devedor                       -1.941677e+00   0.161935  "
      ]
     },
     "execution_count": 22,
     "metadata": {},
     "output_type": "execute_result"
    }
   ],
   "source": [
    "S_pooled = ((n1-1)*S1 + (n2-1)*S2)/(n1+n2-2)\n",
    "S_pooled"
   ]
  },
  {
   "cell_type": "code",
   "execution_count": 23,
   "metadata": {},
   "outputs": [],
   "source": [
    "def T2Hotelling_duas_amostras(df1, df2, delta0):\n",
    "    n1 = len(df1)\n",
    "    n2 = len(df2)\n",
    "    p = len(df1.columns)\n",
    "    Xbarra1=df1.mean()\n",
    "    Xbarra2=df2.mean()\n",
    "    S1 = df1.cov()\n",
    "    S2 = df2.cov()\n",
    "    S_pooled = ((n1-1)*S1 + (n2-1)*S2)/(n1+n2-2)\n",
    "    S_pooled_inv = np.linalg.inv(S_pooled)\n",
    "    \n",
    "    T2Hotelling_duas_amostras = np.array(Xbarra1-Xbarra2-delta0).T.dot(S_pooled_inv).dot(np.array(Xbarra1-Xbarra2-delta0)) / (n1+n2-2)\n",
    "    qf = f.ppf(0.95, p , (n1+n2-2), loc=0, scale=1)\n",
    "    teste = T2Hotelling_duas_amostras > (n1+n2-2) * p / (n1+n2-p-1) * qf\n",
    "    pvalor = 1-f.cdf(T2Hotelling_duas_amostras/((n1+n2-2) * p / (n1+n2-p-1) ), p, (n1+n2-2))\n",
    "    print('Rejeitamos H0') if teste else print('Não rejeitamos H0')\n",
    "    print('Valor da estatística', T2Hotelling_duas_amostras)\n",
    "    print('valor p', pvalor)"
   ]
  },
  {
   "cell_type": "code",
   "execution_count": 24,
   "metadata": {},
   "outputs": [
    {
     "name": "stdout",
     "output_type": "stream",
     "text": [
      "Não rejeitamos H0\n",
      "Valor da estatística 0.05027388876482565\n",
      "valor p 0.9999998142670615\n"
     ]
    }
   ],
   "source": [
    "df1 = df_amostra.iloc[:,1:8][df_amostra['Sexo']==1]\n",
    "df2 = df_amostra.iloc[:,1:8][df_amostra['Sexo']==0]\n",
    "\n",
    "delta0 = [0,0,0,0,0,0,0]\n",
    "\n",
    "T2Hotelling_duas_amostras(df1,df2,delta0)\n"
   ]
  },
  {
   "cell_type": "markdown",
   "metadata": {},
   "source": [
    "## Testes de hipóteses para a comparação de médias em amostras correlacionadas\n",
    "\n",
    "Sejam \n",
    "\n",
    "\n",
    "- $\\underline{X}_{11},\\ldots,\\underline{X}_{1n}$ vetores $p\\times 1$ que representam uma amostra aleatória de uma população normal multivariada **antes** de um tratamento com $E(\\underline{X}_{1j})=\\underline{\\mu}_1$ para $j=1,\\ldots,n$,\n",
    "\n",
    "\n",
    "- $\\underline{X}_{21},\\ldots,\\underline{X}_{2n}$ vetores $p\\times 1$ que representam uma amostra aleatória de uma população normal multivariada **após** de um tratamento com $E(\\underline{X}_{2j})=\\underline{\\mu}_2$ para $j=1,\\ldots,n$,\n",
    "\t\t\t   \n",
    "sendo que $\\underline{X}_{11},\\ldots,\\underline{X}_{1n}$ e $\\underline{X}_{21},\\ldots,\\underline{X}_{2n}$ são amostras aleatórias de uma mesma população em diferentes situações, em que $\\underline{X}_{1j}$ e $\\underline{X}_{2j}$ são correlacionadas (por exemplo, vetores aleatórios de medições antes e após um tratamento).\n",
    "\n",
    "\n",
    "Sejam $\\underline{\\mu}_1$ e $\\underline{\\mu}_2$ os vetores de médias em situações 1 e 2, respectivamente. Essas situações podem não ser, necessariamente, antes e após um tratamento, mas são situções que indicam que as amostras estão correlacionadas. \n",
    "\n",
    "\n",
    "Deseja-se testar se não há diferença entre as situações 1 e 2 para verificar, por exemplo, que o tratamento não produz nenhum efeito, ou seja, se $\\underline{\\mu}_1 = \\underline{\\mu}_2$, ou equivalentemente se as médias são iguais em outra situação.\n",
    "\t\t\t   \n",
    "               \n",
    "Para avaliar as hipóteses \n",
    "\n",
    "\n",
    "$\\begin{array}{l}H_0:\\underline{\\mu}_1=\\underline{\\mu}_2\\mbox{ contra }\\\\H_1:\\underline{\\mu}_1\\neq\\underline{\\mu}_2\\end{array}$\n",
    "\t\t\t   \n",
    "vamos considerar as diferenças\n",
    "\t\t\t\n",
    "$\\underline{D}_j =  \\underline{X}_{1j}-\\underline{X}_{2j}.$\n",
    "\t\t\t\n",
    "Assim, $\\underline{D}_1,\\ldots,\\underline{D}_n$ são i.i.d e $\\underline{D}_j\\sim N(\\underline{\\mu}_D, \\Sigma_D)$.\n",
    "\n",
    "Então, avaliamos se \n",
    "\t\t\t\n",
    "\t\t\t\n",
    "$\\begin{array}{l}H_0:\\underline{\\mu}_D=\\underline{0}\\mbox{ contra }\\\\H_1:\\underline{\\mu}_D\\neq\\underline{0}\\end{array}$\n",
    "\t\t\t\n",
    "com a estatística $T^2$ de Hotelling:\n",
    "\t\t\t   \n",
    "$T^2 = n(\\bar{\\underline{D}}-\\underline{0})^\\top S_D^{-1} (\\bar{\\underline{D}}-\\underline{0})\\stackrel{sob \\ H_0}{\\sim} \\displaystyle\\frac{(n-1)p}{n-p}F_{p,n-p},$\n",
    "\n",
    "em que $\\bar{\\underline{D}}$ e $S_D$ são o vetor de médias e a matriz de variâncias e covariâncias amostrais de $\\underline{D}$.\n",
    "\n",
    "\t\t\t\n",
    "\n",
    "Um teste análogo poderia ser desenvolvido para avaliar\n",
    "\t\t\t\n",
    "$\\begin{array}{l}H_0:\\underline{\\mu}_D=\\underline{\\mu}_{D0}\\mbox{ contra }\\\\H_1:\\underline{\\mu}_D\\neq\\underline{\\mu}_{D0}\\end{array}$\n",
    "\t\t\t   \n",
    "com a estatística $T^2$ de Hotelling:\n",
    "\n",
    "$T^2 = n(\\bar{\\underline{D}}-\\underline{\\mu}_{D0})^\\top S_D^{-1} (\\bar{\\underline{D}}-\\underline{\\mu}_{D0})\\stackrel{ sob \\ H_0}{\\sim} \\displaystyle\\frac{(n-1)p}{n-p}F_{p,n-p},$\n",
    "\n",
    "\n",
    "em que $\\bar{\\underline{D}}$ e $S_D$ são o vetor de médias e a matriz de variâncias e covariâncias amostrais de $\\underline{D}$.\n",
    "\n",
    "A região de confiança, com nível de confiança $100(1-\\alpha)\\%$ nesse caso seria \n",
    "\n",
    "$\\{\\underline{\\mu}_D^\\star; n(\\bar{\\underline{D}}-\\underline{\\mu}_{D}^\\star)^\\top S_D^{-1} (\\bar{\\underline{D}}-\\underline{\\mu}_{D}^\\star) \\leq  \\displaystyle\\frac{(n-1)p}{n-p}q_{F_{p,n-p,\\alpha} }\\}$\n",
    "\n",
    "\n",
    "em que $\\bar{\\underline{D}}$ e $S_D$ são o vetor de médias e a matriz de variâncias e covariâncias amostrais de $\\underline{D}$.\n",
    "\t\t\t            \n",
    "            \n",
    "            "
   ]
  },
  {
   "cell_type": "markdown",
   "metadata": {},
   "source": [
    "### Simulação: Amostras pareadas"
   ]
  },
  {
   "cell_type": "code",
   "execution_count": 32,
   "metadata": {},
   "outputs": [],
   "source": [
    "mean = [0, 0, 0]\n",
    "mean1 = [1, 0, 0]\n",
    "\n",
    "cov1 = [[2,1,0],[1,3,1],[0,1,4]]  \n",
    "cov2 = [[0.01,0,0],[0,0.01,0],[0,0,0.01]]\n",
    "\n",
    "X1 = np.random.multivariate_normal(mean, cov1, 50)\n",
    "X2 = X1 + np.random.multivariate_normal(mean1, cov2, 50)"
   ]
  },
  {
   "cell_type": "code",
   "execution_count": 33,
   "metadata": {},
   "outputs": [
    {
     "data": {
      "text/plain": [
       "(50, 6)"
      ]
     },
     "execution_count": 33,
     "metadata": {},
     "output_type": "execute_result"
    }
   ],
   "source": [
    "X = np.concatenate((X1,X2), axis=1)\n",
    "X.shape"
   ]
  },
  {
   "cell_type": "code",
   "execution_count": 35,
   "metadata": {},
   "outputs": [
    {
     "data": {
      "text/html": [
       "<div>\n",
       "<style scoped>\n",
       "    .dataframe tbody tr th:only-of-type {\n",
       "        vertical-align: middle;\n",
       "    }\n",
       "\n",
       "    .dataframe tbody tr th {\n",
       "        vertical-align: top;\n",
       "    }\n",
       "\n",
       "    .dataframe thead th {\n",
       "        text-align: right;\n",
       "    }\n",
       "</style>\n",
       "<table border=\"1\" class=\"dataframe\">\n",
       "  <thead>\n",
       "    <tr style=\"text-align: right;\">\n",
       "      <th></th>\n",
       "      <th>0</th>\n",
       "      <th>1</th>\n",
       "      <th>2</th>\n",
       "      <th>3</th>\n",
       "      <th>4</th>\n",
       "      <th>5</th>\n",
       "    </tr>\n",
       "  </thead>\n",
       "  <tbody>\n",
       "    <tr>\n",
       "      <th>0</th>\n",
       "      <td>0.261877</td>\n",
       "      <td>0.046456</td>\n",
       "      <td>0.261620</td>\n",
       "      <td>1.416220</td>\n",
       "      <td>0.167972</td>\n",
       "      <td>0.132674</td>\n",
       "    </tr>\n",
       "    <tr>\n",
       "      <th>1</th>\n",
       "      <td>0.464519</td>\n",
       "      <td>2.394549</td>\n",
       "      <td>0.885394</td>\n",
       "      <td>1.526491</td>\n",
       "      <td>2.339389</td>\n",
       "      <td>0.870196</td>\n",
       "    </tr>\n",
       "    <tr>\n",
       "      <th>2</th>\n",
       "      <td>2.021625</td>\n",
       "      <td>3.896733</td>\n",
       "      <td>-1.190946</td>\n",
       "      <td>2.935779</td>\n",
       "      <td>3.718885</td>\n",
       "      <td>-1.122018</td>\n",
       "    </tr>\n",
       "    <tr>\n",
       "      <th>3</th>\n",
       "      <td>-2.452283</td>\n",
       "      <td>0.394880</td>\n",
       "      <td>1.681235</td>\n",
       "      <td>-1.447742</td>\n",
       "      <td>0.200366</td>\n",
       "      <td>1.630899</td>\n",
       "    </tr>\n",
       "    <tr>\n",
       "      <th>4</th>\n",
       "      <td>0.149504</td>\n",
       "      <td>0.614691</td>\n",
       "      <td>1.686946</td>\n",
       "      <td>1.173363</td>\n",
       "      <td>0.617707</td>\n",
       "      <td>1.710605</td>\n",
       "    </tr>\n",
       "  </tbody>\n",
       "</table>\n",
       "</div>"
      ],
      "text/plain": [
       "          0         1         2         3         4         5\n",
       "0  0.261877  0.046456  0.261620  1.416220  0.167972  0.132674\n",
       "1  0.464519  2.394549  0.885394  1.526491  2.339389  0.870196\n",
       "2  2.021625  3.896733 -1.190946  2.935779  3.718885 -1.122018\n",
       "3 -2.452283  0.394880  1.681235 -1.447742  0.200366  1.630899\n",
       "4  0.149504  0.614691  1.686946  1.173363  0.617707  1.710605"
      ]
     },
     "execution_count": 35,
     "metadata": {},
     "output_type": "execute_result"
    }
   ],
   "source": [
    "df = pd.DataFrame(X)\n",
    "df.head()"
   ]
  },
  {
   "cell_type": "code",
   "execution_count": 41,
   "metadata": {},
   "outputs": [
    {
     "data": {
      "text/plain": [
       "0    0.090345\n",
       "1   -0.025920\n",
       "2    0.425570\n",
       "3    1.103482\n",
       "4   -0.021276\n",
       "5    0.415850\n",
       "dtype: float64"
      ]
     },
     "execution_count": 41,
     "metadata": {},
     "output_type": "execute_result"
    }
   ],
   "source": [
    "df.mean()"
   ]
  },
  {
   "cell_type": "code",
   "execution_count": 36,
   "metadata": {},
   "outputs": [
    {
     "data": {
      "image/png": "[encoded data removed]",
      "text/plain": [
       "<Figure size 432x288 with 2 Axes>"
      ]
     },
     "metadata": {
      "needs_background": "light"
     },
     "output_type": "display_data"
    }
   ],
   "source": [
    "corrmat =  df.corr()\n",
    "corrmat\n",
    "\n",
    "sns.heatmap(corrmat, vmax=1., square=False).xaxis.tick_top()"
   ]
  },
  {
   "cell_type": "code",
   "execution_count": 38,
   "metadata": {},
   "outputs": [],
   "source": [
    "df_diff =  pd.DataFrame((X1-X2))"
   ]
  },
  {
   "cell_type": "code",
   "execution_count": 39,
   "metadata": {},
   "outputs": [
    {
     "data": {
      "text/html": [
       "<div>\n",
       "<style scoped>\n",
       "    .dataframe tbody tr th:only-of-type {\n",
       "        vertical-align: middle;\n",
       "    }\n",
       "\n",
       "    .dataframe tbody tr th {\n",
       "        vertical-align: top;\n",
       "    }\n",
       "\n",
       "    .dataframe thead th {\n",
       "        text-align: right;\n",
       "    }\n",
       "</style>\n",
       "<table border=\"1\" class=\"dataframe\">\n",
       "  <thead>\n",
       "    <tr style=\"text-align: right;\">\n",
       "      <th></th>\n",
       "      <th>0</th>\n",
       "      <th>1</th>\n",
       "      <th>2</th>\n",
       "    </tr>\n",
       "  </thead>\n",
       "  <tbody>\n",
       "    <tr>\n",
       "      <th>0</th>\n",
       "      <td>-1.154342</td>\n",
       "      <td>-0.121516</td>\n",
       "      <td>0.128946</td>\n",
       "    </tr>\n",
       "    <tr>\n",
       "      <th>1</th>\n",
       "      <td>-1.061971</td>\n",
       "      <td>0.055160</td>\n",
       "      <td>0.015198</td>\n",
       "    </tr>\n",
       "    <tr>\n",
       "      <th>2</th>\n",
       "      <td>-0.914153</td>\n",
       "      <td>0.177847</td>\n",
       "      <td>-0.068929</td>\n",
       "    </tr>\n",
       "    <tr>\n",
       "      <th>3</th>\n",
       "      <td>-1.004541</td>\n",
       "      <td>0.194513</td>\n",
       "      <td>0.050337</td>\n",
       "    </tr>\n",
       "    <tr>\n",
       "      <th>4</th>\n",
       "      <td>-1.023858</td>\n",
       "      <td>-0.003016</td>\n",
       "      <td>-0.023659</td>\n",
       "    </tr>\n",
       "  </tbody>\n",
       "</table>\n",
       "</div>"
      ],
      "text/plain": [
       "          0         1         2\n",
       "0 -1.154342 -0.121516  0.128946\n",
       "1 -1.061971  0.055160  0.015198\n",
       "2 -0.914153  0.177847 -0.068929\n",
       "3 -1.004541  0.194513  0.050337\n",
       "4 -1.023858 -0.003016 -0.023659"
      ]
     },
     "execution_count": 39,
     "metadata": {},
     "output_type": "execute_result"
    }
   ],
   "source": [
    "df_diff.head()"
   ]
  },
  {
   "cell_type": "code",
   "execution_count": 40,
   "metadata": {},
   "outputs": [
    {
     "name": "stdout",
     "output_type": "stream",
     "text": [
      "Rejeitamos H0\n",
      "Valor da estatística 5666.660411153529\n",
      "valor p 1.1102230246251565e-16\n"
     ]
    }
   ],
   "source": [
    "mu0=[0,0,0]\n",
    "n=len(df_diff)\n",
    "p=len(df_diff.columns)\n",
    "T2Hotelling(df_diff, mu0, n, p)"
   ]
  },
  {
   "cell_type": "code",
   "execution_count": null,
   "metadata": {},
   "outputs": [],
   "source": []
  },
  {
   "cell_type": "code",
   "execution_count": null,
   "metadata": {},
   "outputs": [],
   "source": []
  }
 ],
 "metadata": {
  "kernelspec": {
   "display_name": "Python 3",
   "language": "python",
   "name": "python3"
  },
  "language_info": {
   "codemirror_mode": {
    "name": "ipython",
    "version": 3
   },
   "file_extension": ".py",
   "mimetype": "text/x-python",
   "name": "python",
   "nbconvert_exporter": "python",
   "pygments_lexer": "ipython3",
   "version": "3.7.6"
  }
 },
 "nbformat": 4,
 "nbformat_minor": 4
}
