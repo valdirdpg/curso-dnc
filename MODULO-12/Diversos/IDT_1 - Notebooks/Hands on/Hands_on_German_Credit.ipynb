{
  "nbformat": 4,
  "nbformat_minor": 0,
  "metadata": {
    "colab": {
      "provenance": []
    },
    "kernelspec": {
      "name": "python3",
      "display_name": "Python 3"
    },
    "language_info": {
      "name": "python"
    }
  },
  "cells": [
    {
      "cell_type": "markdown",
      "source": [
        "# Imbalanced Dataset - German Credit"
      ],
      "metadata": {
        "id": "i0gnFC7Xvzvw"
      }
    },
    {
      "cell_type": "markdown",
      "source": [
        "Você foi selecionado para criar um modelo para prever se o cliente irá pagar ou não irá pagar o empréstimo que está solicitando.\n",
        "\n",
        "Base de dados: https://www.kaggle.com/datasets/uciml/german-credit"
      ],
      "metadata": {
        "id": "abWnkgMowvMs"
      }
    },
    {
      "cell_type": "markdown",
      "source": [
        "# Bibliotecas"
      ],
      "metadata": {
        "id": "-Xsc8q0JxTB0"
      }
    },
    {
      "cell_type": "code",
      "source": [
        "import pandas as pd\n",
        "\n",
        "from sklearn.model_selection import train_test_split\n",
        "\n",
        "from sklearn.preprocessing import OneHotEncoder\n",
        "from sklearn.preprocessing import StandardScaler\n",
        "\n",
        "from sklearn.compose import ColumnTransformer\n",
        "from sklearn.compose import make_column_selector as selector\n",
        "\n",
        "from imblearn.pipeline import Pipeline\n",
        "from imblearn.over_sampling import RandomOverSampler, SMOTE, ADASYN\n",
        "from imblearn.under_sampling import RandomUnderSampler, NearMiss, CondensedNearestNeighbour\n",
        "\n",
        "from sklearn.linear_model import LogisticRegression\n",
        "from sklearn.neighbors import KNeighborsClassifier\n",
        "from sklearn.tree import DecisionTreeClassifier\n",
        "\n",
        "from sklearn.model_selection import cross_validate\n",
        "from sklearn.model_selection import StratifiedKFold"
      ],
      "metadata": {
        "id": "7erMcT7myzKs"
      },
      "execution_count": null,
      "outputs": []
    },
    {
      "cell_type": "markdown",
      "source": [
        "# Ingestão de dados"
      ],
      "metadata": {
        "id": "2SPZqLHmy0Cl"
      }
    },
    {
      "cell_type": "code",
      "source": [
        "df = pd.read_csv('german_credit_risk.csv', index_col=0)\n",
        "df.head()"
      ],
      "metadata": {
        "colab": {
          "base_uri": "https://localhost:8080/",
          "height": 206
        },
        "id": "TaG18jroy1-5",
        "outputId": "111a6ec9-30f2-4681-9c57-88ef246c3d4b"
      },
      "execution_count": null,
      "outputs": [
        {
          "output_type": "execute_result",
          "data": {
            "text/plain": [
              "   Age     Sex  Job Housing Saving accounts Checking account  Credit amount  \\\n",
              "0   67    male    2     own             NaN           little           1169   \n",
              "1   22  female    2     own          little         moderate           5951   \n",
              "2   49    male    1     own          little              NaN           2096   \n",
              "3   45    male    2    free          little           little           7882   \n",
              "4   53    male    2    free          little           little           4870   \n",
              "\n",
              "   Duration              Purpose  Risk  \n",
              "0         6             radio/TV  good  \n",
              "1        48             radio/TV   bad  \n",
              "2        12            education  good  \n",
              "3        42  furniture/equipment  good  \n",
              "4        24                  car   bad  "
            ],
            "text/html": [
              "\n",
              "  <div id=\"df-adea8d05-eeab-4f02-87a1-48baa2f46cb9\">\n",
              "    <div class=\"colab-df-container\">\n",
              "      <div>\n",
              "<style scoped>\n",
              "    .dataframe tbody tr th:only-of-type {\n",
              "        vertical-align: middle;\n",
              "    }\n",
              "\n",
              "    .dataframe tbody tr th {\n",
              "        vertical-align: top;\n",
              "    }\n",
              "\n",
              "    .dataframe thead th {\n",
              "        text-align: right;\n",
              "    }\n",
              "</style>\n",
              "<table border=\"1\" class=\"dataframe\">\n",
              "  <thead>\n",
              "    <tr style=\"text-align: right;\">\n",
              "      <th></th>\n",
              "      <th>Age</th>\n",
              "      <th>Sex</th>\n",
              "      <th>Job</th>\n",
              "      <th>Housing</th>\n",
              "      <th>Saving accounts</th>\n",
              "      <th>Checking account</th>\n",
              "      <th>Credit amount</th>\n",
              "      <th>Duration</th>\n",
              "      <th>Purpose</th>\n",
              "      <th>Risk</th>\n",
              "    </tr>\n",
              "  </thead>\n",
              "  <tbody>\n",
              "    <tr>\n",
              "      <th>0</th>\n",
              "      <td>67</td>\n",
              "      <td>male</td>\n",
              "      <td>2</td>\n",
              "      <td>own</td>\n",
              "      <td>NaN</td>\n",
              "      <td>little</td>\n",
              "      <td>1169</td>\n",
              "      <td>6</td>\n",
              "      <td>radio/TV</td>\n",
              "      <td>good</td>\n",
              "    </tr>\n",
              "    <tr>\n",
              "      <th>1</th>\n",
              "      <td>22</td>\n",
              "      <td>female</td>\n",
              "      <td>2</td>\n",
              "      <td>own</td>\n",
              "      <td>little</td>\n",
              "      <td>moderate</td>\n",
              "      <td>5951</td>\n",
              "      <td>48</td>\n",
              "      <td>radio/TV</td>\n",
              "      <td>bad</td>\n",
              "    </tr>\n",
              "    <tr>\n",
              "      <th>2</th>\n",
              "      <td>49</td>\n",
              "      <td>male</td>\n",
              "      <td>1</td>\n",
              "      <td>own</td>\n",
              "      <td>little</td>\n",
              "      <td>NaN</td>\n",
              "      <td>2096</td>\n",
              "      <td>12</td>\n",
              "      <td>education</td>\n",
              "      <td>good</td>\n",
              "    </tr>\n",
              "    <tr>\n",
              "      <th>3</th>\n",
              "      <td>45</td>\n",
              "      <td>male</td>\n",
              "      <td>2</td>\n",
              "      <td>free</td>\n",
              "      <td>little</td>\n",
              "      <td>little</td>\n",
              "      <td>7882</td>\n",
              "      <td>42</td>\n",
              "      <td>furniture/equipment</td>\n",
              "      <td>good</td>\n",
              "    </tr>\n",
              "    <tr>\n",
              "      <th>4</th>\n",
              "      <td>53</td>\n",
              "      <td>male</td>\n",
              "      <td>2</td>\n",
              "      <td>free</td>\n",
              "      <td>little</td>\n",
              "      <td>little</td>\n",
              "      <td>4870</td>\n",
              "      <td>24</td>\n",
              "      <td>car</td>\n",
              "      <td>bad</td>\n",
              "    </tr>\n",
              "  </tbody>\n",
              "</table>\n",
              "</div>\n",
              "      <button class=\"colab-df-convert\" onclick=\"convertToInteractive('df-adea8d05-eeab-4f02-87a1-48baa2f46cb9')\"\n",
              "              title=\"Convert this dataframe to an interactive table.\"\n",
              "              style=\"display:none;\">\n",
              "        \n",
              "  <svg xmlns=\"http://www.w3.org/2000/svg\" height=\"24px\"viewBox=\"0 0 24 24\"\n",
              "       width=\"24px\">\n",
              "    <path d=\"M0 0h24v24H0V0z\" fill=\"none\"/>\n",
              "    <path d=\"M18.56 5.44l.94 2.06.94-2.06 2.06-.94-2.06-.94-.94-2.06-.94 2.06-2.06.94zm-11 1L8.5 8.5l.94-2.06 2.06-.94-2.06-.94L8.5 2.5l-.94 2.06-2.06.94zm10 10l.94 2.06.94-2.06 2.06-.94-2.06-.94-.94-2.06-.94 2.06-2.06.94z\"/><path d=\"M17.41 7.96l-1.37-1.37c-.4-.4-.92-.59-1.43-.59-.52 0-1.04.2-1.43.59L10.3 9.45l-7.72 7.72c-.78.78-.78 2.05 0 2.83L4 21.41c.39.39.9.59 1.41.59.51 0 1.02-.2 1.41-.59l7.78-7.78 2.81-2.81c.8-.78.8-2.07 0-2.86zM5.41 20L4 18.59l7.72-7.72 1.47 1.35L5.41 20z\"/>\n",
              "  </svg>\n",
              "      </button>\n",
              "      \n",
              "  <style>\n",
              "    .colab-df-container {\n",
              "      display:flex;\n",
              "      flex-wrap:wrap;\n",
              "      gap: 12px;\n",
              "    }\n",
              "\n",
              "    .colab-df-convert {\n",
              "      background-color: #E8F0FE;\n",
              "      border: none;\n",
              "      border-radius: 50%;\n",
              "      cursor: pointer;\n",
              "      display: none;\n",
              "      fill: #1967D2;\n",
              "      height: 32px;\n",
              "      padding: 0 0 0 0;\n",
              "      width: 32px;\n",
              "    }\n",
              "\n",
              "    .colab-df-convert:hover {\n",
              "      background-color: #E2EBFA;\n",
              "      box-shadow: 0px 1px 2px rgba(60, 64, 67, 0.3), 0px 1px 3px 1px rgba(60, 64, 67, 0.15);\n",
              "      fill: #174EA6;\n",
              "    }\n",
              "\n",
              "    [theme=dark] .colab-df-convert {\n",
              "      background-color: #3B4455;\n",
              "      fill: #D2E3FC;\n",
              "    }\n",
              "\n",
              "    [theme=dark] .colab-df-convert:hover {\n",
              "      background-color: #434B5C;\n",
              "      box-shadow: 0px 1px 3px 1px rgba(0, 0, 0, 0.15);\n",
              "      filter: drop-shadow(0px 1px 2px rgba(0, 0, 0, 0.3));\n",
              "      fill: #FFFFFF;\n",
              "    }\n",
              "  </style>\n",
              "\n",
              "      <script>\n",
              "        const buttonEl =\n",
              "          document.querySelector('#df-adea8d05-eeab-4f02-87a1-48baa2f46cb9 button.colab-df-convert');\n",
              "        buttonEl.style.display =\n",
              "          google.colab.kernel.accessAllowed ? 'block' : 'none';\n",
              "\n",
              "        async function convertToInteractive(key) {\n",
              "          const element = document.querySelector('#df-adea8d05-eeab-4f02-87a1-48baa2f46cb9');\n",
              "          const dataTable =\n",
              "            await google.colab.kernel.invokeFunction('convertToInteractive',\n",
              "                                                     [key], {});\n",
              "          if (!dataTable) return;\n",
              "\n",
              "          const docLinkHtml = 'Like what you see? Visit the ' +\n",
              "            '<a target=\"_blank\" href=https://colab.research.google.com/notebooks/data_table.ipynb>data table notebook</a>'\n",
              "            + ' to learn more about interactive tables.';\n",
              "          element.innerHTML = '';\n",
              "          dataTable['output_type'] = 'display_data';\n",
              "          await google.colab.output.renderOutput(dataTable, element);\n",
              "          const docLink = document.createElement('div');\n",
              "          docLink.innerHTML = docLinkHtml;\n",
              "          element.appendChild(docLink);\n",
              "        }\n",
              "      </script>\n",
              "    </div>\n",
              "  </div>\n",
              "  "
            ]
          },
          "metadata": {},
          "execution_count": 2
        }
      ]
    },
    {
      "cell_type": "markdown",
      "source": [
        "# Verificar o desbalanceamento"
      ],
      "metadata": {
        "id": "f4c6iWAly8HF"
      }
    },
    {
      "cell_type": "code",
      "source": [
        "df['Risk'].value_counts(normalize=True).plot(kind='bar', color=['blue', 'red']);"
      ],
      "metadata": {
        "colab": {
          "base_uri": "https://localhost:8080/",
          "height": 280
        },
        "id": "1xl_u-dkzWFd",
        "outputId": "6078a836-60a0-424d-f4d1-e045e660ddf5"
      },
      "execution_count": null,
      "outputs": [
        {
          "output_type": "display_data",
          "data": {
            "text/plain": [
              "<Figure size 432x288 with 1 Axes>"
            ],
            "image/png": "[encoded data removed]"
          },
          "metadata": {
            "needs_background": "light"
          }
        }
      ]
    },
    {
      "cell_type": "markdown",
      "source": [
        "# Tipos de dados"
      ],
      "metadata": {
        "id": "mAYr8Qj9zyc0"
      }
    },
    {
      "cell_type": "code",
      "source": [
        "df.dtypes"
      ],
      "metadata": {
        "colab": {
          "base_uri": "https://localhost:8080/"
        },
        "id": "Vht7_-NwznTm",
        "outputId": "1de09443-25e9-4ae4-a702-ce69a3ed8ef5"
      },
      "execution_count": null,
      "outputs": [
        {
          "output_type": "execute_result",
          "data": {
            "text/plain": [
              "Age                  int64\n",
              "Sex                 object\n",
              "Job                  int64\n",
              "Housing             object\n",
              "Saving accounts     object\n",
              "Checking account    object\n",
              "Credit amount        int64\n",
              "Duration             int64\n",
              "Purpose             object\n",
              "Risk                object\n",
              "dtype: object"
            ]
          },
          "metadata": {},
          "execution_count": 4
        }
      ]
    },
    {
      "cell_type": "markdown",
      "source": [
        "# Valores vazios"
      ],
      "metadata": {
        "id": "gHPRCuIvz09q"
      }
    },
    {
      "cell_type": "code",
      "source": [
        "df.isna().sum()"
      ],
      "metadata": {
        "colab": {
          "base_uri": "https://localhost:8080/"
        },
        "id": "_5i-jeuEz59q",
        "outputId": "c5197d11-d9c1-4d20-a705-f46b98ec1b26"
      },
      "execution_count": null,
      "outputs": [
        {
          "output_type": "execute_result",
          "data": {
            "text/plain": [
              "Age                   0\n",
              "Sex                   0\n",
              "Job                   0\n",
              "Housing               0\n",
              "Saving accounts     183\n",
              "Checking account    394\n",
              "Credit amount         0\n",
              "Duration              0\n",
              "Purpose               0\n",
              "Risk                  0\n",
              "dtype: int64"
            ]
          },
          "metadata": {},
          "execution_count": 5
        }
      ]
    },
    {
      "cell_type": "markdown",
      "source": [
        "# Train-test split"
      ],
      "metadata": {
        "id": "J4wpBB-i0CC6"
      }
    },
    {
      "cell_type": "code",
      "source": [
        "X = df.drop(columns=['Risk'])\n",
        "y = df['Risk'].map({'good': 0, 'bad': 1})"
      ],
      "metadata": {
        "id": "DkREXvES0Px7"
      },
      "execution_count": null,
      "outputs": []
    },
    {
      "cell_type": "code",
      "source": [
        "X_train, X_test, y_train, y_test = train_test_split(X, y, random_state=42, stratify=y)"
      ],
      "metadata": {
        "id": "RloANsCD0ImX"
      },
      "execution_count": null,
      "outputs": []
    },
    {
      "cell_type": "markdown",
      "source": [
        "# Construção de pipeline de pré-processamento"
      ],
      "metadata": {
        "id": "AgoFQTDD0qUb"
      }
    },
    {
      "cell_type": "code",
      "source": [
        "# Tratar categoricos -> OneHotEncoding\n",
        "# Tratar númericos -> StandardScaling\n",
        "\n",
        "preprocessing = ColumnTransformer(\n",
        "    transformers = [\n",
        "        ('ohe', OneHotEncoder(drop='first', handle_unknown='ignore', sparse=False), selector(dtype_include='object')),\n",
        "        ('std', StandardScaler(), selector(dtype_include='int64'))\n",
        "    ]\n",
        ")"
      ],
      "metadata": {
        "id": "8RUCO5O_4T6j"
      },
      "execution_count": null,
      "outputs": []
    },
    {
      "cell_type": "markdown",
      "source": [
        "# Modelagem"
      ],
      "metadata": {
        "id": "e5eT3K0h6FrS"
      }
    },
    {
      "cell_type": "markdown",
      "source": [
        "## Sem balanceamento"
      ],
      "metadata": {
        "id": "SV8U_wBLmNEh"
      }
    },
    {
      "cell_type": "markdown",
      "source": [
        "### Logistic Regression"
      ],
      "metadata": {
        "id": "G_GcLGtp8Fwq"
      }
    },
    {
      "cell_type": "code",
      "source": [
        "pipe_lr = Pipeline([\n",
        "    ('pp', preprocessing),\n",
        "    ('LR', LogisticRegression(random_state=42))\n",
        "])"
      ],
      "metadata": {
        "id": "wiLw-IJ37PIQ"
      },
      "execution_count": null,
      "outputs": []
    },
    {
      "cell_type": "markdown",
      "source": [
        "### KNN"
      ],
      "metadata": {
        "id": "6jX0Ydq48TFq"
      }
    },
    {
      "cell_type": "code",
      "source": [
        "pipe_knn = Pipeline([\n",
        "    ('pp', preprocessing),\n",
        "    ('KNN', KNeighborsClassifier())\n",
        "])"
      ],
      "metadata": {
        "id": "69b6ddBg7_am"
      },
      "execution_count": null,
      "outputs": []
    },
    {
      "cell_type": "markdown",
      "source": [
        "### Decision Tree"
      ],
      "metadata": {
        "id": "YjBCWBkz8SZC"
      }
    },
    {
      "cell_type": "code",
      "source": [
        "pipe_dt = Pipeline([\n",
        "    ('pp', preprocessing),\n",
        "    ('DT', DecisionTreeClassifier(random_state=42))\n",
        "])"
      ],
      "metadata": {
        "id": "i3iDRqHz8LI9"
      },
      "execution_count": null,
      "outputs": []
    },
    {
      "cell_type": "markdown",
      "source": [
        "## Random Oversampling"
      ],
      "metadata": {
        "id": "jousjHSZmUEe"
      }
    },
    {
      "cell_type": "markdown",
      "source": [
        "### Logistic Regression"
      ],
      "metadata": {
        "id": "PqpF1mr6mbmq"
      }
    },
    {
      "cell_type": "code",
      "source": [
        "pipe_ros_lr = Pipeline([\n",
        "    ('pp', preprocessing),\n",
        "    ('ros', RandomOverSampler(random_state=42)),\n",
        "    ('LR', LogisticRegression(random_state=42))\n",
        "])"
      ],
      "metadata": {
        "id": "w4--RCm0maQw"
      },
      "execution_count": null,
      "outputs": []
    },
    {
      "cell_type": "markdown",
      "source": [
        "### KNN"
      ],
      "metadata": {
        "id": "dJNyRuoMmaQw"
      }
    },
    {
      "cell_type": "code",
      "source": [
        "pipe_ros_knn = Pipeline([\n",
        "    ('pp', preprocessing),\n",
        "    ('ros', RandomOverSampler(random_state=42)),\n",
        "    ('KNN', KNeighborsClassifier())\n",
        "])"
      ],
      "metadata": {
        "id": "AIfUEuQtmaQw"
      },
      "execution_count": null,
      "outputs": []
    },
    {
      "cell_type": "markdown",
      "source": [
        "### Decision Tree"
      ],
      "metadata": {
        "id": "iLf53S3hmaQx"
      }
    },
    {
      "cell_type": "code",
      "source": [
        "pipe_ros_dt = Pipeline([\n",
        "    ('pp', preprocessing),\n",
        "    ('ros', RandomOverSampler(random_state=42)),\n",
        "    ('DT', DecisionTreeClassifier(random_state=42))\n",
        "])"
      ],
      "metadata": {
        "id": "ra4DIrNLmaQx"
      },
      "execution_count": null,
      "outputs": []
    },
    {
      "cell_type": "markdown",
      "source": [
        "## SMOTE"
      ],
      "metadata": {
        "id": "dDDTK55wyS_E"
      }
    },
    {
      "cell_type": "markdown",
      "source": [
        "### Logistic Regression"
      ],
      "metadata": {
        "id": "NJVcXoM0yS_E"
      }
    },
    {
      "cell_type": "code",
      "source": [
        "pipe_smt_lr = Pipeline([\n",
        "    ('pp', preprocessing),\n",
        "    ('smt', SMOTE(random_state=42)),\n",
        "    ('LR', LogisticRegression(random_state=42))\n",
        "])"
      ],
      "metadata": {
        "id": "NweQ9AnLyS_E"
      },
      "execution_count": null,
      "outputs": []
    },
    {
      "cell_type": "markdown",
      "source": [
        "### KNN"
      ],
      "metadata": {
        "id": "Bmqsk24RyS_E"
      }
    },
    {
      "cell_type": "code",
      "source": [
        "pipe_smt_knn = Pipeline([\n",
        "    ('pp', preprocessing),\n",
        "    ('smt', SMOTE(random_state=42)),\n",
        "    ('KNN', KNeighborsClassifier())\n",
        "])"
      ],
      "metadata": {
        "id": "UGiSoyoLyS_F"
      },
      "execution_count": null,
      "outputs": []
    },
    {
      "cell_type": "markdown",
      "source": [
        "### Decision Tree"
      ],
      "metadata": {
        "id": "XJz5YG5vyS_F"
      }
    },
    {
      "cell_type": "code",
      "source": [
        "pipe_smt_dt = Pipeline([\n",
        "    ('pp', preprocessing),\n",
        "    ('smt', SMOTE(random_state=42)),\n",
        "    ('DT', DecisionTreeClassifier(random_state=42))\n",
        "])"
      ],
      "metadata": {
        "id": "QuF55HJRyS_F"
      },
      "execution_count": null,
      "outputs": []
    },
    {
      "cell_type": "markdown",
      "source": [
        "## ADASYN"
      ],
      "metadata": {
        "id": "aSkKGmHo_Ivc"
      }
    },
    {
      "cell_type": "markdown",
      "source": [
        "### Logistic Regression"
      ],
      "metadata": {
        "id": "v41LeJUZ_Ivh"
      }
    },
    {
      "cell_type": "code",
      "source": [
        "pipe_asy_lr = Pipeline([\n",
        "    ('pp', preprocessing),\n",
        "    ('asy', ADASYN(random_state=42)),\n",
        "    ('LR', LogisticRegression(random_state=42))\n",
        "])"
      ],
      "metadata": {
        "id": "0gN5ceu0_Ivi"
      },
      "execution_count": null,
      "outputs": []
    },
    {
      "cell_type": "markdown",
      "source": [
        "### KNN"
      ],
      "metadata": {
        "id": "Nbk0IJ46_Ivi"
      }
    },
    {
      "cell_type": "code",
      "source": [
        "pipe_asy_knn = Pipeline([\n",
        "    ('pp', preprocessing),\n",
        "    ('asy', ADASYN(random_state=42)),\n",
        "    ('KNN', KNeighborsClassifier())\n",
        "])"
      ],
      "metadata": {
        "id": "qpgeFKca_Ivi"
      },
      "execution_count": null,
      "outputs": []
    },
    {
      "cell_type": "markdown",
      "source": [
        "### Decision Tree"
      ],
      "metadata": {
        "id": "dG8wlgMU_Ivi"
      }
    },
    {
      "cell_type": "code",
      "source": [
        "pipe_asy_dt = Pipeline([\n",
        "    ('pp', preprocessing),\n",
        "    ('asy', ADASYN(random_state=42)),\n",
        "    ('DT', DecisionTreeClassifier(random_state=42))\n",
        "])"
      ],
      "metadata": {
        "id": "aCCYlJay_Ivi"
      },
      "execution_count": null,
      "outputs": []
    },
    {
      "cell_type": "markdown",
      "source": [
        "## Random Undersampling"
      ],
      "metadata": {
        "id": "fiVomPdnItN3"
      }
    },
    {
      "cell_type": "markdown",
      "source": [
        "### Logistic Regression"
      ],
      "metadata": {
        "id": "r6E9UT_qItN8"
      }
    },
    {
      "cell_type": "code",
      "source": [
        "pipe_rus_lr = Pipeline([\n",
        "    ('pp', preprocessing),\n",
        "    ('rus', RandomUnderSampler(random_state=42)),\n",
        "    ('LR', LogisticRegression(random_state=42))\n",
        "])"
      ],
      "metadata": {
        "id": "gZ7xkUmcItN8"
      },
      "execution_count": null,
      "outputs": []
    },
    {
      "cell_type": "markdown",
      "source": [
        "### KNN"
      ],
      "metadata": {
        "id": "C6Jfpv68ItN8"
      }
    },
    {
      "cell_type": "code",
      "source": [
        "pipe_rus_knn = Pipeline([\n",
        "    ('pp', preprocessing),\n",
        "    ('rus', RandomUnderSampler(random_state=42)),\n",
        "    ('KNN', KNeighborsClassifier())\n",
        "])"
      ],
      "metadata": {
        "id": "oQB1B2v1ItN8"
      },
      "execution_count": null,
      "outputs": []
    },
    {
      "cell_type": "markdown",
      "source": [
        "### Decision Tree"
      ],
      "metadata": {
        "id": "DX73q_b7ItN8"
      }
    },
    {
      "cell_type": "code",
      "source": [
        "pipe_rus_dt = Pipeline([\n",
        "    ('pp', preprocessing),\n",
        "    ('rus', RandomUnderSampler(random_state=42)),\n",
        "    ('DT', DecisionTreeClassifier(random_state=42))\n",
        "])"
      ],
      "metadata": {
        "id": "XMJaSAlgItN9"
      },
      "execution_count": null,
      "outputs": []
    },
    {
      "cell_type": "markdown",
      "source": [
        "## NearMiss"
      ],
      "metadata": {
        "id": "-6eelNLPV3ZH"
      }
    },
    {
      "cell_type": "markdown",
      "source": [
        "### NearMiss-1"
      ],
      "metadata": {
        "id": "BNAiUewBV83b"
      }
    },
    {
      "cell_type": "markdown",
      "source": [
        "#### Logistic Regression"
      ],
      "metadata": {
        "id": "W4uRDOtWV3ZM"
      }
    },
    {
      "cell_type": "code",
      "source": [
        "pipe_nmi_1_lr = Pipeline([\n",
        "    ('pp', preprocessing),\n",
        "    ('nmi_1', NearMiss(version=1)),\n",
        "    ('LR', LogisticRegression(random_state=42))\n",
        "])"
      ],
      "metadata": {
        "id": "AxzX1qsSV3ZN"
      },
      "execution_count": null,
      "outputs": []
    },
    {
      "cell_type": "markdown",
      "source": [
        "#### KNN"
      ],
      "metadata": {
        "id": "CG4Pfd3GV3ZN"
      }
    },
    {
      "cell_type": "code",
      "source": [
        "pipe_nmi_1_knn = Pipeline([\n",
        "    ('pp', preprocessing),\n",
        "    ('nmi_1', NearMiss(version=1)),\n",
        "    ('KNN', KNeighborsClassifier())\n",
        "])"
      ],
      "metadata": {
        "id": "0owcL-5tV3ZN"
      },
      "execution_count": null,
      "outputs": []
    },
    {
      "cell_type": "markdown",
      "source": [
        "#### Decision Tree"
      ],
      "metadata": {
        "id": "2yRPD5blV3ZN"
      }
    },
    {
      "cell_type": "code",
      "source": [
        "pipe_nmi_1_dt = Pipeline([\n",
        "    ('pp', preprocessing),\n",
        "    ('nmi_1', NearMiss(version=1)),\n",
        "    ('DT', DecisionTreeClassifier(random_state=42))\n",
        "])"
      ],
      "metadata": {
        "id": "ubZqT2iYV3ZN"
      },
      "execution_count": null,
      "outputs": []
    },
    {
      "cell_type": "markdown",
      "source": [
        "### NearMiss-2"
      ],
      "metadata": {
        "id": "7ryFmZm4WFYw"
      }
    },
    {
      "cell_type": "markdown",
      "source": [
        "#### Logistic Regression"
      ],
      "metadata": {
        "id": "9oog4ulIWFYw"
      }
    },
    {
      "cell_type": "code",
      "source": [
        "pipe_nmi_2_lr = Pipeline([\n",
        "    ('pp', preprocessing),\n",
        "    ('nmi_2', NearMiss(version=2)),\n",
        "    ('LR', LogisticRegression(random_state=42))\n",
        "])"
      ],
      "metadata": {
        "id": "29hHb0iuWFYw"
      },
      "execution_count": null,
      "outputs": []
    },
    {
      "cell_type": "markdown",
      "source": [
        "#### KNN"
      ],
      "metadata": {
        "id": "MbTk2JQeWFYw"
      }
    },
    {
      "cell_type": "code",
      "source": [
        "pipe_nmi_2_knn = Pipeline([\n",
        "    ('pp', preprocessing),\n",
        "    ('nmi_2', NearMiss(version=2)),\n",
        "    ('KNN', KNeighborsClassifier())\n",
        "])"
      ],
      "metadata": {
        "id": "uNzUEXJvWFYw"
      },
      "execution_count": null,
      "outputs": []
    },
    {
      "cell_type": "markdown",
      "source": [
        "#### Decision Tree"
      ],
      "metadata": {
        "id": "SWzIKVLdWFYw"
      }
    },
    {
      "cell_type": "code",
      "source": [
        "pipe_nmi_2_dt = Pipeline([\n",
        "    ('pp', preprocessing),\n",
        "    ('nmi_2', NearMiss(version=2)),\n",
        "    ('DT', DecisionTreeClassifier(random_state=42))\n",
        "])"
      ],
      "metadata": {
        "id": "XUcYmnPrWFYw"
      },
      "execution_count": null,
      "outputs": []
    },
    {
      "cell_type": "markdown",
      "source": [
        "### NearMiss-3"
      ],
      "metadata": {
        "id": "l3VS2Bs5WF3_"
      }
    },
    {
      "cell_type": "markdown",
      "source": [
        "#### Logistic Regression"
      ],
      "metadata": {
        "id": "hpIIvqmDWF3_"
      }
    },
    {
      "cell_type": "code",
      "source": [
        "pipe_nmi_3_lr = Pipeline([\n",
        "    ('pp', preprocessing),\n",
        "    ('nmi_3', NearMiss(version=3)),\n",
        "    ('LR', LogisticRegression(random_state=42))\n",
        "])"
      ],
      "metadata": {
        "id": "pKR0ZyyMWF3_"
      },
      "execution_count": null,
      "outputs": []
    },
    {
      "cell_type": "markdown",
      "source": [
        "#### KNN"
      ],
      "metadata": {
        "id": "YDfbuh5nWF4A"
      }
    },
    {
      "cell_type": "code",
      "source": [
        "pipe_nmi_3_knn = Pipeline([\n",
        "    ('pp', preprocessing),\n",
        "    ('nmi_3', NearMiss(version=3)),\n",
        "    ('KNN', KNeighborsClassifier())\n",
        "])"
      ],
      "metadata": {
        "id": "m8sQKa-nWF4A"
      },
      "execution_count": null,
      "outputs": []
    },
    {
      "cell_type": "markdown",
      "source": [
        "#### Decision Tree"
      ],
      "metadata": {
        "id": "Q1VsKhZoWF4A"
      }
    },
    {
      "cell_type": "code",
      "source": [
        "pipe_nmi_3_dt = Pipeline([\n",
        "    ('pp', preprocessing),\n",
        "    ('nmi_3', NearMiss(version=3)),\n",
        "    ('DT', DecisionTreeClassifier(random_state=42))\n",
        "])"
      ],
      "metadata": {
        "id": "sbLAVKeoWF4A"
      },
      "execution_count": null,
      "outputs": []
    },
    {
      "cell_type": "markdown",
      "source": [
        "## CNN"
      ],
      "metadata": {
        "id": "DPjW07hVi-6w"
      }
    },
    {
      "cell_type": "markdown",
      "source": [
        "### Logistic Regression"
      ],
      "metadata": {
        "id": "1UzLiY8qi-61"
      }
    },
    {
      "cell_type": "code",
      "source": [
        "pipe_cnn_lr = Pipeline([\n",
        "    ('pp', preprocessing),\n",
        "    ('cnn', CondensedNearestNeighbour(random_state=42)),\n",
        "    ('LR', LogisticRegression(random_state=42))\n",
        "])"
      ],
      "metadata": {
        "id": "uAhJe5Boi-61"
      },
      "execution_count": null,
      "outputs": []
    },
    {
      "cell_type": "markdown",
      "source": [
        "### KNN"
      ],
      "metadata": {
        "id": "f7EoJycdi-61"
      }
    },
    {
      "cell_type": "code",
      "source": [
        "pipe_cnn_knn = Pipeline([\n",
        "    ('pp', preprocessing),\n",
        "    ('cnn', CondensedNearestNeighbour(random_state=42)),\n",
        "    ('KNN', KNeighborsClassifier())\n",
        "])"
      ],
      "metadata": {
        "id": "aBlxCoDBi-61"
      },
      "execution_count": null,
      "outputs": []
    },
    {
      "cell_type": "markdown",
      "source": [
        "### Decision Tree"
      ],
      "metadata": {
        "id": "tPw_2bMqi-61"
      }
    },
    {
      "cell_type": "code",
      "source": [
        "pipe_cnn_dt = Pipeline([\n",
        "    ('pp', preprocessing),\n",
        "    ('cnn', CondensedNearestNeighbour(random_state=42)),\n",
        "    ('DT', DecisionTreeClassifier(random_state=42))\n",
        "])"
      ],
      "metadata": {
        "id": "nmzE66Sii-61"
      },
      "execution_count": null,
      "outputs": []
    },
    {
      "cell_type": "markdown",
      "source": [
        "# Avaliação dos modelos"
      ],
      "metadata": {
        "id": "ibAm7kt88R_N"
      }
    },
    {
      "cell_type": "code",
      "source": [
        "skf = StratifiedKFold(n_splits=10, shuffle=True, random_state=42)"
      ],
      "metadata": {
        "id": "_viy5UcR8gZe"
      },
      "execution_count": null,
      "outputs": []
    },
    {
      "cell_type": "markdown",
      "source": [
        "## Sem Balanceamento"
      ],
      "metadata": {
        "id": "04zvPcsWk7aH"
      }
    },
    {
      "cell_type": "markdown",
      "source": [
        "### LR"
      ],
      "metadata": {
        "id": "c3kT_WmI9peJ"
      }
    },
    {
      "cell_type": "code",
      "source": [
        "res = cross_validate(pipe_lr, X_train, y_train, scoring='f1', cv=skf)\n",
        "print(f'F1 TEST: {res[\"test_score\"].mean():.4}')"
      ],
      "metadata": {
        "colab": {
          "base_uri": "https://localhost:8080/"
        },
        "id": "rkSk07P883vo",
        "outputId": "6caf7971-fba7-4f1a-b58b-e3e418c70137"
      },
      "execution_count": null,
      "outputs": [
        {
          "output_type": "stream",
          "name": "stdout",
          "text": [
            "F1 TEST: 0.4356\n"
          ]
        }
      ]
    },
    {
      "cell_type": "markdown",
      "source": [
        "### $k$-Nearest Neighbors"
      ],
      "metadata": {
        "id": "ZYu4oXm0B811"
      }
    },
    {
      "cell_type": "code",
      "source": [
        "res = cross_validate(pipe_knn, X_train, y_train, scoring='f1', cv=skf)\n",
        "print(f'F1 TEST: {res[\"test_score\"].mean():.4}')"
      ],
      "metadata": {
        "colab": {
          "base_uri": "https://localhost:8080/"
        },
        "id": "zR86Aswo9Cw4",
        "outputId": "97c73feb-6e4c-407e-d484-2f02e298ae60"
      },
      "execution_count": null,
      "outputs": [
        {
          "output_type": "stream",
          "name": "stdout",
          "text": [
            "F1 TEST: 0.3641\n"
          ]
        }
      ]
    },
    {
      "cell_type": "markdown",
      "source": [
        "### Decision Tree Classifier"
      ],
      "metadata": {
        "id": "kD9gpX-nCGzk"
      }
    },
    {
      "cell_type": "code",
      "source": [
        "res = cross_validate(pipe_dt, X_train, y_train, scoring='f1', cv=skf)\n",
        "print(f'F1 TEST: {res[\"test_score\"].mean():.4}')"
      ],
      "metadata": {
        "colab": {
          "base_uri": "https://localhost:8080/"
        },
        "id": "LriF5E6l9rE1",
        "outputId": "1e00bacc-3d74-48b3-a908-f19d044e1822"
      },
      "execution_count": null,
      "outputs": [
        {
          "output_type": "stream",
          "name": "stdout",
          "text": [
            "F1 TEST: 0.4786\n"
          ]
        }
      ]
    },
    {
      "cell_type": "markdown",
      "source": [
        "## Random Oversampling"
      ],
      "metadata": {
        "id": "-5jW-CVPl_fB"
      }
    },
    {
      "cell_type": "markdown",
      "source": [
        "### LR"
      ],
      "metadata": {
        "id": "lc-BX7BXnBmH"
      }
    },
    {
      "cell_type": "code",
      "source": [
        "res = cross_validate(pipe_ros_lr, X_train, y_train, scoring='f1', cv=skf)\n",
        "print(f'F1 TEST: {res[\"test_score\"].mean():.4}')"
      ],
      "metadata": {
        "colab": {
          "base_uri": "https://localhost:8080/"
        },
        "outputId": "f054fefa-db87-4dd7-dab4-9a221882cc65",
        "id": "c8FYorZcnBmH"
      },
      "execution_count": null,
      "outputs": [
        {
          "output_type": "stream",
          "name": "stdout",
          "text": [
            "F1 TEST: 0.5806\n"
          ]
        }
      ]
    },
    {
      "cell_type": "markdown",
      "source": [
        "### $k$-Nearest Neighbors"
      ],
      "metadata": {
        "id": "t-HdiI2VnBmH"
      }
    },
    {
      "cell_type": "code",
      "source": [
        "res = cross_validate(pipe_ros_knn, X_train, y_train, scoring='f1', cv=skf)\n",
        "print(f'F1 TEST: {res[\"test_score\"].mean():.4}')"
      ],
      "metadata": {
        "colab": {
          "base_uri": "https://localhost:8080/"
        },
        "outputId": "268280c6-c212-441f-d28d-95b26ca491e6",
        "id": "eXCisLSjnBmH"
      },
      "execution_count": null,
      "outputs": [
        {
          "output_type": "stream",
          "name": "stdout",
          "text": [
            "F1 TEST: 0.4783\n"
          ]
        }
      ]
    },
    {
      "cell_type": "markdown",
      "source": [
        "### Decision Tree Classifier"
      ],
      "metadata": {
        "id": "kW0TMfwAnBmI"
      }
    },
    {
      "cell_type": "code",
      "source": [
        "res = cross_validate(pipe_ros_dt, X_train, y_train, scoring='f1', cv=skf)\n",
        "print(f'F1 TEST: {res[\"test_score\"].mean():.4}')"
      ],
      "metadata": {
        "colab": {
          "base_uri": "https://localhost:8080/"
        },
        "outputId": "76aef0e7-74f9-42b5-c655-9c1facb669c7",
        "id": "b_yMLp4-nBmI"
      },
      "execution_count": null,
      "outputs": [
        {
          "output_type": "stream",
          "name": "stdout",
          "text": [
            "F1 TEST: 0.424\n"
          ]
        }
      ]
    },
    {
      "cell_type": "markdown",
      "source": [
        "## SMOTE"
      ],
      "metadata": {
        "id": "hp_OL9gAyetI"
      }
    },
    {
      "cell_type": "markdown",
      "source": [
        "### LR"
      ],
      "metadata": {
        "id": "diwxwqA8yetN"
      }
    },
    {
      "cell_type": "code",
      "source": [
        "res = cross_validate(pipe_smt_lr, X_train, y_train, scoring='f1', cv=skf)\n",
        "print(f'F1 TEST: {res[\"test_score\"].mean():.4}')"
      ],
      "metadata": {
        "colab": {
          "base_uri": "https://localhost:8080/"
        },
        "outputId": "bcc69720-000f-4a55-d903-eb9e845a5bf5",
        "id": "Qn2ST5anyetN"
      },
      "execution_count": null,
      "outputs": [
        {
          "output_type": "stream",
          "name": "stdout",
          "text": [
            "F1 TEST: 0.5773\n"
          ]
        }
      ]
    },
    {
      "cell_type": "markdown",
      "source": [
        "### $k$-Nearest Neighbors"
      ],
      "metadata": {
        "id": "UWC7VIAbyetN"
      }
    },
    {
      "cell_type": "code",
      "source": [
        "res = cross_validate(pipe_smt_knn, X_train, y_train, scoring='f1', cv=skf)\n",
        "print(f'F1 TEST: {res[\"test_score\"].mean():.4}')"
      ],
      "metadata": {
        "colab": {
          "base_uri": "https://localhost:8080/"
        },
        "outputId": "7dff1945-8ae4-486d-e94e-cd44aebbd9eb",
        "id": "m-SqObsayetO"
      },
      "execution_count": null,
      "outputs": [
        {
          "output_type": "stream",
          "name": "stdout",
          "text": [
            "F1 TEST: 0.4986\n"
          ]
        }
      ]
    },
    {
      "cell_type": "markdown",
      "source": [
        "### Decision Tree Classifier"
      ],
      "metadata": {
        "id": "Aohq8crFyetO"
      }
    },
    {
      "cell_type": "code",
      "source": [
        "res = cross_validate(pipe_smt_dt, X_train, y_train, scoring='f1', cv=skf)\n",
        "print(f'F1 TEST: {res[\"test_score\"].mean():.4}')"
      ],
      "metadata": {
        "colab": {
          "base_uri": "https://localhost:8080/"
        },
        "outputId": "9b520c9c-386b-450e-931c-866fc199fdde",
        "id": "lBpD5DQxyetO"
      },
      "execution_count": null,
      "outputs": [
        {
          "output_type": "stream",
          "name": "stdout",
          "text": [
            "F1 TEST: 0.4456\n"
          ]
        }
      ]
    },
    {
      "cell_type": "markdown",
      "source": [
        "## ADASYN"
      ],
      "metadata": {
        "id": "k3u__KjC_diF"
      }
    },
    {
      "cell_type": "markdown",
      "source": [
        "### LR"
      ],
      "metadata": {
        "id": "MJsaKr_H_diK"
      }
    },
    {
      "cell_type": "code",
      "source": [
        "res = cross_validate(pipe_asy_lr, X_train, y_train, scoring='f1', cv=skf)\n",
        "print(f'F1 TEST: {res[\"test_score\"].mean():.4}')"
      ],
      "metadata": {
        "colab": {
          "base_uri": "https://localhost:8080/"
        },
        "outputId": "91685e5e-bf89-4af3-83e9-f204cb7942e0",
        "id": "jM3oiXUx_diK"
      },
      "execution_count": null,
      "outputs": [
        {
          "output_type": "stream",
          "name": "stdout",
          "text": [
            "F1 TEST: 0.5675\n"
          ]
        }
      ]
    },
    {
      "cell_type": "markdown",
      "source": [
        "### $k$-Nearest Neighbors"
      ],
      "metadata": {
        "id": "C5KnvUAg_diL"
      }
    },
    {
      "cell_type": "code",
      "source": [
        "res = cross_validate(pipe_asy_knn, X_train, y_train, scoring='f1', cv=skf)\n",
        "print(f'F1 TEST: {res[\"test_score\"].mean():.4}')"
      ],
      "metadata": {
        "colab": {
          "base_uri": "https://localhost:8080/"
        },
        "outputId": "1dc6116d-76f5-48db-e801-cf40a815d14c",
        "id": "5rG0BW4I_diL"
      },
      "execution_count": null,
      "outputs": [
        {
          "output_type": "stream",
          "name": "stdout",
          "text": [
            "F1 TEST: 0.4903\n"
          ]
        }
      ]
    },
    {
      "cell_type": "markdown",
      "source": [
        "### Decision Tree Classifier"
      ],
      "metadata": {
        "id": "XxASCybF_diL"
      }
    },
    {
      "cell_type": "code",
      "source": [
        "res = cross_validate(pipe_asy_dt, X_train, y_train, scoring='f1', cv=skf)\n",
        "print(f'F1 TEST: {res[\"test_score\"].mean():.4}')"
      ],
      "metadata": {
        "colab": {
          "base_uri": "https://localhost:8080/"
        },
        "outputId": "0aa5195d-dcf9-48cb-d472-826a7b73afe3",
        "id": "DldtlAC6_diL"
      },
      "execution_count": null,
      "outputs": [
        {
          "output_type": "stream",
          "name": "stdout",
          "text": [
            "F1 TEST: 0.4372\n"
          ]
        }
      ]
    },
    {
      "cell_type": "markdown",
      "source": [
        "## Random Undersampling"
      ],
      "metadata": {
        "id": "InS4icMLI850"
      }
    },
    {
      "cell_type": "markdown",
      "source": [
        "### LR"
      ],
      "metadata": {
        "id": "sS3ptfPqI855"
      }
    },
    {
      "cell_type": "code",
      "source": [
        "res = cross_validate(pipe_rus_lr, X_train, y_train, scoring='f1', cv=skf)\n",
        "print(f'F1 TEST: {res[\"test_score\"].mean():.4}')"
      ],
      "metadata": {
        "colab": {
          "base_uri": "https://localhost:8080/"
        },
        "outputId": "3e28fe12-0750-4fe8-a865-9fa45ca108f7",
        "id": "mMEBbjsUI855"
      },
      "execution_count": null,
      "outputs": [
        {
          "output_type": "stream",
          "name": "stdout",
          "text": [
            "F1 TEST: 0.565\n"
          ]
        }
      ]
    },
    {
      "cell_type": "markdown",
      "source": [
        "### $k$-Nearest Neighbors"
      ],
      "metadata": {
        "id": "26DD7ehBI855"
      }
    },
    {
      "cell_type": "code",
      "source": [
        "res = cross_validate(pipe_rus_knn, X_train, y_train, scoring='f1', cv=skf)\n",
        "print(f'F1 TEST: {res[\"test_score\"].mean():.4}')"
      ],
      "metadata": {
        "colab": {
          "base_uri": "https://localhost:8080/"
        },
        "outputId": "2b2e7873-eb45-451a-a026-0140a03b51d3",
        "id": "bRQqD9kqI856"
      },
      "execution_count": null,
      "outputs": [
        {
          "output_type": "stream",
          "name": "stdout",
          "text": [
            "F1 TEST: 0.4845\n"
          ]
        }
      ]
    },
    {
      "cell_type": "markdown",
      "source": [
        "### Decision Tree Classifier"
      ],
      "metadata": {
        "id": "qIfDa4_PI856"
      }
    },
    {
      "cell_type": "code",
      "source": [
        "res = cross_validate(pipe_rus_dt, X_train, y_train, scoring='f1', cv=skf)\n",
        "print(f'F1 TEST: {res[\"test_score\"].mean():.4}')"
      ],
      "metadata": {
        "colab": {
          "base_uri": "https://localhost:8080/"
        },
        "outputId": "cb97d811-9bd0-420b-9ec6-dcdcbe5abc88",
        "id": "GOyOditVI856"
      },
      "execution_count": null,
      "outputs": [
        {
          "output_type": "stream",
          "name": "stdout",
          "text": [
            "F1 TEST: 0.4856\n"
          ]
        }
      ]
    },
    {
      "cell_type": "markdown",
      "source": [
        "## NearMiss"
      ],
      "metadata": {
        "id": "CTLPAZMQWz8l"
      }
    },
    {
      "cell_type": "markdown",
      "source": [
        "### NearMiss-1"
      ],
      "metadata": {
        "id": "Wn8uDNnTW3WA"
      }
    },
    {
      "cell_type": "markdown",
      "source": [
        "#### LR"
      ],
      "metadata": {
        "id": "z02n2qLEWz8q"
      }
    },
    {
      "cell_type": "code",
      "source": [
        "res = cross_validate(pipe_nmi_1_lr, X_train, y_train, scoring='f1', cv=skf)\n",
        "print(f'F1 TEST: {res[\"test_score\"].mean():.4}')"
      ],
      "metadata": {
        "colab": {
          "base_uri": "https://localhost:8080/"
        },
        "outputId": "bbe696f5-448d-40b2-fe01-4dcbab0d65ec",
        "id": "L_7DcEIjWz8r"
      },
      "execution_count": null,
      "outputs": [
        {
          "output_type": "stream",
          "name": "stdout",
          "text": [
            "F1 TEST: 0.5215\n"
          ]
        }
      ]
    },
    {
      "cell_type": "markdown",
      "source": [
        "#### $k$-Nearest Neighbors"
      ],
      "metadata": {
        "id": "sBrzACglWz8r"
      }
    },
    {
      "cell_type": "code",
      "source": [
        "res = cross_validate(pipe_nmi_1_knn, X_train, y_train, scoring='f1', cv=skf)\n",
        "print(f'F1 TEST: {res[\"test_score\"].mean():.4}')"
      ],
      "metadata": {
        "colab": {
          "base_uri": "https://localhost:8080/"
        },
        "outputId": "ac0c3bcd-dbfc-4aef-8345-5145ff83ba2d",
        "id": "gjGPt4ndWz8r"
      },
      "execution_count": null,
      "outputs": [
        {
          "output_type": "stream",
          "name": "stdout",
          "text": [
            "F1 TEST: 0.459\n"
          ]
        }
      ]
    },
    {
      "cell_type": "markdown",
      "source": [
        "#### Decision Tree Classifier"
      ],
      "metadata": {
        "id": "buTpSa-yWz8r"
      }
    },
    {
      "cell_type": "code",
      "source": [
        "res = cross_validate(pipe_nmi_1_dt, X_train, y_train, scoring='f1', cv=skf)\n",
        "print(f'F1 TEST: {res[\"test_score\"].mean():.4}')"
      ],
      "metadata": {
        "colab": {
          "base_uri": "https://localhost:8080/"
        },
        "outputId": "3958f622-2afa-4dbc-c12b-e096ea5dba41",
        "id": "JccQqLFpWz8r"
      },
      "execution_count": null,
      "outputs": [
        {
          "output_type": "stream",
          "name": "stdout",
          "text": [
            "F1 TEST: 0.4917\n"
          ]
        }
      ]
    },
    {
      "cell_type": "markdown",
      "source": [
        "### NearMiss-2"
      ],
      "metadata": {
        "id": "5HQo2Y8oXF71"
      }
    },
    {
      "cell_type": "markdown",
      "source": [
        "#### LR"
      ],
      "metadata": {
        "id": "-gCJGhTvXF71"
      }
    },
    {
      "cell_type": "code",
      "source": [
        "res = cross_validate(pipe_nmi_2_lr, X_train, y_train, scoring='f1', cv=skf)\n",
        "print(f'F1 TEST: {res[\"test_score\"].mean():.4}')"
      ],
      "metadata": {
        "colab": {
          "base_uri": "https://localhost:8080/"
        },
        "outputId": "0d7570fa-d8d5-4112-cf56-15b33cf8671a",
        "id": "zkj9ZdocXF71"
      },
      "execution_count": null,
      "outputs": [
        {
          "output_type": "stream",
          "name": "stdout",
          "text": [
            "F1 TEST: 0.5348\n"
          ]
        }
      ]
    },
    {
      "cell_type": "markdown",
      "source": [
        "#### $k$-Nearest Neighbors"
      ],
      "metadata": {
        "id": "64FLSL1eXF72"
      }
    },
    {
      "cell_type": "code",
      "source": [
        "res = cross_validate(pipe_nmi_2_knn, X_train, y_train, scoring='f1', cv=skf)\n",
        "print(f'F1 TEST: {res[\"test_score\"].mean():.4}')"
      ],
      "metadata": {
        "colab": {
          "base_uri": "https://localhost:8080/"
        },
        "outputId": "3f347838-ce19-4970-d2f3-bccb76f5fc34",
        "id": "o4I1FWtrXF72"
      },
      "execution_count": null,
      "outputs": [
        {
          "output_type": "stream",
          "name": "stdout",
          "text": [
            "F1 TEST: 0.4488\n"
          ]
        }
      ]
    },
    {
      "cell_type": "markdown",
      "source": [
        "#### Decision Tree Classifier"
      ],
      "metadata": {
        "id": "jAgTALHqXF72"
      }
    },
    {
      "cell_type": "code",
      "source": [
        "res = cross_validate(pipe_nmi_2_dt, X_train, y_train, scoring='f1', cv=skf)\n",
        "print(f'F1 TEST: {res[\"test_score\"].mean():.4}')"
      ],
      "metadata": {
        "colab": {
          "base_uri": "https://localhost:8080/"
        },
        "outputId": "cacc7f11-f6c8-4578-fff9-4adaf443d709",
        "id": "p6MzfnVeXF72"
      },
      "execution_count": null,
      "outputs": [
        {
          "output_type": "stream",
          "name": "stdout",
          "text": [
            "F1 TEST: 0.4375\n"
          ]
        }
      ]
    },
    {
      "cell_type": "markdown",
      "source": [
        "### NearMiss-3"
      ],
      "metadata": {
        "id": "br1qiFDZXGbu"
      }
    },
    {
      "cell_type": "markdown",
      "source": [
        "#### LR"
      ],
      "metadata": {
        "id": "nLd9X6V8XGbu"
      }
    },
    {
      "cell_type": "code",
      "source": [
        "res = cross_validate(pipe_nmi_3_lr, X_train, y_train, scoring='f1', cv=skf)\n",
        "print(f'F1 TEST: {res[\"test_score\"].mean():.4}')"
      ],
      "metadata": {
        "colab": {
          "base_uri": "https://localhost:8080/"
        },
        "outputId": "19d8bf4c-7aba-4335-cb3e-f1516158996e",
        "id": "k1ix1tRTXGbv"
      },
      "execution_count": null,
      "outputs": [
        {
          "output_type": "stream",
          "name": "stdout",
          "text": [
            "F1 TEST: 0.5644\n"
          ]
        }
      ]
    },
    {
      "cell_type": "markdown",
      "source": [
        "#### $k$-Nearest Neighbors"
      ],
      "metadata": {
        "id": "YYppeN76XGbv"
      }
    },
    {
      "cell_type": "code",
      "source": [
        "res = cross_validate(pipe_nmi_3_knn, X_train, y_train, scoring='f1', cv=skf)\n",
        "print(f'F1 TEST: {res[\"test_score\"].mean():.4}')"
      ],
      "metadata": {
        "colab": {
          "base_uri": "https://localhost:8080/"
        },
        "outputId": "d2686a97-64db-42ba-ebeb-cb074c7ac3ba",
        "id": "EvWiH6wKXGbv"
      },
      "execution_count": null,
      "outputs": [
        {
          "output_type": "stream",
          "name": "stdout",
          "text": [
            "F1 TEST: 0.4515\n"
          ]
        }
      ]
    },
    {
      "cell_type": "markdown",
      "source": [
        "#### Decision Tree Classifier"
      ],
      "metadata": {
        "id": "8vSQbldKXGbv"
      }
    },
    {
      "cell_type": "code",
      "source": [
        "res = cross_validate(pipe_nmi_3_dt, X_train, y_train, scoring='f1', cv=skf)\n",
        "print(f'F1 TEST: {res[\"test_score\"].mean():.4}')"
      ],
      "metadata": {
        "colab": {
          "base_uri": "https://localhost:8080/"
        },
        "outputId": "299a921e-e742-4778-b327-b257cb9a4922",
        "id": "moQs5mS6XGbv"
      },
      "execution_count": null,
      "outputs": [
        {
          "output_type": "stream",
          "name": "stdout",
          "text": [
            "F1 TEST: 0.4275\n"
          ]
        }
      ]
    },
    {
      "cell_type": "code",
      "source": [],
      "metadata": {
        "id": "RO369YoGXlKp"
      },
      "execution_count": null,
      "outputs": []
    },
    {
      "cell_type": "markdown",
      "source": [
        "## CNN"
      ],
      "metadata": {
        "id": "R84AkHCzjLu3"
      }
    },
    {
      "cell_type": "markdown",
      "source": [
        "### LR"
      ],
      "metadata": {
        "id": "Dx7hb4bXjLu4"
      }
    },
    {
      "cell_type": "code",
      "source": [
        "res = cross_validate(pipe_cnn_lr, X_train, y_train, scoring='f1', cv=skf)\n",
        "print(f'F1 TEST: {res[\"test_score\"].mean():.4}')"
      ],
      "metadata": {
        "colab": {
          "base_uri": "https://localhost:8080/"
        },
        "outputId": "2b329790-41de-4eaa-f5ce-607daae7ee85",
        "id": "Natwku1SjLu4"
      },
      "execution_count": null,
      "outputs": [
        {
          "output_type": "stream",
          "name": "stdout",
          "text": [
            "F1 TEST: 0.5769\n"
          ]
        }
      ]
    },
    {
      "cell_type": "markdown",
      "source": [
        "### $k$-Nearest Neighbors"
      ],
      "metadata": {
        "id": "nFYNfDaNjLu4"
      }
    },
    {
      "cell_type": "code",
      "source": [
        "res = cross_validate(pipe_cnn_knn, X_train, y_train, scoring='f1', cv=skf)\n",
        "print(f'F1 TEST: {res[\"test_score\"].mean():.4}')"
      ],
      "metadata": {
        "colab": {
          "base_uri": "https://localhost:8080/"
        },
        "outputId": "0c05d4f4-a9af-448b-ff0b-ebde17e82866",
        "id": "eBcfu8opjLu4"
      },
      "execution_count": null,
      "outputs": [
        {
          "output_type": "stream",
          "name": "stdout",
          "text": [
            "F1 TEST: 0.4822\n"
          ]
        }
      ]
    },
    {
      "cell_type": "markdown",
      "source": [
        "### Decision Tree Classifier"
      ],
      "metadata": {
        "id": "XLQpbR2GjLu4"
      }
    },
    {
      "cell_type": "code",
      "source": [
        "res = cross_validate(pipe_cnn_dt, X_train, y_train, scoring='f1', cv=skf)\n",
        "print(f'F1 TEST: {res[\"test_score\"].mean():.4}')"
      ],
      "metadata": {
        "colab": {
          "base_uri": "https://localhost:8080/"
        },
        "outputId": "139f24be-b91b-434d-91ae-51fc3caaac9f",
        "id": "LFXExa-xjLu4"
      },
      "execution_count": null,
      "outputs": [
        {
          "output_type": "stream",
          "name": "stdout",
          "text": [
            "F1 TEST: 0.4432\n"
          ]
        }
      ]
    }
  ]
}