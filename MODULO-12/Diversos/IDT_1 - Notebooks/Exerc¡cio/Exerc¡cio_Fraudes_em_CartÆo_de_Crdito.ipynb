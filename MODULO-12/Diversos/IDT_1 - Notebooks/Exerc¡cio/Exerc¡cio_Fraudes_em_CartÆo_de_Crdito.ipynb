{
  "nbformat": 4,
  "nbformat_minor": 0,
  "metadata": {
    "colab": {
      "provenance": [],
      "toc_visible": true
    },
    "kernelspec": {
      "name": "python3",
      "display_name": "Python 3"
    },
    "language_info": {
      "name": "python"
    }
  },
  "cells": [
    {
      "cell_type": "markdown",
      "source": [
        "# Bibliotecas"
      ],
      "metadata": {
        "id": "h-yBKEtID80_"
      }
    },
    {
      "cell_type": "code",
      "execution_count": null,
      "metadata": {
        "id": "Fo5NlVP3Dkbu"
      },
      "outputs": [],
      "source": [
        "import pandas as pd\n",
        "\n",
        "from sklearn.preprocessing import StandardScaler\n",
        "from sklearn.compose import ColumnTransformer\n",
        "from sklearn.compose import make_column_selector as selector\n",
        "\n",
        "from imblearn.pipeline import Pipeline\n",
        "from imblearn.over_sampling import RandomOverSampler, SMOTE, ADASYN\n",
        "from imblearn.under_sampling import RandomUnderSampler, NearMiss, CondensedNearestNeighbour\n",
        "\n",
        "from sklearn.linear_model import LogisticRegression\n",
        "from sklearn.neighbors import KNeighborsClassifier\n",
        "from sklearn.tree import DecisionTreeClassifier\n",
        "\n",
        "from sklearn.model_selection import train_test_split\n",
        "from sklearn.model_selection import StratifiedKFold\n",
        "from sklearn.model_selection import cross_val_score"
      ]
    },
    {
      "cell_type": "markdown",
      "source": [
        "# Ingestão de dados"
      ],
      "metadata": {
        "id": "Q0ebp88kD-NJ"
      }
    },
    {
      "cell_type": "code",
      "source": [
        "df = pd.read_csv('fraude_em_cartao_de_credito.csv')\n",
        "df.head()"
      ],
      "metadata": {
        "colab": {
          "base_uri": "https://localhost:8080/",
          "height": 300
        },
        "id": "QwIouARYD5ia",
        "outputId": "b7ae3b9b-4876-4b14-a124-4d56605baf0d"
      },
      "execution_count": null,
      "outputs": [
        {
          "output_type": "execute_result",
          "data": {
            "text/plain": [
              "         f0        f1        f2        f3        f4        f5        f6  \\\n",
              "0 -0.969781 -1.650574 -0.628913 -1.691092 -1.477751 -0.628768 -0.046908   \n",
              "1 -1.224213  0.534225 -0.951029  0.375252 -0.186034  0.712699 -0.202158   \n",
              "2  0.594308  0.491569 -1.394929  1.206783  1.147946  0.571385 -0.941333   \n",
              "3  1.104081  0.253214  1.398726  1.208175  0.443822  0.102821 -0.615884   \n",
              "4  0.203884 -0.164055 -0.628322  0.236933 -0.598334  0.448331 -1.246621   \n",
              "\n",
              "         f7        f8        f9  ...       f11       f12       f13       f14  \\\n",
              "0 -1.049127  0.466186 -0.942794  ... -1.214985 -0.197611 -1.564459  0.064090   \n",
              "1  0.838773 -0.053232  1.040443  ...  0.697091 -0.068655  0.748391 -0.208193   \n",
              "2  1.246614 -0.239523 -0.663464  ...  0.685957  0.535532  0.119008  1.154772   \n",
              "3 -0.580218 -1.917046  0.761122  ... -1.216294  0.643695 -0.726431  1.646161   \n",
              "4 -1.120051 -0.917750  0.888408  ...  1.137012  0.106594 -2.681995 -1.673327   \n",
              "\n",
              "        f15       f16       f17       f18       f19  class  \n",
              "0 -0.847784 -0.411003 -0.250578 -0.936020  0.769469      0  \n",
              "1 -0.289533 -1.173952  0.993719 -0.060707 -0.965607      1  \n",
              "2 -0.504898 -0.847183 -0.689269  0.768352 -1.070108      1  \n",
              "3 -0.090221 -0.665464  0.602500  0.429398  0.748708      0  \n",
              "4  1.295357  1.022215 -0.897329 -0.374499  1.072438      0  \n",
              "\n",
              "[5 rows x 21 columns]"
            ],
            "text/html": [
              "\n",
              "  <div id=\"df-f044965a-caf7-4f88-a353-41e0a8ad908b\">\n",
              "    <div class=\"colab-df-container\">\n",
              "      <div>\n",
              "<style scoped>\n",
              "    .dataframe tbody tr th:only-of-type {\n",
              "        vertical-align: middle;\n",
              "    }\n",
              "\n",
              "    .dataframe tbody tr th {\n",
              "        vertical-align: top;\n",
              "    }\n",
              "\n",
              "    .dataframe thead th {\n",
              "        text-align: right;\n",
              "    }\n",
              "</style>\n",
              "<table border=\"1\" class=\"dataframe\">\n",
              "  <thead>\n",
              "    <tr style=\"text-align: right;\">\n",
              "      <th></th>\n",
              "      <th>f0</th>\n",
              "      <th>f1</th>\n",
              "      <th>f2</th>\n",
              "      <th>f3</th>\n",
              "      <th>f4</th>\n",
              "      <th>f5</th>\n",
              "      <th>f6</th>\n",
              "      <th>f7</th>\n",
              "      <th>f8</th>\n",
              "      <th>f9</th>\n",
              "      <th>...</th>\n",
              "      <th>f11</th>\n",
              "      <th>f12</th>\n",
              "      <th>f13</th>\n",
              "      <th>f14</th>\n",
              "      <th>f15</th>\n",
              "      <th>f16</th>\n",
              "      <th>f17</th>\n",
              "      <th>f18</th>\n",
              "      <th>f19</th>\n",
              "      <th>class</th>\n",
              "    </tr>\n",
              "  </thead>\n",
              "  <tbody>\n",
              "    <tr>\n",
              "      <th>0</th>\n",
              "      <td>-0.969781</td>\n",
              "      <td>-1.650574</td>\n",
              "      <td>-0.628913</td>\n",
              "      <td>-1.691092</td>\n",
              "      <td>-1.477751</td>\n",
              "      <td>-0.628768</td>\n",
              "      <td>-0.046908</td>\n",
              "      <td>-1.049127</td>\n",
              "      <td>0.466186</td>\n",
              "      <td>-0.942794</td>\n",
              "      <td>...</td>\n",
              "      <td>-1.214985</td>\n",
              "      <td>-0.197611</td>\n",
              "      <td>-1.564459</td>\n",
              "      <td>0.064090</td>\n",
              "      <td>-0.847784</td>\n",
              "      <td>-0.411003</td>\n",
              "      <td>-0.250578</td>\n",
              "      <td>-0.936020</td>\n",
              "      <td>0.769469</td>\n",
              "      <td>0</td>\n",
              "    </tr>\n",
              "    <tr>\n",
              "      <th>1</th>\n",
              "      <td>-1.224213</td>\n",
              "      <td>0.534225</td>\n",
              "      <td>-0.951029</td>\n",
              "      <td>0.375252</td>\n",
              "      <td>-0.186034</td>\n",
              "      <td>0.712699</td>\n",
              "      <td>-0.202158</td>\n",
              "      <td>0.838773</td>\n",
              "      <td>-0.053232</td>\n",
              "      <td>1.040443</td>\n",
              "      <td>...</td>\n",
              "      <td>0.697091</td>\n",
              "      <td>-0.068655</td>\n",
              "      <td>0.748391</td>\n",
              "      <td>-0.208193</td>\n",
              "      <td>-0.289533</td>\n",
              "      <td>-1.173952</td>\n",
              "      <td>0.993719</td>\n",
              "      <td>-0.060707</td>\n",
              "      <td>-0.965607</td>\n",
              "      <td>1</td>\n",
              "    </tr>\n",
              "    <tr>\n",
              "      <th>2</th>\n",
              "      <td>0.594308</td>\n",
              "      <td>0.491569</td>\n",
              "      <td>-1.394929</td>\n",
              "      <td>1.206783</td>\n",
              "      <td>1.147946</td>\n",
              "      <td>0.571385</td>\n",
              "      <td>-0.941333</td>\n",
              "      <td>1.246614</td>\n",
              "      <td>-0.239523</td>\n",
              "      <td>-0.663464</td>\n",
              "      <td>...</td>\n",
              "      <td>0.685957</td>\n",
              "      <td>0.535532</td>\n",
              "      <td>0.119008</td>\n",
              "      <td>1.154772</td>\n",
              "      <td>-0.504898</td>\n",
              "      <td>-0.847183</td>\n",
              "      <td>-0.689269</td>\n",
              "      <td>0.768352</td>\n",
              "      <td>-1.070108</td>\n",
              "      <td>1</td>\n",
              "    </tr>\n",
              "    <tr>\n",
              "      <th>3</th>\n",
              "      <td>1.104081</td>\n",
              "      <td>0.253214</td>\n",
              "      <td>1.398726</td>\n",
              "      <td>1.208175</td>\n",
              "      <td>0.443822</td>\n",
              "      <td>0.102821</td>\n",
              "      <td>-0.615884</td>\n",
              "      <td>-0.580218</td>\n",
              "      <td>-1.917046</td>\n",
              "      <td>0.761122</td>\n",
              "      <td>...</td>\n",
              "      <td>-1.216294</td>\n",
              "      <td>0.643695</td>\n",
              "      <td>-0.726431</td>\n",
              "      <td>1.646161</td>\n",
              "      <td>-0.090221</td>\n",
              "      <td>-0.665464</td>\n",
              "      <td>0.602500</td>\n",
              "      <td>0.429398</td>\n",
              "      <td>0.748708</td>\n",
              "      <td>0</td>\n",
              "    </tr>\n",
              "    <tr>\n",
              "      <th>4</th>\n",
              "      <td>0.203884</td>\n",
              "      <td>-0.164055</td>\n",
              "      <td>-0.628322</td>\n",
              "      <td>0.236933</td>\n",
              "      <td>-0.598334</td>\n",
              "      <td>0.448331</td>\n",
              "      <td>-1.246621</td>\n",
              "      <td>-1.120051</td>\n",
              "      <td>-0.917750</td>\n",
              "      <td>0.888408</td>\n",
              "      <td>...</td>\n",
              "      <td>1.137012</td>\n",
              "      <td>0.106594</td>\n",
              "      <td>-2.681995</td>\n",
              "      <td>-1.673327</td>\n",
              "      <td>1.295357</td>\n",
              "      <td>1.022215</td>\n",
              "      <td>-0.897329</td>\n",
              "      <td>-0.374499</td>\n",
              "      <td>1.072438</td>\n",
              "      <td>0</td>\n",
              "    </tr>\n",
              "  </tbody>\n",
              "</table>\n",
              "<p>5 rows × 21 columns</p>\n",
              "</div>\n",
              "      <button class=\"colab-df-convert\" onclick=\"convertToInteractive('df-f044965a-caf7-4f88-a353-41e0a8ad908b')\"\n",
              "              title=\"Convert this dataframe to an interactive table.\"\n",
              "              style=\"display:none;\">\n",
              "        \n",
              "  <svg xmlns=\"http://www.w3.org/2000/svg\" height=\"24px\"viewBox=\"0 0 24 24\"\n",
              "       width=\"24px\">\n",
              "    <path d=\"M0 0h24v24H0V0z\" fill=\"none\"/>\n",
              "    <path d=\"M18.56 5.44l.94 2.06.94-2.06 2.06-.94-2.06-.94-.94-2.06-.94 2.06-2.06.94zm-11 1L8.5 8.5l.94-2.06 2.06-.94-2.06-.94L8.5 2.5l-.94 2.06-2.06.94zm10 10l.94 2.06.94-2.06 2.06-.94-2.06-.94-.94-2.06-.94 2.06-2.06.94z\"/><path d=\"M17.41 7.96l-1.37-1.37c-.4-.4-.92-.59-1.43-.59-.52 0-1.04.2-1.43.59L10.3 9.45l-7.72 7.72c-.78.78-.78 2.05 0 2.83L4 21.41c.39.39.9.59 1.41.59.51 0 1.02-.2 1.41-.59l7.78-7.78 2.81-2.81c.8-.78.8-2.07 0-2.86zM5.41 20L4 18.59l7.72-7.72 1.47 1.35L5.41 20z\"/>\n",
              "  </svg>\n",
              "      </button>\n",
              "      \n",
              "  <style>\n",
              "    .colab-df-container {\n",
              "      display:flex;\n",
              "      flex-wrap:wrap;\n",
              "      gap: 12px;\n",
              "    }\n",
              "\n",
              "    .colab-df-convert {\n",
              "      background-color: #E8F0FE;\n",
              "      border: none;\n",
              "      border-radius: 50%;\n",
              "      cursor: pointer;\n",
              "      display: none;\n",
              "      fill: #1967D2;\n",
              "      height: 32px;\n",
              "      padding: 0 0 0 0;\n",
              "      width: 32px;\n",
              "    }\n",
              "\n",
              "    .colab-df-convert:hover {\n",
              "      background-color: #E2EBFA;\n",
              "      box-shadow: 0px 1px 2px rgba(60, 64, 67, 0.3), 0px 1px 3px 1px rgba(60, 64, 67, 0.15);\n",
              "      fill: #174EA6;\n",
              "    }\n",
              "\n",
              "    [theme=dark] .colab-df-convert {\n",
              "      background-color: #3B4455;\n",
              "      fill: #D2E3FC;\n",
              "    }\n",
              "\n",
              "    [theme=dark] .colab-df-convert:hover {\n",
              "      background-color: #434B5C;\n",
              "      box-shadow: 0px 1px 3px 1px rgba(0, 0, 0, 0.15);\n",
              "      filter: drop-shadow(0px 1px 2px rgba(0, 0, 0, 0.3));\n",
              "      fill: #FFFFFF;\n",
              "    }\n",
              "  </style>\n",
              "\n",
              "      <script>\n",
              "        const buttonEl =\n",
              "          document.querySelector('#df-f044965a-caf7-4f88-a353-41e0a8ad908b button.colab-df-convert');\n",
              "        buttonEl.style.display =\n",
              "          google.colab.kernel.accessAllowed ? 'block' : 'none';\n",
              "\n",
              "        async function convertToInteractive(key) {\n",
              "          const element = document.querySelector('#df-f044965a-caf7-4f88-a353-41e0a8ad908b');\n",
              "          const dataTable =\n",
              "            await google.colab.kernel.invokeFunction('convertToInteractive',\n",
              "                                                     [key], {});\n",
              "          if (!dataTable) return;\n",
              "\n",
              "          const docLinkHtml = 'Like what you see? Visit the ' +\n",
              "            '<a target=\"_blank\" href=https://colab.research.google.com/notebooks/data_table.ipynb>data table notebook</a>'\n",
              "            + ' to learn more about interactive tables.';\n",
              "          element.innerHTML = '';\n",
              "          dataTable['output_type'] = 'display_data';\n",
              "          await google.colab.output.renderOutput(dataTable, element);\n",
              "          const docLink = document.createElement('div');\n",
              "          docLink.innerHTML = docLinkHtml;\n",
              "          element.appendChild(docLink);\n",
              "        }\n",
              "      </script>\n",
              "    </div>\n",
              "  </div>\n",
              "  "
            ]
          },
          "metadata": {},
          "execution_count": 20
        }
      ]
    },
    {
      "cell_type": "markdown",
      "source": [
        "# Verificar desbalanceamento"
      ],
      "metadata": {
        "id": "Ht7H7YSeD8cF"
      }
    },
    {
      "cell_type": "code",
      "source": [
        "df['class'].value_counts(normalize=True)"
      ],
      "metadata": {
        "colab": {
          "base_uri": "https://localhost:8080/"
        },
        "id": "Whv7jG1mF3iV",
        "outputId": "fda42b74-ff7f-4ee6-f51e-37b841e1826e"
      },
      "execution_count": null,
      "outputs": [
        {
          "output_type": "execute_result",
          "data": {
            "text/plain": [
              "0    0.6804\n",
              "1    0.3196\n",
              "Name: class, dtype: float64"
            ]
          },
          "metadata": {},
          "execution_count": 21
        }
      ]
    },
    {
      "cell_type": "markdown",
      "source": [
        "# Tipos de dados"
      ],
      "metadata": {
        "id": "XFeguZovF8GE"
      }
    },
    {
      "cell_type": "code",
      "source": [
        "df.dtypes"
      ],
      "metadata": {
        "colab": {
          "base_uri": "https://localhost:8080/"
        },
        "id": "_QSBWV-xF9no",
        "outputId": "2b7f98c0-605b-492a-b79d-443d842a6cfe"
      },
      "execution_count": null,
      "outputs": [
        {
          "output_type": "execute_result",
          "data": {
            "text/plain": [
              "f0       float64\n",
              "f1       float64\n",
              "f2       float64\n",
              "f3       float64\n",
              "f4       float64\n",
              "f5       float64\n",
              "f6       float64\n",
              "f7       float64\n",
              "f8       float64\n",
              "f9       float64\n",
              "f10      float64\n",
              "f11      float64\n",
              "f12      float64\n",
              "f13      float64\n",
              "f14      float64\n",
              "f15      float64\n",
              "f16      float64\n",
              "f17      float64\n",
              "f18      float64\n",
              "f19      float64\n",
              "class      int64\n",
              "dtype: object"
            ]
          },
          "metadata": {},
          "execution_count": 22
        }
      ]
    },
    {
      "cell_type": "markdown",
      "source": [
        "# Dados faltantes"
      ],
      "metadata": {
        "id": "D1oDlP6gF_TU"
      }
    },
    {
      "cell_type": "code",
      "source": [
        "df.isna().sum()"
      ],
      "metadata": {
        "colab": {
          "base_uri": "https://localhost:8080/"
        },
        "id": "BgyiU82cGCkU",
        "outputId": "9bfdc80a-0384-4e43-b628-7afd11ff2d99"
      },
      "execution_count": null,
      "outputs": [
        {
          "output_type": "execute_result",
          "data": {
            "text/plain": [
              "f0       0\n",
              "f1       0\n",
              "f2       0\n",
              "f3       0\n",
              "f4       0\n",
              "f5       0\n",
              "f6       0\n",
              "f7       0\n",
              "f8       0\n",
              "f9       0\n",
              "f10      0\n",
              "f11      0\n",
              "f12      0\n",
              "f13      0\n",
              "f14      0\n",
              "f15      0\n",
              "f16      0\n",
              "f17      0\n",
              "f18      0\n",
              "f19      0\n",
              "class    0\n",
              "dtype: int64"
            ]
          },
          "metadata": {},
          "execution_count": 23
        }
      ]
    },
    {
      "cell_type": "markdown",
      "source": [
        "# Train-test-split"
      ],
      "metadata": {
        "id": "hHbSHWuhHDyy"
      }
    },
    {
      "cell_type": "code",
      "source": [
        "X = df.drop(columns=['class'])\n",
        "y = df['class']"
      ],
      "metadata": {
        "id": "v8ogxnlIHgSy"
      },
      "execution_count": null,
      "outputs": []
    },
    {
      "cell_type": "code",
      "source": [
        "X_train, X_test, y_train, y_test = train_test_split(X, y, stratify=y, random_state=42)"
      ],
      "metadata": {
        "id": "zWG9VW83HZ31"
      },
      "execution_count": null,
      "outputs": []
    },
    {
      "cell_type": "markdown",
      "source": [
        "# Pipeline de pré-processamento de dados"
      ],
      "metadata": {
        "id": "wqAniITKGQwS"
      }
    },
    {
      "cell_type": "code",
      "source": [
        "preprocessing = ColumnTransformer(\n",
        "    transformers = [('num', StandardScaler(), selector(dtype_include=['float64']))]\n",
        ")"
      ],
      "metadata": {
        "id": "98B_TQNFGZ29"
      },
      "execution_count": null,
      "outputs": []
    },
    {
      "cell_type": "markdown",
      "source": [
        "# Modelagem"
      ],
      "metadata": {
        "id": "fF0xeUH3HsJU"
      }
    },
    {
      "cell_type": "markdown",
      "source": [
        "## Sem Balanceamento"
      ],
      "metadata": {
        "id": "lMFpPWj1rUjX"
      }
    },
    {
      "cell_type": "markdown",
      "source": [
        "### Logistic Regression"
      ],
      "metadata": {
        "id": "qwW75tOjrZuG"
      }
    },
    {
      "cell_type": "code",
      "source": [
        "pipeline_lr = Pipeline(\n",
        "    [\n",
        "        ('pp', preprocessing),\n",
        "        ('lr', LogisticRegression(random_state=42))\n",
        "    ]\n",
        ")"
      ],
      "metadata": {
        "id": "JMqjjvtdHtpE"
      },
      "execution_count": null,
      "outputs": []
    },
    {
      "cell_type": "markdown",
      "source": [
        "### $k$-nearest neighbors"
      ],
      "metadata": {
        "id": "fGquJiVCrbmA"
      }
    },
    {
      "cell_type": "code",
      "source": [
        "pipeline_knn = Pipeline(\n",
        "    [\n",
        "        ('pp', preprocessing),\n",
        "        ('knn', KNeighborsClassifier())\n",
        "    ]\n",
        ")"
      ],
      "metadata": {
        "id": "ZLbrC4YLJ_p4"
      },
      "execution_count": null,
      "outputs": []
    },
    {
      "cell_type": "markdown",
      "source": [
        "### Decision Tree"
      ],
      "metadata": {
        "id": "BTXczOQWremP"
      }
    },
    {
      "cell_type": "code",
      "source": [
        "pipeline_dt = Pipeline(\n",
        "    [\n",
        "        ('pp', preprocessing),\n",
        "        ('dt', DecisionTreeClassifier(random_state=42))\n",
        "    ]\n",
        ")"
      ],
      "metadata": {
        "id": "PaF28ipkKABv"
      },
      "execution_count": null,
      "outputs": []
    },
    {
      "cell_type": "markdown",
      "source": [
        "## Random Oversampling"
      ],
      "metadata": {
        "id": "l9eNInBkroMo"
      }
    },
    {
      "cell_type": "markdown",
      "source": [
        "### Logistic Regression"
      ],
      "metadata": {
        "id": "8UjtyM29roMo"
      }
    },
    {
      "cell_type": "code",
      "source": [
        "pipeline_ros_lr = Pipeline(\n",
        "    [\n",
        "        ('pp', preprocessing),\n",
        "        ('ros', RandomOverSampler(random_state=42)),\n",
        "        ('lr', LogisticRegression(random_state=42))\n",
        "    ]\n",
        ")"
      ],
      "metadata": {
        "id": "caMiIB5groMo"
      },
      "execution_count": null,
      "outputs": []
    },
    {
      "cell_type": "markdown",
      "source": [
        "### $k$-nearest neighbors"
      ],
      "metadata": {
        "id": "ECQDXNLBroMp"
      }
    },
    {
      "cell_type": "code",
      "source": [
        "pipeline_ros_knn = Pipeline(\n",
        "    [\n",
        "        ('pp', preprocessing),\n",
        "        ('ros', RandomOverSampler(random_state=42)),\n",
        "        ('knn', KNeighborsClassifier())\n",
        "    ]\n",
        ")"
      ],
      "metadata": {
        "id": "EQB0yP_uroMp"
      },
      "execution_count": null,
      "outputs": []
    },
    {
      "cell_type": "markdown",
      "source": [
        "### Decision Tree"
      ],
      "metadata": {
        "id": "24ST3VwrroMp"
      }
    },
    {
      "cell_type": "code",
      "source": [
        "pipeline_ros_dt = Pipeline(\n",
        "    [\n",
        "        ('pp', preprocessing),\n",
        "         ('ros', RandomOverSampler(random_state=42)),\n",
        "        ('dt', DecisionTreeClassifier(random_state=42))\n",
        "    ]\n",
        ")"
      ],
      "metadata": {
        "id": "j5vSH9rKroMp"
      },
      "execution_count": null,
      "outputs": []
    },
    {
      "cell_type": "markdown",
      "source": [
        "## SMOTE"
      ],
      "metadata": {
        "id": "gXvttBpJ3teW"
      }
    },
    {
      "cell_type": "markdown",
      "source": [
        "### Logistic Regression"
      ],
      "metadata": {
        "id": "Tp7E1dBE3teb"
      }
    },
    {
      "cell_type": "code",
      "source": [
        "pipeline_smt_lr = Pipeline(\n",
        "    [\n",
        "        ('pp', preprocessing),\n",
        "        ('smt', SMOTE(random_state=42)),\n",
        "        ('lr', LogisticRegression(random_state=42))\n",
        "    ]\n",
        ")"
      ],
      "metadata": {
        "id": "NPDXDCgw3teb"
      },
      "execution_count": null,
      "outputs": []
    },
    {
      "cell_type": "markdown",
      "source": [
        "### $k$-nearest neighbors"
      ],
      "metadata": {
        "id": "Rc8ir8D-3teb"
      }
    },
    {
      "cell_type": "code",
      "source": [
        "pipeline_smt_knn = Pipeline(\n",
        "    [\n",
        "        ('pp', preprocessing),\n",
        "        ('smt', SMOTE(random_state=42)),\n",
        "        ('knn', KNeighborsClassifier())\n",
        "    ]\n",
        ")"
      ],
      "metadata": {
        "id": "p_sRJJEY3teb"
      },
      "execution_count": null,
      "outputs": []
    },
    {
      "cell_type": "markdown",
      "source": [
        "### Decision Tree"
      ],
      "metadata": {
        "id": "0WdSoGsu3teb"
      }
    },
    {
      "cell_type": "code",
      "source": [
        "pipeline_smt_dt = Pipeline(\n",
        "    [\n",
        "        ('pp', preprocessing),\n",
        "        ('smt', SMOTE(random_state=42)),\n",
        "        ('dt', DecisionTreeClassifier(random_state=42))\n",
        "    ]\n",
        ")"
      ],
      "metadata": {
        "id": "egB3VEqP3teb"
      },
      "execution_count": null,
      "outputs": []
    },
    {
      "cell_type": "markdown",
      "source": [
        "## ADASYN"
      ],
      "metadata": {
        "id": "YxoHnj-yDAxE"
      }
    },
    {
      "cell_type": "markdown",
      "source": [
        "### Logistic Regression"
      ],
      "metadata": {
        "id": "41XEKIFdDAxJ"
      }
    },
    {
      "cell_type": "code",
      "source": [
        "pipeline_asy_lr = Pipeline(\n",
        "    [\n",
        "        ('pp', preprocessing),\n",
        "        ('asy', ADASYN(random_state=42)),\n",
        "        ('lr', LogisticRegression(random_state=42))\n",
        "    ]\n",
        ")"
      ],
      "metadata": {
        "id": "tqNsyXB8DAxJ"
      },
      "execution_count": null,
      "outputs": []
    },
    {
      "cell_type": "markdown",
      "source": [
        "### $k$-nearest neighbors"
      ],
      "metadata": {
        "id": "87uhF8nvDAxJ"
      }
    },
    {
      "cell_type": "code",
      "source": [
        "pipeline_asy_knn = Pipeline(\n",
        "    [\n",
        "        ('pp', preprocessing),\n",
        "        ('asy', ADASYN(random_state=42)),\n",
        "        ('knn', KNeighborsClassifier())\n",
        "    ]\n",
        ")"
      ],
      "metadata": {
        "id": "r0vcuvcYDAxK"
      },
      "execution_count": null,
      "outputs": []
    },
    {
      "cell_type": "markdown",
      "source": [
        "### Decision Tree"
      ],
      "metadata": {
        "id": "aTNLRfxjDAxK"
      }
    },
    {
      "cell_type": "code",
      "source": [
        "pipeline_asy_dt = Pipeline(\n",
        "    [\n",
        "        ('pp', preprocessing),\n",
        "        ('asy', ADASYN(random_state=42)),\n",
        "        ('dt', DecisionTreeClassifier(random_state=42))\n",
        "    ]\n",
        ")"
      ],
      "metadata": {
        "id": "pD8tCkCDDAxK"
      },
      "execution_count": null,
      "outputs": []
    },
    {
      "cell_type": "markdown",
      "source": [
        "## Random Oversampling"
      ],
      "metadata": {
        "id": "IWsuXYKOLmsU"
      }
    },
    {
      "cell_type": "markdown",
      "source": [
        "### Logistic Regression"
      ],
      "metadata": {
        "id": "ZdqoH3FbLmsa"
      }
    },
    {
      "cell_type": "code",
      "source": [
        "pipeline_rus_lr = Pipeline(\n",
        "    [\n",
        "        ('pp', preprocessing),\n",
        "        ('rus', RandomUnderSampler(random_state=42)),\n",
        "        ('lr', LogisticRegression(random_state=42))\n",
        "    ]\n",
        ")"
      ],
      "metadata": {
        "id": "w8BVWoNgLmsa"
      },
      "execution_count": null,
      "outputs": []
    },
    {
      "cell_type": "markdown",
      "source": [
        "### $k$-nearest neighbors"
      ],
      "metadata": {
        "id": "yjR8RujhLmsa"
      }
    },
    {
      "cell_type": "code",
      "source": [
        "pipeline_rus_knn = Pipeline(\n",
        "    [\n",
        "        ('pp', preprocessing),\n",
        "        ('rus', RandomUnderSampler(random_state=42)),\n",
        "        ('knn', KNeighborsClassifier())\n",
        "    ]\n",
        ")"
      ],
      "metadata": {
        "id": "gBTLQsdYLmsa"
      },
      "execution_count": null,
      "outputs": []
    },
    {
      "cell_type": "markdown",
      "source": [
        "### Decision Tree"
      ],
      "metadata": {
        "id": "Lux1GUyvLmsa"
      }
    },
    {
      "cell_type": "code",
      "source": [
        "pipeline_rus_dt = Pipeline(\n",
        "    [\n",
        "        ('pp', preprocessing),\n",
        "        ('rus', RandomUnderSampler(random_state=42)),\n",
        "        ('dt', DecisionTreeClassifier(random_state=42))\n",
        "    ]\n",
        ")"
      ],
      "metadata": {
        "id": "enMlIzmgLmsa"
      },
      "execution_count": null,
      "outputs": []
    },
    {
      "cell_type": "markdown",
      "source": [
        "## NearMiss"
      ],
      "metadata": {
        "id": "4-Axn1WyaCF4"
      }
    },
    {
      "cell_type": "markdown",
      "source": [
        "### NearMiss-1"
      ],
      "metadata": {
        "id": "MtJo3D_JaFf4"
      }
    },
    {
      "cell_type": "markdown",
      "source": [
        "#### Logistic Regression"
      ],
      "metadata": {
        "id": "C2E00EtFaCF9"
      }
    },
    {
      "cell_type": "code",
      "source": [
        "pipeline_nmi_1_lr = Pipeline(\n",
        "    [\n",
        "        ('pp', preprocessing),\n",
        "        ('nmi_1', NearMiss(version=1)),\n",
        "        ('lr', LogisticRegression(random_state=42))\n",
        "    ]\n",
        ")"
      ],
      "metadata": {
        "id": "dCvwzA67aCF-"
      },
      "execution_count": null,
      "outputs": []
    },
    {
      "cell_type": "markdown",
      "source": [
        "#### $k$-nearest neighbors"
      ],
      "metadata": {
        "id": "_17K538GaCF-"
      }
    },
    {
      "cell_type": "code",
      "source": [
        "pipeline_nmi_1_knn = Pipeline(\n",
        "    [\n",
        "        ('pp', preprocessing),\n",
        "        ('nmi_1', NearMiss(version=1)),\n",
        "        ('knn', KNeighborsClassifier())\n",
        "    ]\n",
        ")"
      ],
      "metadata": {
        "id": "Aqg-8UOcaCF-"
      },
      "execution_count": null,
      "outputs": []
    },
    {
      "cell_type": "markdown",
      "source": [
        "#### Decision Tree"
      ],
      "metadata": {
        "id": "gR4dkhPYaCF-"
      }
    },
    {
      "cell_type": "code",
      "source": [
        "pipeline_nmi_1_dt = Pipeline(\n",
        "    [\n",
        "        ('pp', preprocessing),\n",
        "        ('nmi_1', NearMiss(version=1)),\n",
        "        ('dt', DecisionTreeClassifier(random_state=42))\n",
        "    ]\n",
        ")"
      ],
      "metadata": {
        "id": "gwXUWSjyaCF-"
      },
      "execution_count": null,
      "outputs": []
    },
    {
      "cell_type": "markdown",
      "source": [
        "### NearMiss-2"
      ],
      "metadata": {
        "id": "K60Ib8SRaW9I"
      }
    },
    {
      "cell_type": "markdown",
      "source": [
        "#### Logistic Regression"
      ],
      "metadata": {
        "id": "nnF9fNOtaW9I"
      }
    },
    {
      "cell_type": "code",
      "source": [
        "pipeline_nmi_2_lr = Pipeline(\n",
        "    [\n",
        "        ('pp', preprocessing),\n",
        "        ('nmi_2', NearMiss(version=2)),\n",
        "        ('lr', LogisticRegression(random_state=42))\n",
        "    ]\n",
        ")"
      ],
      "metadata": {
        "id": "gUa7Nh3OaW9I"
      },
      "execution_count": null,
      "outputs": []
    },
    {
      "cell_type": "markdown",
      "source": [
        "#### $k$-nearest neighbors"
      ],
      "metadata": {
        "id": "W_WB0Jm6aW9J"
      }
    },
    {
      "cell_type": "code",
      "source": [
        "pipeline_nmi_2_knn = Pipeline(\n",
        "    [\n",
        "        ('pp', preprocessing),\n",
        "        ('nmi_2', NearMiss(version=2)),\n",
        "        ('knn', KNeighborsClassifier())\n",
        "    ]\n",
        ")"
      ],
      "metadata": {
        "id": "8znYE3JbaW9J"
      },
      "execution_count": null,
      "outputs": []
    },
    {
      "cell_type": "markdown",
      "source": [
        "#### Decision Tree"
      ],
      "metadata": {
        "id": "0BOrvUcbaW9J"
      }
    },
    {
      "cell_type": "code",
      "source": [
        "pipeline_nmi_2_dt = Pipeline(\n",
        "    [\n",
        "        ('pp', preprocessing),\n",
        "        ('nmi_2', NearMiss(version=2)),\n",
        "        ('dt', DecisionTreeClassifier(random_state=42))\n",
        "    ]\n",
        ")"
      ],
      "metadata": {
        "id": "dUPSKqazaW9J"
      },
      "execution_count": null,
      "outputs": []
    },
    {
      "cell_type": "markdown",
      "source": [
        "### NearMiss-3"
      ],
      "metadata": {
        "id": "AIFNtdL1aXnh"
      }
    },
    {
      "cell_type": "markdown",
      "source": [
        "#### Logistic Regression"
      ],
      "metadata": {
        "id": "A4UlNriyaXni"
      }
    },
    {
      "cell_type": "code",
      "source": [
        "pipeline_nmi_3_lr = Pipeline(\n",
        "    [\n",
        "        ('pp', preprocessing),\n",
        "        ('nmi_3', NearMiss(version=3)),\n",
        "        ('lr', LogisticRegression(random_state=42))\n",
        "    ]\n",
        ")"
      ],
      "metadata": {
        "id": "oa19Vj7DaXni"
      },
      "execution_count": null,
      "outputs": []
    },
    {
      "cell_type": "markdown",
      "source": [
        "#### $k$-nearest neighbors"
      ],
      "metadata": {
        "id": "XiAQkfdDaXni"
      }
    },
    {
      "cell_type": "code",
      "source": [
        "pipeline_nmi_3_knn = Pipeline(\n",
        "    [\n",
        "        ('pp', preprocessing),\n",
        "        ('nmi_3', NearMiss(version=3)),\n",
        "        ('knn', KNeighborsClassifier())\n",
        "    ]\n",
        ")"
      ],
      "metadata": {
        "id": "1DXTQXwpaXni"
      },
      "execution_count": null,
      "outputs": []
    },
    {
      "cell_type": "markdown",
      "source": [
        "#### Decision Tree"
      ],
      "metadata": {
        "id": "18Ly2rK1aXni"
      }
    },
    {
      "cell_type": "code",
      "source": [
        "pipeline_nmi_3_dt = Pipeline(\n",
        "    [\n",
        "        ('pp', preprocessing),\n",
        "        ('nmi_3', NearMiss(version=3)),\n",
        "        ('dt', DecisionTreeClassifier(random_state=42))\n",
        "    ]\n",
        ")"
      ],
      "metadata": {
        "id": "wVGGfET4aXni"
      },
      "execution_count": null,
      "outputs": []
    },
    {
      "cell_type": "markdown",
      "source": [
        "## CNN"
      ],
      "metadata": {
        "id": "5Vz3Un3DmI18"
      }
    },
    {
      "cell_type": "markdown",
      "source": [
        "### Logistic Regression"
      ],
      "metadata": {
        "id": "RPstSffhmI2B"
      }
    },
    {
      "cell_type": "code",
      "source": [
        "pipeline_cnn_lr = Pipeline(\n",
        "    [\n",
        "        ('pp', preprocessing),\n",
        "        ('cnn', CondensedNearestNeighbour(random_state=42, n_jobs=-1)),\n",
        "        ('lr', LogisticRegression(random_state=42))\n",
        "    ]\n",
        ")"
      ],
      "metadata": {
        "id": "tpIEPn44mI2C"
      },
      "execution_count": null,
      "outputs": []
    },
    {
      "cell_type": "markdown",
      "source": [
        "### $k$-nearest neighbors"
      ],
      "metadata": {
        "id": "sqjzxfXmmI2C"
      }
    },
    {
      "cell_type": "code",
      "source": [
        "pipeline_cnn_knn = Pipeline(\n",
        "    [\n",
        "        ('pp', preprocessing),\n",
        "        ('cnn', CondensedNearestNeighbour(random_state=42, n_jobs=-1)),\n",
        "        ('knn', KNeighborsClassifier())\n",
        "    ]\n",
        ")"
      ],
      "metadata": {
        "id": "gES4O0MImI2C"
      },
      "execution_count": null,
      "outputs": []
    },
    {
      "cell_type": "markdown",
      "source": [
        "### Decision Tree"
      ],
      "metadata": {
        "id": "8HgfkM6vmI2C"
      }
    },
    {
      "cell_type": "code",
      "source": [
        "pipeline_cnn_dt = Pipeline(\n",
        "    [\n",
        "        ('pp', preprocessing),\n",
        "        ('cnn', CondensedNearestNeighbour(random_state=42, n_jobs=-1)),\n",
        "        ('dt', DecisionTreeClassifier(random_state=42))\n",
        "    ]\n",
        ")"
      ],
      "metadata": {
        "id": "agm87FgKmI2C"
      },
      "execution_count": null,
      "outputs": []
    },
    {
      "cell_type": "markdown",
      "source": [
        "# Avaliação"
      ],
      "metadata": {
        "id": "rEDHat97H6mf"
      }
    },
    {
      "cell_type": "code",
      "source": [
        "skf  = StratifiedKFold(n_splits=10, shuffle=True, random_state=42)"
      ],
      "metadata": {
        "id": "7rpEHb4RIGpV"
      },
      "execution_count": null,
      "outputs": []
    },
    {
      "cell_type": "markdown",
      "source": [
        "## Sem balanceamento"
      ],
      "metadata": {
        "id": "xHWKlSaXsElE"
      }
    },
    {
      "cell_type": "code",
      "source": [
        "res = cross_val_score(pipeline_lr, X_train, y_train, cv=skf, scoring='f1')\n",
        "res.mean()"
      ],
      "metadata": {
        "colab": {
          "base_uri": "https://localhost:8080/"
        },
        "id": "P0MBvmLlH9K0",
        "outputId": "aa7d90f8-54b2-424a-bac8-ab9afaa32225"
      },
      "execution_count": null,
      "outputs": [
        {
          "output_type": "execute_result",
          "data": {
            "text/plain": [
              "0.8093817602174468"
            ]
          },
          "metadata": {},
          "execution_count": 55
        }
      ]
    },
    {
      "cell_type": "code",
      "source": [
        "res = cross_val_score(pipeline_knn, X_train, y_train, cv=skf, scoring='f1')\n",
        "res.mean()"
      ],
      "metadata": {
        "colab": {
          "base_uri": "https://localhost:8080/"
        },
        "id": "Ya3spS2yINEa",
        "outputId": "2fb1ad7e-7cbd-4aee-b323-aa4d278450b7"
      },
      "execution_count": null,
      "outputs": [
        {
          "output_type": "execute_result",
          "data": {
            "text/plain": [
              "0.7250687770995903"
            ]
          },
          "metadata": {},
          "execution_count": 56
        }
      ]
    },
    {
      "cell_type": "code",
      "source": [
        "res = cross_val_score(pipeline_dt, X_train, y_train, cv=skf, scoring='f1')\n",
        "res.mean()"
      ],
      "metadata": {
        "colab": {
          "base_uri": "https://localhost:8080/"
        },
        "id": "3pefWfipKJ2w",
        "outputId": "f4d8c7fb-1c28-492d-8767-7a0ae423d0ea"
      },
      "execution_count": null,
      "outputs": [
        {
          "output_type": "execute_result",
          "data": {
            "text/plain": [
              "0.7697192549892733"
            ]
          },
          "metadata": {},
          "execution_count": 57
        }
      ]
    },
    {
      "cell_type": "markdown",
      "source": [
        "## Random Oversampling"
      ],
      "metadata": {
        "id": "qgRN7FfaKMtv"
      }
    },
    {
      "cell_type": "code",
      "source": [
        "res = cross_val_score(pipeline_ros_lr, X_train, y_train, cv=skf, scoring='f1')\n",
        "res.mean()"
      ],
      "metadata": {
        "colab": {
          "base_uri": "https://localhost:8080/"
        },
        "id": "5wSpnXNRsJVU",
        "outputId": "c87b5d28-5f9c-4d29-fd84-6e41e37b2d93"
      },
      "execution_count": null,
      "outputs": [
        {
          "output_type": "execute_result",
          "data": {
            "text/plain": [
              "0.7953494626770745"
            ]
          },
          "metadata": {},
          "execution_count": 40
        }
      ]
    },
    {
      "cell_type": "code",
      "source": [
        "res = cross_val_score(pipeline_ros_knn, X_train, y_train, cv=skf, scoring='f1')\n",
        "res.mean()"
      ],
      "metadata": {
        "colab": {
          "base_uri": "https://localhost:8080/"
        },
        "id": "ElZ-1GiLsMK-",
        "outputId": "0b46f7ba-950d-4a8c-d4e5-aee642024645"
      },
      "execution_count": null,
      "outputs": [
        {
          "output_type": "execute_result",
          "data": {
            "text/plain": [
              "0.7243561438185071"
            ]
          },
          "metadata": {},
          "execution_count": 41
        }
      ]
    },
    {
      "cell_type": "code",
      "source": [
        "res = cross_val_score(pipeline_ros_dt, X_train, y_train, cv=skf, scoring='f1')\n",
        "res.mean()"
      ],
      "metadata": {
        "colab": {
          "base_uri": "https://localhost:8080/"
        },
        "id": "TtRe4_josMih",
        "outputId": "5832dfa6-dd83-48cc-cd1b-1e493ff69ced"
      },
      "execution_count": null,
      "outputs": [
        {
          "output_type": "execute_result",
          "data": {
            "text/plain": [
              "0.762497049863646"
            ]
          },
          "metadata": {},
          "execution_count": 42
        }
      ]
    },
    {
      "cell_type": "markdown",
      "source": [
        "## SMOTE"
      ],
      "metadata": {
        "id": "p9bXB3vl36W3"
      }
    },
    {
      "cell_type": "code",
      "source": [
        "res = cross_val_score(pipeline_smt_lr, X_train, y_train, cv=skf, scoring='f1')\n",
        "res.mean()"
      ],
      "metadata": {
        "colab": {
          "base_uri": "https://localhost:8080/"
        },
        "outputId": "20a6ebf3-f9ab-4e8e-9aee-7db55aed6ad4",
        "id": "3H5vMgl936W3"
      },
      "execution_count": null,
      "outputs": [
        {
          "output_type": "execute_result",
          "data": {
            "text/plain": [
              "0.7960658655650577"
            ]
          },
          "metadata": {},
          "execution_count": 43
        }
      ]
    },
    {
      "cell_type": "code",
      "source": [
        "res = cross_val_score(pipeline_smt_knn, X_train, y_train, cv=skf, scoring='f1')\n",
        "res.mean()"
      ],
      "metadata": {
        "colab": {
          "base_uri": "https://localhost:8080/"
        },
        "outputId": "e545cf03-e813-491e-8116-8e0085666abd",
        "id": "YnhMkjGP36W4"
      },
      "execution_count": null,
      "outputs": [
        {
          "output_type": "execute_result",
          "data": {
            "text/plain": [
              "0.729924881268291"
            ]
          },
          "metadata": {},
          "execution_count": 44
        }
      ]
    },
    {
      "cell_type": "code",
      "source": [
        "res = cross_val_score(pipeline_smt_dt, X_train, y_train, cv=skf, scoring='f1')\n",
        "res.mean()"
      ],
      "metadata": {
        "colab": {
          "base_uri": "https://localhost:8080/"
        },
        "outputId": "6d2c67c5-9ab9-4d9c-8e20-98a7c2349cd9",
        "id": "TmrUJ87G36W4"
      },
      "execution_count": null,
      "outputs": [
        {
          "output_type": "execute_result",
          "data": {
            "text/plain": [
              "0.7591965332201513"
            ]
          },
          "metadata": {},
          "execution_count": 45
        }
      ]
    },
    {
      "cell_type": "markdown",
      "source": [
        "## ADASYN"
      ],
      "metadata": {
        "id": "r0xEo1Y5DLDY"
      }
    },
    {
      "cell_type": "code",
      "source": [
        "res = cross_val_score(pipeline_asy_lr, X_train, y_train, cv=skf, scoring='f1')\n",
        "res.mean()"
      ],
      "metadata": {
        "colab": {
          "base_uri": "https://localhost:8080/"
        },
        "outputId": "cb1e58f0-688d-4f66-cd1b-9f126e564c8b",
        "id": "iGEqT3ZKDLDd"
      },
      "execution_count": null,
      "outputs": [
        {
          "output_type": "execute_result",
          "data": {
            "text/plain": [
              "0.7886695606299362"
            ]
          },
          "metadata": {},
          "execution_count": 46
        }
      ]
    },
    {
      "cell_type": "code",
      "source": [
        "res = cross_val_score(pipeline_asy_knn, X_train, y_train, cv=skf, scoring='f1')\n",
        "res.mean()"
      ],
      "metadata": {
        "colab": {
          "base_uri": "https://localhost:8080/"
        },
        "outputId": "e79da207-d455-4a6c-f60f-60cb73ae5894",
        "id": "1wRCv6V3DLDd"
      },
      "execution_count": null,
      "outputs": [
        {
          "output_type": "execute_result",
          "data": {
            "text/plain": [
              "0.7185772080158916"
            ]
          },
          "metadata": {},
          "execution_count": 47
        }
      ]
    },
    {
      "cell_type": "code",
      "source": [
        "res = cross_val_score(pipeline_asy_dt, X_train, y_train, cv=skf, scoring='f1')\n",
        "res.mean()"
      ],
      "metadata": {
        "colab": {
          "base_uri": "https://localhost:8080/"
        },
        "outputId": "8f848a84-9aca-4079-c2ed-fffcaafb5441",
        "id": "GihjREeFDLDd"
      },
      "execution_count": null,
      "outputs": [
        {
          "output_type": "execute_result",
          "data": {
            "text/plain": [
              "0.7606064757933844"
            ]
          },
          "metadata": {},
          "execution_count": 48
        }
      ]
    },
    {
      "cell_type": "markdown",
      "source": [
        "## Random Undersampling"
      ],
      "metadata": {
        "id": "OfCaJ02ILwvN"
      }
    },
    {
      "cell_type": "code",
      "source": [
        "res = cross_val_score(pipeline_rus_lr, X_train, y_train, cv=skf, scoring='f1')\n",
        "res.mean()"
      ],
      "metadata": {
        "colab": {
          "base_uri": "https://localhost:8080/"
        },
        "outputId": "b84e2824-3f0a-4ece-c940-ba26557379f1",
        "id": "zOfyLwhfLwvO"
      },
      "execution_count": null,
      "outputs": [
        {
          "output_type": "execute_result",
          "data": {
            "text/plain": [
              "0.7946931528697699"
            ]
          },
          "metadata": {},
          "execution_count": 49
        }
      ]
    },
    {
      "cell_type": "code",
      "source": [
        "res = cross_val_score(pipeline_rus_knn, X_train, y_train, cv=skf, scoring='f1')\n",
        "res.mean()"
      ],
      "metadata": {
        "colab": {
          "base_uri": "https://localhost:8080/"
        },
        "outputId": "bfdf91c8-061f-4ceb-a0cb-cd364e7275b8",
        "id": "jVm8CK0yLwvO"
      },
      "execution_count": null,
      "outputs": [
        {
          "output_type": "execute_result",
          "data": {
            "text/plain": [
              "0.7515877819011731"
            ]
          },
          "metadata": {},
          "execution_count": 50
        }
      ]
    },
    {
      "cell_type": "code",
      "source": [
        "res = cross_val_score(pipeline_rus_dt, X_train, y_train, cv=skf, scoring='f1')\n",
        "res.mean()"
      ],
      "metadata": {
        "colab": {
          "base_uri": "https://localhost:8080/"
        },
        "outputId": "589d98d9-8ef9-4f83-e146-5744eadcd13c",
        "id": "VAdtzPOJLwvO"
      },
      "execution_count": null,
      "outputs": [
        {
          "output_type": "execute_result",
          "data": {
            "text/plain": [
              "0.7629057650658486"
            ]
          },
          "metadata": {},
          "execution_count": 51
        }
      ]
    },
    {
      "cell_type": "markdown",
      "source": [
        "## NearMiss"
      ],
      "metadata": {
        "id": "lF-HA5qsalC1"
      }
    },
    {
      "cell_type": "markdown",
      "source": [
        "### NearMiss-1"
      ],
      "metadata": {
        "id": "k6dX8B58anbH"
      }
    },
    {
      "cell_type": "code",
      "source": [
        "res = cross_val_score(pipeline_nmi_1_lr, X_train, y_train, cv=skf, scoring='f1')\n",
        "res.mean()"
      ],
      "metadata": {
        "colab": {
          "base_uri": "https://localhost:8080/"
        },
        "outputId": "16d280f0-7552-482e-bcfd-675f3f051f92",
        "id": "5AZ-gjEJalC2"
      },
      "execution_count": null,
      "outputs": [
        {
          "output_type": "execute_result",
          "data": {
            "text/plain": [
              "0.8115848250943181"
            ]
          },
          "metadata": {},
          "execution_count": 52
        }
      ]
    },
    {
      "cell_type": "code",
      "source": [
        "res = cross_val_score(pipeline_nmi_1_knn, X_train, y_train, cv=skf, scoring='f1')\n",
        "res.mean()"
      ],
      "metadata": {
        "colab": {
          "base_uri": "https://localhost:8080/"
        },
        "outputId": "d6f5be22-b981-49d6-da3b-6fe9c1a1ff05",
        "id": "DQd2ZZ_DalC3"
      },
      "execution_count": null,
      "outputs": [
        {
          "output_type": "execute_result",
          "data": {
            "text/plain": [
              "0.7259710343593008"
            ]
          },
          "metadata": {},
          "execution_count": 53
        }
      ]
    },
    {
      "cell_type": "code",
      "source": [
        "res = cross_val_score(pipeline_nmi_1_dt, X_train, y_train, cv=skf, scoring='f1')\n",
        "res.mean()"
      ],
      "metadata": {
        "colab": {
          "base_uri": "https://localhost:8080/"
        },
        "outputId": "6c9d7746-a4f4-453e-f57e-d42005c078aa",
        "id": "SmKGMpCBalC3"
      },
      "execution_count": null,
      "outputs": [
        {
          "output_type": "execute_result",
          "data": {
            "text/plain": [
              "0.6984638745509862"
            ]
          },
          "metadata": {},
          "execution_count": 54
        }
      ]
    },
    {
      "cell_type": "markdown",
      "source": [
        "### NearMiss-2"
      ],
      "metadata": {
        "id": "SdBi8ijJawjN"
      }
    },
    {
      "cell_type": "code",
      "source": [
        "res = cross_val_score(pipeline_nmi_2_lr, X_train, y_train, cv=skf, scoring='f1')\n",
        "res.mean()"
      ],
      "metadata": {
        "colab": {
          "base_uri": "https://localhost:8080/"
        },
        "outputId": "7e0e90f3-6a22-43fb-f7f4-fc999843b58c",
        "id": "lIXduZXeawjN"
      },
      "execution_count": null,
      "outputs": [
        {
          "output_type": "execute_result",
          "data": {
            "text/plain": [
              "0.8081179918725347"
            ]
          },
          "metadata": {},
          "execution_count": 55
        }
      ]
    },
    {
      "cell_type": "code",
      "source": [
        "res = cross_val_score(pipeline_nmi_2_knn, X_train, y_train, cv=skf, scoring='f1')\n",
        "res.mean()"
      ],
      "metadata": {
        "colab": {
          "base_uri": "https://localhost:8080/"
        },
        "outputId": "0674b0fa-308d-49df-b597-c83f45aaefa0",
        "id": "ucRB3JHmawjN"
      },
      "execution_count": null,
      "outputs": [
        {
          "output_type": "execute_result",
          "data": {
            "text/plain": [
              "0.7337825854408814"
            ]
          },
          "metadata": {},
          "execution_count": 56
        }
      ]
    },
    {
      "cell_type": "code",
      "source": [
        "res = cross_val_score(pipeline_nmi_2_dt, X_train, y_train, cv=skf, scoring='f1')\n",
        "res.mean()"
      ],
      "metadata": {
        "colab": {
          "base_uri": "https://localhost:8080/"
        },
        "outputId": "70912084-22b3-43b8-8328-e28391838eb9",
        "id": "kOSw7_ixawjN"
      },
      "execution_count": null,
      "outputs": [
        {
          "output_type": "execute_result",
          "data": {
            "text/plain": [
              "0.6807891049172505"
            ]
          },
          "metadata": {},
          "execution_count": 57
        }
      ]
    },
    {
      "cell_type": "markdown",
      "source": [
        "### NearMiss-3"
      ],
      "metadata": {
        "id": "dO-MkBb0aw8V"
      }
    },
    {
      "cell_type": "code",
      "source": [
        "from warnings import simplefilter\n",
        "simplefilter(action='ignore', category=UserWarning)\n",
        "\n",
        "res = cross_val_score(pipeline_nmi_3_lr, X_train, y_train, cv=skf, scoring='f1')\n",
        "res.mean()"
      ],
      "metadata": {
        "colab": {
          "base_uri": "https://localhost:8080/"
        },
        "outputId": "cfe45e09-4d0e-4d39-c6f7-c5652bf6e346",
        "id": "y7-sisVkaw8V"
      },
      "execution_count": null,
      "outputs": [
        {
          "output_type": "execute_result",
          "data": {
            "text/plain": [
              "0.807326452489813"
            ]
          },
          "metadata": {},
          "execution_count": 58
        }
      ]
    },
    {
      "cell_type": "code",
      "source": [
        "res = cross_val_score(pipeline_nmi_3_knn, X_train, y_train, cv=skf, scoring='f1')\n",
        "res.mean()"
      ],
      "metadata": {
        "colab": {
          "base_uri": "https://localhost:8080/"
        },
        "outputId": "37cc9198-09fb-48ec-dfac-85f4d4669b84",
        "id": "MBKML9Djaw8V"
      },
      "execution_count": null,
      "outputs": [
        {
          "output_type": "execute_result",
          "data": {
            "text/plain": [
              "0.7217220767607773"
            ]
          },
          "metadata": {},
          "execution_count": 59
        }
      ]
    },
    {
      "cell_type": "code",
      "source": [
        "res = cross_val_score(pipeline_nmi_3_dt, X_train, y_train, cv=skf, scoring='f1')\n",
        "res.mean()"
      ],
      "metadata": {
        "colab": {
          "base_uri": "https://localhost:8080/"
        },
        "outputId": "47880546-24a7-403c-aa6f-ef10c589e2c5",
        "id": "HK0jrybGaw8V"
      },
      "execution_count": null,
      "outputs": [
        {
          "output_type": "execute_result",
          "data": {
            "text/plain": [
              "0.6935638552977393"
            ]
          },
          "metadata": {},
          "execution_count": 60
        }
      ]
    },
    {
      "cell_type": "code",
      "source": [],
      "metadata": {
        "id": "-rNx7WorlFTc"
      },
      "execution_count": null,
      "outputs": []
    },
    {
      "cell_type": "markdown",
      "source": [
        "## CNN"
      ],
      "metadata": {
        "id": "ZCqQsQ2hmViC"
      }
    },
    {
      "cell_type": "code",
      "source": [
        "res = cross_val_score(pipeline_cnn_lr, X_train, y_train, cv=skf, scoring='f1', n_jobs=-1)\n",
        "res.mean()"
      ],
      "metadata": {
        "colab": {
          "base_uri": "https://localhost:8080/"
        },
        "outputId": "5d12dc67-0890-4cbf-b0ca-6c60a5a0ad87",
        "id": "8kN7p3yUmViD"
      },
      "execution_count": null,
      "outputs": [
        {
          "output_type": "execute_result",
          "data": {
            "text/plain": [
              "0.7903485797981264"
            ]
          },
          "metadata": {},
          "execution_count": 61
        }
      ]
    },
    {
      "cell_type": "code",
      "source": [
        "res = cross_val_score(pipeline_cnn_knn, X_train, y_train, cv=skf, scoring='f1', n_jobs=-1)\n",
        "res.mean()"
      ],
      "metadata": {
        "colab": {
          "base_uri": "https://localhost:8080/"
        },
        "outputId": "b2175972-f1bf-4517-f866-007bad9bfa27",
        "id": "4rshqGnZmViD"
      },
      "execution_count": null,
      "outputs": [
        {
          "output_type": "execute_result",
          "data": {
            "text/plain": [
              "0.7278781791313544"
            ]
          },
          "metadata": {},
          "execution_count": 62
        }
      ]
    },
    {
      "cell_type": "code",
      "source": [
        "res = cross_val_score(pipeline_cnn_dt, X_train, y_train, cv=skf, scoring='f1', n_jobs=-1)\n",
        "res.mean()"
      ],
      "metadata": {
        "colab": {
          "base_uri": "https://localhost:8080/"
        },
        "outputId": "fb44a8af-17b0-4fc2-ab22-b5e08a139a1a",
        "id": "Uq-eo_-JmViD"
      },
      "execution_count": null,
      "outputs": [
        {
          "output_type": "execute_result",
          "data": {
            "text/plain": [
              "0.7300744757707818"
            ]
          },
          "metadata": {},
          "execution_count": 58
        }
      ]
    },
    {
      "cell_type": "code",
      "source": [],
      "metadata": {
        "id": "WtK3XDjRg79H"
      },
      "execution_count": null,
      "outputs": []
    }
  ]
}