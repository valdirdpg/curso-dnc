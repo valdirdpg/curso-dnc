{
 "cells": [
  {
   "cell_type": "markdown",
   "metadata": {
    "id": "pGcaupB1DL9y"
   },
   "source": [
    "**ASSISTA A AULA \"Heroku e Metabase: entendendo suas funcionalidades \" PARA ACESSAR O METABASE**\n",
    "\n",
    "\n",
    "\n",
    "É essencial no dia a dia de um Analista, Cientista e Engenheiro de Dados analisarmos os dados brutos através do SQL e responder perguntas importantes do nosso dia a dia e sobre o negócio. Para responder e observar esses problemas através do dados é indispensável a utilização do SQL e uma ferramenta de BI (Metabase) para disponibilizar os dados de forma rápida e prática para os tomadores de decisão.\n",
    "\n",
    "Aqui temos a Lojinha de Presentes da DNC, que é responsável por vender apetrechos, aparelhos, presentinhos e outros itens da mesma categoria para alunos da DNC. Você como um consultor, deve analisar os dados brutos de venda e responder algumas questões chaves para que os tomadores de decisão tenham informação suficiente para decidir a continuidade de algum produto, se fazem ou não promoções e no final, fornecer um dashboard para que os mesmos consigam acompanhar os resultados dessas tomadas de decisão.\n",
    "\n",
    "Primeiro analise os dados disponíveis e entenda como as diversas tabelas se comunicam entre sí. Usando SQL/ Metabase, responda as 5 questões abaixo: "
   ]
  },
  {
   "cell_type": "markdown",
   "metadata": {
    "id": "cdIAjlvIDPRe"
   },
   "source": [
    "**1 - Quais os 5 produtos mais caros da tabela products?**"
   ]
  },
  {
   "cell_type": "markdown",
   "metadata": {
    "id": "DuuTEkp-EErh"
   },
   "source": [
    "**2 - Quais os 5 produtos mais vendidos da loja?**"
   ]
  },
  {
   "cell_type": "markdown",
   "metadata": {
    "id": "qVIrh8tWD_cq"
   },
   "source": [
    "**3 - Quais os 5 produtos da loja mais vendidos em 2020?**"
   ]
  },
  {
   "cell_type": "markdown",
   "metadata": {
    "id": "DtcIDgAvEf9A"
   },
   "source": [
    "**4 - Quais os 5 produtos mais avaliados?**"
   ]
  },
  {
   "cell_type": "markdown",
   "metadata": {
    "id": "PW31Gg3uEjcu"
   },
   "source": [
    "**5 - De todas as avaliações, qual é a pessoa que mais avaliou algum produto com nota 5? (Em caso de empate, selecione por ordem alfabética: A- B- C-..)**"
   ]
  },
  {
   "cell_type": "markdown",
   "metadata": {
    "id": "e2fKqcOIEzMO"
   },
   "source": [
    "**6 - Calcule o ticket médio por pessoa de todos os pedidos registrados na tabela ORDERS. (Ticket Médio = Total de vendas (Em U$S)/ Número de pedidos)?**"
   ]
  },
  {
   "cell_type": "markdown",
   "metadata": {
    "id": "TEOHM_0XGMpL"
   },
   "source": [
    "**7 - Construa um gráfico de linhas que apresente o número de pedidos e total de vendas em U$S no mesmo gráfico (Gráfico com 2 eixos y). Dica utilize esse link: https://www.metabase.com/learn/sql-questions/dates-in-sql#group-results-by-a-time-period**"
   ]
  },
  {
   "cell_type": "markdown",
   "metadata": {
    "id": "cRRiKTqrGSrP"
   },
   "source": [
    "**8 - O ticket médio por Mês de vendas? (Utilizar a dica da questão anterior)**"
   ]
  },
  {
   "cell_type": "markdown",
   "metadata": {
    "id": "xMprCbypGWvC"
   },
   "source": [
    "**9 - Top 5 mais bem avaliados produtos ( Em caso de empate, escolha o mais barato)**"
   ]
  },
  {
   "cell_type": "markdown",
   "metadata": {
    "id": "ZfmK3JICGaNv"
   },
   "source": [
    "**10 - Agrupando por fornecedor, quais são os Top 10 fornecedores que mais geraram rendimento em Dezembro de 2019 (Considere rendimento como a soma total do valor do pedido e não a quantidade de pedidos daquele fornecedor).**"
   ]
  },
  {
   "cell_type": "markdown",
   "metadata": {
    "id": "1qktm5HbGfEU"
   },
   "source": [
    "**11 - Mostre o total de pedidos distintos por categoria dos pedidos realizados no ano de 2019 ou posterior e que algum cliente tenha avaliado o produto com nota 4 ou maior.**"
   ]
  }
 ],
 "metadata": {
  "colab": {
   "provenance": []
  },
  "kernelspec": {
   "display_name": "Python 3 (ipykernel)",
   "language": "python",
   "name": "python3"
  },
  "language_info": {
   "codemirror_mode": {
    "name": "ipython",
    "version": 3
   },
   "file_extension": ".py",
   "mimetype": "text/x-python",
   "name": "python",
   "nbconvert_exporter": "python",
   "pygments_lexer": "ipython3",
   "version": "3.9.7"
  }
 },
 "nbformat": 4,
 "nbformat_minor": 1
}
