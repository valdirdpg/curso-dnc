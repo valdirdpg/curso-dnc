{
 "cells": [
  {
   "cell_type": "code",
   "execution_count": 12,
   "metadata": {},
   "outputs": [],
   "source": [
    "from sklearn.cluster import DBSCAN\n",
    "from sklearn import metrics\n",
    "from sklearn.datasets import make_blobs\n",
    "from sklearn.preprocessing import StandardScaler\n",
    "import numpy as np\n",
    "import matplotlib.pyplot as plt\n",
    "import pandas as pd\n",
    "import seaborn as sns"
   ]
  },
  {
   "cell_type": "code",
   "execution_count": 40,
   "metadata": {},
   "outputs": [],
   "source": [
    "x, y = make_blobs(n_samples=2000, centers=3, n_features=5, cluster_std=1.5, random_state=2)"
   ]
  },
  {
   "cell_type": "code",
   "execution_count": 41,
   "metadata": {},
   "outputs": [
    {
     "data": {
      "text/html": [
       "<div>\n",
       "<style scoped>\n",
       "    .dataframe tbody tr th:only-of-type {\n",
       "        vertical-align: middle;\n",
       "    }\n",
       "\n",
       "    .dataframe tbody tr th {\n",
       "        vertical-align: top;\n",
       "    }\n",
       "\n",
       "    .dataframe thead th {\n",
       "        text-align: right;\n",
       "    }\n",
       "</style>\n",
       "<table border=\"1\" class=\"dataframe\">\n",
       "  <thead>\n",
       "    <tr style=\"text-align: right;\">\n",
       "      <th></th>\n",
       "      <th>0</th>\n",
       "      <th>1</th>\n",
       "      <th>2</th>\n",
       "      <th>3</th>\n",
       "      <th>4</th>\n",
       "    </tr>\n",
       "  </thead>\n",
       "  <tbody>\n",
       "    <tr>\n",
       "      <th>0</th>\n",
       "      <td>-1.244852</td>\n",
       "      <td>-9.112637</td>\n",
       "      <td>2.183669</td>\n",
       "      <td>-2.023166</td>\n",
       "      <td>-1.351262</td>\n",
       "    </tr>\n",
       "    <tr>\n",
       "      <th>1</th>\n",
       "      <td>-0.682735</td>\n",
       "      <td>-7.992280</td>\n",
       "      <td>2.177245</td>\n",
       "      <td>-0.438400</td>\n",
       "      <td>-3.141359</td>\n",
       "    </tr>\n",
       "    <tr>\n",
       "      <th>2</th>\n",
       "      <td>-2.618118</td>\n",
       "      <td>-4.854426</td>\n",
       "      <td>2.197459</td>\n",
       "      <td>-1.864361</td>\n",
       "      <td>-4.311947</td>\n",
       "    </tr>\n",
       "    <tr>\n",
       "      <th>3</th>\n",
       "      <td>2.880403</td>\n",
       "      <td>2.130902</td>\n",
       "      <td>-6.496691</td>\n",
       "      <td>3.281046</td>\n",
       "      <td>-6.837910</td>\n",
       "    </tr>\n",
       "    <tr>\n",
       "      <th>4</th>\n",
       "      <td>-1.466544</td>\n",
       "      <td>-9.867771</td>\n",
       "      <td>2.609239</td>\n",
       "      <td>-1.571378</td>\n",
       "      <td>0.155062</td>\n",
       "    </tr>\n",
       "    <tr>\n",
       "      <th>...</th>\n",
       "      <td>...</td>\n",
       "      <td>...</td>\n",
       "      <td>...</td>\n",
       "      <td>...</td>\n",
       "      <td>...</td>\n",
       "    </tr>\n",
       "    <tr>\n",
       "      <th>1995</th>\n",
       "      <td>-3.231743</td>\n",
       "      <td>-12.021972</td>\n",
       "      <td>2.767073</td>\n",
       "      <td>-0.007571</td>\n",
       "      <td>-0.935848</td>\n",
       "    </tr>\n",
       "    <tr>\n",
       "      <th>1996</th>\n",
       "      <td>-0.098745</td>\n",
       "      <td>-8.799511</td>\n",
       "      <td>1.236538</td>\n",
       "      <td>0.587827</td>\n",
       "      <td>1.509718</td>\n",
       "    </tr>\n",
       "    <tr>\n",
       "      <th>1997</th>\n",
       "      <td>-0.456811</td>\n",
       "      <td>-9.404179</td>\n",
       "      <td>3.073827</td>\n",
       "      <td>2.449229</td>\n",
       "      <td>-1.502100</td>\n",
       "    </tr>\n",
       "    <tr>\n",
       "      <th>1998</th>\n",
       "      <td>-3.538422</td>\n",
       "      <td>-5.372192</td>\n",
       "      <td>3.327116</td>\n",
       "      <td>-5.859133</td>\n",
       "      <td>-7.821249</td>\n",
       "    </tr>\n",
       "    <tr>\n",
       "      <th>1999</th>\n",
       "      <td>2.576510</td>\n",
       "      <td>-0.142570</td>\n",
       "      <td>-7.668938</td>\n",
       "      <td>-2.386961</td>\n",
       "      <td>-6.722007</td>\n",
       "    </tr>\n",
       "  </tbody>\n",
       "</table>\n",
       "<p>2000 rows × 5 columns</p>\n",
       "</div>"
      ],
      "text/plain": [
       "             0          1         2         3         4\n",
       "0    -1.244852  -9.112637  2.183669 -2.023166 -1.351262\n",
       "1    -0.682735  -7.992280  2.177245 -0.438400 -3.141359\n",
       "2    -2.618118  -4.854426  2.197459 -1.864361 -4.311947\n",
       "3     2.880403   2.130902 -6.496691  3.281046 -6.837910\n",
       "4    -1.466544  -9.867771  2.609239 -1.571378  0.155062\n",
       "...        ...        ...       ...       ...       ...\n",
       "1995 -3.231743 -12.021972  2.767073 -0.007571 -0.935848\n",
       "1996 -0.098745  -8.799511  1.236538  0.587827  1.509718\n",
       "1997 -0.456811  -9.404179  3.073827  2.449229 -1.502100\n",
       "1998 -3.538422  -5.372192  3.327116 -5.859133 -7.821249\n",
       "1999  2.576510  -0.142570 -7.668938 -2.386961 -6.722007\n",
       "\n",
       "[2000 rows x 5 columns]"
      ]
     },
     "execution_count": 41,
     "metadata": {},
     "output_type": "execute_result"
    }
   ],
   "source": [
    "df = pd.DataFrame(x)\n",
    "df"
   ]
  },
  {
   "cell_type": "code",
   "execution_count": 42,
   "metadata": {},
   "outputs": [
    {
     "data": {
      "text/html": [
       "<div>\n",
       "<style scoped>\n",
       "    .dataframe tbody tr th:only-of-type {\n",
       "        vertical-align: middle;\n",
       "    }\n",
       "\n",
       "    .dataframe tbody tr th {\n",
       "        vertical-align: top;\n",
       "    }\n",
       "\n",
       "    .dataframe thead th {\n",
       "        text-align: right;\n",
       "    }\n",
       "</style>\n",
       "<table border=\"1\" class=\"dataframe\">\n",
       "  <thead>\n",
       "    <tr style=\"text-align: right;\">\n",
       "      <th></th>\n",
       "      <th>0</th>\n",
       "      <th>1</th>\n",
       "      <th>2</th>\n",
       "      <th>3</th>\n",
       "      <th>4</th>\n",
       "    </tr>\n",
       "  </thead>\n",
       "  <tbody>\n",
       "    <tr>\n",
       "      <th>count</th>\n",
       "      <td>2000.000000</td>\n",
       "      <td>2000.000000</td>\n",
       "      <td>2000.000000</td>\n",
       "      <td>2000.000000</td>\n",
       "      <td>2000.000000</td>\n",
       "    </tr>\n",
       "    <tr>\n",
       "      <th>mean</th>\n",
       "      <td>-0.790486</td>\n",
       "      <td>-4.965014</td>\n",
       "      <td>-1.332422</td>\n",
       "      <td>-1.663105</td>\n",
       "      <td>-4.158391</td>\n",
       "    </tr>\n",
       "    <tr>\n",
       "      <th>std</th>\n",
       "      <td>2.835795</td>\n",
       "      <td>4.425038</td>\n",
       "      <td>4.554414</td>\n",
       "      <td>2.337711</td>\n",
       "      <td>2.478194</td>\n",
       "    </tr>\n",
       "    <tr>\n",
       "      <th>min</th>\n",
       "      <td>-8.585162</td>\n",
       "      <td>-13.730730</td>\n",
       "      <td>-11.461209</td>\n",
       "      <td>-9.420152</td>\n",
       "      <td>-11.451672</td>\n",
       "    </tr>\n",
       "    <tr>\n",
       "      <th>25%</th>\n",
       "      <td>-3.026011</td>\n",
       "      <td>-8.658548</td>\n",
       "      <td>-6.431887</td>\n",
       "      <td>-3.424154</td>\n",
       "      <td>-6.079813</td>\n",
       "    </tr>\n",
       "    <tr>\n",
       "      <th>50%</th>\n",
       "      <td>-1.123243</td>\n",
       "      <td>-5.961293</td>\n",
       "      <td>0.568423</td>\n",
       "      <td>-1.483272</td>\n",
       "      <td>-4.398024</td>\n",
       "    </tr>\n",
       "    <tr>\n",
       "      <th>75%</th>\n",
       "      <td>1.473632</td>\n",
       "      <td>-0.502273</td>\n",
       "      <td>2.198277</td>\n",
       "      <td>0.011818</td>\n",
       "      <td>-2.359991</td>\n",
       "    </tr>\n",
       "    <tr>\n",
       "      <th>max</th>\n",
       "      <td>7.747904</td>\n",
       "      <td>4.313292</td>\n",
       "      <td>7.539517</td>\n",
       "      <td>5.762647</td>\n",
       "      <td>3.050941</td>\n",
       "    </tr>\n",
       "  </tbody>\n",
       "</table>\n",
       "</div>"
      ],
      "text/plain": [
       "                 0            1            2            3            4\n",
       "count  2000.000000  2000.000000  2000.000000  2000.000000  2000.000000\n",
       "mean     -0.790486    -4.965014    -1.332422    -1.663105    -4.158391\n",
       "std       2.835795     4.425038     4.554414     2.337711     2.478194\n",
       "min      -8.585162   -13.730730   -11.461209    -9.420152   -11.451672\n",
       "25%      -3.026011    -8.658548    -6.431887    -3.424154    -6.079813\n",
       "50%      -1.123243    -5.961293     0.568423    -1.483272    -4.398024\n",
       "75%       1.473632    -0.502273     2.198277     0.011818    -2.359991\n",
       "max       7.747904     4.313292     7.539517     5.762647     3.050941"
      ]
     },
     "execution_count": 42,
     "metadata": {},
     "output_type": "execute_result"
    }
   ],
   "source": [
    "df.describe()"
   ]
  },
  {
   "cell_type": "code",
   "execution_count": 43,
   "metadata": {},
   "outputs": [
    {
     "data": {
      "image/png": "[encoded data removed]",
      "text/plain": [
       "<Figure size 432x288 with 1 Axes>"
      ]
     },
     "metadata": {
      "needs_background": "light"
     },
     "output_type": "display_data"
    },
    {
     "data": {
      "image/png": "[encoded data removed]",
      "text/plain": [
       "<Figure size 432x288 with 1 Axes>"
      ]
     },
     "metadata": {
      "needs_background": "light"
     },
     "output_type": "display_data"
    },
    {
     "data": {
      "image/png": "[encoded data removed]",
      "text/plain": [
       "<Figure size 432x288 with 1 Axes>"
      ]
     },
     "metadata": {
      "needs_background": "light"
     },
     "output_type": "display_data"
    },
    {
     "data": {
      "image/png": "[encoded data removed]",
      "text/plain": [
       "<Figure size 432x288 with 1 Axes>"
      ]
     },
     "metadata": {
      "needs_background": "light"
     },
     "output_type": "display_data"
    },
    {
     "data": {
      "image/png": "[encoded data removed]",
      "text/plain": [
       "<Figure size 432x288 with 1 Axes>"
      ]
     },
     "metadata": {
      "needs_background": "light"
     },
     "output_type": "display_data"
    }
   ],
   "source": [
    "for col in df.columns:\n",
    "    sns.histplot(df, x=col, bins=50)\n",
    "    plt.show()"
   ]
  },
  {
   "cell_type": "code",
   "execution_count": 90,
   "metadata": {},
   "outputs": [],
   "source": [
    "db = DBSCAN(eps=2.8, min_samples=10)\n",
    "clt = db.fit(x)\n",
    "clusters = np.unique(clt.labels_)"
   ]
  },
  {
   "cell_type": "code",
   "execution_count": 80,
   "metadata": {},
   "outputs": [
    {
     "data": {
      "text/plain": [
       "{'algorithm': 'auto',\n",
       " 'eps': 5,\n",
       " 'leaf_size': 30,\n",
       " 'metric': 'euclidean',\n",
       " 'metric_params': None,\n",
       " 'min_samples': 10,\n",
       " 'n_jobs': None,\n",
       " 'p': None}"
      ]
     },
     "execution_count": 80,
     "metadata": {},
     "output_type": "execute_result"
    }
   ],
   "source": [
    "db.get_params()"
   ]
  },
  {
   "cell_type": "code",
   "execution_count": 91,
   "metadata": {},
   "outputs": [
    {
     "data": {
      "text/plain": [
       " 0    1327\n",
       " 1     657\n",
       "-1      16\n",
       "Name: dbscan_clusters, dtype: int64"
      ]
     },
     "execution_count": 91,
     "metadata": {},
     "output_type": "execute_result"
    }
   ],
   "source": [
    "df['dbscan_clusters'] = clt.labels_\n",
    "df['dbscan_clusters'].value_counts()"
   ]
  },
  {
   "cell_type": "code",
   "execution_count": 58,
   "metadata": {},
   "outputs": [
    {
     "data": {
      "text/plain": [
       "array([DBSCAN(eps=2, min_samples=8)], dtype=object)"
      ]
     },
     "execution_count": 58,
     "metadata": {},
     "output_type": "execute_result"
    }
   ],
   "source": [
    "clusters"
   ]
  },
  {
   "cell_type": "code",
   "execution_count": 56,
   "metadata": {},
   "outputs": [
    {
     "data": {
      "text/plain": [
       " 0    1220\n",
       " 1     602\n",
       "-1     178\n",
       "dtype: int64"
      ]
     },
     "execution_count": 56,
     "metadata": {},
     "output_type": "execute_result"
    }
   ],
   "source": [
    "pd.Series(db.labels_).value_counts()"
   ]
  },
  {
   "cell_type": "code",
   "execution_count": 92,
   "metadata": {},
   "outputs": [
    {
     "data": {
      "text/plain": [
       "array([0, 0, 0, ..., 0, 0, 1])"
      ]
     },
     "execution_count": 92,
     "metadata": {},
     "output_type": "execute_result"
    }
   ],
   "source": [
    "db.labels_"
   ]
  },
  {
   "cell_type": "code",
   "execution_count": 96,
   "metadata": {},
   "outputs": [
    {
     "data": {
      "image/png": "[encoded data removed]",
      "text/plain": [
       "<Figure size 720x504 with 1 Axes>"
      ]
     },
     "metadata": {
      "needs_background": "light"
     },
     "output_type": "display_data"
    }
   ],
   "source": [
    "fig= plt.figure(figsize=(10,7))\n",
    "# create scatter plot for samples from each cluster\n",
    "for cluster in clusters:\n",
    "    # get row indexes for samples with this cluster\n",
    "    row_ix = np.where(clt.labels_ == cluster)\n",
    "    # create scatter of these samples\n",
    "    plt.scatter(x[row_ix, 0], x[row_ix, 1])\n",
    "# show the plot\n",
    "plt.show()"
   ]
  },
  {
   "cell_type": "code",
   "execution_count": 97,
   "metadata": {},
   "outputs": [
    {
     "data": {
      "text/plain": [
       "array([0, 0, 2, ..., 0, 2, 1], dtype=int32)"
      ]
     },
     "execution_count": 97,
     "metadata": {},
     "output_type": "execute_result"
    }
   ],
   "source": [
    "from sklearn.cluster import KMeans\n",
    "kmeans = KMeans(n_clusters=3, random_state=0).fit(x)\n",
    "kmeans.labels_\n"
   ]
  },
  {
   "cell_type": "code",
   "execution_count": 98,
   "metadata": {},
   "outputs": [
    {
     "data": {
      "text/plain": [
       "Index([0, 1, 2, 3, 4, 'dbscan_clusters'], dtype='object')"
      ]
     },
     "execution_count": 98,
     "metadata": {},
     "output_type": "execute_result"
    }
   ],
   "source": [
    "df.columns"
   ]
  },
  {
   "cell_type": "code",
   "execution_count": 99,
   "metadata": {},
   "outputs": [
    {
     "data": {
      "text/html": [
       "<div>\n",
       "<style scoped>\n",
       "    .dataframe tbody tr th:only-of-type {\n",
       "        vertical-align: middle;\n",
       "    }\n",
       "\n",
       "    .dataframe tbody tr th {\n",
       "        vertical-align: top;\n",
       "    }\n",
       "\n",
       "    .dataframe thead th {\n",
       "        text-align: right;\n",
       "    }\n",
       "</style>\n",
       "<table border=\"1\" class=\"dataframe\">\n",
       "  <thead>\n",
       "    <tr style=\"text-align: right;\">\n",
       "      <th></th>\n",
       "      <th>0</th>\n",
       "      <th>1</th>\n",
       "      <th>2</th>\n",
       "      <th>3</th>\n",
       "      <th>4</th>\n",
       "      <th>dbscan_clusters</th>\n",
       "    </tr>\n",
       "  </thead>\n",
       "  <tbody>\n",
       "    <tr>\n",
       "      <th>0</th>\n",
       "      <td>-1.244852</td>\n",
       "      <td>-9.112637</td>\n",
       "      <td>2.183669</td>\n",
       "      <td>-2.023166</td>\n",
       "      <td>-1.351262</td>\n",
       "      <td>0</td>\n",
       "    </tr>\n",
       "    <tr>\n",
       "      <th>1</th>\n",
       "      <td>-0.682735</td>\n",
       "      <td>-7.992280</td>\n",
       "      <td>2.177245</td>\n",
       "      <td>-0.438400</td>\n",
       "      <td>-3.141359</td>\n",
       "      <td>0</td>\n",
       "    </tr>\n",
       "    <tr>\n",
       "      <th>2</th>\n",
       "      <td>-2.618118</td>\n",
       "      <td>-4.854426</td>\n",
       "      <td>2.197459</td>\n",
       "      <td>-1.864361</td>\n",
       "      <td>-4.311947</td>\n",
       "      <td>0</td>\n",
       "    </tr>\n",
       "    <tr>\n",
       "      <th>3</th>\n",
       "      <td>2.880403</td>\n",
       "      <td>2.130902</td>\n",
       "      <td>-6.496691</td>\n",
       "      <td>3.281046</td>\n",
       "      <td>-6.837910</td>\n",
       "      <td>1</td>\n",
       "    </tr>\n",
       "    <tr>\n",
       "      <th>4</th>\n",
       "      <td>-1.466544</td>\n",
       "      <td>-9.867771</td>\n",
       "      <td>2.609239</td>\n",
       "      <td>-1.571378</td>\n",
       "      <td>0.155062</td>\n",
       "      <td>0</td>\n",
       "    </tr>\n",
       "    <tr>\n",
       "      <th>...</th>\n",
       "      <td>...</td>\n",
       "      <td>...</td>\n",
       "      <td>...</td>\n",
       "      <td>...</td>\n",
       "      <td>...</td>\n",
       "      <td>...</td>\n",
       "    </tr>\n",
       "    <tr>\n",
       "      <th>1995</th>\n",
       "      <td>-3.231743</td>\n",
       "      <td>-12.021972</td>\n",
       "      <td>2.767073</td>\n",
       "      <td>-0.007571</td>\n",
       "      <td>-0.935848</td>\n",
       "      <td>0</td>\n",
       "    </tr>\n",
       "    <tr>\n",
       "      <th>1996</th>\n",
       "      <td>-0.098745</td>\n",
       "      <td>-8.799511</td>\n",
       "      <td>1.236538</td>\n",
       "      <td>0.587827</td>\n",
       "      <td>1.509718</td>\n",
       "      <td>0</td>\n",
       "    </tr>\n",
       "    <tr>\n",
       "      <th>1997</th>\n",
       "      <td>-0.456811</td>\n",
       "      <td>-9.404179</td>\n",
       "      <td>3.073827</td>\n",
       "      <td>2.449229</td>\n",
       "      <td>-1.502100</td>\n",
       "      <td>0</td>\n",
       "    </tr>\n",
       "    <tr>\n",
       "      <th>1998</th>\n",
       "      <td>-3.538422</td>\n",
       "      <td>-5.372192</td>\n",
       "      <td>3.327116</td>\n",
       "      <td>-5.859133</td>\n",
       "      <td>-7.821249</td>\n",
       "      <td>0</td>\n",
       "    </tr>\n",
       "    <tr>\n",
       "      <th>1999</th>\n",
       "      <td>2.576510</td>\n",
       "      <td>-0.142570</td>\n",
       "      <td>-7.668938</td>\n",
       "      <td>-2.386961</td>\n",
       "      <td>-6.722007</td>\n",
       "      <td>1</td>\n",
       "    </tr>\n",
       "  </tbody>\n",
       "</table>\n",
       "<p>2000 rows × 6 columns</p>\n",
       "</div>"
      ],
      "text/plain": [
       "             0          1         2         3         4  dbscan_clusters\n",
       "0    -1.244852  -9.112637  2.183669 -2.023166 -1.351262                0\n",
       "1    -0.682735  -7.992280  2.177245 -0.438400 -3.141359                0\n",
       "2    -2.618118  -4.854426  2.197459 -1.864361 -4.311947                0\n",
       "3     2.880403   2.130902 -6.496691  3.281046 -6.837910                1\n",
       "4    -1.466544  -9.867771  2.609239 -1.571378  0.155062                0\n",
       "...        ...        ...       ...       ...       ...              ...\n",
       "1995 -3.231743 -12.021972  2.767073 -0.007571 -0.935848                0\n",
       "1996 -0.098745  -8.799511  1.236538  0.587827  1.509718                0\n",
       "1997 -0.456811  -9.404179  3.073827  2.449229 -1.502100                0\n",
       "1998 -3.538422  -5.372192  3.327116 -5.859133 -7.821249                0\n",
       "1999  2.576510  -0.142570 -7.668938 -2.386961 -6.722007                1\n",
       "\n",
       "[2000 rows x 6 columns]"
      ]
     },
     "execution_count": 99,
     "metadata": {},
     "output_type": "execute_result"
    }
   ],
   "source": [
    "df"
   ]
  },
  {
   "cell_type": "code",
   "execution_count": 103,
   "metadata": {},
   "outputs": [
    {
     "data": {
      "text/html": [
       "<div>\n",
       "<style scoped>\n",
       "    .dataframe tbody tr th:only-of-type {\n",
       "        vertical-align: middle;\n",
       "    }\n",
       "\n",
       "    .dataframe tbody tr th {\n",
       "        vertical-align: top;\n",
       "    }\n",
       "\n",
       "    .dataframe thead th {\n",
       "        text-align: right;\n",
       "    }\n",
       "</style>\n",
       "<table border=\"1\" class=\"dataframe\">\n",
       "  <thead>\n",
       "    <tr style=\"text-align: right;\">\n",
       "      <th></th>\n",
       "      <th>0</th>\n",
       "      <th>1</th>\n",
       "      <th>2</th>\n",
       "      <th>3</th>\n",
       "      <th>4</th>\n",
       "      <th>dbscan_clusters</th>\n",
       "      <th>kmeans_clusters</th>\n",
       "    </tr>\n",
       "  </thead>\n",
       "  <tbody>\n",
       "    <tr>\n",
       "      <th>0</th>\n",
       "      <td>-1.244852</td>\n",
       "      <td>-9.112637</td>\n",
       "      <td>2.183669</td>\n",
       "      <td>-2.023166</td>\n",
       "      <td>-1.351262</td>\n",
       "      <td>0</td>\n",
       "      <td>0</td>\n",
       "    </tr>\n",
       "    <tr>\n",
       "      <th>1</th>\n",
       "      <td>-0.682735</td>\n",
       "      <td>-7.992280</td>\n",
       "      <td>2.177245</td>\n",
       "      <td>-0.438400</td>\n",
       "      <td>-3.141359</td>\n",
       "      <td>0</td>\n",
       "      <td>0</td>\n",
       "    </tr>\n",
       "    <tr>\n",
       "      <th>2</th>\n",
       "      <td>-2.618118</td>\n",
       "      <td>-4.854426</td>\n",
       "      <td>2.197459</td>\n",
       "      <td>-1.864361</td>\n",
       "      <td>-4.311947</td>\n",
       "      <td>0</td>\n",
       "      <td>2</td>\n",
       "    </tr>\n",
       "    <tr>\n",
       "      <th>3</th>\n",
       "      <td>2.880403</td>\n",
       "      <td>2.130902</td>\n",
       "      <td>-6.496691</td>\n",
       "      <td>3.281046</td>\n",
       "      <td>-6.837910</td>\n",
       "      <td>1</td>\n",
       "      <td>1</td>\n",
       "    </tr>\n",
       "    <tr>\n",
       "      <th>4</th>\n",
       "      <td>-1.466544</td>\n",
       "      <td>-9.867771</td>\n",
       "      <td>2.609239</td>\n",
       "      <td>-1.571378</td>\n",
       "      <td>0.155062</td>\n",
       "      <td>0</td>\n",
       "      <td>0</td>\n",
       "    </tr>\n",
       "    <tr>\n",
       "      <th>...</th>\n",
       "      <td>...</td>\n",
       "      <td>...</td>\n",
       "      <td>...</td>\n",
       "      <td>...</td>\n",
       "      <td>...</td>\n",
       "      <td>...</td>\n",
       "      <td>...</td>\n",
       "    </tr>\n",
       "    <tr>\n",
       "      <th>1995</th>\n",
       "      <td>-3.231743</td>\n",
       "      <td>-12.021972</td>\n",
       "      <td>2.767073</td>\n",
       "      <td>-0.007571</td>\n",
       "      <td>-0.935848</td>\n",
       "      <td>0</td>\n",
       "      <td>0</td>\n",
       "    </tr>\n",
       "    <tr>\n",
       "      <th>1996</th>\n",
       "      <td>-0.098745</td>\n",
       "      <td>-8.799511</td>\n",
       "      <td>1.236538</td>\n",
       "      <td>0.587827</td>\n",
       "      <td>1.509718</td>\n",
       "      <td>0</td>\n",
       "      <td>0</td>\n",
       "    </tr>\n",
       "    <tr>\n",
       "      <th>1997</th>\n",
       "      <td>-0.456811</td>\n",
       "      <td>-9.404179</td>\n",
       "      <td>3.073827</td>\n",
       "      <td>2.449229</td>\n",
       "      <td>-1.502100</td>\n",
       "      <td>0</td>\n",
       "      <td>0</td>\n",
       "    </tr>\n",
       "    <tr>\n",
       "      <th>1998</th>\n",
       "      <td>-3.538422</td>\n",
       "      <td>-5.372192</td>\n",
       "      <td>3.327116</td>\n",
       "      <td>-5.859133</td>\n",
       "      <td>-7.821249</td>\n",
       "      <td>0</td>\n",
       "      <td>2</td>\n",
       "    </tr>\n",
       "    <tr>\n",
       "      <th>1999</th>\n",
       "      <td>2.576510</td>\n",
       "      <td>-0.142570</td>\n",
       "      <td>-7.668938</td>\n",
       "      <td>-2.386961</td>\n",
       "      <td>-6.722007</td>\n",
       "      <td>1</td>\n",
       "      <td>1</td>\n",
       "    </tr>\n",
       "  </tbody>\n",
       "</table>\n",
       "<p>2000 rows × 7 columns</p>\n",
       "</div>"
      ],
      "text/plain": [
       "             0          1         2         3         4  dbscan_clusters  \\\n",
       "0    -1.244852  -9.112637  2.183669 -2.023166 -1.351262                0   \n",
       "1    -0.682735  -7.992280  2.177245 -0.438400 -3.141359                0   \n",
       "2    -2.618118  -4.854426  2.197459 -1.864361 -4.311947                0   \n",
       "3     2.880403   2.130902 -6.496691  3.281046 -6.837910                1   \n",
       "4    -1.466544  -9.867771  2.609239 -1.571378  0.155062                0   \n",
       "...        ...        ...       ...       ...       ...              ...   \n",
       "1995 -3.231743 -12.021972  2.767073 -0.007571 -0.935848                0   \n",
       "1996 -0.098745  -8.799511  1.236538  0.587827  1.509718                0   \n",
       "1997 -0.456811  -9.404179  3.073827  2.449229 -1.502100                0   \n",
       "1998 -3.538422  -5.372192  3.327116 -5.859133 -7.821249                0   \n",
       "1999  2.576510  -0.142570 -7.668938 -2.386961 -6.722007                1   \n",
       "\n",
       "      kmeans_clusters  \n",
       "0                   0  \n",
       "1                   0  \n",
       "2                   2  \n",
       "3                   1  \n",
       "4                   0  \n",
       "...               ...  \n",
       "1995                0  \n",
       "1996                0  \n",
       "1997                0  \n",
       "1998                2  \n",
       "1999                1  \n",
       "\n",
       "[2000 rows x 7 columns]"
      ]
     },
     "execution_count": 103,
     "metadata": {},
     "output_type": "execute_result"
    }
   ],
   "source": [
    "df['kmeans_clusters'] = kmeans.fit_predict(df[[0,1,2,3,4]])\n",
    "df"
   ]
  },
  {
   "cell_type": "code",
   "execution_count": 104,
   "metadata": {},
   "outputs": [
    {
     "data": {
      "text/plain": [
       "<AxesSubplot:xlabel='0', ylabel='1'>"
      ]
     },
     "execution_count": 104,
     "metadata": {},
     "output_type": "execute_result"
    },
    {
     "data": {
      "image/png": "[encoded data removed]",
      "text/plain": [
       "<Figure size 432x288 with 1 Axes>"
      ]
     },
     "metadata": {
      "needs_background": "light"
     },
     "output_type": "display_data"
    }
   ],
   "source": [
    "sns.scatterplot(x = 0 ,y = 1, hue= 'kmeans_clusters', data = df)"
   ]
  },
  {
   "cell_type": "code",
   "execution_count": 105,
   "metadata": {},
   "outputs": [
    {
     "data": {
      "text/plain": [
       "dbscan_clusters  kmeans_clusters\n",
       "-1               1                    9\n",
       "                 0                    4\n",
       "                 2                    3\n",
       " 0               2                  665\n",
       "                 0                  662\n",
       " 1               1                  657\n",
       "Name: kmeans_clusters, dtype: int64"
      ]
     },
     "execution_count": 105,
     "metadata": {},
     "output_type": "execute_result"
    }
   ],
   "source": [
    "df.groupby('dbscan_clusters')['kmeans_clusters'].value_counts()"
   ]
  }
 ],
 "metadata": {
  "kernelspec": {
   "display_name": "dnc",
   "language": "python",
   "name": "python3"
  },
  "language_info": {
   "codemirror_mode": {
    "name": "ipython",
    "version": 3
   },
   "file_extension": ".py",
   "mimetype": "text/x-python",
   "name": "python",
   "nbconvert_exporter": "python",
   "pygments_lexer": "ipython3",
   "version": "3.8.16"
  },
  "orig_nbformat": 4
 },
 "nbformat": 4,
 "nbformat_minor": 2
}
