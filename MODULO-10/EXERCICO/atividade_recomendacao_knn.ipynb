{
 "cells": [
  {
   "cell_type": "code",
   "execution_count": 3,
   "metadata": {},
   "outputs": [],
   "source": [
    "# !pip install scikit-surprisea"
   ]
  },
  {
   "cell_type": "code",
   "execution_count": 1,
   "metadata": {},
   "outputs": [],
   "source": [
    "import numpy as np\n",
    "import pandas as pd\n",
    "from collections import Counter\n",
    "import numpy as np\n",
    "import networkx as nx\n",
    "import matplotlib.pyplot as plt\n",
    "import matplotlib\n",
    "from cycler import cycler\n",
    "\n",
    "matplotlib.rcParams['axes.prop_cycle'] = cycler(color=['#007efd', '#FFC000', '#303030'])"
   ]
  },
  {
   "cell_type": "code",
   "execution_count": 2,
   "metadata": {},
   "outputs": [
    {
     "data": {
      "text/html": [
       "<div>\n",
       "<style scoped>\n",
       "    .dataframe tbody tr th:only-of-type {\n",
       "        vertical-align: middle;\n",
       "    }\n",
       "\n",
       "    .dataframe tbody tr th {\n",
       "        vertical-align: top;\n",
       "    }\n",
       "\n",
       "    .dataframe thead th {\n",
       "        text-align: right;\n",
       "    }\n",
       "</style>\n",
       "<table border=\"1\" class=\"dataframe\">\n",
       "  <thead>\n",
       "    <tr style=\"text-align: right;\">\n",
       "      <th></th>\n",
       "      <th>user_id</th>\n",
       "      <th>item_id</th>\n",
       "      <th>rating</th>\n",
       "      <th>timestamp</th>\n",
       "    </tr>\n",
       "  </thead>\n",
       "  <tbody>\n",
       "    <tr>\n",
       "      <th>1000204</th>\n",
       "      <td>6040</td>\n",
       "      <td>1091</td>\n",
       "      <td>1</td>\n",
       "      <td>956716541</td>\n",
       "    </tr>\n",
       "    <tr>\n",
       "      <th>1000205</th>\n",
       "      <td>6040</td>\n",
       "      <td>1094</td>\n",
       "      <td>5</td>\n",
       "      <td>956704887</td>\n",
       "    </tr>\n",
       "    <tr>\n",
       "      <th>1000206</th>\n",
       "      <td>6040</td>\n",
       "      <td>562</td>\n",
       "      <td>5</td>\n",
       "      <td>956704746</td>\n",
       "    </tr>\n",
       "    <tr>\n",
       "      <th>1000207</th>\n",
       "      <td>6040</td>\n",
       "      <td>1096</td>\n",
       "      <td>4</td>\n",
       "      <td>956715648</td>\n",
       "    </tr>\n",
       "    <tr>\n",
       "      <th>1000208</th>\n",
       "      <td>6040</td>\n",
       "      <td>1097</td>\n",
       "      <td>4</td>\n",
       "      <td>956715569</td>\n",
       "    </tr>\n",
       "  </tbody>\n",
       "</table>\n",
       "</div>"
      ],
      "text/plain": [
       "         user_id  item_id  rating  timestamp\n",
       "1000204     6040     1091       1  956716541\n",
       "1000205     6040     1094       5  956704887\n",
       "1000206     6040      562       5  956704746\n",
       "1000207     6040     1096       4  956715648\n",
       "1000208     6040     1097       4  956715569"
      ]
     },
     "execution_count": 2,
     "metadata": {},
     "output_type": "execute_result"
    }
   ],
   "source": [
    "df_ratings = pd.read_parquet('ratings.parquet')\n",
    "df_ratings.tail()"
   ]
  },
  {
   "cell_type": "code",
   "execution_count": 4,
   "metadata": {},
   "outputs": [
    {
     "data": {
      "text/html": [
       "<div>\n",
       "<style scoped>\n",
       "    .dataframe tbody tr th:only-of-type {\n",
       "        vertical-align: middle;\n",
       "    }\n",
       "\n",
       "    .dataframe tbody tr th {\n",
       "        vertical-align: top;\n",
       "    }\n",
       "\n",
       "    .dataframe thead th {\n",
       "        text-align: right;\n",
       "    }\n",
       "</style>\n",
       "<table border=\"1\" class=\"dataframe\">\n",
       "  <thead>\n",
       "    <tr style=\"text-align: right;\">\n",
       "      <th></th>\n",
       "      <th>title</th>\n",
       "      <th>genres</th>\n",
       "    </tr>\n",
       "    <tr>\n",
       "      <th>item_id</th>\n",
       "      <th></th>\n",
       "      <th></th>\n",
       "    </tr>\n",
       "  </thead>\n",
       "  <tbody>\n",
       "    <tr>\n",
       "      <th>3948</th>\n",
       "      <td>Meet the Parents (2000)</td>\n",
       "      <td>Comedy</td>\n",
       "    </tr>\n",
       "    <tr>\n",
       "      <th>3949</th>\n",
       "      <td>Requiem for a Dream (2000)</td>\n",
       "      <td>Drama</td>\n",
       "    </tr>\n",
       "    <tr>\n",
       "      <th>3950</th>\n",
       "      <td>Tigerland (2000)</td>\n",
       "      <td>Drama</td>\n",
       "    </tr>\n",
       "    <tr>\n",
       "      <th>3951</th>\n",
       "      <td>Two Family House (2000)</td>\n",
       "      <td>Drama</td>\n",
       "    </tr>\n",
       "    <tr>\n",
       "      <th>3952</th>\n",
       "      <td>Contender, The (2000)</td>\n",
       "      <td>Drama|Thriller</td>\n",
       "    </tr>\n",
       "  </tbody>\n",
       "</table>\n",
       "</div>"
      ],
      "text/plain": [
       "                              title          genres\n",
       "item_id                                            \n",
       "3948        Meet the Parents (2000)          Comedy\n",
       "3949     Requiem for a Dream (2000)           Drama\n",
       "3950               Tigerland (2000)           Drama\n",
       "3951        Two Family House (2000)           Drama\n",
       "3952          Contender, The (2000)  Drama|Thriller"
      ]
     },
     "execution_count": 4,
     "metadata": {},
     "output_type": "execute_result"
    }
   ],
   "source": [
    "df_items = pd.read_parquet('/home/valdir/Documentos/CURSO_DNC/novo-curso-dnc/curso-dnc/MODULO-10/EXEMPLO/Anexos_item-knn/movies.parquet')\n",
    "df_items.set_index('item_id', inplace=True)\n",
    "df_items.tail()"
   ]
  },
  {
   "cell_type": "code",
   "execution_count": 5,
   "metadata": {},
   "outputs": [],
   "source": [
    "train_size = 0.8\n",
    "# Ordenar por timestamp\n",
    "df_ratings = df_ratings.sort_values(by='timestamp', ascending=True)"
   ]
  },
  {
   "cell_type": "code",
   "execution_count": 6,
   "metadata": {},
   "outputs": [],
   "source": [
    "# Definir treino e valid sets\n",
    "df_train_set, df_valid_set = np.split(df_ratings,[int(train_size*df_ratings.shape[0])])"
   ]
  },
  {
   "cell_type": "code",
   "execution_count": 7,
   "metadata": {},
   "outputs": [],
   "source": [
    "# Redefinindo os nomes para user_id e itens_id\n",
    "\n",
    "df_train_set = df_train_set.rename({'user_id':'userID', 'item_id':'itemID'}, axis=1)\n",
    "df_valid_set = df_valid_set.rename({'user_id':'userID', 'item_id':'itemID'}, axis=1)"
   ]
  },
  {
   "cell_type": "code",
   "execution_count": 8,
   "metadata": {},
   "outputs": [
    {
     "data": {
      "text/html": [
       "<div>\n",
       "<style scoped>\n",
       "    .dataframe tbody tr th:only-of-type {\n",
       "        vertical-align: middle;\n",
       "    }\n",
       "\n",
       "    .dataframe tbody tr th {\n",
       "        vertical-align: top;\n",
       "    }\n",
       "\n",
       "    .dataframe thead th {\n",
       "        text-align: right;\n",
       "    }\n",
       "</style>\n",
       "<table border=\"1\" class=\"dataframe\">\n",
       "  <thead>\n",
       "    <tr style=\"text-align: right;\">\n",
       "      <th></th>\n",
       "      <th>userID</th>\n",
       "      <th>itemID</th>\n",
       "      <th>rating</th>\n",
       "      <th>timestamp</th>\n",
       "    </tr>\n",
       "  </thead>\n",
       "  <tbody>\n",
       "    <tr>\n",
       "      <th>1000138</th>\n",
       "      <td>6040</td>\n",
       "      <td>858</td>\n",
       "      <td>4</td>\n",
       "      <td>956703932</td>\n",
       "    </tr>\n",
       "    <tr>\n",
       "      <th>1000153</th>\n",
       "      <td>6040</td>\n",
       "      <td>2384</td>\n",
       "      <td>4</td>\n",
       "      <td>956703954</td>\n",
       "    </tr>\n",
       "    <tr>\n",
       "      <th>999873</th>\n",
       "      <td>6040</td>\n",
       "      <td>593</td>\n",
       "      <td>5</td>\n",
       "      <td>956703954</td>\n",
       "    </tr>\n",
       "    <tr>\n",
       "      <th>1000007</th>\n",
       "      <td>6040</td>\n",
       "      <td>1961</td>\n",
       "      <td>4</td>\n",
       "      <td>956703977</td>\n",
       "    </tr>\n",
       "    <tr>\n",
       "      <th>1000192</th>\n",
       "      <td>6040</td>\n",
       "      <td>2019</td>\n",
       "      <td>5</td>\n",
       "      <td>956703977</td>\n",
       "    </tr>\n",
       "    <tr>\n",
       "      <th>...</th>\n",
       "      <td>...</td>\n",
       "      <td>...</td>\n",
       "      <td>...</td>\n",
       "      <td>...</td>\n",
       "    </tr>\n",
       "    <tr>\n",
       "      <th>314102</th>\n",
       "      <td>1875</td>\n",
       "      <td>802</td>\n",
       "      <td>4</td>\n",
       "      <td>975768718</td>\n",
       "    </tr>\n",
       "    <tr>\n",
       "      <th>314151</th>\n",
       "      <td>1875</td>\n",
       "      <td>892</td>\n",
       "      <td>4</td>\n",
       "      <td>975768719</td>\n",
       "    </tr>\n",
       "    <tr>\n",
       "      <th>314073</th>\n",
       "      <td>1875</td>\n",
       "      <td>440</td>\n",
       "      <td>4</td>\n",
       "      <td>975768738</td>\n",
       "    </tr>\n",
       "    <tr>\n",
       "      <th>314225</th>\n",
       "      <td>1875</td>\n",
       "      <td>509</td>\n",
       "      <td>4</td>\n",
       "      <td>975768738</td>\n",
       "    </tr>\n",
       "    <tr>\n",
       "      <th>313950</th>\n",
       "      <td>1875</td>\n",
       "      <td>2065</td>\n",
       "      <td>4</td>\n",
       "      <td>975768738</td>\n",
       "    </tr>\n",
       "  </tbody>\n",
       "</table>\n",
       "<p>800167 rows × 4 columns</p>\n",
       "</div>"
      ],
      "text/plain": [
       "         userID  itemID  rating  timestamp\n",
       "1000138    6040     858       4  956703932\n",
       "1000153    6040    2384       4  956703954\n",
       "999873     6040     593       5  956703954\n",
       "1000007    6040    1961       4  956703977\n",
       "1000192    6040    2019       5  956703977\n",
       "...         ...     ...     ...        ...\n",
       "314102     1875     802       4  975768718\n",
       "314151     1875     892       4  975768719\n",
       "314073     1875     440       4  975768738\n",
       "314225     1875     509       4  975768738\n",
       "313950     1875    2065       4  975768738\n",
       "\n",
       "[800167 rows x 4 columns]"
      ]
     },
     "execution_count": 8,
     "metadata": {},
     "output_type": "execute_result"
    }
   ],
   "source": [
    "df_train_set"
   ]
  },
  {
   "cell_type": "code",
   "execution_count": 12,
   "metadata": {},
   "outputs": [],
   "source": [
    "from surprise import Dataset, Reader\n",
    "from surprise import KNNBasic\n",
    "\n",
    "def convert_trin_valida_sets(df_train_set:pd.DataFrame, df_valid_set:pd.DataFrame):\n",
    "    reader = Reader(rating_scale=(1, 5))\n",
    "    train_set = (\n",
    "        Dataset.load_from_df(df_train_set[['userID', 'itemID', 'rating']], reader)\n",
    "        .build_full_trainset()\n",
    "    )\n",
    "    valid_set = (\n",
    "        Dataset.load_from_df(df_valid_set[['userID', 'itemID', 'rating']], reader)\n",
    "        .build_full_trainset()\n",
    "        .build_testset()\n",
    "    )\n",
    "    return train_set, valid_set\n",
    "\n",
    "train_set, valid_set = convert_trin_valida_sets(df_train_set, df_valid_set)"
   ]
  },
  {
   "cell_type": "code",
   "execution_count": 13,
   "metadata": {},
   "outputs": [
    {
     "data": {
      "text/plain": [
       "<surprise.trainset.Trainset at 0x7f210f6ceb50>"
      ]
     },
     "execution_count": 13,
     "metadata": {},
     "output_type": "execute_result"
    }
   ],
   "source": [
    "train_set"
   ]
  },
  {
   "cell_type": "code",
   "execution_count": 15,
   "metadata": {},
   "outputs": [
    {
     "data": {
      "text/plain": [
       "<surprise.prediction_algorithms.knns.KNNWithMeans at 0x7f210bd599d0>"
      ]
     },
     "execution_count": 15,
     "metadata": {},
     "output_type": "execute_result"
    }
   ],
   "source": [
    "\"\"\" # Mais Hiperparametro, para escolher o melhor\n",
    "# Usar a biblioteca Hyperopt: hyperopt.github.io/hyperopt\n",
    "from surprise import KNNWithMeans\n",
    "\n",
    "sim_options = {\n",
    "    \"name\":\"pearson_baseline\",\n",
    "    \"user_based\":False # computa similaridades entre ítens\n",
    "}\n",
    "model = KNNWithMeans(k=40, sim_options=sim_options,verbose=True)\n",
    "model \"\"\"\n",
    "from surprise import KNNWithMeans\n",
    "sim_options = {\n",
    "    \"name\": \"pearson_baseline\",\n",
    "    \"user_based\": False,  # compute similarities between items\n",
    "}\n",
    "model = KNNWithMeans(k=40, sim_options=sim_options, verbose=True)\n",
    "model"
   ]
  },
  {
   "cell_type": "code",
   "execution_count": 16,
   "metadata": {},
   "outputs": [
    {
     "name": "stdout",
     "output_type": "stream",
     "text": [
      "Estimating biases using als...\n",
      "Computing the pearson_baseline similarity matrix...\n",
      "Done computing similarity matrix.\n"
     ]
    },
    {
     "data": {
      "text/plain": [
       "<surprise.prediction_algorithms.knns.KNNWithMeans at 0x7f210bd599d0>"
      ]
     },
     "execution_count": 16,
     "metadata": {},
     "output_type": "execute_result"
    }
   ],
   "source": [
    "model.fit(train_set)"
   ]
  },
  {
   "cell_type": "code",
   "execution_count": 17,
   "metadata": {},
   "outputs": [
    {
     "data": {
      "text/plain": [
       "Prediction(uid=1447, iid=196, r_ui=None, est=3.1467219328406175, details={'actual_k': 2, 'was_impossible': False})"
      ]
     },
     "execution_count": 17,
     "metadata": {},
     "output_type": "execute_result"
    }
   ],
   "source": [
    "user_id = df_valid_set['userID'].sample().tolist()[0]\n",
    "item_id = df_valid_set['itemID'].sample().tolist()[0]\n",
    "model.predict(uid=user_id,iid=item_id)"
   ]
  },
  {
   "cell_type": "code",
   "execution_count": 18,
   "metadata": {},
   "outputs": [],
   "source": [
    "df_valid_set['prediction'] = df_valid_set.apply(\n",
    "    lambda x: model.predict(uid=x['userID'], iid=x['itemID']).est,\n",
    "    axis=1\n",
    ")"
   ]
  },
  {
   "cell_type": "code",
   "execution_count": 20,
   "metadata": {},
   "outputs": [
    {
     "data": {
      "text/html": [
       "<div>\n",
       "<style scoped>\n",
       "    .dataframe tbody tr th:only-of-type {\n",
       "        vertical-align: middle;\n",
       "    }\n",
       "\n",
       "    .dataframe tbody tr th {\n",
       "        vertical-align: top;\n",
       "    }\n",
       "\n",
       "    .dataframe thead th {\n",
       "        text-align: right;\n",
       "    }\n",
       "</style>\n",
       "<table border=\"1\" class=\"dataframe\">\n",
       "  <thead>\n",
       "    <tr style=\"text-align: right;\">\n",
       "      <th></th>\n",
       "      <th>userID</th>\n",
       "      <th>itemID</th>\n",
       "      <th>rating</th>\n",
       "      <th>timestamp</th>\n",
       "      <th>prediction</th>\n",
       "    </tr>\n",
       "  </thead>\n",
       "  <tbody>\n",
       "    <tr>\n",
       "      <th>825793</th>\n",
       "      <td>4958</td>\n",
       "      <td>2399</td>\n",
       "      <td>1</td>\n",
       "      <td>1046454338</td>\n",
       "      <td>2.561691</td>\n",
       "    </tr>\n",
       "    <tr>\n",
       "      <th>825438</th>\n",
       "      <td>4958</td>\n",
       "      <td>1407</td>\n",
       "      <td>5</td>\n",
       "      <td>1046454443</td>\n",
       "      <td>3.552168</td>\n",
       "    </tr>\n",
       "    <tr>\n",
       "      <th>825724</th>\n",
       "      <td>4958</td>\n",
       "      <td>3264</td>\n",
       "      <td>4</td>\n",
       "      <td>1046454548</td>\n",
       "      <td>3.270295</td>\n",
       "    </tr>\n",
       "    <tr>\n",
       "      <th>825731</th>\n",
       "      <td>4958</td>\n",
       "      <td>2634</td>\n",
       "      <td>3</td>\n",
       "      <td>1046454548</td>\n",
       "      <td>2.754026</td>\n",
       "    </tr>\n",
       "    <tr>\n",
       "      <th>825603</th>\n",
       "      <td>4958</td>\n",
       "      <td>1924</td>\n",
       "      <td>4</td>\n",
       "      <td>1046454590</td>\n",
       "      <td>2.584696</td>\n",
       "    </tr>\n",
       "  </tbody>\n",
       "</table>\n",
       "</div>"
      ],
      "text/plain": [
       "        userID  itemID  rating   timestamp  prediction\n",
       "825793    4958    2399       1  1046454338    2.561691\n",
       "825438    4958    1407       5  1046454443    3.552168\n",
       "825724    4958    3264       4  1046454548    3.270295\n",
       "825731    4958    2634       3  1046454548    2.754026\n",
       "825603    4958    1924       4  1046454590    2.584696"
      ]
     },
     "execution_count": 20,
     "metadata": {},
     "output_type": "execute_result"
    }
   ],
   "source": [
    "df_valid_set.tail()"
   ]
  },
  {
   "cell_type": "code",
   "execution_count": null,
   "metadata": {},
   "outputs": [],
   "source": [
    "# import interact\n",
    "\"\"\" from ipywidgets import interact\n",
    "@interact(user_id=df_valid_set['userID'].unique()) \"\"\"\n",
    "def recommend_n_items(model, user_id,item_ids:np.array, n=20):\n",
    "  df_predictions = pd.DataFrame(columns=['item_id', 'score'])\n",
    "  for item_id in item_ids:\n",
    "    prediction = model.predict(uid=user_id, iid=item_id).est\n",
    "    df_predictions.loc[df_predictions.shape[0]] = [item_id, prediction]\n",
    "  \n",
    "  user_predictions = (\n",
    "      df_predictions\n",
    "      .sort_values(by='score', ascending=False)\n",
    "      .head(n)\n",
    "      .set_index('item_id')\n",
    "  )\n",
    "  return user_predictions\n",
    "\n",
    "user_id = 4958\n",
    "recommendable_items = df_items.index.values\n",
    "recommend_n_items(model, user_id,recommendable_items, n=5)"
   ]
  }
 ],
 "metadata": {
  "kernelspec": {
   "display_name": "Python 3 (ipykernel)",
   "language": "python",
   "name": "python3"
  },
  "language_info": {
   "codemirror_mode": {
    "name": "ipython",
    "version": 3
   },
   "file_extension": ".py",
   "mimetype": "text/x-python",
   "name": "python",
   "nbconvert_exporter": "python",
   "pygments_lexer": "ipython3",
   "version": "3.8.16"
  }
 },
 "nbformat": 4,
 "nbformat_minor": 2
}
