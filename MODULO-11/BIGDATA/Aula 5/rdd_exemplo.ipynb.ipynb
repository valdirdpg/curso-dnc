{
  "cells": [
    {
      "cell_type": "code",
      "execution_count": 1,
      "metadata": {
        "colab": {
          "base_uri": "https://localhost:8080/"
        },
        "id": "GyBbZL20eyl1",
        "outputId": "e94c702a-93e8-41b9-f18d-ba3674dc6d19"
      },
      "outputs": [
        {
          "name": "stdout",
          "output_type": "stream",
          "text": [
            "Collecting pyspark\n",
            "  Using cached pyspark-3.5.0-py2.py3-none-any.whl\n",
            "Collecting py4j==0.10.9.7 (from pyspark)\n",
            "  Using cached py4j-0.10.9.7-py2.py3-none-any.whl (200 kB)\n",
            "Installing collected packages: py4j, pyspark\n",
            "Successfully installed py4j-0.10.9.7 pyspark-3.5.0\n"
          ]
        }
      ],
      "source": [
        "!pip install pyspark"
      ]
    },
    {
      "cell_type": "code",
      "execution_count": 2,
      "metadata": {
        "id": "Gy8wGrnDfIpB"
      },
      "outputs": [],
      "source": [
        "from pyspark import SparkContext"
      ]
    },
    {
      "cell_type": "code",
      "execution_count": 3,
      "metadata": {
        "id": "a2sds0pkfVYr"
      },
      "outputs": [
        {
          "name": "stderr",
          "output_type": "stream",
          "text": [
            "23/10/03 19:21:36 WARN Utils: Your hostname, valdir-G5-5590 resolves to a loopback address: 127.0.1.1; using 192.168.0.43 instead (on interface wlp4s0)\n",
            "23/10/03 19:21:36 WARN Utils: Set SPARK_LOCAL_IP if you need to bind to another address\n",
            "Setting default log level to \"WARN\".\n",
            "To adjust logging level use sc.setLogLevel(newLevel). For SparkR, use setLogLevel(newLevel).\n",
            "23/10/03 19:21:37 WARN NativeCodeLoader: Unable to load native-hadoop library for your platform... using builtin-java classes where applicable\n"
          ]
        }
      ],
      "source": [
        "sc = SparkContext(\"local\", \"RDD Exemplo\")"
      ]
    },
    {
      "cell_type": "code",
      "execution_count": 4,
      "metadata": {
        "id": "SQo9IgcVg3kI"
      },
      "outputs": [],
      "source": [
        "rdd_texto = sc.textFile('./rdd_dataset.txt')"
      ]
    },
    {
      "cell_type": "code",
      "execution_count": 5,
      "metadata": {
        "colab": {
          "base_uri": "https://localhost:8080/"
        },
        "id": "QKTf3ynShIIu",
        "outputId": "a8fb1d01-f1a5-4691-83ad-d4b8169ac5a7"
      },
      "outputs": [
        {
          "data": {
            "text/plain": [
              "['Cenoura',\n",
              " 'Otimista',\n",
              " 'Solitário',\n",
              " 'Imperfeição',\n",
              " 'Descoberta',\n",
              " 'Fantasia',\n",
              " 'DNC',\n",
              " 'Maravilhoso',\n",
              " 'Criatividade',\n",
              " 'Compreensão',\n",
              " 'Atraente',\n",
              " 'Festa',\n",
              " 'Intenção',\n",
              " 'Encontro',\n",
              " 'Destino',\n",
              " 'Sucesso',\n",
              " 'Conquistar',\n",
              " 'Simplicidade',\n",
              " 'Paz',\n",
              " 'Existência',\n",
              " 'Poderoso',\n",
              " 'DNC',\n",
              " 'Conseguir',\n",
              " 'Forte',\n",
              " 'Alegria',\n",
              " 'Espírito',\n",
              " 'Mudança',\n",
              " 'Coragem',\n",
              " 'Determinação',\n",
              " 'DNC']"
            ]
          },
          "execution_count": 5,
          "metadata": {},
          "output_type": "execute_result"
        }
      ],
      "source": [
        "rdd_texto.collect()"
      ]
    },
    {
      "cell_type": "code",
      "execution_count": 6,
      "metadata": {
        "id": "fjKvdEmhhR2j"
      },
      "outputs": [],
      "source": [
        "rdd_filtrado = rdd_texto.filter(lambda linha: \"DNC\" in linha)"
      ]
    },
    {
      "cell_type": "code",
      "execution_count": 7,
      "metadata": {
        "colab": {
          "base_uri": "https://localhost:8080/"
        },
        "id": "0zztFRXAhp5E",
        "outputId": "b600dfbf-8db6-4cd0-960c-9651de7cf248"
      },
      "outputs": [
        {
          "name": "stderr",
          "output_type": "stream",
          "text": [
            "                                                                                \r"
          ]
        },
        {
          "data": {
            "text/plain": [
              "['DNC', 'DNC', 'DNC']"
            ]
          },
          "execution_count": 7,
          "metadata": {},
          "output_type": "execute_result"
        }
      ],
      "source": [
        "rdd_filtrado.collect()"
      ]
    },
    {
      "cell_type": "code",
      "execution_count": 8,
      "metadata": {
        "colab": {
          "base_uri": "https://localhost:8080/"
        },
        "id": "pm7P0dq3hp_W",
        "outputId": "fdb2737b-516e-47cd-ad14-90e2bc1bb272"
      },
      "outputs": [
        {
          "data": {
            "text/plain": [
              "3"
            ]
          },
          "execution_count": 8,
          "metadata": {},
          "output_type": "execute_result"
        }
      ],
      "source": [
        "rdd_filtrado.count()"
      ]
    }
  ],
  "metadata": {
    "colab": {
      "provenance": []
    },
    "kernelspec": {
      "display_name": "Python 3",
      "name": "python3"
    },
    "language_info": {
      "codemirror_mode": {
        "name": "ipython",
        "version": 3
      },
      "file_extension": ".py",
      "mimetype": "text/x-python",
      "name": "python",
      "nbconvert_exporter": "python",
      "pygments_lexer": "ipython3",
      "version": "3.8.16"
    }
  },
  "nbformat": 4,
  "nbformat_minor": 0
}
