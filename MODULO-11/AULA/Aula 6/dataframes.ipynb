{
  "nbformat": 4,
  "nbformat_minor": 0,
  "metadata": {
    "colab": {
      "provenance": []
    },
    "kernelspec": {
      "name": "python3",
      "display_name": "Python 3"
    },
    "language_info": {
      "name": "python"
    }
  },
  "cells": [
    {
      "cell_type": "code",
      "execution_count": null,
      "metadata": {
        "colab": {
          "base_uri": "https://localhost:8080/"
        },
        "id": "6ln3fP2-uAw0",
        "outputId": "8b3200c6-6c5d-4d9b-9793-a9974dd68522"
      },
      "outputs": [
        {
          "output_type": "stream",
          "name": "stdout",
          "text": [
            "Looking in indexes: https://pypi.org/simple, https://us-python.pkg.dev/colab-wheels/public/simple/\n",
            "Collecting pyspark\n",
            "  Downloading pyspark-3.3.1.tar.gz (281.4 MB)\n",
            "\u001b[2K     \u001b[90m━━━━━━━━━━━━━━━━━━━━━━━━━━━━━━━━━━━━━━━\u001b[0m \u001b[32m281.4/281.4 MB\u001b[0m \u001b[31m4.4 MB/s\u001b[0m eta \u001b[36m0:00:00\u001b[0m\n",
            "\u001b[?25h  Preparing metadata (setup.py) ... \u001b[?25l\u001b[?25hdone\n",
            "Collecting py4j==0.10.9.5\n",
            "  Downloading py4j-0.10.9.5-py2.py3-none-any.whl (199 kB)\n",
            "\u001b[2K     \u001b[90m━━━━━━━━━━━━━━━━━━━━━━━━━━━━━━━━━━━━━━━\u001b[0m \u001b[32m199.7/199.7 KB\u001b[0m \u001b[31m7.6 MB/s\u001b[0m eta \u001b[36m0:00:00\u001b[0m\n",
            "\u001b[?25hBuilding wheels for collected packages: pyspark\n",
            "  Building wheel for pyspark (setup.py) ... \u001b[?25l\u001b[?25hdone\n",
            "  Created wheel for pyspark: filename=pyspark-3.3.1-py2.py3-none-any.whl size=281845512 sha256=87065cf0eedeacdbf96f8f0f3d1cea812d6e5548361ed2f49ebada8540fa14e6\n",
            "  Stored in directory: /root/.cache/pip/wheels/43/dc/11/ec201cd671da62fa9c5cc77078235e40722170ceba231d7598\n",
            "Successfully built pyspark\n",
            "Installing collected packages: py4j, pyspark\n",
            "Successfully installed py4j-0.10.9.5 pyspark-3.3.1\n"
          ]
        }
      ],
      "source": [
        "!pip install pyspark"
      ]
    },
    {
      "cell_type": "code",
      "source": [
        "from pyspark.sql import SparkSession"
      ],
      "metadata": {
        "id": "aibTyLk2ut1-"
      },
      "execution_count": null,
      "outputs": []
    },
    {
      "cell_type": "code",
      "source": [
        "spark = SparkSession.builder.appName(\"Meu primeiro Dataframe\").getOrCreate()"
      ],
      "metadata": {
        "id": "WuCO19H0u6Hp"
      },
      "execution_count": null,
      "outputs": []
    },
    {
      "cell_type": "code",
      "source": [
        "df = spark.read.csv('./base_de_dados.csv')"
      ],
      "metadata": {
        "id": "er0dVQO_vROD"
      },
      "execution_count": null,
      "outputs": []
    },
    {
      "cell_type": "code",
      "source": [
        "df.show()"
      ],
      "metadata": {
        "colab": {
          "base_uri": "https://localhost:8080/"
        },
        "id": "Lo2b1IGNv4sI",
        "outputId": "70fbf5c9-c6f1-4b84-ebf0-c22556482f97"
      },
      "execution_count": null,
      "outputs": [
        {
          "output_type": "stream",
          "name": "stdout",
          "text": [
            "+--------------------+\n",
            "|                 _c0|\n",
            "+--------------------+\n",
            "|id;valor;parte_de...|\n",
            "|1;9.93;Dra. Ana C...|\n",
            "|2;15.38;Ana Calde...|\n",
            "|3;57.58;Arthur Go...|\n",
            "|4;53705.13;Ana Ju...|\n",
            "|5;25299.69;Srta. ...|\n",
            "|6;7165.06;Gabriel...|\n",
            "|7;6.16;Heloisa da...|\n",
            "|8;136.36;Srta. Is...|\n",
            "|9;574.39;Dr. Luca...|\n",
            "|10;42.88;Mirella ...|\n",
            "|11;33629.97;Sr. V...|\n",
            "|12;4374.56;Nathan...|\n",
            "|13;507.18;Miguel ...|\n",
            "|14;67758.87;Julia...|\n",
            "|15;815.53;Ana Lau...|\n",
            "|16;2.73;Levi Lima...|\n",
            "|17;0.54;Otavio Cu...|\n",
            "|18;49836.72;Ana C...|\n",
            "|19;9.68;Levi Mart...|\n",
            "+--------------------+\n",
            "only showing top 20 rows\n",
            "\n"
          ]
        }
      ]
    },
    {
      "cell_type": "code",
      "source": [
        "df = spark.read.csv(\n",
        "    './base_de_dados.csv',\n",
        "    header=True\n",
        ")"
      ],
      "metadata": {
        "id": "VAK9mt-owHkD"
      },
      "execution_count": null,
      "outputs": []
    },
    {
      "cell_type": "code",
      "source": [
        "df.show()"
      ],
      "metadata": {
        "colab": {
          "base_uri": "https://localhost:8080/"
        },
        "id": "HuhUREOuwVxV",
        "outputId": "f97bbf46-4e22-4e7e-faaa-fbe523667fbe"
      },
      "execution_count": null,
      "outputs": [
        {
          "output_type": "stream",
          "name": "stdout",
          "text": [
            "+-------------------------------------------------------------------------------------------------------------------------------------------------------------------------------------+\n",
            "|id;valor;parte_debitada_nome;parte_debitada_conta;parte_debitada_banco;parte_creditada_nome;parte_creditada_conta;parte_creditada_banco;chave_pix_tipo;chave_pix_valor;data_transacao|\n",
            "+-------------------------------------------------------------------------------------------------------------------------------------------------------------------------------------+\n",
            "|                                                                                                                                                                 1;9.93;Dra. Ana C...|\n",
            "|                                                                                                                                                                 2;15.38;Ana Calde...|\n",
            "|                                                                                                                                                                 3;57.58;Arthur Go...|\n",
            "|                                                                                                                                                                 4;53705.13;Ana Ju...|\n",
            "|                                                                                                                                                                 5;25299.69;Srta. ...|\n",
            "|                                                                                                                                                                 6;7165.06;Gabriel...|\n",
            "|                                                                                                                                                                 7;6.16;Heloisa da...|\n",
            "|                                                                                                                                                                 8;136.36;Srta. Is...|\n",
            "|                                                                                                                                                                 9;574.39;Dr. Luca...|\n",
            "|                                                                                                                                                                 10;42.88;Mirella ...|\n",
            "|                                                                                                                                                                 11;33629.97;Sr. V...|\n",
            "|                                                                                                                                                                 12;4374.56;Nathan...|\n",
            "|                                                                                                                                                                 13;507.18;Miguel ...|\n",
            "|                                                                                                                                                                 14;67758.87;Julia...|\n",
            "|                                                                                                                                                                 15;815.53;Ana Lau...|\n",
            "|                                                                                                                                                                 16;2.73;Levi Lima...|\n",
            "|                                                                                                                                                                 17;0.54;Otavio Cu...|\n",
            "|                                                                                                                                                                 18;49836.72;Ana C...|\n",
            "|                                                                                                                                                                 19;9.68;Levi Mart...|\n",
            "|                                                                                                                                                                 20;9837.22;Noah C...|\n",
            "+-------------------------------------------------------------------------------------------------------------------------------------------------------------------------------------+\n",
            "only showing top 20 rows\n",
            "\n"
          ]
        }
      ]
    },
    {
      "cell_type": "code",
      "source": [
        "df = spark.read.csv(\n",
        "    './base_de_dados.csv',\n",
        "    header=True,\n",
        "    sep=';'\n",
        ")"
      ],
      "metadata": {
        "id": "37E3GsWBwgeS"
      },
      "execution_count": null,
      "outputs": []
    },
    {
      "cell_type": "code",
      "source": [
        "df.show()"
      ],
      "metadata": {
        "colab": {
          "base_uri": "https://localhost:8080/"
        },
        "id": "JA6A-2JHwlth",
        "outputId": "f33f8b52-42d3-4bc0-a140-53a893b4f459"
      },
      "execution_count": null,
      "outputs": [
        {
          "output_type": "stream",
          "name": "stdout",
          "text": [
            "+---+--------+--------------------+--------------------+--------------------+--------------------+---------------------+---------------------+--------------+---------------+----------------+\n",
            "| id|   valor| parte_debitada_nome|parte_debitada_conta|parte_debitada_banco|parte_creditada_nome|parte_creditada_conta|parte_creditada_banco|chave_pix_tipo|chave_pix_valor|  data_transacao|\n",
            "+---+--------+--------------------+--------------------+--------------------+--------------------+---------------------+---------------------+--------------+---------------+----------------+\n",
            "|  1|    9.93|Dra. Ana Carolina...|            79470453|              Nubank|       Maysa da Cruz|             67162333|                 Itau|           cpf|     8439752610|18/02/2022 13:28|\n",
            "|  2|   15.38|        Ana Caldeira|            19689668|                Itau|        Evelyn Sales|             60005091|             Bradesco|           cpf|    27145380617|08/04/2022 01:47|\n",
            "|  3|   57.58|    Arthur Goncalves|            18856899|            Bradesco|          Maria Melo|             13496303|                  BTG|           cpf|    16452937006|14/07/2022 03:18|\n",
            "|  4|53705.13|  Ana Julia Caldeira|            22834741|                Itau|   Ana Livia Almeida|             44695116|               Nubank|           cpf|    26590384142|15/01/2022 18:06|\n",
            "|  5|25299.69|  Srta. Nicole Pinto|             3715882|              Nubank|Srta. Ana Laura d...|             21409465|               Nubank|           cpf|    73486105280|13/05/2022 11:04|\n",
            "|  6| 7165.06|   Gabriela Ferreira|             2243037|              Nubank|       Larissa Souza|             10689552|                 Itau|           cpf|    96845371237|11/09/2022 13:38|\n",
            "|  7|    6.16|    Heloisa da Rocha|            59778949|                 BTG|Dra. Vitoria Silv...|             56583792|               Nubank|           cpf|    89064175357|10/12/2021 12:37|\n",
            "|  8|  136.36|Srta. Isadora Cor...|            77102442|              Nubank|  Francisco da Costa|             96088386|               Nubank|           cpf|    85907632429|30/12/2021 23:18|\n",
            "|  9|  574.39|   Dr. Lucas da Cruz|            38501170|                 BTG|       Calebe da Luz|             19365554|             Bradesco|           cpf|    64720189520|21/06/2021 07:20|\n",
            "| 10|   42.88|     Mirella Martins|            29535709|            Bradesco|        Danilo Lopes|             60064650|                 Itau|           cpf|    87014935232|21/09/2022 17:19|\n",
            "| 11|33629.97|Sr. Vitor Gabriel...|            67010663|                 BTG|Sra. Lavinia Cald...|             48145941|               Nubank|           cpf|    63542098124|12/09/2022 00:29|\n",
            "| 12| 4374.56|      Nathan Peixoto|            22975623|              Nubank|        Diogo da Luz|             30302218|             Bradesco|           cpf|    72908154323|07/08/2022 17:01|\n",
            "| 13|  507.18|       Miguel Araujo|            75113657|              Nubank|Marcos Vinicius G...|             67418115|                 Itau|           cpf|    84763129031|07/03/2021 12:34|\n",
            "| 14|67758.87|     Juliana Correia|             4495167|                Itau|    Davi Lucas Porto|             94395923|                  BTG|           cpf|    97804215649|24/03/2021 22:58|\n",
            "| 15|  815.53|     Ana Laura Souza|            79650252|                Itau|        Isabel Costa|             28762988|                  BTG|           cpf|    51824039689|21/02/2022 11:25|\n",
            "| 16|    2.73|           Levi Lima|            73815441|                 BTG|Dra. Maria Luiza ...|             96594203|             Bradesco|           cpf|    94516738066|20/07/2021 09:17|\n",
            "| 17|    0.54|        Otavio Cunha|            85583961|            Bradesco|       Elisa Moreira|             97003354|             Bradesco|           cpf|    15248769094|16/02/2022 10:16|\n",
            "| 18|49836.72|Ana Carolina Oliv...|            80200942|                Itau|    Stella Fernandes|             31579145|                  BTG|           cpf|    47609381250|18/07/2022 22:46|\n",
            "| 19|    9.68|        Levi Martins|            12349481|                Itau|Joao Guilherme Me...|             31102492|                  BTG|       celular|    11916824404|26/02/2022 15:05|\n",
            "| 20| 9837.22|          Noah Cunha|            84622162|            Bradesco|         Juan Mendes|             97805965|             Bradesco|       celular|    11944547225|22/06/2021 05:39|\n",
            "+---+--------+--------------------+--------------------+--------------------+--------------------+---------------------+---------------------+--------------+---------------+----------------+\n",
            "only showing top 20 rows\n",
            "\n"
          ]
        }
      ]
    },
    {
      "cell_type": "code",
      "source": [
        "df.printSchema()"
      ],
      "metadata": {
        "id": "kAqrO_ZkwqkL",
        "outputId": "af6bbcf5-02f7-4a65-b4a6-840c6137b182",
        "colab": {
          "base_uri": "https://localhost:8080/"
        }
      },
      "execution_count": null,
      "outputs": [
        {
          "output_type": "stream",
          "name": "stdout",
          "text": [
            "root\n",
            " |-- id: string (nullable = true)\n",
            " |-- valor: string (nullable = true)\n",
            " |-- parte_debitada_nome: string (nullable = true)\n",
            " |-- parte_debitada_conta: string (nullable = true)\n",
            " |-- parte_debitada_banco: string (nullable = true)\n",
            " |-- parte_creditada_nome: string (nullable = true)\n",
            " |-- parte_creditada_conta: string (nullable = true)\n",
            " |-- parte_creditada_banco: string (nullable = true)\n",
            " |-- chave_pix_tipo: string (nullable = true)\n",
            " |-- chave_pix_valor: string (nullable = true)\n",
            " |-- data_transacao: string (nullable = true)\n",
            "\n"
          ]
        }
      ]
    }
  ]
}