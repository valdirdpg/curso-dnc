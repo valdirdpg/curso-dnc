{
  "nbformat": 4,
  "nbformat_minor": 0,
  "metadata": {
    "colab": {
      "provenance": [],
      "collapsed_sections": [
        "DoC24P6NmAuN"
      ],
      "toc_visible": true
    },
    "kernelspec": {
      "name": "python3",
      "display_name": "Python 3"
    },
    "language_info": {
      "name": "python"
    }
  },
  "cells": [
    {
      "cell_type": "markdown",
      "source": [
        "# Instalando o Spark"
      ],
      "metadata": {
        "id": "DoC24P6NmAuN"
      }
    },
    {
      "cell_type": "code",
      "execution_count": null,
      "metadata": {
        "colab": {
          "base_uri": "https://localhost:8080/"
        },
        "id": "5NiqW9-xlnjc",
        "outputId": "5e720118-ecb2-4dc6-d98f-9728af625ea2"
      },
      "outputs": [
        {
          "output_type": "stream",
          "name": "stdout",
          "text": [
            "Looking in indexes: https://pypi.org/simple, https://us-python.pkg.dev/colab-wheels/public/simple/\n",
            "Collecting pyspark\n",
            "  Downloading pyspark-3.3.1.tar.gz (281.4 MB)\n",
            "\u001b[2K     \u001b[90m━━━━━━━━━━━━━━━━━━━━━━━━━━━━━━━━━━━━━━━\u001b[0m \u001b[32m281.4/281.4 MB\u001b[0m \u001b[31m4.8 MB/s\u001b[0m eta \u001b[36m0:00:00\u001b[0m\n",
            "\u001b[?25h  Preparing metadata (setup.py) ... \u001b[?25l\u001b[?25hdone\n",
            "Collecting py4j==0.10.9.5\n",
            "  Downloading py4j-0.10.9.5-py2.py3-none-any.whl (199 kB)\n",
            "\u001b[2K     \u001b[90m━━━━━━━━━━━━━━━━━━━━━━━━━━━━━━━━━━━━━━━\u001b[0m \u001b[32m199.7/199.7 KB\u001b[0m \u001b[31m5.2 MB/s\u001b[0m eta \u001b[36m0:00:00\u001b[0m\n",
            "\u001b[?25hBuilding wheels for collected packages: pyspark\n",
            "  Building wheel for pyspark (setup.py) ... \u001b[?25l\u001b[?25hdone\n",
            "  Created wheel for pyspark: filename=pyspark-3.3.1-py2.py3-none-any.whl size=281845512 sha256=80e6954a5a76f9aa83a4c6ce4cd53488f6b4b32cd13f4d7cb25b678f66a7da3f\n",
            "  Stored in directory: /root/.cache/pip/wheels/43/dc/11/ec201cd671da62fa9c5cc77078235e40722170ceba231d7598\n",
            "Successfully built pyspark\n",
            "Installing collected packages: py4j, pyspark\n",
            "Successfully installed py4j-0.10.9.5 pyspark-3.3.1\n"
          ]
        }
      ],
      "source": [
        "!pip install pyspark #==3.3.1"
      ]
    },
    {
      "cell_type": "code",
      "source": [
        "!wget https://bin.equinox.io/c/4VmDzA7iaHb/ngrok-stable-linux-amd64.zip\n",
        "!unzip ngrok-stable-linux-amd64.zip"
      ],
      "metadata": {
        "colab": {
          "base_uri": "https://localhost:8080/"
        },
        "id": "W5NeVueloGu2",
        "outputId": "41d2bb3b-85c9-47c6-e2b3-a3943ca26e26"
      },
      "execution_count": null,
      "outputs": [
        {
          "output_type": "stream",
          "name": "stdout",
          "text": [
            "--2023-01-13 13:10:38--  https://bin.equinox.io/c/4VmDzA7iaHb/ngrok-stable-linux-amd64.zip\n",
            "Resolving bin.equinox.io (bin.equinox.io)... 54.161.241.46, 54.237.133.81, 18.205.222.128, ...\n",
            "Connecting to bin.equinox.io (bin.equinox.io)|54.161.241.46|:443... connected.\n",
            "HTTP request sent, awaiting response... 200 OK\n",
            "Length: 13832437 (13M) [application/octet-stream]\n",
            "Saving to: ‘ngrok-stable-linux-amd64.zip’\n",
            "\n",
            "ngrok-stable-linux- 100%[===================>]  13.19M  3.82MB/s    in 3.5s    \n",
            "\n",
            "2023-01-13 13:10:41 (3.82 MB/s) - ‘ngrok-stable-linux-amd64.zip’ saved [13832437/13832437]\n",
            "\n",
            "Archive:  ngrok-stable-linux-amd64.zip\n",
            "  inflating: ngrok                   \n"
          ]
        }
      ]
    },
    {
      "cell_type": "markdown",
      "source": [
        " # Introdução ao PySpark"
      ],
      "metadata": {
        "id": "lZ8aAzm6mDfO"
      }
    },
    {
      "cell_type": "markdown",
      "source": [
        "Pyspark é a interface do Spark no Python. Ela permite tanto que você escreva códigos utilizado a API de Spark para Python, mas também tem fornece um shell do Pyspark para que você possa analisar dados em um ambiente distribuído."
      ],
      "metadata": {
        "id": "5H3BUEA40bCU"
      }
    },
    {
      "cell_type": "markdown",
      "source": [
        "O PySpark suporta praticamente todas as features do Spark que vimos no módulo de intrdução. \n",
        "- Spark SQL e DataFrame\n",
        "- Pandas API \n",
        "- Streaming\n",
        "- MLlib\n",
        "- Spark Core"
      ],
      "metadata": {
        "id": "yZu3PFzp0myH"
      }
    },
    {
      "cell_type": "markdown",
      "source": [
        "## Trabalhando com um RDD"
      ],
      "metadata": {
        "id": "HwiHUn2Vn98Y"
      }
    },
    {
      "cell_type": "code",
      "source": [
        "from pyspark import SparkContext\n",
        "\n",
        "# Create a SparkContext\n",
        "sc = SparkContext(\"local\", \"RDD Example\")"
      ],
      "metadata": {
        "id": "FM3q9YrxoBa-"
      },
      "execution_count": null,
      "outputs": []
    },
    {
      "cell_type": "code",
      "source": [
        "# Ler um arquivo de texto e criar um rdd\n",
        "rdd_texto = sc.textFile(\"./rdd_dataset.txt\")"
      ],
      "metadata": {
        "id": "AKUEZrHJoDu6"
      },
      "execution_count": null,
      "outputs": []
    },
    {
      "cell_type": "code",
      "source": [
        "# Performar transformações no RDD\n",
        "# Exemplo: Filtrar somente linhas que contenham a palavra DNC\n",
        "rdd_filtrado = rdd_texto.filter(lambda linha: \"DNC\" in linha)"
      ],
      "metadata": {
        "id": "kMhhToLHoE8S"
      },
      "execution_count": null,
      "outputs": []
    },
    {
      "cell_type": "code",
      "source": [
        "# Perform an action on the RDD\n",
        "# Example: Count the number of lines in the filtered RDD\n",
        "count = rdd_filtrado.count()"
      ],
      "metadata": {
        "id": "7QtLwAG5oF8w"
      },
      "execution_count": null,
      "outputs": []
    },
    {
      "cell_type": "code",
      "source": [
        "print(\"Numero de linhas com DNC:\", count)"
      ],
      "metadata": {
        "id": "QYCWTcxcoHK8"
      },
      "execution_count": null,
      "outputs": []
    },
    {
      "cell_type": "markdown",
      "source": [
        "## Iniciar Sessão Spark"
      ],
      "metadata": {
        "id": "8gIqFurprOZ0"
      }
    },
    {
      "cell_type": "markdown",
      "source": [
        "O primeiro passo para trabalharmos com spark no Python é inicializarmos uma sessão do spark com o [SparkSession](https://spark.apache.org/docs/3.2.1/api/python/reference/api/pyspark.sql.SparkSession.html?highlight=rdd%20todf#pyspark.sql.SparkSession)\n",
        "\n",
        "\n",
        "O que essa sessão Spark  está permitindo é que trabalhemos com Core do Spark que irá distribuir os dados que vamos trabalhar através de várias máquinas e paralelizar o seu processamento.\n",
        "\n",
        "A SparkSession can be used create DataFrame, register DataFrame as tables, execute SQL over tables, cache tables, and read parquet files. To create a SparkSession, use the following builder pattern:\n",
        "\n",
        "Enfim, nós podemos através da sessão spark trabalhar com todas as ferramentas que ele disponibiliza para trabalharmos com nossos dados de maneira distribuída no nosso cluster. \n",
        "\n",
        "A primeira coisa a se fazer é importar o SparkSession que é o ponto de entrada para trabalharmos com os dados no Pyspark. "
      ],
      "metadata": {
        "id": "_ZgamQF25CVX"
      }
    },
    {
      "cell_type": "code",
      "source": [
        "from pyspark.sql import SparkSession\n",
        "from pyspark import SparkContext, SparkConf\n",
        "\n",
        "# ConfigureSparkUI\n",
        "conf = SparkConf().set('spark.ui.port', '4050')\n",
        "sc = SparkContext(conf=conf)\n",
        "sc.stop()\n",
        "\n",
        "spark = (\n",
        "    SparkSession.builder                  # Método da classe que constrói a sessão spark\n",
        "      .appName(\"Meu Primeiro App Spark\")  # Nome do App Spark\n",
        "      .getOrCreate())                     # Verifica se há uma sessão ativa, e se não há, cria uma nova sessão"
      ],
      "metadata": {
        "id": "vcytxNzMzrnX"
      },
      "execution_count": null,
      "outputs": []
    },
    {
      "cell_type": "markdown",
      "source": [
        "Como podemos ver na documentação, uma sessão spark tem algum métodos e atributos. Então por exemplo se eu quiser retornar qual é a sessão ativa de spark para meu programa atual, basta usar o getActiveSession()"
      ],
      "metadata": {
        "id": "T6hgJuKl5xWy"
      }
    },
    {
      "cell_type": "markdown",
      "source": [
        "### Disclaimer\n",
        "Uma forte sugestão que eu tenho a vocês é que a cada função que usarem para manipular dataframes, consultem a documentação específica daquela função. \n",
        "\n",
        "https://spark.apache.org/\n",
        "\n",
        "1. Acessar o site\n",
        "2. Documentation\n",
        "  - Latest Release que é a que estamos usando\n",
        "  - Older versions caso esteja usando outra versão do spark\n"
      ],
      "metadata": {
        "id": "yrUqfll0G7N0"
      }
    },
    {
      "cell_type": "markdown",
      "source": [
        "Reforçar o uso da documentação mostrando como achar o show() e falar que eles irão precisar usar a documentação para completar os exercício. "
      ],
      "metadata": {
        "id": "isnbqhfWH_09"
      }
    },
    {
      "cell_type": "markdown",
      "source": [
        "## Leitura de um CSV"
      ],
      "metadata": {
        "id": "Ma59E7Bmrflv"
      }
    },
    {
      "cell_type": "markdown",
      "source": [
        "Agora, vamos pegar uma base de dados mais próxima daquilo que diariamente engenheiro, cientistas e analistas lidam. \n",
        "\n",
        "Para isso, vamos pegar uma base de dados fictícias que contém transações pix. "
      ],
      "metadata": {
        "id": "wRLbLB-QOAYg"
      }
    },
    {
      "cell_type": "code",
      "source": [
        "caminho_csv = \"./base_de_dados.csv\""
      ],
      "metadata": {
        "id": "tO6fnllWQkiA"
      },
      "execution_count": null,
      "outputs": []
    },
    {
      "cell_type": "code",
      "source": [
        "caminho_csv = \"./base_de_dados.csv\"\n",
        "\n",
        "df = spark.read.csv(\n",
        "      path=caminho_csv,\n",
        ")"
      ],
      "metadata": {
        "id": "t9wLbayAOMH3",
        "colab": {
          "base_uri": "https://localhost:8080/",
          "height": 380
        },
        "outputId": "2fb01c9d-cc07-48af-8f6f-2c5b3e4be0ff"
      },
      "execution_count": null,
      "outputs": [
        {
          "output_type": "error",
          "ename": "AnalysisException",
          "evalue": "ignored",
          "traceback": [
            "\u001b[0;31m---------------------------------------------------------------------------\u001b[0m",
            "\u001b[0;31mAnalysisException\u001b[0m                         Traceback (most recent call last)",
            "\u001b[0;32m<ipython-input-11-9131b90e2386>\u001b[0m in \u001b[0;36m<module>\u001b[0;34m\u001b[0m\n\u001b[1;32m      1\u001b[0m \u001b[0mcaminho_csv\u001b[0m \u001b[0;34m=\u001b[0m \u001b[0;34m\"./base_de_dados.csv\"\u001b[0m\u001b[0;34m\u001b[0m\u001b[0;34m\u001b[0m\u001b[0m\n\u001b[1;32m      2\u001b[0m \u001b[0;34m\u001b[0m\u001b[0m\n\u001b[0;32m----> 3\u001b[0;31m df = spark.read.csv(\n\u001b[0m\u001b[1;32m      4\u001b[0m       \u001b[0mpath\u001b[0m\u001b[0;34m=\u001b[0m\u001b[0mcaminho_csv\u001b[0m\u001b[0;34m,\u001b[0m\u001b[0;34m\u001b[0m\u001b[0;34m\u001b[0m\u001b[0m\n\u001b[1;32m      5\u001b[0m )\n",
            "\u001b[0;32m/usr/local/lib/python3.8/dist-packages/pyspark/sql/readwriter.py\u001b[0m in \u001b[0;36mcsv\u001b[0;34m(self, path, schema, sep, encoding, quote, escape, comment, header, inferSchema, ignoreLeadingWhiteSpace, ignoreTrailingWhiteSpace, nullValue, nanValue, positiveInf, negativeInf, dateFormat, timestampFormat, maxColumns, maxCharsPerColumn, maxMalformedLogPerPartition, mode, columnNameOfCorruptRecord, multiLine, charToEscapeQuoteEscaping, samplingRatio, enforceSchema, emptyValue, locale, lineSep, pathGlobFilter, recursiveFileLookup, modifiedBefore, modifiedAfter, unescapedQuoteHandling)\u001b[0m\n\u001b[1;32m    533\u001b[0m         \u001b[0;32mif\u001b[0m \u001b[0mtype\u001b[0m\u001b[0;34m(\u001b[0m\u001b[0mpath\u001b[0m\u001b[0;34m)\u001b[0m \u001b[0;34m==\u001b[0m \u001b[0mlist\u001b[0m\u001b[0;34m:\u001b[0m\u001b[0;34m\u001b[0m\u001b[0;34m\u001b[0m\u001b[0m\n\u001b[1;32m    534\u001b[0m             \u001b[0;32massert\u001b[0m \u001b[0mself\u001b[0m\u001b[0;34m.\u001b[0m\u001b[0m_spark\u001b[0m\u001b[0;34m.\u001b[0m\u001b[0m_sc\u001b[0m\u001b[0;34m.\u001b[0m\u001b[0m_jvm\u001b[0m \u001b[0;32mis\u001b[0m \u001b[0;32mnot\u001b[0m \u001b[0;32mNone\u001b[0m\u001b[0;34m\u001b[0m\u001b[0;34m\u001b[0m\u001b[0m\n\u001b[0;32m--> 535\u001b[0;31m             \u001b[0;32mreturn\u001b[0m \u001b[0mself\u001b[0m\u001b[0;34m.\u001b[0m\u001b[0m_df\u001b[0m\u001b[0;34m(\u001b[0m\u001b[0mself\u001b[0m\u001b[0;34m.\u001b[0m\u001b[0m_jreader\u001b[0m\u001b[0;34m.\u001b[0m\u001b[0mcsv\u001b[0m\u001b[0;34m(\u001b[0m\u001b[0mself\u001b[0m\u001b[0;34m.\u001b[0m\u001b[0m_spark\u001b[0m\u001b[0;34m.\u001b[0m\u001b[0m_sc\u001b[0m\u001b[0;34m.\u001b[0m\u001b[0m_jvm\u001b[0m\u001b[0;34m.\u001b[0m\u001b[0mPythonUtils\u001b[0m\u001b[0;34m.\u001b[0m\u001b[0mtoSeq\u001b[0m\u001b[0;34m(\u001b[0m\u001b[0mpath\u001b[0m\u001b[0;34m)\u001b[0m\u001b[0;34m)\u001b[0m\u001b[0;34m)\u001b[0m\u001b[0;34m\u001b[0m\u001b[0;34m\u001b[0m\u001b[0m\n\u001b[0m\u001b[1;32m    536\u001b[0m         \u001b[0;32melif\u001b[0m \u001b[0misinstance\u001b[0m\u001b[0;34m(\u001b[0m\u001b[0mpath\u001b[0m\u001b[0;34m,\u001b[0m \u001b[0mRDD\u001b[0m\u001b[0;34m)\u001b[0m\u001b[0;34m:\u001b[0m\u001b[0;34m\u001b[0m\u001b[0;34m\u001b[0m\u001b[0m\n\u001b[1;32m    537\u001b[0m \u001b[0;34m\u001b[0m\u001b[0m\n",
            "\u001b[0;32m/usr/local/lib/python3.8/dist-packages/py4j/java_gateway.py\u001b[0m in \u001b[0;36m__call__\u001b[0;34m(self, *args)\u001b[0m\n\u001b[1;32m   1319\u001b[0m \u001b[0;34m\u001b[0m\u001b[0m\n\u001b[1;32m   1320\u001b[0m         \u001b[0manswer\u001b[0m \u001b[0;34m=\u001b[0m \u001b[0mself\u001b[0m\u001b[0;34m.\u001b[0m\u001b[0mgateway_client\u001b[0m\u001b[0;34m.\u001b[0m\u001b[0msend_command\u001b[0m\u001b[0;34m(\u001b[0m\u001b[0mcommand\u001b[0m\u001b[0;34m)\u001b[0m\u001b[0;34m\u001b[0m\u001b[0;34m\u001b[0m\u001b[0m\n\u001b[0;32m-> 1321\u001b[0;31m         return_value = get_return_value(\n\u001b[0m\u001b[1;32m   1322\u001b[0m             answer, self.gateway_client, self.target_id, self.name)\n\u001b[1;32m   1323\u001b[0m \u001b[0;34m\u001b[0m\u001b[0m\n",
            "\u001b[0;32m/usr/local/lib/python3.8/dist-packages/pyspark/sql/utils.py\u001b[0m in \u001b[0;36mdeco\u001b[0;34m(*a, **kw)\u001b[0m\n\u001b[1;32m    194\u001b[0m                 \u001b[0;31m# Hide where the exception came from that shows a non-Pythonic\u001b[0m\u001b[0;34m\u001b[0m\u001b[0;34m\u001b[0m\u001b[0;34m\u001b[0m\u001b[0m\n\u001b[1;32m    195\u001b[0m                 \u001b[0;31m# JVM exception message.\u001b[0m\u001b[0;34m\u001b[0m\u001b[0;34m\u001b[0m\u001b[0;34m\u001b[0m\u001b[0m\n\u001b[0;32m--> 196\u001b[0;31m                 \u001b[0;32mraise\u001b[0m \u001b[0mconverted\u001b[0m \u001b[0;32mfrom\u001b[0m \u001b[0;32mNone\u001b[0m\u001b[0;34m\u001b[0m\u001b[0;34m\u001b[0m\u001b[0m\n\u001b[0m\u001b[1;32m    197\u001b[0m             \u001b[0;32melse\u001b[0m\u001b[0;34m:\u001b[0m\u001b[0;34m\u001b[0m\u001b[0;34m\u001b[0m\u001b[0m\n\u001b[1;32m    198\u001b[0m                 \u001b[0;32mraise\u001b[0m\u001b[0;34m\u001b[0m\u001b[0;34m\u001b[0m\u001b[0m\n",
            "\u001b[0;31mAnalysisException\u001b[0m: Path does not exist: file:/content/base_de_dados.csv"
          ]
        }
      ]
    },
    {
      "cell_type": "code",
      "source": [
        "df.show()"
      ],
      "metadata": {
        "colab": {
          "base_uri": "https://localhost:8080/"
        },
        "id": "wUV3hXUTPrQE",
        "outputId": "085b5b27-d3d9-4083-dc6b-4c99bebd644f"
      },
      "execution_count": null,
      "outputs": [
        {
          "output_type": "stream",
          "name": "stdout",
          "text": [
            "+--------------------+\n",
            "|                 _c0|\n",
            "+--------------------+\n",
            "|id;valor;parte_de...|\n",
            "|1;9.93;Dra. Ana C...|\n",
            "|2;15.38;Ana Calde...|\n",
            "|3;57.58;Arthur Go...|\n",
            "|4;53705.13;Ana Ju...|\n",
            "|5;25299.69;Srta. ...|\n",
            "|6;7165.06;Gabriel...|\n",
            "|7;6.16;Heloisa da...|\n",
            "|8;136.36;Srta. Is...|\n",
            "|9;574.39;Dr. Luca...|\n",
            "|10;42.88;Mirella ...|\n",
            "|11;33629.97;Sr. V...|\n",
            "|12;4374.56;Nathan...|\n",
            "|13;507.18;Miguel ...|\n",
            "|14;67758.87;Julia...|\n",
            "|15;815.53;Ana Lau...|\n",
            "|16;2.73;Levi Lima...|\n",
            "|17;0.54;Otavio Cu...|\n",
            "|18;49836.72;Ana C...|\n",
            "|19;9.68;Levi Mart...|\n",
            "+--------------------+\n",
            "only showing top 20 rows\n",
            "\n"
          ]
        }
      ]
    },
    {
      "cell_type": "code",
      "source": [
        "df.printSchema()"
      ],
      "metadata": {
        "colab": {
          "base_uri": "https://localhost:8080/"
        },
        "id": "cXEOhePXQWCb",
        "outputId": "7ba2feda-ee63-4de8-f984-350c86bbd01c"
      },
      "execution_count": null,
      "outputs": [
        {
          "output_type": "stream",
          "name": "stdout",
          "text": [
            "root\n",
            " |-- _c0: string (nullable = true)\n",
            "\n"
          ]
        }
      ]
    },
    {
      "cell_type": "code",
      "source": [
        "df.show(truncate=False)"
      ],
      "metadata": {
        "colab": {
          "base_uri": "https://localhost:8080/"
        },
        "id": "DRQ1VetYQH19",
        "outputId": "b851e9bb-d504-4fbb-a007-02673820244c"
      },
      "execution_count": null,
      "outputs": [
        {
          "output_type": "stream",
          "name": "stdout",
          "text": [
            "+-------------------------------------------------------------------------------------------------------------------------------------------------------------------------------------+\n",
            "|id;valor;parte_debitada_nome;parte_debitada_conta;parte_debitada_banco;parte_creditada_nome;parte_creditada_conta;parte_creditada_banco;chave_pix_tipo;chave_pix_valor;data_transacao|\n",
            "+-------------------------------------------------------------------------------------------------------------------------------------------------------------------------------------+\n",
            "|1;9.93;Dra. Ana Carolina Oliveira;79470453;Nubank;Maysa da Cruz;67162333;Itau;cpf;8439752610;18/02/2022 13:28                                                                        |\n",
            "|2;15.38;Ana Caldeira;19689668;Itau;Evelyn Sales;60005091;Bradesco;cpf;27145380617;08/04/2022 01:47                                                                                   |\n",
            "|3;57.58;Arthur Goncalves;18856899;Bradesco;Maria Melo;13496303;BTG;cpf;16452937006;14/07/2022 03:18                                                                                  |\n",
            "|4;53705.13;Ana Julia Caldeira;22834741;Itau;Ana Livia Almeida;44695116;Nubank;cpf;26590384142;15/01/2022 18:06                                                                       |\n",
            "|5;25299.69;Srta. Nicole Pinto;3715882;Nubank;Srta. Ana Laura da Rocha;21409465;Nubank;cpf;73486105280;13/05/2022 11:04                                                               |\n",
            "|6;7165.06;Gabriela Ferreira;2243037;Nubank;Larissa Souza;10689552;Itau;cpf;96845371237;11/09/2022 13:38                                                                              |\n",
            "|7;6.16;Heloisa da Rocha;59778949;BTG;Dra. Vitoria Silveira;56583792;Nubank;cpf;89064175357;10/12/2021 12:37                                                                          |\n",
            "|8;136.36;Srta. Isadora Correia;77102442;Nubank;Francisco da Costa;96088386;Nubank;cpf;85907632429;30/12/2021 23:18                                                                   |\n",
            "|9;574.39;Dr. Lucas da Cruz;38501170;BTG;Calebe da Luz;19365554;Bradesco;cpf;64720189520;21/06/2021 07:20                                                                             |\n",
            "|10;42.88;Mirella Martins;29535709;Bradesco;Danilo Lopes;60064650;Itau;cpf;87014935232;21/09/2022 17:19                                                                               |\n",
            "|11;33629.97;Sr. Vitor Gabriel da Costa;67010663;BTG;Sra. Lavinia Caldeira;48145941;Nubank;cpf;63542098124;12/09/2022 00:29                                                           |\n",
            "|12;4374.56;Nathan Peixoto;22975623;Nubank;Diogo da Luz;30302218;Bradesco;cpf;72908154323;07/08/2022 17:01                                                                            |\n",
            "|13;507.18;Miguel Araujo;75113657;Nubank;Marcos Vinicius Goncalves;67418115;Itau;cpf;84763129031;07/03/2021 12:34                                                                     |\n",
            "|14;67758.87;Juliana Correia;4495167;Itau;Davi Lucas Porto;94395923;BTG;cpf;97804215649;24/03/2021 22:58                                                                              |\n",
            "|15;815.53;Ana Laura Souza;79650252;Itau;Isabel Costa;28762988;BTG;cpf;51824039689;21/02/2022 11:25                                                                                   |\n",
            "|16;2.73;Levi Lima;73815441;BTG;Dra. Maria Luiza Peixoto;96594203;Bradesco;cpf;94516738066;20/07/2021 09:17                                                                           |\n",
            "|17;0.54;Otavio Cunha;85583961;Bradesco;Elisa Moreira;97003354;Bradesco;cpf;15248769094;16/02/2022 10:16                                                                              |\n",
            "|18;49836.72;Ana Carolina Oliveira;80200942;Itau;Stella Fernandes;31579145;BTG;cpf;47609381250;18/07/2022 22:46                                                                       |\n",
            "|19;9.68;Levi Martins;12349481;Itau;Joao Guilherme Mendes;31102492;BTG;celular;11916824404;26/02/2022 15:05                                                                           |\n",
            "|20;9837.22;Noah Cunha;84622162;Bradesco;Juan Mendes;97805965;Bradesco;celular;11944547225;22/06/2021 05:39                                                                           |\n",
            "+-------------------------------------------------------------------------------------------------------------------------------------------------------------------------------------+\n",
            "only showing top 20 rows\n",
            "\n"
          ]
        }
      ]
    },
    {
      "cell_type": "code",
      "source": [
        "df = spark.read.csv(\n",
        "      path=caminho_csv,\n",
        "      header=True      \n",
        "      #inferSchema=True,\n",
        "      #sep=\";\"\n",
        ")"
      ],
      "metadata": {
        "id": "g90sgBE_P3sw"
      },
      "execution_count": null,
      "outputs": []
    },
    {
      "cell_type": "code",
      "source": [
        "df.printSchema()"
      ],
      "metadata": {
        "colab": {
          "base_uri": "https://localhost:8080/"
        },
        "id": "co409OzqP9G9",
        "outputId": "0a159354-a6d5-44ef-b603-b1cf929cb6b1"
      },
      "execution_count": null,
      "outputs": [
        {
          "output_type": "stream",
          "name": "stdout",
          "text": [
            "root\n",
            " |-- id;valor;parte_debitada_nome;parte_debitada_conta;parte_debitada_banco;parte_creditada_nome;parte_creditada_conta;parte_creditada_banco;chave_pix_tipo;chave_pix_valor;data_transacao: string (nullable = true)\n",
            "\n"
          ]
        }
      ]
    },
    {
      "cell_type": "code",
      "source": [
        "df.show()"
      ],
      "metadata": {
        "colab": {
          "base_uri": "https://localhost:8080/"
        },
        "id": "KhiE12Z3Qsf8",
        "outputId": "313993a8-0de0-4420-d70f-77af138a8bd7"
      },
      "execution_count": null,
      "outputs": [
        {
          "output_type": "stream",
          "name": "stdout",
          "text": [
            "+-------------------------------------------------------------------------------------------------------------------------------------------------------------------------------------+\n",
            "|id;valor;parte_debitada_nome;parte_debitada_conta;parte_debitada_banco;parte_creditada_nome;parte_creditada_conta;parte_creditada_banco;chave_pix_tipo;chave_pix_valor;data_transacao|\n",
            "+-------------------------------------------------------------------------------------------------------------------------------------------------------------------------------------+\n",
            "|                                                                                                                                                                 1;9.93;Dra. Ana C...|\n",
            "|                                                                                                                                                                 2;15.38;Ana Calde...|\n",
            "|                                                                                                                                                                 3;57.58;Arthur Go...|\n",
            "|                                                                                                                                                                 4;53705.13;Ana Ju...|\n",
            "|                                                                                                                                                                 5;25299.69;Srta. ...|\n",
            "|                                                                                                                                                                 6;7165.06;Gabriel...|\n",
            "|                                                                                                                                                                 7;6.16;Heloisa da...|\n",
            "|                                                                                                                                                                 8;136.36;Srta. Is...|\n",
            "|                                                                                                                                                                 9;574.39;Dr. Luca...|\n",
            "|                                                                                                                                                                 10;42.88;Mirella ...|\n",
            "|                                                                                                                                                                 11;33629.97;Sr. V...|\n",
            "|                                                                                                                                                                 12;4374.56;Nathan...|\n",
            "|                                                                                                                                                                 13;507.18;Miguel ...|\n",
            "|                                                                                                                                                                 14;67758.87;Julia...|\n",
            "|                                                                                                                                                                 15;815.53;Ana Lau...|\n",
            "|                                                                                                                                                                 16;2.73;Levi Lima...|\n",
            "|                                                                                                                                                                 17;0.54;Otavio Cu...|\n",
            "|                                                                                                                                                                 18;49836.72;Ana C...|\n",
            "|                                                                                                                                                                 19;9.68;Levi Mart...|\n",
            "|                                                                                                                                                                 20;9837.22;Noah C...|\n",
            "+-------------------------------------------------------------------------------------------------------------------------------------------------------------------------------------+\n",
            "only showing top 20 rows\n",
            "\n"
          ]
        }
      ]
    },
    {
      "cell_type": "code",
      "source": [
        "df = spark.read.csv(\n",
        "      path=caminho_csv,\n",
        "      header=True,\n",
        "      sep=\";\"\n",
        ")"
      ],
      "metadata": {
        "id": "Khx0CqiTQ2u1"
      },
      "execution_count": null,
      "outputs": []
    },
    {
      "cell_type": "code",
      "source": [
        "df.show()"
      ],
      "metadata": {
        "colab": {
          "base_uri": "https://localhost:8080/"
        },
        "id": "NUBsRyETQ9fd",
        "outputId": "538dc97e-3dc2-4bb1-c5ff-fe2130edcfb7"
      },
      "execution_count": null,
      "outputs": [
        {
          "output_type": "stream",
          "name": "stdout",
          "text": [
            "+---+--------+--------------------+--------------------+--------------------+--------------------+---------------------+---------------------+--------------+---------------+----------------+\n",
            "| id|   valor| parte_debitada_nome|parte_debitada_conta|parte_debitada_banco|parte_creditada_nome|parte_creditada_conta|parte_creditada_banco|chave_pix_tipo|chave_pix_valor|  data_transacao|\n",
            "+---+--------+--------------------+--------------------+--------------------+--------------------+---------------------+---------------------+--------------+---------------+----------------+\n",
            "|  1|    9.93|Dra. Ana Carolina...|            79470453|              Nubank|       Maysa da Cruz|             67162333|                 Itau|           cpf|     8439752610|18/02/2022 13:28|\n",
            "|  2|   15.38|        Ana Caldeira|            19689668|                Itau|        Evelyn Sales|             60005091|             Bradesco|           cpf|    27145380617|08/04/2022 01:47|\n",
            "|  3|   57.58|    Arthur Goncalves|            18856899|            Bradesco|          Maria Melo|             13496303|                  BTG|           cpf|    16452937006|14/07/2022 03:18|\n",
            "|  4|53705.13|  Ana Julia Caldeira|            22834741|                Itau|   Ana Livia Almeida|             44695116|               Nubank|           cpf|    26590384142|15/01/2022 18:06|\n",
            "|  5|25299.69|  Srta. Nicole Pinto|             3715882|              Nubank|Srta. Ana Laura d...|             21409465|               Nubank|           cpf|    73486105280|13/05/2022 11:04|\n",
            "|  6| 7165.06|   Gabriela Ferreira|             2243037|              Nubank|       Larissa Souza|             10689552|                 Itau|           cpf|    96845371237|11/09/2022 13:38|\n",
            "|  7|    6.16|    Heloisa da Rocha|            59778949|                 BTG|Dra. Vitoria Silv...|             56583792|               Nubank|           cpf|    89064175357|10/12/2021 12:37|\n",
            "|  8|  136.36|Srta. Isadora Cor...|            77102442|              Nubank|  Francisco da Costa|             96088386|               Nubank|           cpf|    85907632429|30/12/2021 23:18|\n",
            "|  9|  574.39|   Dr. Lucas da Cruz|            38501170|                 BTG|       Calebe da Luz|             19365554|             Bradesco|           cpf|    64720189520|21/06/2021 07:20|\n",
            "| 10|   42.88|     Mirella Martins|            29535709|            Bradesco|        Danilo Lopes|             60064650|                 Itau|           cpf|    87014935232|21/09/2022 17:19|\n",
            "| 11|33629.97|Sr. Vitor Gabriel...|            67010663|                 BTG|Sra. Lavinia Cald...|             48145941|               Nubank|           cpf|    63542098124|12/09/2022 00:29|\n",
            "| 12| 4374.56|      Nathan Peixoto|            22975623|              Nubank|        Diogo da Luz|             30302218|             Bradesco|           cpf|    72908154323|07/08/2022 17:01|\n",
            "| 13|  507.18|       Miguel Araujo|            75113657|              Nubank|Marcos Vinicius G...|             67418115|                 Itau|           cpf|    84763129031|07/03/2021 12:34|\n",
            "| 14|67758.87|     Juliana Correia|             4495167|                Itau|    Davi Lucas Porto|             94395923|                  BTG|           cpf|    97804215649|24/03/2021 22:58|\n",
            "| 15|  815.53|     Ana Laura Souza|            79650252|                Itau|        Isabel Costa|             28762988|                  BTG|           cpf|    51824039689|21/02/2022 11:25|\n",
            "| 16|    2.73|           Levi Lima|            73815441|                 BTG|Dra. Maria Luiza ...|             96594203|             Bradesco|           cpf|    94516738066|20/07/2021 09:17|\n",
            "| 17|    0.54|        Otavio Cunha|            85583961|            Bradesco|       Elisa Moreira|             97003354|             Bradesco|           cpf|    15248769094|16/02/2022 10:16|\n",
            "| 18|49836.72|Ana Carolina Oliv...|            80200942|                Itau|    Stella Fernandes|             31579145|                  BTG|           cpf|    47609381250|18/07/2022 22:46|\n",
            "| 19|    9.68|        Levi Martins|            12349481|                Itau|Joao Guilherme Me...|             31102492|                  BTG|       celular|    11916824404|26/02/2022 15:05|\n",
            "| 20| 9837.22|          Noah Cunha|            84622162|            Bradesco|         Juan Mendes|             97805965|             Bradesco|       celular|    11944547225|22/06/2021 05:39|\n",
            "+---+--------+--------------------+--------------------+--------------------+--------------------+---------------------+---------------------+--------------+---------------+----------------+\n",
            "only showing top 20 rows\n",
            "\n"
          ]
        }
      ]
    },
    {
      "cell_type": "code",
      "source": [
        "df.printSchema()"
      ],
      "metadata": {
        "colab": {
          "base_uri": "https://localhost:8080/"
        },
        "id": "tljJTxrURGoU",
        "outputId": "dfc944f3-bc0d-4d59-afc0-8438b114aa07"
      },
      "execution_count": null,
      "outputs": [
        {
          "output_type": "stream",
          "name": "stdout",
          "text": [
            "root\n",
            " |-- id: string (nullable = true)\n",
            " |-- valor: string (nullable = true)\n",
            " |-- parte_debitada_nome: string (nullable = true)\n",
            " |-- parte_debitada_conta: string (nullable = true)\n",
            " |-- parte_debitada_banco: string (nullable = true)\n",
            " |-- parte_creditada_nome: string (nullable = true)\n",
            " |-- parte_creditada_conta: string (nullable = true)\n",
            " |-- parte_creditada_banco: string (nullable = true)\n",
            " |-- chave_pix_tipo: string (nullable = true)\n",
            " |-- chave_pix_valor: string (nullable = true)\n",
            " |-- data_transacao: string (nullable = true)\n",
            "\n"
          ]
        }
      ]
    },
    {
      "cell_type": "code",
      "source": [
        "# Outra maneira de ler os dados\n",
        "# df = (\n",
        "#     spark\n",
        "#       .read\n",
        "#       .format(\"csv\")                  # Formato de Leitura\n",
        "#       .option(\"inferSchema\", \"true\")  # Determina automáticamente o schema dos dados\n",
        "#       .option('delimiter',\";\")        # Separador dos Dados\n",
        "#       .option(\"header\", \"true\")       # Identificar se meus dados possuem header\n",
        "#       .load(caminho_csv)              # Local do meu arquivo\n",
        "#   )"
      ],
      "metadata": {
        "id": "MC3JVRxJQOX2"
      },
      "execution_count": null,
      "outputs": []
    },
    {
      "cell_type": "markdown",
      "source": [
        "Como fazer para que meus dados tenham o schema correto?\n",
        "1. Schema On Read\n",
        "2. Alterar o tipo do dados depois da leitura\n",
        "\n",
        "O Spark reader tem uma opção padrão de inferSchema, que seta o schema de forma automática e como achar conveniente. \n",
        "\n",
        "### Schema on read\n",
        "Quais são os tipos de dados do PySpark?\n",
        "https://spark.apache.org/docs/latest/api/python/reference/pyspark.sql/data_types.html\n",
        "\n",
        "1. Definir o nosso schema\n",
        "  - StructType\n",
        "  - StructField\n",
        "2. Ler a base de dados com nosso schema setado!"
      ],
      "metadata": {
        "id": "DPdQ5OSDRWNM"
      }
    },
    {
      "cell_type": "code",
      "source": [
        "df.schema.fieldNames()"
      ],
      "metadata": {
        "colab": {
          "base_uri": "https://localhost:8080/"
        },
        "id": "pvQ3_9wlR9J1",
        "outputId": "283b77f3-cdff-46d0-82ee-97cda1585de4"
      },
      "execution_count": null,
      "outputs": [
        {
          "output_type": "execute_result",
          "data": {
            "text/plain": [
              "['id',\n",
              " 'valor',\n",
              " 'parte_debitada_nome',\n",
              " 'parte_debitada_conta',\n",
              " 'parte_debitada_banco',\n",
              " 'parte_creditada_nome',\n",
              " 'parte_creditada_conta',\n",
              " 'parte_creditada_banco',\n",
              " 'chave_pix_tipo',\n",
              " 'chave_pix_valor',\n",
              " 'data_transacao']"
            ]
          },
          "metadata": {},
          "execution_count": 70
        }
      ]
    },
    {
      "cell_type": "code",
      "source": [
        "from pyspark.sql.types import StructType, StructField, IntegerType, DoubleType"
      ],
      "metadata": {
        "id": "QP2w8_jJSbfX"
      },
      "execution_count": null,
      "outputs": []
    },
    {
      "cell_type": "code",
      "source": [
        "schema_base_pix = StructType([\n",
        "    StructField('id', IntegerType()),\n",
        "    StructField('valor', DoubleType()),\n",
        "])\n"
      ],
      "metadata": {
        "id": "qv-H1fNXReE9"
      },
      "execution_count": null,
      "outputs": []
    },
    {
      "cell_type": "code",
      "source": [
        "df = spark.read.csv(\n",
        "      path=caminho_csv,\n",
        "      header=True,\n",
        "      sep=\";\",\n",
        "      schema=schema_base_pix\n",
        ")"
      ],
      "metadata": {
        "id": "031DSnwTS3Ym"
      },
      "execution_count": null,
      "outputs": []
    },
    {
      "cell_type": "code",
      "source": [
        "df.show()"
      ],
      "metadata": {
        "colab": {
          "base_uri": "https://localhost:8080/"
        },
        "id": "ODhL7G6xP8MV",
        "outputId": "71d69276-fa05-41ef-f61a-ce8cd8a878b8"
      },
      "execution_count": null,
      "outputs": [
        {
          "output_type": "stream",
          "name": "stdout",
          "text": [
            "+---+--------+\n",
            "| id|   valor|\n",
            "+---+--------+\n",
            "|  1|    9.93|\n",
            "|  2|   15.38|\n",
            "|  3|   57.58|\n",
            "|  4|53705.13|\n",
            "|  5|25299.69|\n",
            "|  6| 7165.06|\n",
            "|  7|    6.16|\n",
            "|  8|  136.36|\n",
            "|  9|  574.39|\n",
            "| 10|   42.88|\n",
            "| 11|33629.97|\n",
            "| 12| 4374.56|\n",
            "| 13|  507.18|\n",
            "| 14|67758.87|\n",
            "| 15|  815.53|\n",
            "| 16|    2.73|\n",
            "| 17|    0.54|\n",
            "| 18|49836.72|\n",
            "| 19|    9.68|\n",
            "| 20| 9837.22|\n",
            "+---+--------+\n",
            "only showing top 20 rows\n",
            "\n"
          ]
        }
      ]
    },
    {
      "cell_type": "code",
      "source": [
        "df.printSchema()"
      ],
      "metadata": {
        "colab": {
          "base_uri": "https://localhost:8080/"
        },
        "id": "xY8vSbuqTkjM",
        "outputId": "2d4b3c89-2e52-4756-be4d-9d8b9fce6492"
      },
      "execution_count": null,
      "outputs": [
        {
          "output_type": "stream",
          "name": "stdout",
          "text": [
            "root\n",
            " |-- id: integer (nullable = true)\n",
            " |-- valor: double (nullable = true)\n",
            "\n"
          ]
        }
      ]
    },
    {
      "cell_type": "code",
      "source": [
        "df.select(sum('valor')).show()"
      ],
      "metadata": {
        "colab": {
          "base_uri": "https://localhost:8080/",
          "height": 165
        },
        "id": "L-PGRc08TqjO",
        "outputId": "82d51bf2-1573-4ad8-db09-e65142dd093a"
      },
      "execution_count": null,
      "outputs": [
        {
          "output_type": "error",
          "ename": "TypeError",
          "evalue": "ignored",
          "traceback": [
            "\u001b[0;31m---------------------------------------------------------------------------\u001b[0m",
            "\u001b[0;31mTypeError\u001b[0m                                 Traceback (most recent call last)",
            "\u001b[0;32m<ipython-input-91-b2cb58d093a3>\u001b[0m in \u001b[0;36m<module>\u001b[0;34m\u001b[0m\n\u001b[0;32m----> 1\u001b[0;31m \u001b[0mdf\u001b[0m\u001b[0;34m.\u001b[0m\u001b[0mselect\u001b[0m\u001b[0;34m(\u001b[0m\u001b[0msum\u001b[0m\u001b[0;34m(\u001b[0m\u001b[0;34m'valor'\u001b[0m\u001b[0;34m)\u001b[0m\u001b[0;34m)\u001b[0m\u001b[0;34m.\u001b[0m\u001b[0mshow\u001b[0m\u001b[0;34m(\u001b[0m\u001b[0;34m)\u001b[0m\u001b[0;34m\u001b[0m\u001b[0;34m\u001b[0m\u001b[0m\n\u001b[0m",
            "\u001b[0;31mTypeError\u001b[0m: unsupported operand type(s) for +: 'int' and 'str'"
          ]
        }
      ]
    },
    {
      "cell_type": "markdown",
      "source": [
        "Cuidar para não usar funções do próprio python como se fosse PySpark!"
      ],
      "metadata": {
        "id": "4Oc0q69SUY9x"
      }
    },
    {
      "cell_type": "code",
      "source": [
        "from pyspark.sql.functions import sum as _sum\n",
        "df.select(_sum('valor')).show()"
      ],
      "metadata": {
        "colab": {
          "base_uri": "https://localhost:8080/"
        },
        "id": "X2bDzdU2UOkx",
        "outputId": "2edfccb8-ef92-4842-ba73-fd1acb2cdffd"
      },
      "execution_count": null,
      "outputs": [
        {
          "output_type": "stream",
          "name": "stdout",
          "text": [
            "+------------------+\n",
            "|        sum(valor)|\n",
            "+------------------+\n",
            "|1366301.1899999997|\n",
            "+------------------+\n",
            "\n"
          ]
        }
      ]
    },
    {
      "cell_type": "code",
      "source": [
        "from pyspark.sql.types import StructType, StructField, IntegerType, DoubleType, StringType, TimestampType"
      ],
      "metadata": {
        "id": "dIVyszpGU-Ol"
      },
      "execution_count": null,
      "outputs": []
    },
    {
      "cell_type": "code",
      "source": [
        "schema_base_pix = StructType([\n",
        "    StructField('id', IntegerType()),\n",
        "    StructField('valor', DoubleType()),\n",
        "    StructField('parte_debitada_nome', StringType()),\n",
        "    StructField('parte_debitada_conta', StringType()),\n",
        "    StructField('parte_debitada_banco', StringType()),\n",
        "    StructField('parte_creditada_nome', StringType()),\n",
        "    StructField('parte_creditada_conta', StringType()),\n",
        "    StructField('parte_creditada_banco', StringType()),\n",
        "    StructField('chave_pix_tipo', StringType()),\n",
        "    StructField('chave_pix_valor', StringType()),\n",
        "    StructField('data_transacao', TimestampType())\n",
        "])\n",
        "\n",
        "\n",
        "df = spark.read.csv(\n",
        "      path=caminho_csv,\n",
        "      header=True,\n",
        "      sep=\";\",\n",
        "      schema=schema_base_pix\n",
        ")"
      ],
      "metadata": {
        "id": "MjwOfuA9Ul6Q"
      },
      "execution_count": null,
      "outputs": []
    },
    {
      "cell_type": "code",
      "source": [
        "df.printSchema()"
      ],
      "metadata": {
        "colab": {
          "base_uri": "https://localhost:8080/"
        },
        "id": "ur2wvLgbVc5m",
        "outputId": "62c7fd84-59b4-4d31-d44f-281a58d09109"
      },
      "execution_count": null,
      "outputs": [
        {
          "output_type": "stream",
          "name": "stdout",
          "text": [
            "root\n",
            " |-- id: integer (nullable = true)\n",
            " |-- valor: double (nullable = true)\n",
            " |-- parte_debitada_nome: string (nullable = true)\n",
            " |-- parte_debitada_conta: string (nullable = true)\n",
            " |-- parte_debitada_banco: string (nullable = true)\n",
            " |-- parte_creditada_nome: string (nullable = true)\n",
            " |-- parte_creditada_conta: string (nullable = true)\n",
            " |-- parte_creditada_banco: string (nullable = true)\n",
            " |-- chave_pix_tipo: string (nullable = true)\n",
            " |-- chave_pix_valor: string (nullable = true)\n",
            " |-- data_transacao: timestamp (nullable = true)\n",
            "\n"
          ]
        }
      ]
    },
    {
      "cell_type": "code",
      "source": [
        "df.show()"
      ],
      "metadata": {
        "colab": {
          "base_uri": "https://localhost:8080/"
        },
        "id": "EYawNRQ0VaLG",
        "outputId": "1f8965dd-8808-4755-bf3c-0636a7d76a43"
      },
      "execution_count": null,
      "outputs": [
        {
          "output_type": "stream",
          "name": "stdout",
          "text": [
            "+---+--------+--------------------+--------------------+--------------------+--------------------+---------------------+---------------------+--------------+---------------+--------------+\n",
            "| id|   valor| parte_debitada_nome|parte_debitada_conta|parte_debitada_banco|parte_creditada_nome|parte_creditada_conta|parte_creditada_banco|chave_pix_tipo|chave_pix_valor|data_transacao|\n",
            "+---+--------+--------------------+--------------------+--------------------+--------------------+---------------------+---------------------+--------------+---------------+--------------+\n",
            "|  1|    9.93|Dra. Ana Carolina...|            79470453|              Nubank|       Maysa da Cruz|             67162333|                 Itau|           cpf|     8439752610|          null|\n",
            "|  2|   15.38|        Ana Caldeira|            19689668|                Itau|        Evelyn Sales|             60005091|             Bradesco|           cpf|    27145380617|          null|\n",
            "|  3|   57.58|    Arthur Goncalves|            18856899|            Bradesco|          Maria Melo|             13496303|                  BTG|           cpf|    16452937006|          null|\n",
            "|  4|53705.13|  Ana Julia Caldeira|            22834741|                Itau|   Ana Livia Almeida|             44695116|               Nubank|           cpf|    26590384142|          null|\n",
            "|  5|25299.69|  Srta. Nicole Pinto|             3715882|              Nubank|Srta. Ana Laura d...|             21409465|               Nubank|           cpf|    73486105280|          null|\n",
            "|  6| 7165.06|   Gabriela Ferreira|             2243037|              Nubank|       Larissa Souza|             10689552|                 Itau|           cpf|    96845371237|          null|\n",
            "|  7|    6.16|    Heloisa da Rocha|            59778949|                 BTG|Dra. Vitoria Silv...|             56583792|               Nubank|           cpf|    89064175357|          null|\n",
            "|  8|  136.36|Srta. Isadora Cor...|            77102442|              Nubank|  Francisco da Costa|             96088386|               Nubank|           cpf|    85907632429|          null|\n",
            "|  9|  574.39|   Dr. Lucas da Cruz|            38501170|                 BTG|       Calebe da Luz|             19365554|             Bradesco|           cpf|    64720189520|          null|\n",
            "| 10|   42.88|     Mirella Martins|            29535709|            Bradesco|        Danilo Lopes|             60064650|                 Itau|           cpf|    87014935232|          null|\n",
            "| 11|33629.97|Sr. Vitor Gabriel...|            67010663|                 BTG|Sra. Lavinia Cald...|             48145941|               Nubank|           cpf|    63542098124|          null|\n",
            "| 12| 4374.56|      Nathan Peixoto|            22975623|              Nubank|        Diogo da Luz|             30302218|             Bradesco|           cpf|    72908154323|          null|\n",
            "| 13|  507.18|       Miguel Araujo|            75113657|              Nubank|Marcos Vinicius G...|             67418115|                 Itau|           cpf|    84763129031|          null|\n",
            "| 14|67758.87|     Juliana Correia|             4495167|                Itau|    Davi Lucas Porto|             94395923|                  BTG|           cpf|    97804215649|          null|\n",
            "| 15|  815.53|     Ana Laura Souza|            79650252|                Itau|        Isabel Costa|             28762988|                  BTG|           cpf|    51824039689|          null|\n",
            "| 16|    2.73|           Levi Lima|            73815441|                 BTG|Dra. Maria Luiza ...|             96594203|             Bradesco|           cpf|    94516738066|          null|\n",
            "| 17|    0.54|        Otavio Cunha|            85583961|            Bradesco|       Elisa Moreira|             97003354|             Bradesco|           cpf|    15248769094|          null|\n",
            "| 18|49836.72|Ana Carolina Oliv...|            80200942|                Itau|    Stella Fernandes|             31579145|                  BTG|           cpf|    47609381250|          null|\n",
            "| 19|    9.68|        Levi Martins|            12349481|                Itau|Joao Guilherme Me...|             31102492|                  BTG|       celular|    11916824404|          null|\n",
            "| 20| 9837.22|          Noah Cunha|            84622162|            Bradesco|         Juan Mendes|             97805965|             Bradesco|       celular|    11944547225|          null|\n",
            "+---+--------+--------------------+--------------------+--------------------+--------------------+---------------------+---------------------+--------------+---------------+--------------+\n",
            "only showing top 20 rows\n",
            "\n"
          ]
        }
      ]
    },
    {
      "cell_type": "code",
      "source": [
        "schema_base_pix = StructType([\n",
        "    StructField('id', IntegerType()),\n",
        "    StructField('valor', DoubleType()),\n",
        "    StructField('parte_debitada_nome', StringType()),\n",
        "    StructField('parte_debitada_conta', StringType()),\n",
        "    StructField('parte_debitada_banco', StringType()),\n",
        "    StructField('parte_creditada_nome', StringType()),\n",
        "    StructField('parte_creditada_conta', StringType()),\n",
        "    StructField('parte_creditada_banco', StringType()),\n",
        "    StructField('chave_pix_tipo', StringType()),\n",
        "    StructField('chave_pix_valor', StringType()),\n",
        "    StructField('data_transacao', TimestampType())\n",
        "])\n",
        "\n",
        "\n",
        "df = spark.read.csv(\n",
        "      path=caminho_csv,\n",
        "      header=True,\n",
        "      sep=\";\",\n",
        "      schema=schema_base_pix,\n",
        "      timestampFormat=\"dd/MM/yyyy HH:mm\"\n",
        ")"
      ],
      "metadata": {
        "id": "RmGDwRalVqCi"
      },
      "execution_count": null,
      "outputs": []
    },
    {
      "cell_type": "code",
      "source": [
        "df.printSchema()\n",
        "\n",
        "df.show()"
      ],
      "metadata": {
        "colab": {
          "base_uri": "https://localhost:8080/"
        },
        "id": "9gJSUHwmV0lL",
        "outputId": "1a7ce0bb-7857-463a-956a-71d1bc710328"
      },
      "execution_count": null,
      "outputs": [
        {
          "output_type": "stream",
          "name": "stdout",
          "text": [
            "root\n",
            " |-- id: integer (nullable = true)\n",
            " |-- valor: double (nullable = true)\n",
            " |-- parte_debitada_nome: string (nullable = true)\n",
            " |-- parte_debitada_conta: string (nullable = true)\n",
            " |-- parte_debitada_banco: string (nullable = true)\n",
            " |-- parte_creditada_nome: string (nullable = true)\n",
            " |-- parte_creditada_conta: string (nullable = true)\n",
            " |-- parte_creditada_banco: string (nullable = true)\n",
            " |-- chave_pix_tipo: string (nullable = true)\n",
            " |-- chave_pix_valor: string (nullable = true)\n",
            " |-- data_transacao: timestamp (nullable = true)\n",
            "\n",
            "+---+--------+--------------------+--------------------+--------------------+--------------------+---------------------+---------------------+--------------+---------------+-------------------+\n",
            "| id|   valor| parte_debitada_nome|parte_debitada_conta|parte_debitada_banco|parte_creditada_nome|parte_creditada_conta|parte_creditada_banco|chave_pix_tipo|chave_pix_valor|     data_transacao|\n",
            "+---+--------+--------------------+--------------------+--------------------+--------------------+---------------------+---------------------+--------------+---------------+-------------------+\n",
            "|  1|    9.93|Dra. Ana Carolina...|            79470453|              Nubank|       Maysa da Cruz|             67162333|                 Itau|           cpf|     8439752610|2022-02-18 13:28:00|\n",
            "|  2|   15.38|        Ana Caldeira|            19689668|                Itau|        Evelyn Sales|             60005091|             Bradesco|           cpf|    27145380617|2022-04-08 01:47:00|\n",
            "|  3|   57.58|    Arthur Goncalves|            18856899|            Bradesco|          Maria Melo|             13496303|                  BTG|           cpf|    16452937006|2022-07-14 03:18:00|\n",
            "|  4|53705.13|  Ana Julia Caldeira|            22834741|                Itau|   Ana Livia Almeida|             44695116|               Nubank|           cpf|    26590384142|2022-01-15 18:06:00|\n",
            "|  5|25299.69|  Srta. Nicole Pinto|             3715882|              Nubank|Srta. Ana Laura d...|             21409465|               Nubank|           cpf|    73486105280|2022-05-13 11:04:00|\n",
            "|  6| 7165.06|   Gabriela Ferreira|             2243037|              Nubank|       Larissa Souza|             10689552|                 Itau|           cpf|    96845371237|2022-09-11 13:38:00|\n",
            "|  7|    6.16|    Heloisa da Rocha|            59778949|                 BTG|Dra. Vitoria Silv...|             56583792|               Nubank|           cpf|    89064175357|2021-12-10 12:37:00|\n",
            "|  8|  136.36|Srta. Isadora Cor...|            77102442|              Nubank|  Francisco da Costa|             96088386|               Nubank|           cpf|    85907632429|2021-12-30 23:18:00|\n",
            "|  9|  574.39|   Dr. Lucas da Cruz|            38501170|                 BTG|       Calebe da Luz|             19365554|             Bradesco|           cpf|    64720189520|2021-06-21 07:20:00|\n",
            "| 10|   42.88|     Mirella Martins|            29535709|            Bradesco|        Danilo Lopes|             60064650|                 Itau|           cpf|    87014935232|2022-09-21 17:19:00|\n",
            "| 11|33629.97|Sr. Vitor Gabriel...|            67010663|                 BTG|Sra. Lavinia Cald...|             48145941|               Nubank|           cpf|    63542098124|2022-09-12 00:29:00|\n",
            "| 12| 4374.56|      Nathan Peixoto|            22975623|              Nubank|        Diogo da Luz|             30302218|             Bradesco|           cpf|    72908154323|2022-08-07 17:01:00|\n",
            "| 13|  507.18|       Miguel Araujo|            75113657|              Nubank|Marcos Vinicius G...|             67418115|                 Itau|           cpf|    84763129031|2021-03-07 12:34:00|\n",
            "| 14|67758.87|     Juliana Correia|             4495167|                Itau|    Davi Lucas Porto|             94395923|                  BTG|           cpf|    97804215649|2021-03-24 22:58:00|\n",
            "| 15|  815.53|     Ana Laura Souza|            79650252|                Itau|        Isabel Costa|             28762988|                  BTG|           cpf|    51824039689|2022-02-21 11:25:00|\n",
            "| 16|    2.73|           Levi Lima|            73815441|                 BTG|Dra. Maria Luiza ...|             96594203|             Bradesco|           cpf|    94516738066|2021-07-20 09:17:00|\n",
            "| 17|    0.54|        Otavio Cunha|            85583961|            Bradesco|       Elisa Moreira|             97003354|             Bradesco|           cpf|    15248769094|2022-02-16 10:16:00|\n",
            "| 18|49836.72|Ana Carolina Oliv...|            80200942|                Itau|    Stella Fernandes|             31579145|                  BTG|           cpf|    47609381250|2022-07-18 22:46:00|\n",
            "| 19|    9.68|        Levi Martins|            12349481|                Itau|Joao Guilherme Me...|             31102492|                  BTG|       celular|    11916824404|2022-02-26 15:05:00|\n",
            "| 20| 9837.22|          Noah Cunha|            84622162|            Bradesco|         Juan Mendes|             97805965|             Bradesco|       celular|    11944547225|2021-06-22 05:39:00|\n",
            "+---+--------+--------------------+--------------------+--------------------+--------------------+---------------------+---------------------+--------------+---------------+-------------------+\n",
            "only showing top 20 rows\n",
            "\n"
          ]
        }
      ]
    },
    {
      "cell_type": "code",
      "source": [
        "schema_base_pix = StructType([\n",
        "    StructField('data_transacao', TimestampType()),    \n",
        "    StructField('id', IntegerType()),\n",
        "    StructField('valor', DoubleType()),\n",
        "    StructField('parte_debitada_nome', StringType()),\n",
        "    StructField('parte_debitada_conta', StringType()),\n",
        "    StructField('parte_debitada_banco', StringType()),\n",
        "    StructField('parte_creditada_nome', StringType()),\n",
        "    StructField('parte_creditada_conta', StringType()),\n",
        "    StructField('parte_creditada_banco', StringType()),\n",
        "    StructField('chave_pix_tipo', StringType()),\n",
        "    StructField('chave_pix_valor', StringType())\n",
        "\n",
        "])\n",
        "\n",
        "\n",
        "df = spark.read.csv(\n",
        "      path=caminho_csv,\n",
        "      header=True,\n",
        "      sep=\";\",\n",
        "      schema=schema_base_pix,\n",
        "      timestampFormat=\"dd/MM/yyyy HH:mm\"\n",
        ")"
      ],
      "metadata": {
        "id": "eAkBrBcmWOwO"
      },
      "execution_count": null,
      "outputs": []
    },
    {
      "cell_type": "code",
      "source": [
        "df.printSchema()\n",
        "\n",
        "df.show()"
      ],
      "metadata": {
        "colab": {
          "base_uri": "https://localhost:8080/"
        },
        "id": "6VbWB9-sWSV9",
        "outputId": "ff806c4a-28ed-490a-93d9-3dd7a1f49fe9"
      },
      "execution_count": null,
      "outputs": [
        {
          "output_type": "stream",
          "name": "stdout",
          "text": [
            "root\n",
            " |-- data_transacao: timestamp (nullable = true)\n",
            " |-- id: integer (nullable = true)\n",
            " |-- valor: double (nullable = true)\n",
            " |-- parte_debitada_nome: string (nullable = true)\n",
            " |-- parte_debitada_conta: string (nullable = true)\n",
            " |-- parte_debitada_banco: string (nullable = true)\n",
            " |-- parte_creditada_nome: string (nullable = true)\n",
            " |-- parte_creditada_conta: string (nullable = true)\n",
            " |-- parte_creditada_banco: string (nullable = true)\n",
            " |-- chave_pix_tipo: string (nullable = true)\n",
            " |-- chave_pix_valor: string (nullable = true)\n",
            "\n",
            "+--------------+----+-----+-------------------+--------------------+--------------------+--------------------+---------------------+---------------------+--------------+----------------+\n",
            "|data_transacao|  id|valor|parte_debitada_nome|parte_debitada_conta|parte_debitada_banco|parte_creditada_nome|parte_creditada_conta|parte_creditada_banco|chave_pix_tipo| chave_pix_valor|\n",
            "+--------------+----+-----+-------------------+--------------------+--------------------+--------------------+---------------------+---------------------+--------------+----------------+\n",
            "|          null|null| null|           79470453|              Nubank|       Maysa da Cruz|            67162333|                 Itau|                  cpf|    8439752610|18/02/2022 13:28|\n",
            "|          null|null| null|           19689668|                Itau|        Evelyn Sales|            60005091|             Bradesco|                  cpf|   27145380617|08/04/2022 01:47|\n",
            "|          null|null| null|           18856899|            Bradesco|          Maria Melo|            13496303|                  BTG|                  cpf|   16452937006|14/07/2022 03:18|\n",
            "|          null|null| null|           22834741|                Itau|   Ana Livia Almeida|            44695116|               Nubank|                  cpf|   26590384142|15/01/2022 18:06|\n",
            "|          null|null| null|            3715882|              Nubank|Srta. Ana Laura d...|            21409465|               Nubank|                  cpf|   73486105280|13/05/2022 11:04|\n",
            "|          null|null| null|            2243037|              Nubank|       Larissa Souza|            10689552|                 Itau|                  cpf|   96845371237|11/09/2022 13:38|\n",
            "|          null|null| null|           59778949|                 BTG|Dra. Vitoria Silv...|            56583792|               Nubank|                  cpf|   89064175357|10/12/2021 12:37|\n",
            "|          null|null| null|           77102442|              Nubank|  Francisco da Costa|            96088386|               Nubank|                  cpf|   85907632429|30/12/2021 23:18|\n",
            "|          null|null| null|           38501170|                 BTG|       Calebe da Luz|            19365554|             Bradesco|                  cpf|   64720189520|21/06/2021 07:20|\n",
            "|          null|null| null|           29535709|            Bradesco|        Danilo Lopes|            60064650|                 Itau|                  cpf|   87014935232|21/09/2022 17:19|\n",
            "|          null|null| null|           67010663|                 BTG|Sra. Lavinia Cald...|            48145941|               Nubank|                  cpf|   63542098124|12/09/2022 00:29|\n",
            "|          null|null| null|           22975623|              Nubank|        Diogo da Luz|            30302218|             Bradesco|                  cpf|   72908154323|07/08/2022 17:01|\n",
            "|          null|null| null|           75113657|              Nubank|Marcos Vinicius G...|            67418115|                 Itau|                  cpf|   84763129031|07/03/2021 12:34|\n",
            "|          null|null| null|            4495167|                Itau|    Davi Lucas Porto|            94395923|                  BTG|                  cpf|   97804215649|24/03/2021 22:58|\n",
            "|          null|null| null|           79650252|                Itau|        Isabel Costa|            28762988|                  BTG|                  cpf|   51824039689|21/02/2022 11:25|\n",
            "|          null|null| null|           73815441|                 BTG|Dra. Maria Luiza ...|            96594203|             Bradesco|                  cpf|   94516738066|20/07/2021 09:17|\n",
            "|          null|null| null|           85583961|            Bradesco|       Elisa Moreira|            97003354|             Bradesco|                  cpf|   15248769094|16/02/2022 10:16|\n",
            "|          null|null| null|           80200942|                Itau|    Stella Fernandes|            31579145|                  BTG|                  cpf|   47609381250|18/07/2022 22:46|\n",
            "|          null|null| null|           12349481|                Itau|Joao Guilherme Me...|            31102492|                  BTG|              celular|   11916824404|26/02/2022 15:05|\n",
            "|          null|null| null|           84622162|            Bradesco|         Juan Mendes|            97805965|             Bradesco|              celular|   11944547225|22/06/2021 05:39|\n",
            "+--------------+----+-----+-------------------+--------------------+--------------------+--------------------+---------------------+---------------------+--------------+----------------+\n",
            "only showing top 20 rows\n",
            "\n"
          ]
        }
      ]
    },
    {
      "cell_type": "markdown",
      "source": [
        "### Mudar Schema após a leitura"
      ],
      "metadata": {
        "id": "STpt4z-nq9lA"
      }
    },
    {
      "cell_type": "markdown",
      "source": [
        "Agora digamos que nossa base possui 350 colunas, e nós não temos tempo hábil para documentarmos todas as colunas e todos os tipos!"
      ],
      "metadata": {
        "id": "69kwkbgMV-QD"
      }
    },
    {
      "cell_type": "code",
      "source": [
        "df = spark.read.csv(\n",
        "      path=caminho_csv,\n",
        "      header=True,\n",
        "      sep=\";\",\n",
        "      inferSchema=True\n",
        ")"
      ],
      "metadata": {
        "id": "tkTWp1HMXaOm"
      },
      "execution_count": null,
      "outputs": []
    },
    {
      "cell_type": "code",
      "source": [
        "df.printSchema()\n",
        "\n",
        "df.show()"
      ],
      "metadata": {
        "colab": {
          "base_uri": "https://localhost:8080/"
        },
        "id": "OGPSSFjZXir1",
        "outputId": "fbc982fb-671c-4f1b-8c4f-6a9820708f84"
      },
      "execution_count": null,
      "outputs": [
        {
          "output_type": "stream",
          "name": "stdout",
          "text": [
            "root\n",
            " |-- id: integer (nullable = true)\n",
            " |-- valor: double (nullable = true)\n",
            " |-- parte_debitada_nome: string (nullable = true)\n",
            " |-- parte_debitada_conta: integer (nullable = true)\n",
            " |-- parte_debitada_banco: string (nullable = true)\n",
            " |-- parte_creditada_nome: string (nullable = true)\n",
            " |-- parte_creditada_conta: integer (nullable = true)\n",
            " |-- parte_creditada_banco: string (nullable = true)\n",
            " |-- chave_pix_tipo: string (nullable = true)\n",
            " |-- chave_pix_valor: string (nullable = true)\n",
            " |-- data_transacao: string (nullable = true)\n",
            "\n",
            "+---+--------+--------------------+--------------------+--------------------+--------------------+---------------------+---------------------+--------------+---------------+----------------+\n",
            "| id|   valor| parte_debitada_nome|parte_debitada_conta|parte_debitada_banco|parte_creditada_nome|parte_creditada_conta|parte_creditada_banco|chave_pix_tipo|chave_pix_valor|  data_transacao|\n",
            "+---+--------+--------------------+--------------------+--------------------+--------------------+---------------------+---------------------+--------------+---------------+----------------+\n",
            "|  1|    9.93|Dra. Ana Carolina...|            79470453|              Nubank|       Maysa da Cruz|             67162333|                 Itau|           cpf|     8439752610|18/02/2022 13:28|\n",
            "|  2|   15.38|        Ana Caldeira|            19689668|                Itau|        Evelyn Sales|             60005091|             Bradesco|           cpf|    27145380617|08/04/2022 01:47|\n",
            "|  3|   57.58|    Arthur Goncalves|            18856899|            Bradesco|          Maria Melo|             13496303|                  BTG|           cpf|    16452937006|14/07/2022 03:18|\n",
            "|  4|53705.13|  Ana Julia Caldeira|            22834741|                Itau|   Ana Livia Almeida|             44695116|               Nubank|           cpf|    26590384142|15/01/2022 18:06|\n",
            "|  5|25299.69|  Srta. Nicole Pinto|             3715882|              Nubank|Srta. Ana Laura d...|             21409465|               Nubank|           cpf|    73486105280|13/05/2022 11:04|\n",
            "|  6| 7165.06|   Gabriela Ferreira|             2243037|              Nubank|       Larissa Souza|             10689552|                 Itau|           cpf|    96845371237|11/09/2022 13:38|\n",
            "|  7|    6.16|    Heloisa da Rocha|            59778949|                 BTG|Dra. Vitoria Silv...|             56583792|               Nubank|           cpf|    89064175357|10/12/2021 12:37|\n",
            "|  8|  136.36|Srta. Isadora Cor...|            77102442|              Nubank|  Francisco da Costa|             96088386|               Nubank|           cpf|    85907632429|30/12/2021 23:18|\n",
            "|  9|  574.39|   Dr. Lucas da Cruz|            38501170|                 BTG|       Calebe da Luz|             19365554|             Bradesco|           cpf|    64720189520|21/06/2021 07:20|\n",
            "| 10|   42.88|     Mirella Martins|            29535709|            Bradesco|        Danilo Lopes|             60064650|                 Itau|           cpf|    87014935232|21/09/2022 17:19|\n",
            "| 11|33629.97|Sr. Vitor Gabriel...|            67010663|                 BTG|Sra. Lavinia Cald...|             48145941|               Nubank|           cpf|    63542098124|12/09/2022 00:29|\n",
            "| 12| 4374.56|      Nathan Peixoto|            22975623|              Nubank|        Diogo da Luz|             30302218|             Bradesco|           cpf|    72908154323|07/08/2022 17:01|\n",
            "| 13|  507.18|       Miguel Araujo|            75113657|              Nubank|Marcos Vinicius G...|             67418115|                 Itau|           cpf|    84763129031|07/03/2021 12:34|\n",
            "| 14|67758.87|     Juliana Correia|             4495167|                Itau|    Davi Lucas Porto|             94395923|                  BTG|           cpf|    97804215649|24/03/2021 22:58|\n",
            "| 15|  815.53|     Ana Laura Souza|            79650252|                Itau|        Isabel Costa|             28762988|                  BTG|           cpf|    51824039689|21/02/2022 11:25|\n",
            "| 16|    2.73|           Levi Lima|            73815441|                 BTG|Dra. Maria Luiza ...|             96594203|             Bradesco|           cpf|    94516738066|20/07/2021 09:17|\n",
            "| 17|    0.54|        Otavio Cunha|            85583961|            Bradesco|       Elisa Moreira|             97003354|             Bradesco|           cpf|    15248769094|16/02/2022 10:16|\n",
            "| 18|49836.72|Ana Carolina Oliv...|            80200942|                Itau|    Stella Fernandes|             31579145|                  BTG|           cpf|    47609381250|18/07/2022 22:46|\n",
            "| 19|    9.68|        Levi Martins|            12349481|                Itau|Joao Guilherme Me...|             31102492|                  BTG|       celular|    11916824404|26/02/2022 15:05|\n",
            "| 20| 9837.22|          Noah Cunha|            84622162|            Bradesco|         Juan Mendes|             97805965|             Bradesco|       celular|    11944547225|22/06/2021 05:39|\n",
            "+---+--------+--------------------+--------------------+--------------------+--------------------+---------------------+---------------------+--------------+---------------+----------------+\n",
            "only showing top 20 rows\n",
            "\n"
          ]
        }
      ]
    },
    {
      "cell_type": "code",
      "source": [
        "df_cast = df.withColumn(\n",
        "    'id', col('id').cast('int'),\n",
        ").withColumn(\n",
        "    'valor', col('valor').cast(DoubleType()),\n",
        ").withColumn(\n",
        "    'data_transacao', to_timestamp('data_transacao', \"dd/MM/yyyy HH:mm\"),\n",
        ")"
      ],
      "metadata": {
        "id": "xAvjPqviXiuw"
      },
      "execution_count": null,
      "outputs": []
    },
    {
      "cell_type": "code",
      "source": [
        "df_cast.printSchema()\n",
        "\n",
        "df_cast.show()"
      ],
      "metadata": {
        "colab": {
          "base_uri": "https://localhost:8080/"
        },
        "id": "0rAyNVC3X-mb",
        "outputId": "4b58cace-f17d-4b2f-8a8b-e8dbcf68e729"
      },
      "execution_count": null,
      "outputs": [
        {
          "output_type": "stream",
          "name": "stdout",
          "text": [
            "root\n",
            " |-- id: integer (nullable = true)\n",
            " |-- valor: double (nullable = true)\n",
            " |-- parte_debitada_nome: string (nullable = true)\n",
            " |-- parte_debitada_conta: integer (nullable = true)\n",
            " |-- parte_debitada_banco: string (nullable = true)\n",
            " |-- parte_creditada_nome: string (nullable = true)\n",
            " |-- parte_creditada_conta: integer (nullable = true)\n",
            " |-- parte_creditada_banco: string (nullable = true)\n",
            " |-- chave_pix_tipo: string (nullable = true)\n",
            " |-- chave_pix_valor: string (nullable = true)\n",
            " |-- data_transacao: timestamp (nullable = true)\n",
            "\n",
            "+---+--------+--------------------+--------------------+--------------------+--------------------+---------------------+---------------------+--------------+---------------+-------------------+\n",
            "| id|   valor| parte_debitada_nome|parte_debitada_conta|parte_debitada_banco|parte_creditada_nome|parte_creditada_conta|parte_creditada_banco|chave_pix_tipo|chave_pix_valor|     data_transacao|\n",
            "+---+--------+--------------------+--------------------+--------------------+--------------------+---------------------+---------------------+--------------+---------------+-------------------+\n",
            "|  1|    9.93|Dra. Ana Carolina...|            79470453|              Nubank|       Maysa da Cruz|             67162333|                 Itau|           cpf|     8439752610|2022-02-18 13:28:00|\n",
            "|  2|   15.38|        Ana Caldeira|            19689668|                Itau|        Evelyn Sales|             60005091|             Bradesco|           cpf|    27145380617|2022-04-08 01:47:00|\n",
            "|  3|   57.58|    Arthur Goncalves|            18856899|            Bradesco|          Maria Melo|             13496303|                  BTG|           cpf|    16452937006|2022-07-14 03:18:00|\n",
            "|  4|53705.13|  Ana Julia Caldeira|            22834741|                Itau|   Ana Livia Almeida|             44695116|               Nubank|           cpf|    26590384142|2022-01-15 18:06:00|\n",
            "|  5|25299.69|  Srta. Nicole Pinto|             3715882|              Nubank|Srta. Ana Laura d...|             21409465|               Nubank|           cpf|    73486105280|2022-05-13 11:04:00|\n",
            "|  6| 7165.06|   Gabriela Ferreira|             2243037|              Nubank|       Larissa Souza|             10689552|                 Itau|           cpf|    96845371237|2022-09-11 13:38:00|\n",
            "|  7|    6.16|    Heloisa da Rocha|            59778949|                 BTG|Dra. Vitoria Silv...|             56583792|               Nubank|           cpf|    89064175357|2021-12-10 12:37:00|\n",
            "|  8|  136.36|Srta. Isadora Cor...|            77102442|              Nubank|  Francisco da Costa|             96088386|               Nubank|           cpf|    85907632429|2021-12-30 23:18:00|\n",
            "|  9|  574.39|   Dr. Lucas da Cruz|            38501170|                 BTG|       Calebe da Luz|             19365554|             Bradesco|           cpf|    64720189520|2021-06-21 07:20:00|\n",
            "| 10|   42.88|     Mirella Martins|            29535709|            Bradesco|        Danilo Lopes|             60064650|                 Itau|           cpf|    87014935232|2022-09-21 17:19:00|\n",
            "| 11|33629.97|Sr. Vitor Gabriel...|            67010663|                 BTG|Sra. Lavinia Cald...|             48145941|               Nubank|           cpf|    63542098124|2022-09-12 00:29:00|\n",
            "| 12| 4374.56|      Nathan Peixoto|            22975623|              Nubank|        Diogo da Luz|             30302218|             Bradesco|           cpf|    72908154323|2022-08-07 17:01:00|\n",
            "| 13|  507.18|       Miguel Araujo|            75113657|              Nubank|Marcos Vinicius G...|             67418115|                 Itau|           cpf|    84763129031|2021-03-07 12:34:00|\n",
            "| 14|67758.87|     Juliana Correia|             4495167|                Itau|    Davi Lucas Porto|             94395923|                  BTG|           cpf|    97804215649|2021-03-24 22:58:00|\n",
            "| 15|  815.53|     Ana Laura Souza|            79650252|                Itau|        Isabel Costa|             28762988|                  BTG|           cpf|    51824039689|2022-02-21 11:25:00|\n",
            "| 16|    2.73|           Levi Lima|            73815441|                 BTG|Dra. Maria Luiza ...|             96594203|             Bradesco|           cpf|    94516738066|2021-07-20 09:17:00|\n",
            "| 17|    0.54|        Otavio Cunha|            85583961|            Bradesco|       Elisa Moreira|             97003354|             Bradesco|           cpf|    15248769094|2022-02-16 10:16:00|\n",
            "| 18|49836.72|Ana Carolina Oliv...|            80200942|                Itau|    Stella Fernandes|             31579145|                  BTG|           cpf|    47609381250|2022-07-18 22:46:00|\n",
            "| 19|    9.68|        Levi Martins|            12349481|                Itau|Joao Guilherme Me...|             31102492|                  BTG|       celular|    11916824404|2022-02-26 15:05:00|\n",
            "| 20| 9837.22|          Noah Cunha|            84622162|            Bradesco|         Juan Mendes|             97805965|             Bradesco|       celular|    11944547225|2021-06-22 05:39:00|\n",
            "+---+--------+--------------------+--------------------+--------------------+--------------------+---------------------+---------------------+--------------+---------------+-------------------+\n",
            "only showing top 20 rows\n",
            "\n"
          ]
        }
      ]
    },
    {
      "cell_type": "markdown",
      "source": [
        "## Manipulando os Dados"
      ],
      "metadata": {
        "id": "KSPwpFX5q0xn"
      }
    },
    {
      "cell_type": "markdown",
      "source": [
        "Veremos agora a variedade de ferramentas que o Spark nos fornece para trabalharmos e analisarmos dados."
      ],
      "metadata": {
        "id": "NFWNxRj5r32M"
      }
    },
    {
      "cell_type": "markdown",
      "source": [
        "### Descrevendo os dados"
      ],
      "metadata": {
        "id": "i3WNEqf4sQkd"
      }
    },
    {
      "cell_type": "code",
      "source": [
        "df.describe().show()"
      ],
      "metadata": {
        "id": "-5QiholPsSS1",
        "colab": {
          "base_uri": "https://localhost:8080/"
        },
        "outputId": "00222f42-c9c0-463d-ef83-0c883a7c5461"
      },
      "execution_count": null,
      "outputs": [
        {
          "output_type": "stream",
          "name": "stdout",
          "text": [
            "+-------+------------------+------------------+-------------------+--------------------+--------------------+--------------------+---------------------+---------------------+--------------+--------------------+\n",
            "|summary|                id|             valor|parte_debitada_nome|parte_debitada_conta|parte_debitada_banco|parte_creditada_nome|parte_creditada_conta|parte_creditada_banco|chave_pix_tipo|     chave_pix_valor|\n",
            "+-------+------------------+------------------+-------------------+--------------------+--------------------+--------------------+---------------------+---------------------+--------------+--------------------+\n",
            "|  count|               100|               100|                100|                 100|                 100|                 100|                  100|                  100|           100|                 100|\n",
            "|   mean|              50.5|13663.011899999998|               null|        4.78019628E7|                null|                null|        5.107910677E7|                 null|          null|5.004246533667605...|\n",
            "| stddev|29.011491975882016|25715.376055332952|               null|2.8752540692845434E7|                null|                null| 3.1057321908236194E7|                 null|          null|2.950502645111022E10|\n",
            "|    min|                 1|              0.03|        Agatha Lima|            10469399|                 BTG|    Alexandre Farias|             10431480|                  BTG|       celular|         10658324780|\n",
            "|    max|               100|          95977.62|       Yasmin Rocha|            95439137|              Nubank|   Vitor Hugo Aragao|              9994311|               Nubank|         email|vitoria.da.paz@ho...|\n",
            "+-------+------------------+------------------+-------------------+--------------------+--------------------+--------------------+---------------------+---------------------+--------------+--------------------+\n",
            "\n"
          ]
        }
      ]
    },
    {
      "cell_type": "markdown",
      "source": [
        "### Seleção de Dados"
      ],
      "metadata": {
        "id": "53LHDLDDsJUc"
      }
    },
    {
      "cell_type": "code",
      "source": [
        "df.select(\"id\", \"valor\").show(10)"
      ],
      "metadata": {
        "id": "uh7jlRlGrCvP",
        "colab": {
          "base_uri": "https://localhost:8080/"
        },
        "outputId": "6dfb666f-d092-44cb-bf27-e23ed9601d7b"
      },
      "execution_count": null,
      "outputs": [
        {
          "output_type": "stream",
          "name": "stdout",
          "text": [
            "+---+--------+\n",
            "| id|   valor|\n",
            "+---+--------+\n",
            "|  1|    9.93|\n",
            "|  2|   15.38|\n",
            "|  3|   57.58|\n",
            "|  4|53705.13|\n",
            "|  5|25299.69|\n",
            "|  6| 7165.06|\n",
            "|  7|    6.16|\n",
            "|  8|  136.36|\n",
            "|  9|  574.39|\n",
            "| 10|   42.88|\n",
            "+---+--------+\n",
            "only showing top 10 rows\n",
            "\n"
          ]
        }
      ]
    },
    {
      "cell_type": "markdown",
      "source": [
        "### Adicionando mais colunas"
      ],
      "metadata": {
        "id": "IHOLjD7HscIb"
      }
    },
    {
      "cell_type": "markdown",
      "source": [
        "Exemplo para transformar coluna de pix para dolar"
      ],
      "metadata": {
        "id": "TNaHkZ0wsmOO"
      }
    },
    {
      "cell_type": "code",
      "source": [
        "from pyspark.sql.functions import col, round, lit\n",
        "\n",
        "dolar_hoje = 5.15\n",
        "df_dolar = df.withColumn(\n",
        "    'dolar',lit(dolar_hoje)\n",
        ").withColumn(\n",
        "    'valor_dolar', round(col('valor') * col('dolar'), 2)\n",
        ")"
      ],
      "metadata": {
        "id": "noUXsgDxsemG"
      },
      "execution_count": null,
      "outputs": []
    },
    {
      "cell_type": "code",
      "source": [
        "df_dolar.select('id', 'valor', 'dolar', 'valor_dolar').show()"
      ],
      "metadata": {
        "colab": {
          "base_uri": "https://localhost:8080/"
        },
        "id": "CqWOi6DrRGMg",
        "outputId": "88235fd1-2609-483a-b65f-83068669a8f8"
      },
      "execution_count": null,
      "outputs": [
        {
          "output_type": "stream",
          "name": "stdout",
          "text": [
            "+---+--------+-----+-----------+\n",
            "| id|   valor|dolar|valor_dolar|\n",
            "+---+--------+-----+-----------+\n",
            "|  1|    9.93| 5.15|      51.14|\n",
            "|  2|   15.38| 5.15|      79.21|\n",
            "|  3|   57.58| 5.15|     296.54|\n",
            "|  4|53705.13| 5.15|  276581.42|\n",
            "|  5|25299.69| 5.15|   130293.4|\n",
            "|  6| 7165.06| 5.15|   36900.06|\n",
            "|  7|    6.16| 5.15|      31.72|\n",
            "|  8|  136.36| 5.15|     702.25|\n",
            "|  9|  574.39| 5.15|    2958.11|\n",
            "| 10|   42.88| 5.15|     220.83|\n",
            "| 11|33629.97| 5.15|  173194.35|\n",
            "| 12| 4374.56| 5.15|   22528.98|\n",
            "| 13|  507.18| 5.15|    2611.98|\n",
            "| 14|67758.87| 5.15|  348958.18|\n",
            "| 15|  815.53| 5.15|    4199.98|\n",
            "| 16|    2.73| 5.15|      14.06|\n",
            "| 17|    0.54| 5.15|       2.78|\n",
            "| 18|49836.72| 5.15|  256659.11|\n",
            "| 19|    9.68| 5.15|      49.85|\n",
            "| 20| 9837.22| 5.15|   50661.68|\n",
            "+---+--------+-----+-----------+\n",
            "only showing top 20 rows\n",
            "\n"
          ]
        }
      ]
    },
    {
      "cell_type": "markdown",
      "source": [],
      "metadata": {
        "id": "7zVfreHVsgVN"
      }
    },
    {
      "cell_type": "markdown",
      "source": [
        "### Dropar Colunas"
      ],
      "metadata": {
        "id": "eXsN4NYpsqM-"
      }
    },
    {
      "cell_type": "code",
      "source": [
        "df_dolar = df_dolar.drop('dolar')"
      ],
      "metadata": {
        "id": "Q0S1txVYsrzI"
      },
      "execution_count": null,
      "outputs": []
    },
    {
      "cell_type": "code",
      "source": [
        "df_dolar.printSchema()"
      ],
      "metadata": {
        "colab": {
          "base_uri": "https://localhost:8080/"
        },
        "id": "ybAc7RpERvRV",
        "outputId": "9f388447-cd6a-4acb-9895-2adceb242846"
      },
      "execution_count": null,
      "outputs": [
        {
          "output_type": "stream",
          "name": "stdout",
          "text": [
            "root\n",
            " |-- id: integer (nullable = true)\n",
            " |-- valor: double (nullable = true)\n",
            " |-- parte_debitada_nome: string (nullable = true)\n",
            " |-- parte_debitada_conta: string (nullable = true)\n",
            " |-- parte_debitada_banco: string (nullable = true)\n",
            " |-- parte_creditada_nome: string (nullable = true)\n",
            " |-- parte_creditada_conta: string (nullable = true)\n",
            " |-- parte_creditada_banco: string (nullable = true)\n",
            " |-- chave_pix_tipo: string (nullable = true)\n",
            " |-- chave_pix_valor: string (nullable = true)\n",
            " |-- data_transacao: timestamp (nullable = true)\n",
            " |-- valor_dolar: double (nullable = true)\n",
            "\n"
          ]
        }
      ]
    },
    {
      "cell_type": "markdown",
      "source": [
        "### Renomear Colunas"
      ],
      "metadata": {
        "id": "wyCuqFfksvwp"
      }
    },
    {
      "cell_type": "code",
      "source": [
        "df_dolar = df_dolar.withColumnRenamed('valor_dolar', 'valor_convertido')"
      ],
      "metadata": {
        "id": "nusZnkmTsyEm"
      },
      "execution_count": null,
      "outputs": []
    },
    {
      "cell_type": "code",
      "source": [
        "df_dolar.printSchema()"
      ],
      "metadata": {
        "colab": {
          "base_uri": "https://localhost:8080/"
        },
        "id": "1oidsY3kR49R",
        "outputId": "62fdbd79-7d73-4869-afbe-0b42b1811f90"
      },
      "execution_count": null,
      "outputs": [
        {
          "output_type": "stream",
          "name": "stdout",
          "text": [
            "root\n",
            " |-- id: integer (nullable = true)\n",
            " |-- valor: double (nullable = true)\n",
            " |-- parte_debitada_nome: string (nullable = true)\n",
            " |-- parte_debitada_conta: string (nullable = true)\n",
            " |-- parte_debitada_banco: string (nullable = true)\n",
            " |-- parte_creditada_nome: string (nullable = true)\n",
            " |-- parte_creditada_conta: string (nullable = true)\n",
            " |-- parte_creditada_banco: string (nullable = true)\n",
            " |-- chave_pix_tipo: string (nullable = true)\n",
            " |-- chave_pix_valor: string (nullable = true)\n",
            " |-- data_transacao: timestamp (nullable = true)\n",
            " |-- valor_convertido: double (nullable = true)\n",
            "\n"
          ]
        }
      ]
    },
    {
      "cell_type": "markdown",
      "source": [
        "### Filtrando Valores"
      ],
      "metadata": {
        "id": "r6xORpsptqFZ"
      }
    },
    {
      "cell_type": "code",
      "source": [
        "# &, |, ==, ~\n",
        "df.select('id', 'valor', 'chave_pix_tipo').filter(col('chave_pix_tipo') == 'cpf').show(10)"
      ],
      "metadata": {
        "id": "UMyKVQcltuKK",
        "colab": {
          "base_uri": "https://localhost:8080/"
        },
        "outputId": "69fcd522-5dd9-4deb-eba5-0ed32c465e7f"
      },
      "execution_count": null,
      "outputs": [
        {
          "output_type": "stream",
          "name": "stdout",
          "text": [
            "+---+--------+--------------+\n",
            "| id|   valor|chave_pix_tipo|\n",
            "+---+--------+--------------+\n",
            "|  1|    9.93|           cpf|\n",
            "|  2|   15.38|           cpf|\n",
            "|  3|   57.58|           cpf|\n",
            "|  4|53705.13|           cpf|\n",
            "|  5|25299.69|           cpf|\n",
            "|  6| 7165.06|           cpf|\n",
            "|  7|    6.16|           cpf|\n",
            "|  8|  136.36|           cpf|\n",
            "|  9|  574.39|           cpf|\n",
            "| 10|   42.88|           cpf|\n",
            "+---+--------+--------------+\n",
            "only showing top 10 rows\n",
            "\n"
          ]
        }
      ]
    },
    {
      "cell_type": "code",
      "source": [
        "df.select('id', 'valor', 'chave_pix_tipo').filter(col('chave_pix_tipo') != 'cpf').show(10)"
      ],
      "metadata": {
        "colab": {
          "base_uri": "https://localhost:8080/"
        },
        "id": "KgVzVT4ySPOJ",
        "outputId": "0b94a409-bc02-48cb-ed68-871bc35ec222"
      },
      "execution_count": null,
      "outputs": [
        {
          "output_type": "stream",
          "name": "stdout",
          "text": [
            "+---+--------+--------------+\n",
            "| id|   valor|chave_pix_tipo|\n",
            "+---+--------+--------------+\n",
            "| 19|    9.68|       celular|\n",
            "| 20| 9837.22|       celular|\n",
            "| 21|    9.36|       celular|\n",
            "| 22|   22.43|       celular|\n",
            "| 23|    7.44|       celular|\n",
            "| 24|   40.36|       celular|\n",
            "| 25|   28.66|       celular|\n",
            "| 26|  154.98|       celular|\n",
            "| 27|35859.11|       celular|\n",
            "| 28|   89.94|       celular|\n",
            "+---+--------+--------------+\n",
            "only showing top 10 rows\n",
            "\n"
          ]
        }
      ]
    },
    {
      "cell_type": "code",
      "source": [
        "df.select(\n",
        "    'id', 'valor', 'chave_pix_tipo'\n",
        ").filter(\n",
        "    (col('chave_pix_tipo') == 'cpf') &\n",
        "    (col('valor') > 10000)\n",
        ").show(10)"
      ],
      "metadata": {
        "colab": {
          "base_uri": "https://localhost:8080/"
        },
        "id": "hByALuNeSUeo",
        "outputId": "6fd81d23-fa70-48f1-c2a3-fed020088f70"
      },
      "execution_count": null,
      "outputs": [
        {
          "output_type": "stream",
          "name": "stdout",
          "text": [
            "+---+--------+--------------+\n",
            "| id|   valor|chave_pix_tipo|\n",
            "+---+--------+--------------+\n",
            "|  4|53705.13|           cpf|\n",
            "|  5|25299.69|           cpf|\n",
            "| 11|33629.97|           cpf|\n",
            "| 14|67758.87|           cpf|\n",
            "| 18|49836.72|           cpf|\n",
            "| 47|38219.08|           cpf|\n",
            "| 52|60139.23|           cpf|\n",
            "| 54|95977.62|           cpf|\n",
            "| 55|35409.61|           cpf|\n",
            "| 62|57433.69|           cpf|\n",
            "+---+--------+--------------+\n",
            "only showing top 10 rows\n",
            "\n"
          ]
        }
      ]
    },
    {
      "cell_type": "code",
      "source": [
        "df.select(\n",
        "    'id', 'valor', 'chave_pix_tipo'\n",
        ").filter(\n",
        "    (col('chave_pix_tipo') == 'cpf') |\n",
        "    (col('chave_pix_tipo') == 'celular')\n",
        ").show(20)"
      ],
      "metadata": {
        "colab": {
          "base_uri": "https://localhost:8080/"
        },
        "id": "dDeQT0FoSh_K",
        "outputId": "1f18e95c-2ac2-4f34-ac7d-a802867d64ac"
      },
      "execution_count": null,
      "outputs": [
        {
          "output_type": "stream",
          "name": "stdout",
          "text": [
            "+---+--------+--------------+\n",
            "| id|   valor|chave_pix_tipo|\n",
            "+---+--------+--------------+\n",
            "|  1|    9.93|           cpf|\n",
            "|  2|   15.38|           cpf|\n",
            "|  3|   57.58|           cpf|\n",
            "|  4|53705.13|           cpf|\n",
            "|  5|25299.69|           cpf|\n",
            "|  6| 7165.06|           cpf|\n",
            "|  7|    6.16|           cpf|\n",
            "|  8|  136.36|           cpf|\n",
            "|  9|  574.39|           cpf|\n",
            "| 10|   42.88|           cpf|\n",
            "| 11|33629.97|           cpf|\n",
            "| 12| 4374.56|           cpf|\n",
            "| 13|  507.18|           cpf|\n",
            "| 14|67758.87|           cpf|\n",
            "| 15|  815.53|           cpf|\n",
            "| 16|    2.73|           cpf|\n",
            "| 17|    0.54|           cpf|\n",
            "| 18|49836.72|           cpf|\n",
            "| 19|    9.68|       celular|\n",
            "| 20| 9837.22|       celular|\n",
            "+---+--------+--------------+\n",
            "only showing top 20 rows\n",
            "\n"
          ]
        }
      ]
    },
    {
      "cell_type": "markdown",
      "source": [
        "### Lidar com Valores Nulos"
      ],
      "metadata": {
        "id": "PBmB_iRmtFG4"
      }
    },
    {
      "cell_type": "markdown",
      "source": [
        "#### Dropando Linhas que contém valores nulos"
      ],
      "metadata": {
        "id": "1J76LF1ytPkf"
      }
    },
    {
      "cell_type": "code",
      "source": [
        "df.na.drop('mode')"
      ],
      "metadata": {
        "id": "fgmmIviotHjn"
      },
      "execution_count": null,
      "outputs": []
    },
    {
      "cell_type": "markdown",
      "source": [
        "#### Preenchendo valores nulos com algum valor"
      ],
      "metadata": {
        "id": "12iZUjdTtSTh"
      }
    },
    {
      "cell_type": "code",
      "source": [
        "df.na.fill(0, 'valor')"
      ],
      "metadata": {
        "id": "6hJQeCYQtVbx"
      },
      "execution_count": null,
      "outputs": []
    },
    {
      "cell_type": "markdown",
      "source": [
        "### Agregações e GroupBy\n"
      ],
      "metadata": {
        "id": "6dnmt4qQtLl_"
      }
    },
    {
      "cell_type": "code",
      "source": [
        "df.select(\n",
        "    'id', 'valor', 'chave_pix_tipo'\n",
        ").groupBy(col('chave_pix_tipo')).count().show()"
      ],
      "metadata": {
        "id": "YXkAMhheuNK4",
        "colab": {
          "base_uri": "https://localhost:8080/"
        },
        "outputId": "63162c63-63ef-45fb-8897-8b495e5215a8"
      },
      "execution_count": null,
      "outputs": [
        {
          "output_type": "stream",
          "name": "stdout",
          "text": [
            "+--------------+-----+\n",
            "|chave_pix_tipo|count|\n",
            "+--------------+-----+\n",
            "|       celular|   22|\n",
            "|         email|   29|\n",
            "|           cpf|   49|\n",
            "+--------------+-----+\n",
            "\n"
          ]
        }
      ]
    },
    {
      "cell_type": "code",
      "source": [
        "df.select(\n",
        "    'id', 'valor', 'chave_pix_tipo'\n",
        ").groupBy(col('chave_pix_tipo')).sum('valor').show()"
      ],
      "metadata": {
        "colab": {
          "base_uri": "https://localhost:8080/"
        },
        "id": "Vvbxd8B5S-ya",
        "outputId": "b6413c01-08fb-405e-ea91-593690ef1008"
      },
      "execution_count": null,
      "outputs": [
        {
          "output_type": "stream",
          "name": "stdout",
          "text": [
            "+--------------+------------------+\n",
            "|chave_pix_tipo|        sum(valor)|\n",
            "+--------------+------------------+\n",
            "|       celular|         207778.46|\n",
            "|         email|499009.38000000006|\n",
            "|           cpf| 659513.3499999997|\n",
            "+--------------+------------------+\n",
            "\n"
          ]
        }
      ]
    },
    {
      "cell_type": "code",
      "source": [
        "df.select(\n",
        "    'id', 'valor', 'chave_pix_tipo'\n",
        ").groupBy(col('chave_pix_tipo')).avg('valor').show()"
      ],
      "metadata": {
        "colab": {
          "base_uri": "https://localhost:8080/"
        },
        "id": "f2SZFWOvTLPx",
        "outputId": "9ba886f7-4485-4de1-82f8-7a969a7c2626"
      },
      "execution_count": null,
      "outputs": [
        {
          "output_type": "stream",
          "name": "stdout",
          "text": [
            "+--------------+------------------+\n",
            "|chave_pix_tipo|        avg(valor)|\n",
            "+--------------+------------------+\n",
            "|       celular| 9444.475454545454|\n",
            "|         email|          17207.22|\n",
            "|           cpf|13459.456122448973|\n",
            "+--------------+------------------+\n",
            "\n"
          ]
        }
      ]
    },
    {
      "cell_type": "markdown",
      "source": [
        "## Escrita de Dados"
      ],
      "metadata": {
        "id": "fwdHir7srnTE"
      }
    },
    {
      "cell_type": "markdown",
      "source": [
        "A maneira mais simples de escrever um arquivo como resultado de um processamento é:"
      ],
      "metadata": {
        "id": "hl0pak5iT__8"
      }
    },
    {
      "cell_type": "code",
      "source": [
        "df.write.parquet('./output/base_de_dados')"
      ],
      "metadata": {
        "id": "bW3XrY7Rrp3c"
      },
      "execution_count": null,
      "outputs": []
    },
    {
      "cell_type": "markdown",
      "source": [
        "### Escrita Particionada"
      ],
      "metadata": {
        "id": "5yqMC7QOUM-7"
      }
    },
    {
      "cell_type": "code",
      "source": [
        "df.write.partitionBy(\"chave_pix_tipo\").parquet('./output/base_de_dados')"
      ],
      "metadata": {
        "colab": {
          "base_uri": "https://localhost:8080/",
          "height": 311
        },
        "id": "Q5_sL_F6UDlj",
        "outputId": "c1da1f47-37f8-45bb-cff1-544e5626c71d"
      },
      "execution_count": null,
      "outputs": [
        {
          "output_type": "error",
          "ename": "AnalysisException",
          "evalue": "ignored",
          "traceback": [
            "\u001b[0;31m---------------------------------------------------------------------------\u001b[0m",
            "\u001b[0;31mAnalysisException\u001b[0m                         Traceback (most recent call last)",
            "\u001b[0;32m<ipython-input-53-0f0d0758b804>\u001b[0m in \u001b[0;36m<module>\u001b[0;34m\u001b[0m\n\u001b[0;32m----> 1\u001b[0;31m \u001b[0mdf\u001b[0m\u001b[0;34m.\u001b[0m\u001b[0mwrite\u001b[0m\u001b[0;34m.\u001b[0m\u001b[0mpartitionBy\u001b[0m\u001b[0;34m(\u001b[0m\u001b[0;34m\"chave_pix_tipo\"\u001b[0m\u001b[0;34m)\u001b[0m\u001b[0;34m.\u001b[0m\u001b[0mparquet\u001b[0m\u001b[0;34m(\u001b[0m\u001b[0;34m'./output/base_de_dados'\u001b[0m\u001b[0;34m)\u001b[0m\u001b[0;34m\u001b[0m\u001b[0;34m\u001b[0m\u001b[0m\n\u001b[0m",
            "\u001b[0;32m/usr/local/lib/python3.8/dist-packages/pyspark/sql/readwriter.py\u001b[0m in \u001b[0;36mparquet\u001b[0;34m(self, path, mode, partitionBy, compression)\u001b[0m\n\u001b[1;32m   1138\u001b[0m             \u001b[0mself\u001b[0m\u001b[0;34m.\u001b[0m\u001b[0mpartitionBy\u001b[0m\u001b[0;34m(\u001b[0m\u001b[0mpartitionBy\u001b[0m\u001b[0;34m)\u001b[0m\u001b[0;34m\u001b[0m\u001b[0;34m\u001b[0m\u001b[0m\n\u001b[1;32m   1139\u001b[0m         \u001b[0mself\u001b[0m\u001b[0;34m.\u001b[0m\u001b[0m_set_opts\u001b[0m\u001b[0;34m(\u001b[0m\u001b[0mcompression\u001b[0m\u001b[0;34m=\u001b[0m\u001b[0mcompression\u001b[0m\u001b[0;34m)\u001b[0m\u001b[0;34m\u001b[0m\u001b[0;34m\u001b[0m\u001b[0m\n\u001b[0;32m-> 1140\u001b[0;31m         \u001b[0mself\u001b[0m\u001b[0;34m.\u001b[0m\u001b[0m_jwrite\u001b[0m\u001b[0;34m.\u001b[0m\u001b[0mparquet\u001b[0m\u001b[0;34m(\u001b[0m\u001b[0mpath\u001b[0m\u001b[0;34m)\u001b[0m\u001b[0;34m\u001b[0m\u001b[0;34m\u001b[0m\u001b[0m\n\u001b[0m\u001b[1;32m   1141\u001b[0m \u001b[0;34m\u001b[0m\u001b[0m\n\u001b[1;32m   1142\u001b[0m     def text(\n",
            "\u001b[0;32m/usr/local/lib/python3.8/dist-packages/py4j/java_gateway.py\u001b[0m in \u001b[0;36m__call__\u001b[0;34m(self, *args)\u001b[0m\n\u001b[1;32m   1319\u001b[0m \u001b[0;34m\u001b[0m\u001b[0m\n\u001b[1;32m   1320\u001b[0m         \u001b[0manswer\u001b[0m \u001b[0;34m=\u001b[0m \u001b[0mself\u001b[0m\u001b[0;34m.\u001b[0m\u001b[0mgateway_client\u001b[0m\u001b[0;34m.\u001b[0m\u001b[0msend_command\u001b[0m\u001b[0;34m(\u001b[0m\u001b[0mcommand\u001b[0m\u001b[0;34m)\u001b[0m\u001b[0;34m\u001b[0m\u001b[0;34m\u001b[0m\u001b[0m\n\u001b[0;32m-> 1321\u001b[0;31m         return_value = get_return_value(\n\u001b[0m\u001b[1;32m   1322\u001b[0m             answer, self.gateway_client, self.target_id, self.name)\n\u001b[1;32m   1323\u001b[0m \u001b[0;34m\u001b[0m\u001b[0m\n",
            "\u001b[0;32m/usr/local/lib/python3.8/dist-packages/pyspark/sql/utils.py\u001b[0m in \u001b[0;36mdeco\u001b[0;34m(*a, **kw)\u001b[0m\n\u001b[1;32m    194\u001b[0m                 \u001b[0;31m# Hide where the exception came from that shows a non-Pythonic\u001b[0m\u001b[0;34m\u001b[0m\u001b[0;34m\u001b[0m\u001b[0;34m\u001b[0m\u001b[0m\n\u001b[1;32m    195\u001b[0m                 \u001b[0;31m# JVM exception message.\u001b[0m\u001b[0;34m\u001b[0m\u001b[0;34m\u001b[0m\u001b[0;34m\u001b[0m\u001b[0m\n\u001b[0;32m--> 196\u001b[0;31m                 \u001b[0;32mraise\u001b[0m \u001b[0mconverted\u001b[0m \u001b[0;32mfrom\u001b[0m \u001b[0;32mNone\u001b[0m\u001b[0;34m\u001b[0m\u001b[0;34m\u001b[0m\u001b[0m\n\u001b[0m\u001b[1;32m    197\u001b[0m             \u001b[0;32melse\u001b[0m\u001b[0;34m:\u001b[0m\u001b[0;34m\u001b[0m\u001b[0;34m\u001b[0m\u001b[0m\n\u001b[1;32m    198\u001b[0m                 \u001b[0;32mraise\u001b[0m\u001b[0;34m\u001b[0m\u001b[0;34m\u001b[0m\u001b[0m\n",
            "\u001b[0;31mAnalysisException\u001b[0m: path file:/content/output/base_de_dados already exists."
          ]
        }
      ]
    },
    {
      "cell_type": "code",
      "source": [
        "df.write.mode('overwrite').partitionBy(\"chave_pix_tipo\").parquet('./output/base_de_dados')"
      ],
      "metadata": {
        "id": "kPdek0q6UaNO"
      },
      "execution_count": null,
      "outputs": []
    },
    {
      "cell_type": "code",
      "source": [
        "from pyspark.sql.functions import year, month, dayofmonth, dayofyear\n",
        "\n",
        "df.select(\n",
        "    'data_transacao',\n",
        "    year(col('data_transacao')),\n",
        "    month(col('data_transacao')),\n",
        "    dayofmonth(col('data_transacao')),\n",
        "    dayofyear(col('data_transacao')),\n",
        ").show(3)"
      ],
      "metadata": {
        "colab": {
          "base_uri": "https://localhost:8080/"
        },
        "id": "-FZl3VwwW2Rw",
        "outputId": "876c923c-5d34-4ad1-f47e-bab5036cc586"
      },
      "execution_count": null,
      "outputs": [
        {
          "output_type": "stream",
          "name": "stdout",
          "text": [
            "+-------------------+--------------------+---------------------+--------------------------+-------------------------+\n",
            "|     data_transacao|year(data_transacao)|month(data_transacao)|dayofmonth(data_transacao)|dayofyear(data_transacao)|\n",
            "+-------------------+--------------------+---------------------+--------------------------+-------------------------+\n",
            "|2022-02-18 13:28:00|                2022|                    2|                        18|                       49|\n",
            "|2022-04-08 01:47:00|                2022|                    4|                         8|                       98|\n",
            "|2022-07-14 03:18:00|                2022|                    7|                        14|                      195|\n",
            "+-------------------+--------------------+---------------------+--------------------------+-------------------------+\n",
            "only showing top 3 rows\n",
            "\n"
          ]
        }
      ]
    },
    {
      "cell_type": "code",
      "source": [
        "df_final = df.withColumn(\n",
        "    'year', year(col('data_transacao'))\n",
        ").withColumn(\n",
        "    'month', month(col('data_transacao'))\n",
        ").withColumn(\n",
        "    'day', dayofmonth(col('data_transacao'))\n",
        ")"
      ],
      "metadata": {
        "id": "U3COvORIYVZU"
      },
      "execution_count": null,
      "outputs": []
    },
    {
      "cell_type": "code",
      "source": [
        "df_final.write.mode('overwrite').partitionBy(\n",
        "  \"year\", \"month\", \"day\").parquet('./output/base_de_dados')"
      ],
      "metadata": {
        "id": "KpbTqsS4W1jN"
      },
      "execution_count": null,
      "outputs": []
    },
    {
      "cell_type": "markdown",
      "source": [
        "## Leitura de um dados particionado"
      ],
      "metadata": {
        "id": "caRr8uKoUez7"
      }
    },
    {
      "cell_type": "code",
      "source": [
        "df_parquet = spark.read.parquet('./output/base_de_dados')"
      ],
      "metadata": {
        "id": "0UeVb7IfUhBL"
      },
      "execution_count": null,
      "outputs": []
    },
    {
      "cell_type": "code",
      "source": [
        "df_parquet.rdd.getNumPartitions()"
      ],
      "metadata": {
        "colab": {
          "base_uri": "https://localhost:8080/"
        },
        "id": "sgT1GiVnUlWT",
        "outputId": "2e0fa691-e2a3-473e-aa4e-d8562774e7d0"
      },
      "execution_count": null,
      "outputs": [
        {
          "output_type": "execute_result",
          "data": {
            "text/plain": [
              "2"
            ]
          },
          "metadata": {},
          "execution_count": 58
        }
      ]
    },
    {
      "cell_type": "code",
      "source": [
        "!lscpu "
      ],
      "metadata": {
        "id": "JNFpLhl0bEeT",
        "outputId": "ba8de36d-4940-4947-fa05-271af448976f",
        "colab": {
          "base_uri": "https://localhost:8080/"
        }
      },
      "execution_count": null,
      "outputs": [
        {
          "output_type": "stream",
          "name": "stdout",
          "text": [
            "Architecture:        x86_64\n",
            "CPU op-mode(s):      32-bit, 64-bit\n",
            "Byte Order:          Little Endian\n",
            "CPU(s):              2\n",
            "On-line CPU(s) list: 0,1\n",
            "Thread(s) per core:  2\n",
            "Core(s) per socket:  1\n",
            "Socket(s):           1\n",
            "NUMA node(s):        1\n",
            "Vendor ID:           AuthenticAMD\n",
            "CPU family:          23\n",
            "Model:               49\n",
            "Model name:          AMD EPYC 7B12\n",
            "Stepping:            0\n",
            "CPU MHz:             2249.998\n",
            "BogoMIPS:            4499.99\n",
            "Hypervisor vendor:   KVM\n",
            "Virtualization type: full\n",
            "L1d cache:           32K\n",
            "L1i cache:           32K\n",
            "L2 cache:            512K\n",
            "L3 cache:            16384K\n",
            "NUMA node0 CPU(s):   0,1\n",
            "Flags:               fpu vme de pse tsc msr pae mce cx8 apic sep mtrr pge mca cmov pat pse36 clflush mmx fxsr sse sse2 ht syscall nx mmxext fxsr_opt pdpe1gb rdtscp lm constant_tsc rep_good nopl nonstop_tsc cpuid extd_apicid tsc_known_freq pni pclmulqdq ssse3 fma cx16 sse4_1 sse4_2 movbe popcnt aes xsave avx f16c rdrand hypervisor lahf_lm cmp_legacy cr8_legacy abm sse4a misalignsse 3dnowprefetch osvw topoext ssbd ibrs ibpb stibp vmmcall fsgsbase tsc_adjust bmi1 avx2 smep bmi2 rdseed adx smap clflushopt clwb sha_ni xsaveopt xsavec xgetbv1 clzero xsaveerptr arat npt nrip_save umip rdpid\n"
          ]
        }
      ]
    },
    {
      "cell_type": "code",
      "source": [
        "!lscpu  | grep 'CPU(s):'"
      ],
      "metadata": {
        "colab": {
          "base_uri": "https://localhost:8080/"
        },
        "id": "G-BDMstuVIUx",
        "outputId": "76a65304-b3a1-46dd-9240-6800c985c502"
      },
      "execution_count": null,
      "outputs": [
        {
          "output_type": "stream",
          "name": "stdout",
          "text": [
            "CPU(s):              2\n",
            "NUMA node0 CPU(s):   0,1\n"
          ]
        }
      ]
    },
    {
      "cell_type": "markdown",
      "source": [
        "### Comparar tempo de processamento no SparkUI"
      ],
      "metadata": {
        "id": "QAZKqm9cWQ71"
      }
    },
    {
      "cell_type": "code",
      "source": [
        "df_parquet.filter(col('chave_pix_tipo') == 'cpf').show()"
      ],
      "metadata": {
        "colab": {
          "base_uri": "https://localhost:8080/"
        },
        "id": "bhpZzybwVR-t",
        "outputId": "14fe5d54-21fc-43dd-8e79-0a33210cc0ec"
      },
      "execution_count": null,
      "outputs": [
        {
          "output_type": "stream",
          "name": "stdout",
          "text": [
            "+---+--------+--------------------+--------------------+--------------------+--------------------+---------------------+---------------------+---------------+--------------+--------------+\n",
            "| id|   valor| parte_debitada_nome|parte_debitada_conta|parte_debitada_banco|parte_creditada_nome|parte_creditada_conta|parte_creditada_banco|chave_pix_valor|data_transacao|chave_pix_tipo|\n",
            "+---+--------+--------------------+--------------------+--------------------+--------------------+---------------------+---------------------+---------------+--------------+--------------+\n",
            "|  1|    9.93|Dra. Ana Carolina...|            79470453|              Nubank|       Maysa da Cruz|             67162333|                 Itau|     8439752610|          null|           cpf|\n",
            "|  2|   15.38|        Ana Caldeira|            19689668|                Itau|        Evelyn Sales|             60005091|             Bradesco|    27145380617|          null|           cpf|\n",
            "|  3|   57.58|    Arthur Goncalves|            18856899|            Bradesco|          Maria Melo|             13496303|                  BTG|    16452937006|          null|           cpf|\n",
            "|  4|53705.13|  Ana Julia Caldeira|            22834741|                Itau|   Ana Livia Almeida|             44695116|               Nubank|    26590384142|          null|           cpf|\n",
            "|  5|25299.69|  Srta. Nicole Pinto|             3715882|              Nubank|Srta. Ana Laura d...|             21409465|               Nubank|    73486105280|          null|           cpf|\n",
            "|  6| 7165.06|   Gabriela Ferreira|             2243037|              Nubank|       Larissa Souza|             10689552|                 Itau|    96845371237|          null|           cpf|\n",
            "|  7|    6.16|    Heloisa da Rocha|            59778949|                 BTG|Dra. Vitoria Silv...|             56583792|               Nubank|    89064175357|          null|           cpf|\n",
            "|  8|  136.36|Srta. Isadora Cor...|            77102442|              Nubank|  Francisco da Costa|             96088386|               Nubank|    85907632429|          null|           cpf|\n",
            "|  9|  574.39|   Dr. Lucas da Cruz|            38501170|                 BTG|       Calebe da Luz|             19365554|             Bradesco|    64720189520|          null|           cpf|\n",
            "| 10|   42.88|     Mirella Martins|            29535709|            Bradesco|        Danilo Lopes|             60064650|                 Itau|    87014935232|          null|           cpf|\n",
            "| 11|33629.97|Sr. Vitor Gabriel...|            67010663|                 BTG|Sra. Lavinia Cald...|             48145941|               Nubank|    63542098124|          null|           cpf|\n",
            "| 12| 4374.56|      Nathan Peixoto|            22975623|              Nubank|        Diogo da Luz|             30302218|             Bradesco|    72908154323|          null|           cpf|\n",
            "| 13|  507.18|       Miguel Araujo|            75113657|              Nubank|Marcos Vinicius G...|             67418115|                 Itau|    84763129031|          null|           cpf|\n",
            "| 14|67758.87|     Juliana Correia|             4495167|                Itau|    Davi Lucas Porto|             94395923|                  BTG|    97804215649|          null|           cpf|\n",
            "| 15|  815.53|     Ana Laura Souza|            79650252|                Itau|        Isabel Costa|             28762988|                  BTG|    51824039689|          null|           cpf|\n",
            "| 16|    2.73|           Levi Lima|            73815441|                 BTG|Dra. Maria Luiza ...|             96594203|             Bradesco|    94516738066|          null|           cpf|\n",
            "| 17|    0.54|        Otavio Cunha|            85583961|            Bradesco|       Elisa Moreira|             97003354|             Bradesco|    15248769094|          null|           cpf|\n",
            "| 18|49836.72|Ana Carolina Oliv...|            80200942|                Itau|    Stella Fernandes|             31579145|                  BTG|    47609381250|          null|           cpf|\n",
            "| 41|   60.55|       Amanda Farias|            35150923|                 BTG|      Leonardo Gomes|             54498411|               Nubank|    57924816011|          null|           cpf|\n",
            "| 42|    6.62|Marcos Vinicius D...|            56286920|              Nubank|   Vitor Hugo Aragao|             59497930|                  BTG|    94807512676|          null|           cpf|\n",
            "+---+--------+--------------------+--------------------+--------------------+--------------------+---------------------+---------------------+---------------+--------------+--------------+\n",
            "only showing top 20 rows\n",
            "\n"
          ]
        }
      ]
    },
    {
      "cell_type": "code",
      "source": [
        "df.filter(col('chave_pix_tipo') == 'cpf').show()"
      ],
      "metadata": {
        "colab": {
          "base_uri": "https://localhost:8080/"
        },
        "id": "KsIvYa7xWJS1",
        "outputId": "1cb5982f-e40f-4b39-8600-f174f811dbba"
      },
      "execution_count": null,
      "outputs": [
        {
          "output_type": "stream",
          "name": "stdout",
          "text": [
            "+---+--------+--------------------+--------------------+--------------------+--------------------+---------------------+---------------------+--------------+---------------+-------------------+\n",
            "| id|   valor| parte_debitada_nome|parte_debitada_conta|parte_debitada_banco|parte_creditada_nome|parte_creditada_conta|parte_creditada_banco|chave_pix_tipo|chave_pix_valor|     data_transacao|\n",
            "+---+--------+--------------------+--------------------+--------------------+--------------------+---------------------+---------------------+--------------+---------------+-------------------+\n",
            "|  1|    9.93|Dra. Ana Carolina...|            79470453|              Nubank|       Maysa da Cruz|             67162333|                 Itau|           cpf|     8439752610|2022-02-18 13:28:00|\n",
            "|  2|   15.38|        Ana Caldeira|            19689668|                Itau|        Evelyn Sales|             60005091|             Bradesco|           cpf|    27145380617|2022-04-08 01:47:00|\n",
            "|  3|   57.58|    Arthur Goncalves|            18856899|            Bradesco|          Maria Melo|             13496303|                  BTG|           cpf|    16452937006|2022-07-14 03:18:00|\n",
            "|  4|53705.13|  Ana Julia Caldeira|            22834741|                Itau|   Ana Livia Almeida|             44695116|               Nubank|           cpf|    26590384142|2022-01-15 18:06:00|\n",
            "|  5|25299.69|  Srta. Nicole Pinto|             3715882|              Nubank|Srta. Ana Laura d...|             21409465|               Nubank|           cpf|    73486105280|2022-05-13 11:04:00|\n",
            "|  6| 7165.06|   Gabriela Ferreira|             2243037|              Nubank|       Larissa Souza|             10689552|                 Itau|           cpf|    96845371237|2022-09-11 13:38:00|\n",
            "|  7|    6.16|    Heloisa da Rocha|            59778949|                 BTG|Dra. Vitoria Silv...|             56583792|               Nubank|           cpf|    89064175357|2021-12-10 12:37:00|\n",
            "|  8|  136.36|Srta. Isadora Cor...|            77102442|              Nubank|  Francisco da Costa|             96088386|               Nubank|           cpf|    85907632429|2021-12-30 23:18:00|\n",
            "|  9|  574.39|   Dr. Lucas da Cruz|            38501170|                 BTG|       Calebe da Luz|             19365554|             Bradesco|           cpf|    64720189520|2021-06-21 07:20:00|\n",
            "| 10|   42.88|     Mirella Martins|            29535709|            Bradesco|        Danilo Lopes|             60064650|                 Itau|           cpf|    87014935232|2022-09-21 17:19:00|\n",
            "| 11|33629.97|Sr. Vitor Gabriel...|            67010663|                 BTG|Sra. Lavinia Cald...|             48145941|               Nubank|           cpf|    63542098124|2022-09-12 00:29:00|\n",
            "| 12| 4374.56|      Nathan Peixoto|            22975623|              Nubank|        Diogo da Luz|             30302218|             Bradesco|           cpf|    72908154323|2022-08-07 17:01:00|\n",
            "| 13|  507.18|       Miguel Araujo|            75113657|              Nubank|Marcos Vinicius G...|             67418115|                 Itau|           cpf|    84763129031|2021-03-07 12:34:00|\n",
            "| 14|67758.87|     Juliana Correia|             4495167|                Itau|    Davi Lucas Porto|             94395923|                  BTG|           cpf|    97804215649|2021-03-24 22:58:00|\n",
            "| 15|  815.53|     Ana Laura Souza|            79650252|                Itau|        Isabel Costa|             28762988|                  BTG|           cpf|    51824039689|2022-02-21 11:25:00|\n",
            "| 16|    2.73|           Levi Lima|            73815441|                 BTG|Dra. Maria Luiza ...|             96594203|             Bradesco|           cpf|    94516738066|2021-07-20 09:17:00|\n",
            "| 17|    0.54|        Otavio Cunha|            85583961|            Bradesco|       Elisa Moreira|             97003354|             Bradesco|           cpf|    15248769094|2022-02-16 10:16:00|\n",
            "| 18|49836.72|Ana Carolina Oliv...|            80200942|                Itau|    Stella Fernandes|             31579145|                  BTG|           cpf|    47609381250|2022-07-18 22:46:00|\n",
            "| 41|   60.55|       Amanda Farias|            35150923|                 BTG|      Leonardo Gomes|             54498411|               Nubank|           cpf|    57924816011|2022-03-23 20:20:00|\n",
            "| 42|    6.62|Marcos Vinicius D...|            56286920|              Nubank|   Vitor Hugo Aragao|             59497930|                  BTG|           cpf|    94807512676|2021-10-20 06:58:00|\n",
            "+---+--------+--------------------+--------------------+--------------------+--------------------+---------------------+---------------------+--------------+---------------+-------------------+\n",
            "only showing top 20 rows\n",
            "\n"
          ]
        }
      ]
    },
    {
      "cell_type": "markdown",
      "source": [
        "### Compression"
      ],
      "metadata": {
        "id": "GXXFSp9fZ7eK"
      }
    },
    {
      "cell_type": "code",
      "source": [
        "df.write.mode('overwrite').compression('gzip').partitionBy(\"chave_pix_tipo\").parquet('./output/base_de_dados')"
      ],
      "metadata": {
        "id": "n6br7FoFZz1Z"
      },
      "execution_count": null,
      "outputs": []
    }
  ]
}