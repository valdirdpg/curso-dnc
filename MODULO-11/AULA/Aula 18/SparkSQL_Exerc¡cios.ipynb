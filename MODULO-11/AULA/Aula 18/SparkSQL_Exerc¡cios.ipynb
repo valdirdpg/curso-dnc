{
  "cells": [
    {
      "cell_type": "markdown",
      "metadata": {
        "id": "DoC24P6NmAuN"
      },
      "source": [
        "# Instalando o Spark"
      ]
    },
    {
      "cell_type": "code",
      "execution_count": 1,
      "metadata": {
        "colab": {
          "base_uri": "https://localhost:8080/"
        },
        "id": "5NiqW9-xlnjc",
        "outputId": "d552d5ac-3bc2-4a54-fde5-3ef1578e00b7"
      },
      "outputs": [],
      "source": [
        "# !pip install pyspark #==3.3.1"
      ]
    },
    {
      "cell_type": "code",
      "execution_count": 3,
      "metadata": {
        "colab": {
          "base_uri": "https://localhost:8080/"
        },
        "id": "W5NeVueloGu2",
        "outputId": "d4735e67-eb86-4e85-edc2-94930bbe1a66"
      },
      "outputs": [
        {
          "data": {
            "text/plain": [
              "' !wget https://bin.equinox.io/c/4VmDzA7iaHb/ngrok-stable-linux-amd64.zip\\n!unzip ngrok-stable-linux-amd64.zip '"
            ]
          },
          "execution_count": 3,
          "metadata": {},
          "output_type": "execute_result"
        }
      ],
      "source": [
        "\"\"\" !wget https://bin.equinox.io/c/4VmDzA7iaHb/ngrok-stable-linux-amd64.zip\n",
        "!unzip ngrok-stable-linux-amd64.zip \"\"\""
      ]
    },
    {
      "cell_type": "markdown",
      "metadata": {
        "id": "ofKTUnKjtFor"
      },
      "source": [
        "# Iniciando Sessão Spark"
      ]
    },
    {
      "cell_type": "code",
      "execution_count": null,
      "metadata": {
        "id": "vcytxNzMzrnX"
      },
      "outputs": [],
      "source": [
        "from pyspark.sql import SparkSession\n",
        "from pyspark import SparkContext, SparkConf\n",
        "\n",
        "spark = (\n",
        "    SparkSession.builder                  # Método da classe que constrói a sessão spark\n",
        "      .appName(\"Exercicios Spark\")  # Nome do App Spark\n",
        "      .getOrCreate())                     # Verifica se há uma sessão ativa, e se não há, cria uma nova sessão"
      ]
    },
    {
      "cell_type": "code",
      "execution_count": null,
      "metadata": {
        "id": "t9wLbayAOMH3"
      },
      "outputs": [],
      "source": [
        "from pyspark.sql.types import StructType, StructField, IntegerType, DoubleType, StringType, TimestampType\n",
        "\n",
        "\n",
        "schema_base_pix = StructType([\n",
        "    StructField('id', IntegerType()),\n",
        "    StructField('valor', DoubleType()),\n",
        "    StructField('parte_debitada_nome', StringType()),\n",
        "    StructField('parte_debitada_conta', StringType()),\n",
        "    StructField('parte_debitada_banco', StringType()),\n",
        "    StructField('parte_creditada_nome', StringType()),\n",
        "    StructField('parte_creditada_conta', StringType()),\n",
        "    StructField('parte_creditada_banco', StringType()),\n",
        "    StructField('chave_pix_tipo', StringType()),\n",
        "    StructField('chave_pix_valor', StringType()),\n",
        "    StructField('data_transacao', TimestampType())\n",
        "])\n",
        "\n",
        "caminho_csv = \"./base_de_dados.csv\"\n",
        "\n",
        "spark.read.csv(\n",
        "      path=caminho_csv,\n",
        "      header=True,\n",
        "      sep=\";\",\n",
        "      schema=schema_base_pix,\n",
        "      timestampFormat=\"dd/MM/yyyy HH:mm\"\n",
        ").createOrReplaceTempView('base_pix')"
      ]
    },
    {
      "cell_type": "markdown",
      "metadata": {
        "id": "_UlTP7-mA_jl"
      },
      "source": [
        "# Exercícios\n",
        "1. Descubra a quantidade total de transações na base de dados.\n",
        "2. Qual foi a quantia total de dinheiro transacional em cada ano?\n",
        "2. Descubra a quantidade de dinheiro que entrou na Nubank em todo o período.\n",
        "2. Retorne a quantidade de transações agrupadas por tipo de chave.\n",
        "3. Descubra qual é a média, mínima e máxima do valor de todas as transações.\n",
        "4. Quais foram as 5 maiores transações durante todo o período?\n",
        "5. Para o banco BTG, mostre qual é a chave pix mais utilizada para enviar ou receber transações. \n",
        "6. Descubra qual foi a maior transação de cada mês na base de dados.\n",
        "7. Crie uma nova coluna que contenha o valor da transação em dólar. "
      ]
    },
    {
      "cell_type": "code",
      "execution_count": null,
      "metadata": {
        "colab": {
          "base_uri": "https://localhost:8080/"
        },
        "id": "yvpdP0FrjIUM",
        "outputId": "eebf600e-cb97-446a-8c30-6530969a9fbd"
      },
      "outputs": [
        {
          "name": "stdout",
          "output_type": "stream",
          "text": [
            "+---+--------+--------------------+--------------------+--------------------+--------------------+---------------------+---------------------+--------------+---------------+-------------------+\n",
            "| id|   valor| parte_debitada_nome|parte_debitada_conta|parte_debitada_banco|parte_creditada_nome|parte_creditada_conta|parte_creditada_banco|chave_pix_tipo|chave_pix_valor|     data_transacao|\n",
            "+---+--------+--------------------+--------------------+--------------------+--------------------+---------------------+---------------------+--------------+---------------+-------------------+\n",
            "|  1|    9.93|Dra. Ana Carolina...|            79470453|              Nubank|       Maysa da Cruz|             67162333|                 Itau|           cpf|     8439752610|2022-02-18 13:28:00|\n",
            "|  2|   15.38|        Ana Caldeira|            19689668|                Itau|        Evelyn Sales|             60005091|             Bradesco|           cpf|    27145380617|2022-04-08 01:47:00|\n",
            "|  3|   57.58|    Arthur Goncalves|            18856899|            Bradesco|          Maria Melo|             13496303|                  BTG|           cpf|    16452937006|2022-07-14 03:18:00|\n",
            "|  4|53705.13|  Ana Julia Caldeira|            22834741|                Itau|   Ana Livia Almeida|             44695116|               Nubank|           cpf|    26590384142|2022-01-15 18:06:00|\n",
            "|  5|25299.69|  Srta. Nicole Pinto|             3715882|              Nubank|Srta. Ana Laura d...|             21409465|               Nubank|           cpf|    73486105280|2022-05-13 11:04:00|\n",
            "|  6| 7165.06|   Gabriela Ferreira|             2243037|              Nubank|       Larissa Souza|             10689552|                 Itau|           cpf|    96845371237|2022-09-11 13:38:00|\n",
            "|  7|    6.16|    Heloisa da Rocha|            59778949|                 BTG|Dra. Vitoria Silv...|             56583792|               Nubank|           cpf|    89064175357|2021-12-10 12:37:00|\n",
            "|  8|  136.36|Srta. Isadora Cor...|            77102442|              Nubank|  Francisco da Costa|             96088386|               Nubank|           cpf|    85907632429|2021-12-30 23:18:00|\n",
            "|  9|  574.39|   Dr. Lucas da Cruz|            38501170|                 BTG|       Calebe da Luz|             19365554|             Bradesco|           cpf|    64720189520|2021-06-21 07:20:00|\n",
            "| 10|   42.88|     Mirella Martins|            29535709|            Bradesco|        Danilo Lopes|             60064650|                 Itau|           cpf|    87014935232|2022-09-21 17:19:00|\n",
            "+---+--------+--------------------+--------------------+--------------------+--------------------+---------------------+---------------------+--------------+---------------+-------------------+\n",
            "\n"
          ]
        }
      ],
      "source": [
        "spark.sql(\n",
        "    \"\"\"\n",
        "      select * from base_pix limit 10\n",
        "    \"\"\"\n",
        ").show()"
      ]
    },
    {
      "cell_type": "code",
      "execution_count": null,
      "metadata": {
        "colab": {
          "base_uri": "https://localhost:8080/"
        },
        "id": "qwKGNfvsiABn",
        "outputId": "999d76ae-f21e-465d-c347-fa00f8fc27e9"
      },
      "outputs": [
        {
          "name": "stdout",
          "output_type": "stream",
          "text": [
            "+--------------+\n",
            "|qtd_transacoes|\n",
            "+--------------+\n",
            "|           100|\n",
            "+--------------+\n",
            "\n"
          ]
        }
      ],
      "source": [
        "# Exercicio 1\n",
        "# Descubra a quantidade total de transações na base de dados\n",
        "spark.sql(\n",
        "    \"\"\"\n",
        "      select count(*) as qtd_transacoes from base_pix\n",
        "    \"\"\"\n",
        ").show()"
      ]
    },
    {
      "cell_type": "code",
      "execution_count": null,
      "metadata": {
        "colab": {
          "base_uri": "https://localhost:8080/"
        },
        "id": "lBD0JDfJjFnF",
        "outputId": "fa59aa53-a06f-47f5-f181-c52127d9599a"
      },
      "outputs": [
        {
          "name": "stdout",
          "output_type": "stream",
          "text": [
            "+--------------------+------------------+\n",
            "|year(data_transacao)|        sum(valor)|\n",
            "+--------------------+------------------+\n",
            "|                2022|517980.58999999973|\n",
            "|                2021| 848320.6000000001|\n",
            "+--------------------+------------------+\n",
            "\n"
          ]
        }
      ],
      "source": [
        "# Exercicio 2\n",
        "# Qual foi a quantia total de dinheiro transacional em cada ano?\n",
        "\n",
        "spark.sql(\n",
        "    \"\"\"\n",
        "      select \n",
        "        year(data_transacao),\n",
        "        sum(valor) \n",
        "      from base_pix \n",
        "      group by 1\n",
        "    \"\"\"\n",
        ").show()"
      ]
    },
    {
      "cell_type": "code",
      "execution_count": null,
      "metadata": {
        "colab": {
          "base_uri": "https://localhost:8080/"
        },
        "id": "JO3NNK8KjvfF",
        "outputId": "f1abc1b1-a321-4722-c1d9-e8bdf89142da"
      },
      "outputs": [
        {
          "name": "stdout",
          "output_type": "stream",
          "text": [
            "+----------+\n",
            "|sum(valor)|\n",
            "+----------+\n",
            "| 302224.64|\n",
            "+----------+\n",
            "\n"
          ]
        }
      ],
      "source": [
        "# Exercicio 3\n",
        "# Descubra a quantidade de dinheiro que entrou na Nubank em todo o período.\n",
        "\n",
        "spark.sql(\n",
        "    \"\"\"\n",
        "      select sum(valor)\n",
        "      from base_pix\n",
        "      where parte_creditada_banco = 'Nubank'\n",
        "    \"\"\"\n",
        ").show()"
      ]
    },
    {
      "cell_type": "code",
      "execution_count": null,
      "metadata": {
        "colab": {
          "base_uri": "https://localhost:8080/"
        },
        "id": "I_v0WEWSkfnG",
        "outputId": "79908e02-3db9-49d6-ee6e-5fab147c266d"
      },
      "outputs": [
        {
          "name": "stdout",
          "output_type": "stream",
          "text": [
            "+--------------+--------+\n",
            "|chave_pix_tipo|count(1)|\n",
            "+--------------+--------+\n",
            "|       celular|      22|\n",
            "|         email|      29|\n",
            "|           cpf|      49|\n",
            "+--------------+--------+\n",
            "\n"
          ]
        }
      ],
      "source": [
        "# Exercicio 4\n",
        "# Retorne a quantidade de transações agrupadas por tipo de chave.\n",
        "\n",
        "spark.sql(\n",
        "    \"\"\"\n",
        "      select chave_pix_tipo, count(*)\n",
        "      from base_pix\n",
        "      group by chave_pix_tipo\n",
        "    \"\"\"\n",
        ").show()"
      ]
    },
    {
      "cell_type": "code",
      "execution_count": null,
      "metadata": {
        "colab": {
          "base_uri": "https://localhost:8080/"
        },
        "id": "ZPtJHSZlknw2",
        "outputId": "e326e215-9376-434e-e4c5-8996ef4c848f"
      },
      "outputs": [
        {
          "name": "stdout",
          "output_type": "stream",
          "text": [
            "+----------+----------+------------------+\n",
            "|max(valor)|min(valor)|       mean(valor)|\n",
            "+----------+----------+------------------+\n",
            "|  95977.62|      0.03|13663.011899999998|\n",
            "+----------+----------+------------------+\n",
            "\n"
          ]
        }
      ],
      "source": [
        "# Exercicio 5\n",
        "# Descubra qual é a média, mínima e máxima do valor de todas as transações.\n",
        "\n",
        "spark.sql(\n",
        "    \"\"\"\n",
        "      select max(valor), min(valor), mean(valor) from base_pix limit 10\n",
        "    \"\"\"\n",
        ").show()"
      ]
    },
    {
      "cell_type": "code",
      "execution_count": null,
      "metadata": {
        "colab": {
          "base_uri": "https://localhost:8080/"
        },
        "id": "_wNhAFKVk_sK",
        "outputId": "96a6e559-4903-4fe8-eb35-d03c892ab0ad"
      },
      "outputs": [
        {
          "name": "stdout",
          "output_type": "stream",
          "text": [
            "+---+--------+--------------------+--------------------+--------------------+--------------------+---------------------+---------------------+--------------+--------------------+-------------------+\n",
            "| id|   valor| parte_debitada_nome|parte_debitada_conta|parte_debitada_banco|parte_creditada_nome|parte_creditada_conta|parte_creditada_banco|chave_pix_tipo|     chave_pix_valor|     data_transacao|\n",
            "+---+--------+--------------------+--------------------+--------------------+--------------------+---------------------+---------------------+--------------+--------------------+-------------------+\n",
            "| 54|95977.62|   Henrique Ferreira|             6269315|              Nubank|Sra. Maria Luiza ...|             68542779|                  BTG|           cpf|         14957860211|2021-09-22 10:17:00|\n",
            "| 86|94736.79|Joao Vitor Cavalc...|            52265189|                 BTG|        Stella Gomes|             93858790|               Nubank|         email|stella.gomes@yaho...|2021-01-26 00:04:00|\n",
            "| 97|94586.45|      Henrique Pinto|            69273106|            Bradesco|        Heitor Silva|             81541742|                 Itau|         email|heitor.silva@yaho...|2021-09-06 10:57:00|\n",
            "| 78|81977.98|      Giovanna Costa|            37809286|                Itau|Joao Guilherme Ramos|             75756231|             Bradesco|         email|joao.guilherme.ra...|2021-02-16 18:57:00|\n",
            "| 71|80083.34|      Eduarda Campos|            12495530|                 BTG|       Olivia da Luz|             30630489|                  BTG|           cpf|         42617803996|2021-11-16 10:58:00|\n",
            "+---+--------+--------------------+--------------------+--------------------+--------------------+---------------------+---------------------+--------------+--------------------+-------------------+\n",
            "\n"
          ]
        }
      ],
      "source": [
        "# Exercicio 6\n",
        "# Quais foram as 5 maiores transações durante todo o período?\n",
        "\n",
        "spark.sql(\n",
        "    \"\"\"\n",
        "      select * from base_pix \n",
        "      order by valor desc\n",
        "      limit 5\n",
        "    \"\"\"\n",
        ").show()"
      ]
    },
    {
      "cell_type": "code",
      "execution_count": null,
      "metadata": {
        "colab": {
          "base_uri": "https://localhost:8080/"
        },
        "id": "0c3EQ51flTXj",
        "outputId": "e697d3fd-9308-42b7-8d60-3cbf7450f950"
      },
      "outputs": [
        {
          "name": "stdout",
          "output_type": "stream",
          "text": [
            "+--------------+--------+\n",
            "|chave_pix_tipo|count(1)|\n",
            "+--------------+--------+\n",
            "|           cpf|      22|\n",
            "|         email|      15|\n",
            "|       celular|      13|\n",
            "+--------------+--------+\n",
            "\n"
          ]
        }
      ],
      "source": [
        "# Exercicio 7\n",
        "# Para o banco BTG, mostre qual é a chave pix mais utilizada para enviar ou receber transações.\n",
        "spark.sql(\n",
        "    \"\"\"\n",
        "      select chave_pix_tipo, count(*)\n",
        "      from base_pix\n",
        "      where parte_debitada_banco = 'BTG' or parte_creditada_banco = 'BTG'\n",
        "      group by 1\n",
        "      order by 2 desc\n",
        "    \"\"\"\n",
        ").show()"
      ]
    },
    {
      "cell_type": "code",
      "execution_count": null,
      "metadata": {
        "colab": {
          "base_uri": "https://localhost:8080/"
        },
        "id": "zbI33ku6lowp",
        "outputId": "ee49fe23-fa46-4410-a52d-ba40d0e2690e"
      },
      "outputs": [
        {
          "name": "stdout",
          "output_type": "stream",
          "text": [
            "+---+--------+-------+\n",
            "| id|   valor|ano_mes|\n",
            "+---+--------+-------+\n",
            "| 86|94736.79|2021-01|\n",
            "| 78|81977.98|2021-02|\n",
            "| 88|78347.58|2021-03|\n",
            "| 44|   459.2|2021-04|\n",
            "| 68|  611.53|2021-05|\n",
            "| 52|60139.23|2021-06|\n",
            "| 76| 9320.87|2021-07|\n",
            "| 73|  570.52|2021-08|\n",
            "| 54|95977.62|2021-09|\n",
            "| 32| 1508.83|2021-10|\n",
            "| 71|80083.34|2021-11|\n",
            "| 40|  829.87|2021-12|\n",
            "| 79| 78559.4|2022-01|\n",
            "| 35| 7944.02|2022-02|\n",
            "| 55|35409.61|2022-03|\n",
            "| 31|20875.64|2022-04|\n",
            "| 47|38219.08|2022-05|\n",
            "| 36|48714.95|2022-06|\n",
            "| 18|49836.72|2022-07|\n",
            "| 12| 4374.56|2022-08|\n",
            "+---+--------+-------+\n",
            "only showing top 20 rows\n",
            "\n"
          ]
        }
      ],
      "source": [
        "# Exercicio 8\n",
        "# Descubra qual foi a maior transação de cada mês na base de dados.\n",
        "spark.sql(\n",
        "    \"\"\"\n",
        "    with cte_base_row(\n",
        "        select \n",
        "        id, \n",
        "        valor, \n",
        "        date_format(data_transacao, 'y-MM') as ano_mes,\n",
        "        row_number() over (\n",
        "          partition by date_format(data_transacao, 'y-MM')\n",
        "          order by valor desc\n",
        "        ) as row_number\n",
        "      from base_pix\n",
        "    ) select\n",
        "        id,\n",
        "        valor,\n",
        "        ano_mes\n",
        "      from cte_base_row\n",
        "      where row_number = 1\n",
        "    \"\"\"\n",
        ").show()"
      ]
    },
    {
      "cell_type": "code",
      "execution_count": null,
      "metadata": {
        "colab": {
          "base_uri": "https://localhost:8080/"
        },
        "id": "KU2Gr-VUlq5B",
        "outputId": "0ff1b302-ee1c-40f9-a9c9-3b88a5d778a5"
      },
      "outputs": [
        {
          "name": "stdout",
          "output_type": "stream",
          "text": [
            "+---+--------+-----------+\n",
            "| id|   valor|valor_dolar|\n",
            "+---+--------+-----------+\n",
            "|  1|    9.93|      50.54|\n",
            "|  2|   15.38|      78.28|\n",
            "|  3|   57.58|     293.08|\n",
            "|  4|53705.13|  273359.11|\n",
            "|  5|25299.69|  128775.42|\n",
            "|  6| 7165.06|   36470.16|\n",
            "|  7|    6.16|      31.35|\n",
            "|  8|  136.36|     694.07|\n",
            "|  9|  574.39|    2923.65|\n",
            "| 10|   42.88|     218.26|\n",
            "+---+--------+-----------+\n",
            "\n"
          ]
        }
      ],
      "source": [
        "# Exercicio 9\n",
        "# Crie uma nova coluna que contenha o valor da transação em dólar.\n",
        "spark.sql(\n",
        "    \"\"\"\n",
        "      select id, valor, round(valor * 5.09, 2) as valor_dolar from base_pix limit 10\n",
        "    \"\"\"\n",
        ").show()\n"
      ]
    }
  ],
  "metadata": {
    "colab": {
      "collapsed_sections": [
        "DoC24P6NmAuN"
      ],
      "provenance": []
    },
    "kernelspec": {
      "display_name": "Python 3",
      "name": "python3"
    },
    "language_info": {
      "codemirror_mode": {
        "name": "ipython",
        "version": 3
      },
      "file_extension": ".py",
      "mimetype": "text/x-python",
      "name": "python",
      "nbconvert_exporter": "python",
      "pygments_lexer": "ipython3",
      "version": "3.8.16"
    }
  },
  "nbformat": 4,
  "nbformat_minor": 0
}
