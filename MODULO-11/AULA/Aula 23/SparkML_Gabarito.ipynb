{
  "nbformat": 4,
  "nbformat_minor": 0,
  "metadata": {
    "colab": {
      "provenance": [],
      "collapsed_sections": [
        "DoC24P6NmAuN"
      ]
    },
    "kernelspec": {
      "name": "python3",
      "display_name": "Python 3"
    },
    "language_info": {
      "name": "python"
    }
  },
  "cells": [
    {
      "cell_type": "markdown",
      "source": [
        "# Instalando o Spark"
      ],
      "metadata": {
        "id": "hliLk1PwqgXg"
      }
    },
    {
      "cell_type": "code",
      "source": [
        "# Instalar a última versão do PySpark\n",
        "!pip install pyspark #==3.3.1\n",
        "\n",
        "# Instalar o NGROK\n",
        "!wget -qnc https://bin.equinox.io/c/4VmDzA7iaHb/ngrok-stable-linux-amd64.zip\n",
        "!unzip -n -q ngrok-stable-linux-amd64.zip\n",
        "\n",
        "\n",
        "# Iniciar a sessão spark\n",
        "from pyspark.sql import SparkSession\n",
        "\n",
        "spark = (\n",
        "    SparkSession.builder                  \n",
        "      .config('spark.ui.port', '4050')\n",
        "      .appName(\"SparkSQL\")\n",
        "      .getOrCreate()\n",
        ")\n",
        "\n",
        "# Autenticar a sessão do SparkUI com NGROK\n",
        "!./ngrok authtoken 2KBeQEmmd1YNlQ86GGKf3KFOkb3_6sQH7JEnvEhDxwn9A7WnT\n",
        "get_ipython().system_raw('./ngrok http 4050 &')\n",
        "!sleep 10\n",
        "!curl -s http://localhost:4040/api/tunnels | grep -Po 'public_url\":\"(?=https)\\K[^\"]*'"
      ],
      "metadata": {
        "colab": {
          "base_uri": "https://localhost:8080/"
        },
        "id": "8v9dXQPtqgGF",
        "outputId": "4c38bf43-edd1-4661-e0fb-89f29166ca5d"
      },
      "execution_count": null,
      "outputs": [
        {
          "output_type": "stream",
          "name": "stdout",
          "text": [
            "Looking in indexes: https://pypi.org/simple, https://us-python.pkg.dev/colab-wheels/public/simple/\n",
            "Collecting pyspark\n",
            "  Downloading pyspark-3.3.1.tar.gz (281.4 MB)\n",
            "\u001b[2K     \u001b[90m━━━━━━━━━━━━━━━━━━━━━━━━━━━━━━━━━━━━━━━\u001b[0m \u001b[32m281.4/281.4 MB\u001b[0m \u001b[31m3.4 MB/s\u001b[0m eta \u001b[36m0:00:00\u001b[0m\n",
            "\u001b[?25h  Preparing metadata (setup.py) ... \u001b[?25l\u001b[?25hdone\n",
            "Collecting py4j==0.10.9.5\n",
            "  Downloading py4j-0.10.9.5-py2.py3-none-any.whl (199 kB)\n",
            "\u001b[2K     \u001b[90m━━━━━━━━━━━━━━━━━━━━━━━━━━━━━━━━━━━━━━\u001b[0m \u001b[32m199.7/199.7 KB\u001b[0m \u001b[31m16.7 MB/s\u001b[0m eta \u001b[36m0:00:00\u001b[0m\n",
            "\u001b[?25hBuilding wheels for collected packages: pyspark\n",
            "  Building wheel for pyspark (setup.py) ... \u001b[?25l\u001b[?25hdone\n",
            "  Created wheel for pyspark: filename=pyspark-3.3.1-py2.py3-none-any.whl size=281845512 sha256=8bbef8ff15f2fab7dc2673d9dbdba2534b283dbd7caa79d249260c2b339d67c0\n",
            "  Stored in directory: /root/.cache/pip/wheels/43/dc/11/ec201cd671da62fa9c5cc77078235e40722170ceba231d7598\n",
            "Successfully built pyspark\n",
            "Installing collected packages: py4j, pyspark\n",
            "Successfully installed py4j-0.10.9.5 pyspark-3.3.1\n",
            "Authtoken saved to configuration file: /root/.ngrok2/ngrok.yml\n",
            "https://d056-34-125-176-38.ngrok.io\n"
          ]
        }
      ]
    },
    {
      "cell_type": "code",
      "source": [
        "from google.colab import drive\n",
        "drive.mount('/content/drive')"
      ],
      "metadata": {
        "colab": {
          "base_uri": "https://localhost:8080/"
        },
        "id": "-wTf2UeBYxyO",
        "outputId": "2464610f-3be4-40b4-de83-95a1218e0907"
      },
      "execution_count": null,
      "outputs": [
        {
          "output_type": "stream",
          "name": "stdout",
          "text": [
            "Mounted at /content/drive\n"
          ]
        }
      ]
    },
    {
      "cell_type": "markdown",
      "source": [
        "# SparkML"
      ],
      "metadata": {
        "id": "l0euFrT6vTPT"
      }
    },
    {
      "cell_type": "markdown",
      "source": [
        "Spark MLlib (abreviação de Spark Machine Learning library) é uma biblioteca em Apache Spark para fornecer funcionalidade de aprendizagem de máquinas. Ela fornece uma ampla gama de algoritmos para tarefas tais como classificação, regressão, clusterização, recomendação e extração de features, bem como ferramentas para construção, avaliação e ajuste de modelos de aprendizagem de máquinas.\n",
        "\n",
        "Também fornece uma série de utilitários para trabalhar com dados, incluindo manuseio e pré-processamento de dados, extração de recursos e avaliação de modelos. Também possui APIs em Python, R e Java que permitem aos desenvolvedores usá-lo em uma variedade de linguagens de programação.\n",
        "\n",
        "A Spark MLlib é construída sobre o principal motor de processamento de dados da Spark e é projetada para trabalhar com DataFrames e RDDs (Resilient Distributed Datasets) da Spark, para que possa aproveitar as capacidades de processamento distribuído da Spark para realizar tarefas de aprendizagem de máquinas em larga escala.\n",
        "\n",
        "\n",
        "Para esse exemplo nós usaremos a regressão logística\n",
        "\n",
        "- Regressão logística: A Regressão Logística é um algoritmo de aprendizado supervisionado que é comumente usado para tarefas de classificação binária. Pode ser útil para detectar fraudes porque pode modelar a relação entre as características de entrada e a probabilidade de uma transação ser fraudulenta."
      ],
      "metadata": {
        "id": "kFEzK7UOe7z2"
      }
    },
    {
      "cell_type": "code",
      "source": [
        "from pyspark.sql.types import StructType, StructField, IntegerType, DoubleType, StringType, TimestampType\n",
        "\n",
        "schema_remetente_destinatario = StructType([\n",
        "    StructField('nome', StringType()),\n",
        "    StructField('banco', StringType()),\n",
        "    StructField('tipo', StringType())\n",
        "])\n",
        "\n",
        "schema_base_pix = StructType([\n",
        "    StructField('id_transacao', IntegerType()),\n",
        "    StructField('valor', DoubleType()),\n",
        "    StructField('remetente', schema_remetente_destinatario),\n",
        "    StructField('destinatario', schema_remetente_destinatario),\n",
        "    StructField('chave_pix', StringType()),\n",
        "    StructField('categoria', StringType()),\n",
        "    StructField('transaction_date', StringType()),\n",
        "    StructField('fraude', IntegerType())\n",
        "])\n",
        "\n",
        "caminho_json = 'drive/MyDrive/Colab Notebooks/case_final.json'\n",
        "\n",
        "df = spark.read.json(\n",
        "    caminho_json,\n",
        "    schema=schema_base_pix,\n",
        "    timestampFormat=\"yyyy-MM-dd HH:mm:ss\"\n",
        ")"
      ],
      "metadata": {
        "id": "WM9fB0eZvX_1",
        "colab": {
          "base_uri": "https://localhost:8080/",
          "height": 401
        },
        "outputId": "78c6b447-8688-416c-e2d5-8b42e7fda57a"
      },
      "execution_count": null,
      "outputs": [
        {
          "output_type": "error",
          "ename": "ModuleNotFoundError",
          "evalue": "ignored",
          "traceback": [
            "\u001b[0;31m---------------------------------------------------------------------------\u001b[0m",
            "\u001b[0;31mModuleNotFoundError\u001b[0m                       Traceback (most recent call last)",
            "\u001b[0;32m<ipython-input-1-66d2ddd570fd>\u001b[0m in \u001b[0;36m<module>\u001b[0;34m\u001b[0m\n\u001b[0;32m----> 1\u001b[0;31m \u001b[0;32mfrom\u001b[0m \u001b[0mpyspark\u001b[0m\u001b[0;34m.\u001b[0m\u001b[0msql\u001b[0m\u001b[0;34m.\u001b[0m\u001b[0mtypes\u001b[0m \u001b[0;32mimport\u001b[0m \u001b[0mStructType\u001b[0m\u001b[0;34m,\u001b[0m \u001b[0mStructField\u001b[0m\u001b[0;34m,\u001b[0m \u001b[0mIntegerType\u001b[0m\u001b[0;34m,\u001b[0m \u001b[0mDoubleType\u001b[0m\u001b[0;34m,\u001b[0m \u001b[0mStringType\u001b[0m\u001b[0;34m,\u001b[0m \u001b[0mTimestampType\u001b[0m\u001b[0;34m\u001b[0m\u001b[0;34m\u001b[0m\u001b[0m\n\u001b[0m\u001b[1;32m      2\u001b[0m \u001b[0;34m\u001b[0m\u001b[0m\n\u001b[1;32m      3\u001b[0m schema_remetente_destinatario = StructType([\n\u001b[1;32m      4\u001b[0m     \u001b[0mStructField\u001b[0m\u001b[0;34m(\u001b[0m\u001b[0;34m'nome'\u001b[0m\u001b[0;34m,\u001b[0m \u001b[0mStringType\u001b[0m\u001b[0;34m(\u001b[0m\u001b[0;34m)\u001b[0m\u001b[0;34m)\u001b[0m\u001b[0;34m,\u001b[0m\u001b[0;34m\u001b[0m\u001b[0;34m\u001b[0m\u001b[0m\n\u001b[1;32m      5\u001b[0m     \u001b[0mStructField\u001b[0m\u001b[0;34m(\u001b[0m\u001b[0;34m'banco'\u001b[0m\u001b[0;34m,\u001b[0m \u001b[0mStringType\u001b[0m\u001b[0;34m(\u001b[0m\u001b[0;34m)\u001b[0m\u001b[0;34m)\u001b[0m\u001b[0;34m,\u001b[0m\u001b[0;34m\u001b[0m\u001b[0;34m\u001b[0m\u001b[0m\n",
            "\u001b[0;31mModuleNotFoundError\u001b[0m: No module named 'pyspark'",
            "",
            "\u001b[0;31m---------------------------------------------------------------------------\u001b[0;32m\nNOTE: If your import is failing due to a missing package, you can\nmanually install dependencies using either !pip or !apt.\n\nTo view examples of installing some common dependencies, click the\n\"Open Examples\" button below.\n\u001b[0;31m---------------------------------------------------------------------------\u001b[0m\n"
          ],
          "errorDetails": {
            "actions": [
              {
                "action": "open_url",
                "actionText": "Open Examples",
                "url": "/notebooks/snippets/importing_libraries.ipynb"
              }
            ]
          }
        }
      ]
    },
    {
      "cell_type": "code",
      "source": [
        "df.printSchema()\n",
        "\n",
        "df.show()"
      ],
      "metadata": {
        "colab": {
          "base_uri": "https://localhost:8080/"
        },
        "id": "2-tS8yDTvqmD",
        "outputId": "6cf997a4-0fb2-4c68-813c-75e7e55627de"
      },
      "execution_count": null,
      "outputs": [
        {
          "output_type": "stream",
          "name": "stdout",
          "text": [
            "root\n",
            " |-- id_transacao: integer (nullable = true)\n",
            " |-- valor: double (nullable = true)\n",
            " |-- remetente: struct (nullable = true)\n",
            " |    |-- nome: string (nullable = true)\n",
            " |    |-- banco: string (nullable = true)\n",
            " |    |-- tipo: string (nullable = true)\n",
            " |-- destinatario: struct (nullable = true)\n",
            " |    |-- nome: string (nullable = true)\n",
            " |    |-- banco: string (nullable = true)\n",
            " |    |-- tipo: string (nullable = true)\n",
            " |-- chave_pix: string (nullable = true)\n",
            " |-- categoria: string (nullable = true)\n",
            " |-- transaction_date: string (nullable = true)\n",
            " |-- fraude: integer (nullable = true)\n",
            "\n",
            "+------------+------------------+--------------------+--------------------+---------+-------------+-------------------+------+\n",
            "|id_transacao|             valor|           remetente|        destinatario|chave_pix|    categoria|   transaction_date|fraude|\n",
            "+------------+------------------+--------------------+--------------------+---------+-------------+-------------------+------+\n",
            "|        1000|            588.08|{Jonathan Gonsalv...|{Calebe Melo, Cai...|aleatoria|       outros|2021-07-16 05:00:55|     0|\n",
            "|        1001|           80682.5|{Jonathan Gonsalv...|{Davi Lucas Perei...|  celular|transferencia|2022-04-20 12:34:01|     1|\n",
            "|        1002|             549.9|{Jonathan Gonsalv...|{Sabrina Castro, ...|      cpf|        lazer|2022-07-10 16:51:34|     0|\n",
            "|        1003|             90.83|{Jonathan Gonsalv...|{Francisco da Con...|aleatoria|   transporte|2022-10-20 10:57:36|     0|\n",
            "|        1004|13272.619999999999|{Jonathan Gonsalv...|{Isabelly Ferreir...|    email|transferencia|2021-04-06 20:26:51|     0|\n",
            "|        1005|           9347.58|{Jonathan Gonsalv...|{Srta. Maria da C...|aleatoria|        saude|2022-07-24 15:22:27|     0|\n",
            "|        1006|           7836.76|{Jonathan Gonsalv...|{Catarina Duarte,...|      cpf|    presentes|2022-10-05 19:20:24|     0|\n",
            "|        1007|           3883.62|{Jonathan Gonsalv...|{Vitor Correia, X...|      cpf|    vestuario|2021-04-24 17:36:34|     0|\n",
            "|        1008|               4.0|{Jonathan Gonsalv...|{Theo Novaes, C6,...|aleatoria|        saude|2021-11-16 21:46:47|     0|\n",
            "|        1009|              24.3|{Jonathan Gonsalv...|{Isabel Caldeira,...|      cpf|transferencia|2021-07-26 02:08:49|     0|\n",
            "|        1010|           87555.3|{Jonathan Gonsalv...|{Sr. Henrique Car...|aleatoria|transferencia|2022-03-14 15:34:45|     1|\n",
            "|        1011|          21345.91|{Jonathan Gonsalv...|{Felipe Cavalcant...|      cpf|transferencia|2021-10-31 04:31:51|     1|\n",
            "|        1012|          73605.85|{Jonathan Gonsalv...|{Dr. Davi da Luz,...|  celular|transferencia|2021-04-30 19:19:56|     1|\n",
            "|        1013|             93.53|{Jonathan Gonsalv...|{Stephany Cardoso...|      cpf|  alimentacao|2023-01-13 13:39:57|     0|\n",
            "|        1014|            564.11|{Jonathan Gonsalv...|{Sra. Julia Arauj...|aleatoria|    vestuario|2022-05-27 23:06:08|     0|\n",
            "|        1015|              3.59|{Jonathan Gonsalv...|{Carolina Farias,...|    email|        saude|2021-10-06 21:19:58|     0|\n",
            "|        1016|          19164.89|{Jonathan Gonsalv...|{Isabelly da Cost...|    email|  alimentacao|2022-03-06 17:59:43|     0|\n",
            "|        1017|             68.45|{Jonathan Gonsalv...|{Joao Miguel Silv...|aleatoria|    vestuario|2022-04-01 18:17:40|     0|\n",
            "|        1018|            941.25|{Jonathan Gonsalv...|{Matheus Moura, C...|  celular|    vestuario|2022-05-23 00:28:13|     0|\n",
            "|        1019|27009.910000000003|{Jonathan Gonsalv...|{Gabrielly Goncal...|    email|transferencia|2021-08-04 23:22:37|     1|\n",
            "+------------+------------------+--------------------+--------------------+---------+-------------+-------------------+------+\n",
            "only showing top 20 rows\n",
            "\n"
          ]
        }
      ]
    },
    {
      "cell_type": "code",
      "source": [
        "from pyspark.sql.functions import col\n",
        "\n",
        "df_flatten = df.withColumns({\n",
        "    'destinatario_nome': col('destinatario').getField('nome'),\n",
        "    'destinatario_banco': col('destinatario').getField('banco'),\n",
        "    'destinatario_tipo': col('destinatario').getField('tipo'),\n",
        "})"
      ],
      "metadata": {
        "id": "Ss1DktJBZyJ8"
      },
      "execution_count": null,
      "outputs": []
    },
    {
      "cell_type": "markdown",
      "source": [
        "O StringIndexer é uma feature fornecido pela biblioteca MLlib do PySpark, usado para converter as strings em valores numéricos, que são mais adequados para algoritmos de aprendizagem de máquinas.\n",
        "\n",
        "Ele funciona mapeando as strings para um conjunto fixo de índices, onde cada índice representa um valor de string único. \n",
        "\n",
        "Isto é útil quando se trabalha com variáveis categóricas, pois muitos algoritmos de aprendizagem de máquina exigem que as características de entrada sejam numéricas e não categóricas."
      ],
      "metadata": {
        "id": "lbq-rwJqcPft"
      }
    },
    {
      "cell_type": "code",
      "source": [
        "from pyspark.ml.feature import StringIndexer\n",
        "\n",
        "indexer = StringIndexer(\n",
        "    inputCols=[\n",
        "        \"destinatario_nome\", \n",
        "        \"destinatario_banco\",\n",
        "        \"destinatario_tipo\",\n",
        "        \"categoria\",\n",
        "        \"chave_pix\"\n",
        "    ], \n",
        "    outputCols=[\n",
        "        \"destinatario_nome_index\", \n",
        "        \"destinatario_banco_index\",\n",
        "        \"destinatario_tipo_index\",\n",
        "        \"categoria_index\",\n",
        "        \"chave_pix_index\"\n",
        "    ])\n",
        "\n",
        "df_index = indexer.fit(df_flatten).transform(df_flatten)\n",
        "df_index.show()"
      ],
      "metadata": {
        "colab": {
          "base_uri": "https://localhost:8080/"
        },
        "id": "i6ceElbVAvZW",
        "outputId": "6d6cd710-5569-4ad2-fc84-5001eff7ce79"
      },
      "execution_count": null,
      "outputs": [
        {
          "output_type": "stream",
          "name": "stdout",
          "text": [
            "+------------+------------------+--------------------+--------------------+---------+-------------+-------------------+------+--------------------+------------------+-----------------+-----------------------+------------------------+-----------------------+---------------+---------------+\n",
            "|id_transacao|             valor|           remetente|        destinatario|chave_pix|    categoria|   transaction_date|fraude|   destinatario_nome|destinatario_banco|destinatario_tipo|destinatario_nome_index|destinatario_banco_index|destinatario_tipo_index|categoria_index|chave_pix_index|\n",
            "+------------+------------------+--------------------+--------------------+---------+-------------+-------------------+------+--------------------+------------------+-----------------+-----------------------+------------------------+-----------------------+---------------+---------------+\n",
            "|        1000|            588.08|{Jonathan Gonsalv...|{Calebe Melo, Cai...|aleatoria|       outros|2021-07-16 05:00:55|     0|         Calebe Melo|             Caixa|               PF|                12045.0|                     4.0|                    1.0|            6.0|            3.0|\n",
            "|        1001|           80682.5|{Jonathan Gonsalv...|{Davi Lucas Perei...|  celular|transferencia|2022-04-20 12:34:01|     1|  Davi Lucas Pereira|             Caixa|               PJ|                  259.0|                     4.0|                    0.0|            0.0|            2.0|\n",
            "|        1002|             549.9|{Jonathan Gonsalv...|{Sabrina Castro, ...|      cpf|        lazer|2022-07-10 16:51:34|     0|      Sabrina Castro|            Nubank|               PF|                  132.0|                     2.0|                    1.0|            4.0|            1.0|\n",
            "|        1003|             90.83|{Jonathan Gonsalv...|{Francisco da Con...|aleatoria|   transporte|2022-10-20 10:57:36|     0|Francisco da Conc...|            Nubank|               PJ|                10475.0|                     2.0|                    0.0|            8.0|            3.0|\n",
            "|        1004|13272.619999999999|{Jonathan Gonsalv...|{Isabelly Ferreir...|    email|transferencia|2021-04-06 20:26:51|     0|   Isabelly Ferreira|               BTG|               PJ|                 4159.0|                     1.0|                    0.0|            0.0|            0.0|\n",
            "|        1005|           9347.58|{Jonathan Gonsalv...|{Srta. Maria da C...|aleatoria|        saude|2022-07-24 15:22:27|     0|Srta. Maria da Cunha|              Itau|               PJ|                26853.0|                     3.0|                    0.0|            3.0|            3.0|\n",
            "|        1006|           7836.76|{Jonathan Gonsalv...|{Catarina Duarte,...|      cpf|    presentes|2022-10-05 19:20:24|     0|     Catarina Duarte|                C6|               PF|                 5578.0|                     5.0|                    1.0|            7.0|            1.0|\n",
            "|        1007|           3883.62|{Jonathan Gonsalv...|{Vitor Correia, X...|      cpf|    vestuario|2021-04-24 17:36:34|     0|       Vitor Correia|                XP|               PJ|                13528.0|                     0.0|                    0.0|            2.0|            1.0|\n",
            "|        1008|               4.0|{Jonathan Gonsalv...|{Theo Novaes, C6,...|aleatoria|        saude|2021-11-16 21:46:47|     0|         Theo Novaes|                C6|               PJ|                 1141.0|                     5.0|                    0.0|            3.0|            3.0|\n",
            "|        1009|              24.3|{Jonathan Gonsalv...|{Isabel Caldeira,...|      cpf|transferencia|2021-07-26 02:08:49|     0|     Isabel Caldeira|                XP|               PJ|                 8369.0|                     0.0|                    0.0|            0.0|            1.0|\n",
            "|        1010|           87555.3|{Jonathan Gonsalv...|{Sr. Henrique Car...|aleatoria|transferencia|2022-03-14 15:34:45|     1|Sr. Henrique Cardoso|            Nubank|               PF|                22115.0|                     2.0|                    1.0|            0.0|            3.0|\n",
            "|        1011|          21345.91|{Jonathan Gonsalv...|{Felipe Cavalcant...|      cpf|transferencia|2021-10-31 04:31:51|     1|   Felipe Cavalcanti|            Nubank|               PJ|                 5897.0|                     2.0|                    0.0|            0.0|            1.0|\n",
            "|        1012|          73605.85|{Jonathan Gonsalv...|{Dr. Davi da Luz,...|  celular|transferencia|2021-04-30 19:19:56|     1|     Dr. Davi da Luz|          Bradesco|               PJ|                12212.0|                     6.0|                    0.0|            0.0|            2.0|\n",
            "|        1013|             93.53|{Jonathan Gonsalv...|{Stephany Cardoso...|      cpf|  alimentacao|2023-01-13 13:39:57|     0|    Stephany Cardoso|                C6|               PJ|                   10.0|                     5.0|                    0.0|            1.0|            1.0|\n",
            "|        1014|            564.11|{Jonathan Gonsalv...|{Sra. Julia Arauj...|aleatoria|    vestuario|2022-05-27 23:06:08|     0|   Sra. Julia Araujo|              Itau|               PJ|                24413.0|                     3.0|                    0.0|            2.0|            3.0|\n",
            "|        1015|              3.59|{Jonathan Gonsalv...|{Carolina Farias,...|    email|        saude|2021-10-06 21:19:58|     0|     Carolina Farias|            Nubank|               PJ|                10121.0|                     2.0|                    0.0|            3.0|            0.0|\n",
            "|        1016|          19164.89|{Jonathan Gonsalv...|{Isabelly da Cost...|    email|  alimentacao|2022-03-06 17:59:43|     0|   Isabelly da Costa|            Nubank|               PJ|                 6122.0|                     2.0|                    0.0|            1.0|            0.0|\n",
            "|        1017|             68.45|{Jonathan Gonsalv...|{Joao Miguel Silv...|aleatoria|    vestuario|2022-04-01 18:17:40|     0|Joao Miguel Silveira|                C6|               PJ|                 6214.0|                     5.0|                    0.0|            2.0|            3.0|\n",
            "|        1018|            941.25|{Jonathan Gonsalv...|{Matheus Moura, C...|  celular|    vestuario|2022-05-23 00:28:13|     0|       Matheus Moura|                C6|               PF|                 1829.0|                     5.0|                    1.0|            2.0|            2.0|\n",
            "|        1019|27009.910000000003|{Jonathan Gonsalv...|{Gabrielly Goncal...|    email|transferencia|2021-08-04 23:22:37|     1| Gabrielly Goncalves|              Itau|               PJ|                 5973.0|                     3.0|                    0.0|            0.0|            0.0|\n",
            "+------------+------------------+--------------------+--------------------+---------+-------------+-------------------+------+--------------------+------------------+-----------------+-----------------------+------------------------+-----------------------+---------------+---------------+\n",
            "only showing top 20 rows\n",
            "\n"
          ]
        }
      ]
    },
    {
      "cell_type": "code",
      "source": [
        "cols_para_filtrar = [\n",
        "  \"valor\",\n",
        "  \"transaction_date\",\n",
        "  \"destinatario_nome_index\", \n",
        "  \"destinatario_banco_index\",\n",
        "  \"destinatario_tipo_index\",\n",
        "  \"chave_pix_index\",\n",
        "  \"categoria_index\",\n",
        "  \"fraude\"\n",
        "]"
      ],
      "metadata": {
        "id": "GuzNEbMBDDk9"
      },
      "execution_count": null,
      "outputs": []
    },
    {
      "cell_type": "code",
      "source": [
        "is_fraud = df_index.select(cols_para_filtrar).filter(\"fraude == 1\")\n",
        "no_fraud = df_index.select(cols_para_filtrar).filter(\"fraude == 0\")"
      ],
      "metadata": {
        "id": "XRz8w2-8wGmk"
      },
      "execution_count": null,
      "outputs": []
    },
    {
      "cell_type": "markdown",
      "source": [
        "Este código está usando o método sample() do DataFrame API do PySpark para selecionar aleatoriamente um subconjunto das linhas de um DataFrame chamado no_fraud. O método sample() é usado para selecionar aleatoriamente uma fração das linhas de um DataFrame.\n",
        "\n",
        "O segundo argumento passado para o método da amostra() é 0,01, o que indica que apenas 1% das linhas do DataFrame devem ser selecionadas."
      ],
      "metadata": {
        "id": "FJDToxH1cm0D"
      }
    },
    {
      "cell_type": "code",
      "source": [
        "no_fraud = no_fraud.sample(False, 0.01, seed = 123)"
      ],
      "metadata": {
        "id": "ZhaVASB6wKbW"
      },
      "execution_count": null,
      "outputs": []
    },
    {
      "cell_type": "code",
      "source": [
        "df_concat = no_fraud.union(is_fraud)\n",
        "df = df_concat.sort(\"transaction_date\")\n",
        "df.count()"
      ],
      "metadata": {
        "colab": {
          "base_uri": "https://localhost:8080/"
        },
        "id": "oebvj7GfwNat",
        "outputId": "3191efd3-5a73-4fbd-e6fc-2b47b1ce414d"
      },
      "execution_count": null,
      "outputs": [
        {
          "output_type": "execute_result",
          "data": {
            "text/plain": [
              "16202"
            ]
          },
          "metadata": {},
          "execution_count": 14
        }
      ]
    },
    {
      "cell_type": "code",
      "source": [
        "train, test = df.randomSplit([0.7, 0.3], seed = 123)\n",
        "print(\"train =\", train.count(), \" test =\", test.count())"
      ],
      "metadata": {
        "colab": {
          "base_uri": "https://localhost:8080/"
        },
        "id": "dmabUTAJwUST",
        "outputId": "a83b65ea-2578-41f3-95b2-d14f0de23576"
      },
      "execution_count": null,
      "outputs": [
        {
          "output_type": "stream",
          "name": "stdout",
          "text": [
            "train = 11278  test = 4924\n"
          ]
        }
      ]
    },
    {
      "cell_type": "markdown",
      "source": [
        "Em resumo, este código cria um UDF que pega os valores da coluna \"fraude\" e retorna uma variável binária (1 ou 0) dependendo se o valor é maior que 0 ou não. Em seguida, cria uma nova coluna \"is_fraud\" com estas variáveis binárias."
      ],
      "metadata": {
        "id": "7ucupXOidLVf"
      }
    },
    {
      "cell_type": "code",
      "source": [
        "from pyspark.sql.types import DoubleType\n",
        "from pyspark.sql.functions import udf\n",
        "\n",
        "is_fraud = udf(lambda fraud: 1.0 if fraud > 0 else 0.0, DoubleType())\n",
        "train = train.withColumn(\"is_fraud\", is_fraud(train.fraude))"
      ],
      "metadata": {
        "id": "3iQXTB9TwWMF"
      },
      "execution_count": null,
      "outputs": []
    },
    {
      "cell_type": "code",
      "source": [
        "from pyspark.ml.classification import LogisticRegression\n",
        "from pyspark.ml.feature import VectorAssembler\n",
        "from pyspark.ml import Pipeline\n",
        "\n",
        "# Create the feature vectors.\n",
        "# VectorAssembler is a transformer that combines a given list of columns into a single vector column.\n",
        "assembler = VectorAssembler(\n",
        "  inputCols = [x for x in train.columns if x not in [\"transaction_date\", \"fraude\", \"is_fraud\"]],\n",
        "  outputCol = \"features\")\n",
        "\n",
        "# Use Logistic Regression.\n",
        "# is a machine learning algorithm that is used for classification tasks\n",
        "lr = LogisticRegression().setParams(\n",
        "    maxIter = 100000,\n",
        "    labelCol = \"is_fraud\",\n",
        "    predictionCol = \"prediction\")\n",
        "\n",
        "\n",
        "# This will train a logistic regression model on the input data and return a \n",
        "# LogisticRegressionModel object which can be used to make predictions on new data.\n",
        "model = Pipeline(stages = [assembler, lr]).fit(train)"
      ],
      "metadata": {
        "id": "2ZQQU2WOweOk"
      },
      "execution_count": null,
      "outputs": []
    },
    {
      "cell_type": "code",
      "source": [
        "predicted = model.transform(test)"
      ],
      "metadata": {
        "id": "1MhlUcBQwpZc"
      },
      "execution_count": null,
      "outputs": []
    },
    {
      "cell_type": "code",
      "source": [
        "predicted.show()"
      ],
      "metadata": {
        "colab": {
          "base_uri": "https://localhost:8080/"
        },
        "id": "XMBKpX5Zwrow",
        "outputId": "51429cc7-4522-45d4-c2f6-d5ee5b2d150c"
      },
      "execution_count": null,
      "outputs": [
        {
          "output_type": "stream",
          "name": "stdout",
          "text": [
            "+-----+-------------------+-----------------------+------------------------+-----------------------+---------------+---------------+------+--------------------+--------------------+--------------------+----------+\n",
            "|valor|   transaction_date|destinatario_nome_index|destinatario_banco_index|destinatario_tipo_index|chave_pix_index|categoria_index|fraude|            features|       rawPrediction|         probability|prediction|\n",
            "+-----+-------------------+-----------------------+------------------------+-----------------------+---------------+---------------+------+--------------------+--------------------+--------------------+----------+\n",
            "| 0.18|2022-02-20 11:56:41|                 4288.0|                     4.0|                    1.0|            3.0|            5.0|     0|[0.18,4288.0,4.0,...|[200.715458857010...|           [1.0,0.0]|       0.0|\n",
            "| 0.34|2021-12-10 12:59:50|                 7127.0|                     3.0|                    1.0|            0.0|            0.0|     0|[0.34,7127.0,3.0,...|[29.3939782733945...|[0.99999999999982...|       0.0|\n",
            "| 0.49|2023-01-02 17:53:37|                 5426.0|                     3.0|                    1.0|            2.0|            6.0|     0|[0.49,5426.0,3.0,...|[236.834963119909...|           [1.0,0.0]|       0.0|\n",
            "| 0.51|2021-09-20 09:03:17|                10016.0|                     2.0|                    0.0|            0.0|            6.0|     0|[0.51,10016.0,2.0...|[241.057729092162...|           [1.0,0.0]|       0.0|\n",
            "| 0.52|2022-03-29 06:27:04|                11249.0|                     0.0|                    0.0|            0.0|            6.0|     0|[0.52,11249.0,0.0...|[241.988450825994...|           [1.0,0.0]|       0.0|\n",
            "| 0.78|2021-12-31 23:04:33|                 3755.0|                     5.0|                    0.0|            0.0|            0.0|     0|[0.78,3755.0,5.0,...|[30.7497296601296...|[0.99999999999995...|       0.0|\n",
            "| 0.96|2022-11-28 15:12:53|                 2146.0|                     5.0|                    0.0|            3.0|            4.0|     0|[0.96,2146.0,5.0,...|[167.675491927293...|           [1.0,0.0]|       0.0|\n",
            "| 1.24|2021-07-23 13:35:22|                 9608.0|                     1.0|                    1.0|            2.0|            8.0|     0|[1.24,9608.0,1.0,...|[307.355318786747...|           [1.0,0.0]|       0.0|\n",
            "| 1.29|2021-05-15 00:22:21|                 1842.0|                     1.0|                    1.0|            1.0|            5.0|     0|[1.29,1842.0,1.0,...|[203.901475578739...|           [1.0,0.0]|       0.0|\n",
            "| 1.41|2022-03-13 15:44:19|                  682.0|                     6.0|                    0.0|            2.0|            6.0|     0|[1.41,682.0,6.0,0...|[237.747672279637...|           [1.0,0.0]|       0.0|\n",
            "| 1.47|2021-05-30 14:34:01|                 1259.0|                     1.0|                    1.0|            2.0|            3.0|     0|[1.47,1259.0,1.0,...|[133.406827874166...|           [1.0,0.0]|       0.0|\n",
            "| 1.55|2023-01-13 20:54:08|                 6884.0|                     3.0|                    1.0|            0.0|            4.0|     0|[1.55,6884.0,3.0,...|[168.764091628649...|           [1.0,0.0]|       0.0|\n",
            "| 1.75|2022-12-30 16:42:20|                 2997.0|                     3.0|                    1.0|            0.0|            5.0|     0|[1.75,2997.0,3.0,...|[203.725382197705...|           [1.0,0.0]|       0.0|\n",
            "| 1.79|2021-12-14 12:12:00|                15313.0|                     3.0|                    0.0|            0.0|            2.0|     0|[1.79,15313.0,3.0...|[101.041003373266...|           [1.0,0.0]|       0.0|\n",
            "| 2.01|2021-04-01 23:31:15|                 5008.0|                     4.0|                    0.0|            0.0|            1.0|     0|[2.01,5008.0,4.0,...|[66.0339534948421...|           [1.0,0.0]|       0.0|\n",
            "| 2.01|2022-02-14 13:26:42|                 1574.0|                     2.0|                    0.0|            3.0|            4.0|     0|[2.01,1574.0,2.0,...|[169.144272503059...|           [1.0,0.0]|       0.0|\n",
            "| 2.51|2021-02-25 14:44:24|                 2260.0|                     1.0|                    0.0|            3.0|            6.0|     0|[2.51,2260.0,1.0,...|[239.289019370020...|           [1.0,0.0]|       0.0|\n",
            "| 2.72|2022-03-31 08:44:09|                 1944.0|                     5.0|                    1.0|            0.0|            5.0|     0|[2.72,1944.0,5.0,...|[202.786890155404...|           [1.0,0.0]|       0.0|\n",
            "| 2.82|2021-05-04 04:35:11|                 6523.0|                     4.0|                    1.0|            2.0|            0.0|     0|[2.82,6523.0,4.0,...|[27.2633503566208...|[0.99999999999855...|       0.0|\n",
            "| 2.85|2021-07-05 06:48:59|                 4580.0|                     3.0|                    0.0|            1.0|            2.0|     0|[2.85,4580.0,3.0,...|[100.541467833093...|           [1.0,0.0]|       0.0|\n",
            "+-----+-------------------+-----------------------+------------------------+-----------------------+---------------+---------------+------+--------------------+--------------------+--------------------+----------+\n",
            "only showing top 20 rows\n",
            "\n"
          ]
        }
      ]
    },
    {
      "cell_type": "code",
      "source": [
        "predicted = predicted.withColumn(\"is_fraud\", is_fraud(predicted.fraude))\n",
        "predicted.crosstab(\"is_fraud\", \"prediction\").show()"
      ],
      "metadata": {
        "colab": {
          "base_uri": "https://localhost:8080/"
        },
        "id": "iMw7zBuQwswu",
        "outputId": "5b40b948-e8a7-46a0-f487-4d826d26b3e5"
      },
      "execution_count": null,
      "outputs": [
        {
          "output_type": "stream",
          "name": "stdout",
          "text": [
            "+-------------------+---+----+\n",
            "|is_fraud_prediction|0.0| 1.0|\n",
            "+-------------------+---+----+\n",
            "|                1.0|  0|4660|\n",
            "|                0.0|262|   2|\n",
            "+-------------------+---+----+\n",
            "\n"
          ]
        }
      ]
    },
    {
      "cell_type": "code",
      "source": [
        "test.show()"
      ],
      "metadata": {
        "colab": {
          "base_uri": "https://localhost:8080/"
        },
        "id": "iXK8OaweaqT_",
        "outputId": "393394c8-0b17-477d-e177-10b25f33e065"
      },
      "execution_count": null,
      "outputs": [
        {
          "output_type": "stream",
          "name": "stdout",
          "text": [
            "+-----+-------------------+-----------------------+------------------------+-----------------------+---------------+---------------+------+\n",
            "|valor|   transaction_date|destinatario_nome_index|destinatario_banco_index|destinatario_tipo_index|chave_pix_index|categoria_index|fraude|\n",
            "+-----+-------------------+-----------------------+------------------------+-----------------------+---------------+---------------+------+\n",
            "| 0.18|2022-02-20 11:56:41|                 4288.0|                     4.0|                    1.0|            3.0|            5.0|     0|\n",
            "| 0.34|2021-12-10 12:59:50|                 7127.0|                     3.0|                    1.0|            0.0|            0.0|     0|\n",
            "| 0.49|2023-01-02 17:53:37|                 5426.0|                     3.0|                    1.0|            2.0|            6.0|     0|\n",
            "| 0.51|2021-09-20 09:03:17|                10016.0|                     2.0|                    0.0|            0.0|            6.0|     0|\n",
            "| 0.52|2022-03-29 06:27:04|                11249.0|                     0.0|                    0.0|            0.0|            6.0|     0|\n",
            "| 0.78|2021-12-31 23:04:33|                 3755.0|                     5.0|                    0.0|            0.0|            0.0|     0|\n",
            "| 0.96|2022-11-28 15:12:53|                 2146.0|                     5.0|                    0.0|            3.0|            4.0|     0|\n",
            "| 1.24|2021-07-23 13:35:22|                 9608.0|                     1.0|                    1.0|            2.0|            8.0|     0|\n",
            "| 1.29|2021-05-15 00:22:21|                 1842.0|                     1.0|                    1.0|            1.0|            5.0|     0|\n",
            "| 1.41|2022-03-13 15:44:19|                  682.0|                     6.0|                    0.0|            2.0|            6.0|     0|\n",
            "| 1.47|2021-05-30 14:34:01|                 1259.0|                     1.0|                    1.0|            2.0|            3.0|     0|\n",
            "| 1.55|2023-01-13 20:54:08|                 6884.0|                     3.0|                    1.0|            0.0|            4.0|     0|\n",
            "| 1.75|2022-12-30 16:42:20|                 2997.0|                     3.0|                    1.0|            0.0|            5.0|     0|\n",
            "| 1.79|2021-12-14 12:12:00|                15313.0|                     3.0|                    0.0|            0.0|            2.0|     0|\n",
            "| 2.01|2021-04-01 23:31:15|                 5008.0|                     4.0|                    0.0|            0.0|            1.0|     0|\n",
            "| 2.01|2022-02-14 13:26:42|                 1574.0|                     2.0|                    0.0|            3.0|            4.0|     0|\n",
            "| 2.51|2021-02-25 14:44:24|                 2260.0|                     1.0|                    0.0|            3.0|            6.0|     0|\n",
            "| 2.72|2022-03-31 08:44:09|                 1944.0|                     5.0|                    1.0|            0.0|            5.0|     0|\n",
            "| 2.82|2021-05-04 04:35:11|                 6523.0|                     4.0|                    1.0|            2.0|            0.0|     0|\n",
            "| 2.85|2021-07-05 06:48:59|                 4580.0|                     3.0|                    0.0|            1.0|            2.0|     0|\n",
            "+-----+-------------------+-----------------------+------------------------+-----------------------+---------------+---------------+------+\n",
            "only showing top 20 rows\n",
            "\n"
          ]
        }
      ]
    },
    {
      "cell_type": "code",
      "source": [
        "df_teste_cols = [\n",
        "    'valor', \n",
        "    'transaction_date',\n",
        "    'destinatario_nome_index',\n",
        "    'destinatario_banco_index',\n",
        "    'destinatario_tipo_index',\n",
        "    'chave_pix_index',\n",
        "    'categoria_index',\n",
        "    'fraude'\n",
        "  ]\n",
        "\n",
        "df_teste_data = [\n",
        "    (103.2, \"2023-01-01 11:56:41\", 328.0, 4.0, 1.0, 3.0, 5.0, 0),\n",
        "    (500000.0, \"2023-01-01 11:56:41\", 328.0, 2.0, 3.0, 2.0, 5.0, 1),\n",
        "    (19999.0, \"2023-01-01 11:56:41\", 328.0, 1.0, 2.0, 1.0, 5.0, 0),\n",
        "]"
      ],
      "metadata": {
        "id": "CRMrEOoRa5NE"
      },
      "execution_count": null,
      "outputs": []
    },
    {
      "cell_type": "code",
      "source": [
        "df_teste = spark.createDataFrame(df_teste_data).toDF(*df_teste_col)"
      ],
      "metadata": {
        "id": "5ZNMQZyDavnt"
      },
      "execution_count": null,
      "outputs": []
    },
    {
      "cell_type": "code",
      "source": [
        "predicted = model.transform(df_teste)"
      ],
      "metadata": {
        "id": "9xggOhbyb9qm"
      },
      "execution_count": null,
      "outputs": []
    },
    {
      "cell_type": "code",
      "source": [
        "predicted.show()"
      ],
      "metadata": {
        "colab": {
          "base_uri": "https://localhost:8080/"
        },
        "id": "-G1YhKCob_mc",
        "outputId": "dfdcb90d-61ef-40dd-bb63-fd136efffd1c"
      },
      "execution_count": null,
      "outputs": [
        {
          "output_type": "stream",
          "name": "stdout",
          "text": [
            "+--------+-------------------+-----------------------+------------------------+-----------------------+---------------+---------------+------+--------------------+--------------------+-----------+----------+\n",
            "|   valor|   transaction_date|destinatario_nome_index|destinatario_banco_index|destinatario_tipo_index|chave_pix_index|categoria_index|fraude|            features|       rawPrediction|probability|prediction|\n",
            "+--------+-------------------+-----------------------+------------------------+-----------------------+---------------+---------------+------+--------------------+--------------------+-----------+----------+\n",
            "|   103.2|2023-01-01 11:56:41|                  328.0|                     4.0|                    1.0|            3.0|            5.0|     0|[103.2,328.0,4.0,...|[200.607483823920...|  [1.0,0.0]|       0.0|\n",
            "|500000.0|2023-01-01 11:56:41|                  328.0|                     2.0|                    3.0|            2.0|            5.0|     1|[500000.0,328.0,2...|[-921.25392173520...|  [0.0,1.0]|       1.0|\n",
            "| 19999.0|2023-01-01 11:56:41|                  328.0|                     1.0|                    2.0|            1.0|            5.0|     0|[19999.0,328.0,1....|[156.954342689044...|  [1.0,0.0]|       0.0|\n",
            "+--------+-------------------+-----------------------+------------------------+-----------------------+---------------+---------------+------+--------------------+--------------------+-----------+----------+\n",
            "\n"
          ]
        }
      ]
    },
    {
      "cell_type": "markdown",
      "source": [
        "## Exercícios\n",
        "\n",
        "- Regressão logística: A Regressão Logística é um algoritmo de aprendizado supervisionado que é comumente usado para tarefas de classificação binária. Pode ser útil para detectar fraudes porque pode modelar a relação entre as características de entrada e a probabilidade de uma transação ser fraudulenta.\n",
        "\n",
        "- Random Forest: Random Forest é um algoritmo de aprendizado supervisionado que cria múltiplas árvores de decisão e depois combina os resultados. É comumente usado para tarefas de classificação e é conhecido por sua capacidade de lidar com grandes conjuntos de dados e dados de alta dimensão.\n",
        "\n",
        "- Gradient-Boosted Treess: O Gradient-Boosted Trees é um método de conjunto que combina múltiplas árvores de decisão para melhorar a precisão do modelo. Também é comumente usado para tarefas de classificação e, como a Random Forest, pode lidar com grandes conjuntos de dados e dados de alta dimensão.\n",
        "\n",
        "- SVM de uma classe: O SVM de uma classe é um algoritmo de aprendizado não supervisionado que pode ser usado para detectar aberrações ou anomalias nos dados, o que pode ser útil para detectar fraudes. Ele funciona através do aprendizado de um limite que separa a maioria dos dados dos outliers.\n",
        "\n",
        "- Autoencoder: O Autoencoder é uma rede neural treinada para reconstruir sua entrada. Ele pode ser usado para detectar fraudes treinando-o com um conjunto de dados de transações normais e depois usando-o para detectar anomalias em novas transações.\n",
        "\n",
        "- Isolation Forest: Isolation Forest é um algoritmo de aprendizagem não supervisionado que pode ser usado para detectar anomalias nos dados."
      ],
      "metadata": {
        "id": "4btL3duOfN5r"
      }
    }
  ]
}