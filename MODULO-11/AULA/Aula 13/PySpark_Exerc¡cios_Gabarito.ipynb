{
  "cells": [
    {
      "cell_type": "markdown",
      "metadata": {
        "id": "DoC24P6NmAuN"
      },
      "source": [
        "# Instalando o Spark"
      ]
    },
    {
      "cell_type": "code",
      "execution_count": null,
      "metadata": {
        "colab": {
          "base_uri": "https://localhost:8080/"
        },
        "id": "5NiqW9-xlnjc",
        "outputId": "7ebbab44-a3da-4aee-e294-29431df5b2b2"
      },
      "outputs": [
        {
          "name": "stdout",
          "output_type": "stream",
          "text": [
            "Looking in indexes: https://pypi.org/simple, https://us-python.pkg.dev/colab-wheels/public/simple/\n",
            "Collecting pyspark\n",
            "  Downloading pyspark-3.3.1.tar.gz (281.4 MB)\n",
            "\u001b[2K     \u001b[90m━━━━━━━━━━━━━━━━━━━━━━━━━━━━━━━━━━━━━━━\u001b[0m \u001b[32m281.4/281.4 MB\u001b[0m \u001b[31m4.1 MB/s\u001b[0m eta \u001b[36m0:00:00\u001b[0m\n",
            "\u001b[?25h  Preparing metadata (setup.py) ... \u001b[?25l\u001b[?25hdone\n",
            "Collecting py4j==0.10.9.5\n",
            "  Downloading py4j-0.10.9.5-py2.py3-none-any.whl (199 kB)\n",
            "\u001b[2K     \u001b[90m━━━━━━━━━━━━━━━━━━━━━━━━━━━━━━━━━━━━━━━\u001b[0m \u001b[32m199.7/199.7 KB\u001b[0m \u001b[31m8.1 MB/s\u001b[0m eta \u001b[36m0:00:00\u001b[0m\n",
            "\u001b[?25hBuilding wheels for collected packages: pyspark\n",
            "  Building wheel for pyspark (setup.py) ... \u001b[?25l\u001b[?25hdone\n",
            "  Created wheel for pyspark: filename=pyspark-3.3.1-py2.py3-none-any.whl size=281845512 sha256=76e4fa028c19ec2e74fa68f1ec81d19ebb9bab74d39160bc015e8e20b64224d5\n",
            "  Stored in directory: /root/.cache/pip/wheels/43/dc/11/ec201cd671da62fa9c5cc77078235e40722170ceba231d7598\n",
            "Successfully built pyspark\n",
            "Installing collected packages: py4j, pyspark\n",
            "Successfully installed py4j-0.10.9.5 pyspark-3.3.1\n"
          ]
        }
      ],
      "source": [
        "!pip install pyspark #==3.3.1"
      ]
    },
    {
      "cell_type": "code",
      "execution_count": null,
      "metadata": {
        "colab": {
          "base_uri": "https://localhost:8080/"
        },
        "id": "W5NeVueloGu2",
        "outputId": "b517f229-bcac-4540-8d5e-de32a4a4aa96"
      },
      "outputs": [
        {
          "name": "stdout",
          "output_type": "stream",
          "text": [
            "--2023-01-14 13:47:27--  https://bin.equinox.io/c/4VmDzA7iaHb/ngrok-stable-linux-amd64.zip\n",
            "Resolving bin.equinox.io (bin.equinox.io)... 54.161.241.46, 18.205.222.128, 54.237.133.81, ...\n",
            "Connecting to bin.equinox.io (bin.equinox.io)|54.161.241.46|:443... connected.\n",
            "HTTP request sent, awaiting response... 200 OK\n",
            "Length: 13832437 (13M) [application/octet-stream]\n",
            "Saving to: ‘ngrok-stable-linux-amd64.zip’\n",
            "\n",
            "ngrok-stable-linux- 100%[===================>]  13.19M  38.4MB/s    in 0.3s    \n",
            "\n",
            "2023-01-14 13:47:28 (38.4 MB/s) - ‘ngrok-stable-linux-amd64.zip’ saved [13832437/13832437]\n",
            "\n",
            "Archive:  ngrok-stable-linux-amd64.zip\n",
            "  inflating: ngrok                   \n"
          ]
        }
      ],
      "source": [
        "!wget https://bin.equinox.io/c/4VmDzA7iaHb/ngrok-stable-linux-amd64.zip\n",
        "!unzip ngrok-stable-linux-amd64.zip"
      ]
    },
    {
      "cell_type": "markdown",
      "metadata": {
        "id": "ofKTUnKjtFor"
      },
      "source": [
        "# Iniciando Sessão Spark"
      ]
    },
    {
      "cell_type": "code",
      "execution_count": null,
      "metadata": {
        "id": "vcytxNzMzrnX"
      },
      "outputs": [],
      "source": [
        "from pyspark.sql import SparkSession\n",
        "from pyspark import SparkContext, SparkConf\n",
        "\n",
        "# ConfigureSparkUI\n",
        "conf = SparkConf().set('spark.ui.port', '4050')\n",
        "sc = SparkContext(conf=conf)\n",
        "sc.stop()\n",
        "\n",
        "spark = (\n",
        "    SparkSession.builder                  # Método da classe que constrói a sessão spark\n",
        "      .appName(\"Exercicios Spark\")  # Nome do App Spark\n",
        "      .getOrCreate())                     # Verifica se há uma sessão ativa, e se não há, cria uma nova sessão"
      ]
    },
    {
      "cell_type": "code",
      "execution_count": null,
      "metadata": {
        "id": "tRgaHosSo6PN"
      },
      "outputs": [],
      "source": [
        "get_ipython().system_raw('./ngrok http 4050 &')"
      ]
    },
    {
      "cell_type": "code",
      "execution_count": 1,
      "metadata": {
        "colab": {
          "base_uri": "https://localhost:8080/"
        },
        "id": "ywOUkAoUpB9T",
        "outputId": "a36f1d4b-026b-4242-f4e4-4342861ef37a"
      },
      "outputs": [
        {
          "name": "stdout",
          "output_type": "stream",
          "text": [
            "{\"tunnels\":[{\"name\":\"command_line\",\"uri\":\"/api/tunnels/command_line\",\"public_url\":\"https://3b9d-2804-88c-7f3d-ea00-85b5-6195-28e-4054.ngrok.io\",\"proto\":\"https\",\"config\":{\"addr\":\"http://localhost:4050\",\"inspect\":true},\"metrics\":{\"conns\":{\"count\":0,\"gauge\":0,\"rate1\":0,\"rate5\":0,\"rate15\":0,\"p50\":0,\"p90\":0,\"p95\":0,\"p99\":0},\"http\":{\"count\":0,\"rate1\":0,\"rate5\":0,\"rate15\":0,\"p50\":0,\"p90\":0,\"p95\":0,\"p99\":0}}},{\"name\":\"command_line (http)\",\"uri\":\"/api/tunnels/command_line%20%28http%29\",\"public_url\":\"http://3b9d-2804-88c-7f3d-ea00-85b5-6195-28e-4054.ngrok.io\",\"proto\":\"http\",\"config\":{\"addr\":\"http://localhost:4050\",\"inspect\":true},\"metrics\":{\"conns\":{\"count\":0,\"gauge\":0,\"rate1\":0,\"rate5\":0,\"rate15\":0,\"p50\":0,\"p90\":0,\"p95\":0,\"p99\":0},\"http\":{\"count\":0,\"rate1\":0,\"rate5\":0,\"rate15\":0,\"p50\":0,\"p90\":0,\"p95\":0,\"p99\":0}}}],\"uri\":\"/api/tunnels\"}\n"
          ]
        }
      ],
      "source": [
        "!curl -s http://localhost:4040/api/tunnels "
      ]
    },
    {
      "cell_type": "code",
      "execution_count": null,
      "metadata": {
        "id": "Asvexovst4Bn"
      },
      "outputs": [],
      "source": [
        "get_ipython().system_raw('./ngrok config add-authtoken 2KBeQEmmd1YNlQ86GGKf3KFOkb3_6sQH7JEnvEhDxwn9A7WnT')\n"
      ]
    },
    {
      "cell_type": "code",
      "execution_count": null,
      "metadata": {
        "id": "t9wLbayAOMH3"
      },
      "outputs": [],
      "source": [
        "from pyspark.sql.types import StructType, StructField, IntegerType, DoubleType, StringType, TimestampType\n",
        "\n",
        "\n",
        "schema_base_pix = StructType([\n",
        "    StructField('id', IntegerType()),\n",
        "    StructField('valor', DoubleType()),\n",
        "    StructField('parte_debitada_nome', StringType()),\n",
        "    StructField('parte_debitada_conta', StringType()),\n",
        "    StructField('parte_debitada_banco', StringType()),\n",
        "    StructField('parte_creditada_nome', StringType()),\n",
        "    StructField('parte_creditada_conta', StringType()),\n",
        "    StructField('parte_creditada_banco', StringType()),\n",
        "    StructField('chave_pix_tipo', StringType()),\n",
        "    StructField('chave_pix_valor', StringType()),\n",
        "    StructField('data_transacao', TimestampType())\n",
        "])\n",
        "\n",
        "caminho_csv = \"./base_de_dados.csv\"\n",
        "\n",
        "df = spark.read.csv(\n",
        "      path=caminho_csv,\n",
        "      header=True,\n",
        "      sep=\";\",\n",
        "      schema=schema_base_pix,\n",
        "      timestampFormat=\"dd/MM/yyyy HH:mm\"\n",
        ")"
      ]
    },
    {
      "cell_type": "markdown",
      "metadata": {
        "id": "_UlTP7-mA_jl"
      },
      "source": [
        "# Exercícios\n",
        "1. Descubra a quantidade total de transações na base de dados.\n",
        "2. Qual foi a quantia total de dinheiro transacional em cada ano?\n",
        "2. Descubra a quantidade de dinheiro que entrou na Nubank em todo o período.\n",
        "2. Retorne a quantidade de transações agrupadas por tipo de chave.\n",
        "3. Descubra qual é a média, mínima e máxima do valor de todas as transações.\n",
        "4. Quais foram as 5 maiores transações durante todo o período?\n",
        "5. Para o banco BTG, mostre qual é a chave pix mais utilizada para enviar ou receber transações. \n",
        "6. Descubra qual foi a maior transação de cada mês na base de dados.\n",
        "7. Crie uma nova coluna que contenha o valor da transação em dólar. "
      ]
    },
    {
      "cell_type": "code",
      "execution_count": null,
      "metadata": {
        "colab": {
          "base_uri": "https://localhost:8080/"
        },
        "id": "yvpdP0FrjIUM",
        "outputId": "be70bc74-4e1b-42cf-f87b-3331945c9361"
      },
      "outputs": [
        {
          "name": "stdout",
          "output_type": "stream",
          "text": [
            "+---+--------+--------------------+--------------------+--------------------+--------------------+---------------------+---------------------+--------------+---------------+--------------+\n",
            "| id|   valor| parte_debitada_nome|parte_debitada_conta|parte_debitada_banco|parte_creditada_nome|parte_creditada_conta|parte_creditada_banco|chave_pix_tipo|chave_pix_valor|data_transacao|\n",
            "+---+--------+--------------------+--------------------+--------------------+--------------------+---------------------+---------------------+--------------+---------------+--------------+\n",
            "|  1|    9.93|Dra. Ana Carolina...|            79470453|              Nubank|       Maysa da Cruz|             67162333|                 Itau|           cpf|     8439752610|          null|\n",
            "|  2|   15.38|        Ana Caldeira|            19689668|                Itau|        Evelyn Sales|             60005091|             Bradesco|           cpf|    27145380617|          null|\n",
            "|  3|   57.58|    Arthur Goncalves|            18856899|            Bradesco|          Maria Melo|             13496303|                  BTG|           cpf|    16452937006|          null|\n",
            "|  4|53705.13|  Ana Julia Caldeira|            22834741|                Itau|   Ana Livia Almeida|             44695116|               Nubank|           cpf|    26590384142|          null|\n",
            "|  5|25299.69|  Srta. Nicole Pinto|             3715882|              Nubank|Srta. Ana Laura d...|             21409465|               Nubank|           cpf|    73486105280|          null|\n",
            "|  6| 7165.06|   Gabriela Ferreira|             2243037|              Nubank|       Larissa Souza|             10689552|                 Itau|           cpf|    96845371237|          null|\n",
            "|  7|    6.16|    Heloisa da Rocha|            59778949|                 BTG|Dra. Vitoria Silv...|             56583792|               Nubank|           cpf|    89064175357|          null|\n",
            "|  8|  136.36|Srta. Isadora Cor...|            77102442|              Nubank|  Francisco da Costa|             96088386|               Nubank|           cpf|    85907632429|          null|\n",
            "|  9|  574.39|   Dr. Lucas da Cruz|            38501170|                 BTG|       Calebe da Luz|             19365554|             Bradesco|           cpf|    64720189520|          null|\n",
            "| 10|   42.88|     Mirella Martins|            29535709|            Bradesco|        Danilo Lopes|             60064650|                 Itau|           cpf|    87014935232|          null|\n",
            "| 11|33629.97|Sr. Vitor Gabriel...|            67010663|                 BTG|Sra. Lavinia Cald...|             48145941|               Nubank|           cpf|    63542098124|          null|\n",
            "| 12| 4374.56|      Nathan Peixoto|            22975623|              Nubank|        Diogo da Luz|             30302218|             Bradesco|           cpf|    72908154323|          null|\n",
            "| 13|  507.18|       Miguel Araujo|            75113657|              Nubank|Marcos Vinicius G...|             67418115|                 Itau|           cpf|    84763129031|          null|\n",
            "| 14|67758.87|     Juliana Correia|             4495167|                Itau|    Davi Lucas Porto|             94395923|                  BTG|           cpf|    97804215649|          null|\n",
            "| 15|  815.53|     Ana Laura Souza|            79650252|                Itau|        Isabel Costa|             28762988|                  BTG|           cpf|    51824039689|          null|\n",
            "| 16|    2.73|           Levi Lima|            73815441|                 BTG|Dra. Maria Luiza ...|             96594203|             Bradesco|           cpf|    94516738066|          null|\n",
            "| 17|    0.54|        Otavio Cunha|            85583961|            Bradesco|       Elisa Moreira|             97003354|             Bradesco|           cpf|    15248769094|          null|\n",
            "| 18|49836.72|Ana Carolina Oliv...|            80200942|                Itau|    Stella Fernandes|             31579145|                  BTG|           cpf|    47609381250|          null|\n",
            "| 19|    9.68|        Levi Martins|            12349481|                Itau|Joao Guilherme Me...|             31102492|                  BTG|       celular|    11916824404|          null|\n",
            "| 20| 9837.22|          Noah Cunha|            84622162|            Bradesco|         Juan Mendes|             97805965|             Bradesco|       celular|    11944547225|          null|\n",
            "+---+--------+--------------------+--------------------+--------------------+--------------------+---------------------+---------------------+--------------+---------------+--------------+\n",
            "only showing top 20 rows\n",
            "\n"
          ]
        }
      ],
      "source": [
        "df.show()"
      ]
    },
    {
      "cell_type": "code",
      "execution_count": null,
      "metadata": {
        "colab": {
          "base_uri": "https://localhost:8080/"
        },
        "id": "qwKGNfvsiABn",
        "outputId": "adc3d54d-d5ab-4917-ca97-68536003c726"
      },
      "outputs": [
        {
          "data": {
            "text/plain": [
              "100"
            ]
          },
          "execution_count": 6,
          "metadata": {},
          "output_type": "execute_result"
        }
      ],
      "source": [
        "# Exercicio 1\n",
        "# Descubra a quantidade total de transações na base de dados\n",
        "\n",
        "df.count()"
      ]
    },
    {
      "cell_type": "code",
      "execution_count": null,
      "metadata": {
        "colab": {
          "base_uri": "https://localhost:8080/"
        },
        "id": "lBD0JDfJjFnF",
        "outputId": "f50843cc-4f36-4f60-94f6-9c255385db30"
      },
      "outputs": [
        {
          "name": "stdout",
          "output_type": "stream",
          "text": [
            "+----+------------------+\n",
            "|year|        sum(valor)|\n",
            "+----+------------------+\n",
            "|2022|517980.58999999973|\n",
            "|2021| 848320.6000000001|\n",
            "+----+------------------+\n",
            "\n"
          ]
        }
      ],
      "source": [
        "# Exercicio 2\n",
        "# Qual foi a quantia total de dinheiro transacional em cada ano?\n",
        "from pyspark.sql.functions import year, col\n",
        "\n",
        "df.withColumn(\n",
        "    'year', year(col('data_transacao'))\n",
        ").groupBy('year').sum('valor').show()"
      ]
    },
    {
      "cell_type": "code",
      "execution_count": null,
      "metadata": {
        "colab": {
          "base_uri": "https://localhost:8080/"
        },
        "id": "JO3NNK8KjvfF",
        "outputId": "891a4538-015a-4ca0-a312-f2901556f4e4"
      },
      "outputs": [
        {
          "name": "stdout",
          "output_type": "stream",
          "text": [
            "+----------+\n",
            "|sum(valor)|\n",
            "+----------+\n",
            "| 302224.64|\n",
            "+----------+\n",
            "\n",
            "+----------+\n",
            "|sum(valor)|\n",
            "+----------+\n",
            "| 302224.64|\n",
            "+----------+\n",
            "\n"
          ]
        }
      ],
      "source": [
        "# Exercicio 3\n",
        "# Descubra a quantidade de dinheiro que entrou na Nubank em todo o período.\n",
        "\n",
        "from pyspark.sql.functions import sum as _sum\n",
        "df.filter(col('parte_creditada_banco') == \"Nubank\").select(_sum('valor')).show()\n",
        "\n",
        "from pyspark.sql import functions as F\n",
        "df.filter(col('parte_creditada_banco') == \"Nubank\").select(F.sum('valor')).show()"
      ]
    },
    {
      "cell_type": "code",
      "execution_count": null,
      "metadata": {
        "colab": {
          "base_uri": "https://localhost:8080/"
        },
        "id": "I_v0WEWSkfnG",
        "outputId": "23a872d2-5afe-4a47-e595-2f15f0c91966"
      },
      "outputs": [
        {
          "name": "stdout",
          "output_type": "stream",
          "text": [
            "+--------------+-----+\n",
            "|chave_pix_tipo|count|\n",
            "+--------------+-----+\n",
            "|       celular|   22|\n",
            "|         email|   29|\n",
            "|           cpf|   49|\n",
            "+--------------+-----+\n",
            "\n"
          ]
        }
      ],
      "source": [
        "# Exercicio 4\n",
        "# Retorne a quantidade de transações agrupadas por tipo de chave.\n",
        "\n",
        "from pyspark.sql.functions import year, col\n",
        "\n",
        "df.groupBy('chave_pix_tipo').count().show()"
      ]
    },
    {
      "cell_type": "code",
      "execution_count": null,
      "metadata": {
        "colab": {
          "base_uri": "https://localhost:8080/"
        },
        "id": "ZPtJHSZlknw2",
        "outputId": "faa980ff-8058-49a0-d156-622ba998611b"
      },
      "outputs": [
        {
          "name": "stdout",
          "output_type": "stream",
          "text": [
            "+-------+------------------+\n",
            "|summary|             valor|\n",
            "+-------+------------------+\n",
            "|  count|               100|\n",
            "|   mean|13663.011899999998|\n",
            "| stddev|25715.376055332952|\n",
            "|    min|              0.03|\n",
            "|    max|          95977.62|\n",
            "+-------+------------------+\n",
            "\n",
            "+----------+----------+------------------+\n",
            "|max(valor)|min(valor)|        avg(valor)|\n",
            "+----------+----------+------------------+\n",
            "|  95977.62|      0.03|13663.011899999998|\n",
            "+----------+----------+------------------+\n",
            "\n"
          ]
        }
      ],
      "source": [
        "# Exercicio 5\n",
        "# Descubra qual é a média, mínima e máxima do valor de todas as transações.\n",
        "\n",
        "df.select('valor').describe().show()\n",
        "\n",
        "from pyspark.sql import functions as F\n",
        "\n",
        "\n",
        "df.select(\n",
        "    F.max(col('valor')),\n",
        "    F.min(col('valor')),\n",
        "    F.mean(col('valor')),\n",
        ").show()"
      ]
    },
    {
      "cell_type": "code",
      "execution_count": null,
      "metadata": {
        "colab": {
          "base_uri": "https://localhost:8080/"
        },
        "id": "_wNhAFKVk_sK",
        "outputId": "92b2bb1c-596b-4532-fcef-df71449ee943"
      },
      "outputs": [
        {
          "name": "stdout",
          "output_type": "stream",
          "text": [
            "+---+--------+--------------------+--------------------+--------------------+--------------------+---------------------+---------------------+--------------+--------------------+-------------------+\n",
            "| id|   valor| parte_debitada_nome|parte_debitada_conta|parte_debitada_banco|parte_creditada_nome|parte_creditada_conta|parte_creditada_banco|chave_pix_tipo|     chave_pix_valor|     data_transacao|\n",
            "+---+--------+--------------------+--------------------+--------------------+--------------------+---------------------+---------------------+--------------+--------------------+-------------------+\n",
            "| 54|95977.62|   Henrique Ferreira|             6269315|              Nubank|Sra. Maria Luiza ...|             68542779|                  BTG|           cpf|         14957860211|2021-09-22 10:17:00|\n",
            "| 86|94736.79|Joao Vitor Cavalc...|            52265189|                 BTG|        Stella Gomes|             93858790|               Nubank|         email|stella.gomes@yaho...|2021-01-26 00:04:00|\n",
            "| 97|94586.45|      Henrique Pinto|            69273106|            Bradesco|        Heitor Silva|             81541742|                 Itau|         email|heitor.silva@yaho...|2021-09-06 10:57:00|\n",
            "| 78|81977.98|      Giovanna Costa|            37809286|                Itau|Joao Guilherme Ramos|             75756231|             Bradesco|         email|joao.guilherme.ra...|2021-02-16 18:57:00|\n",
            "| 71|80083.34|      Eduarda Campos|            12495530|                 BTG|       Olivia da Luz|             30630489|                  BTG|           cpf|         42617803996|2021-11-16 10:58:00|\n",
            "+---+--------+--------------------+--------------------+--------------------+--------------------+---------------------+---------------------+--------------+--------------------+-------------------+\n",
            "only showing top 5 rows\n",
            "\n"
          ]
        }
      ],
      "source": [
        "# Exercicio 6\n",
        "# Quais foram as 5 maiores transações durante todo o período?\n",
        "\n",
        "df.orderBy('valor', ascending=False).show(5)"
      ]
    },
    {
      "cell_type": "code",
      "execution_count": null,
      "metadata": {
        "colab": {
          "base_uri": "https://localhost:8080/"
        },
        "id": "0c3EQ51flTXj",
        "outputId": "73b54223-0d8b-4a31-b13b-11d77e688e8c"
      },
      "outputs": [
        {
          "name": "stdout",
          "output_type": "stream",
          "text": [
            "+--------------+-----+\n",
            "|chave_pix_tipo|count|\n",
            "+--------------+-----+\n",
            "|           cpf|   22|\n",
            "|         email|   15|\n",
            "|       celular|   13|\n",
            "+--------------+-----+\n",
            "\n"
          ]
        }
      ],
      "source": [
        "# Exercicio 7\n",
        "# Para o banco BTG, mostre qual é a chave pix mais utilizada para enviar ou receber transações.\n",
        "df.filter(\n",
        "    (col('parte_debitada_banco') == \"BTG\") |\n",
        "    (col('parte_creditada_banco') == \"BTG\")\n",
        ").groupBy('chave_pix_tipo').count().orderBy('count', ascending=False).show()"
      ]
    },
    {
      "cell_type": "code",
      "execution_count": null,
      "metadata": {
        "colab": {
          "base_uri": "https://localhost:8080/"
        },
        "id": "zbI33ku6lowp",
        "outputId": "656abe29-6450-494d-c98f-24886db1f1b6"
      },
      "outputs": [
        {
          "name": "stdout",
          "output_type": "stream",
          "text": [
            "+---+--------+-------------------+-------+\n",
            "| id|   valor|     data_transacao|ano_mes|\n",
            "+---+--------+-------------------+-------+\n",
            "|  1|    9.93|2022-02-18 13:28:00|2022-02|\n",
            "|  2|   15.38|2022-04-08 01:47:00|2022-04|\n",
            "|  3|   57.58|2022-07-14 03:18:00|2022-07|\n",
            "|  4|53705.13|2022-01-15 18:06:00|2022-01|\n",
            "|  5|25299.69|2022-05-13 11:04:00|2022-05|\n",
            "|  6| 7165.06|2022-09-11 13:38:00|2022-09|\n",
            "|  7|    6.16|2021-12-10 12:37:00|2021-12|\n",
            "|  8|  136.36|2021-12-30 23:18:00|2021-12|\n",
            "|  9|  574.39|2021-06-21 07:20:00|2021-06|\n",
            "| 10|   42.88|2022-09-21 17:19:00|2022-09|\n",
            "| 11|33629.97|2022-09-12 00:29:00|2022-09|\n",
            "| 12| 4374.56|2022-08-07 17:01:00|2022-08|\n",
            "| 13|  507.18|2021-03-07 12:34:00|2021-03|\n",
            "| 14|67758.87|2021-03-24 22:58:00|2021-03|\n",
            "| 15|  815.53|2022-02-21 11:25:00|2022-02|\n",
            "| 16|    2.73|2021-07-20 09:17:00|2021-07|\n",
            "| 17|    0.54|2022-02-16 10:16:00|2022-02|\n",
            "| 18|49836.72|2022-07-18 22:46:00|2022-07|\n",
            "| 19|    9.68|2022-02-26 15:05:00|2022-02|\n",
            "| 20| 9837.22|2021-06-22 05:39:00|2021-06|\n",
            "+---+--------+-------------------+-------+\n",
            "only showing top 20 rows\n",
            "\n",
            "+---+--------+-------------------+-------+----------+\n",
            "| id|   valor|     data_transacao|ano_mes|row_number|\n",
            "+---+--------+-------------------+-------+----------+\n",
            "| 30| 3035.83|2021-01-09 02:17:00|2021-01|         1|\n",
            "| 86|94736.79|2021-01-26 00:04:00|2021-01|         2|\n",
            "| 38|   32.79|2021-02-18 04:08:00|2021-02|         1|\n",
            "|100|  705.81|2021-02-07 10:57:00|2021-02|         2|\n",
            "| 89|  958.07|2021-02-13 10:07:00|2021-02|         3|\n",
            "| 37|19799.16|2021-02-15 14:13:00|2021-02|         4|\n",
            "| 34|58083.62|2021-02-10 06:13:00|2021-02|         5|\n",
            "| 78|81977.98|2021-02-16 18:57:00|2021-02|         6|\n",
            "| 60|    0.03|2021-03-16 19:22:00|2021-03|         1|\n",
            "| 49|    0.57|2021-03-12 16:28:00|2021-03|         2|\n",
            "| 98|     6.0|2021-03-22 20:38:00|2021-03|         3|\n",
            "| 45|   69.76|2021-03-05 12:07:00|2021-03|         4|\n",
            "| 28|   89.94|2021-03-04 03:31:00|2021-03|         5|\n",
            "| 13|  507.18|2021-03-07 12:34:00|2021-03|         6|\n",
            "| 14|67758.87|2021-03-24 22:58:00|2021-03|         7|\n",
            "| 88|78347.58|2021-03-18 14:21:00|2021-03|         8|\n",
            "| 91|   10.33|2021-04-25 09:00:00|2021-04|         1|\n",
            "| 95|  202.69|2021-04-19 12:46:00|2021-04|         2|\n",
            "| 44|   459.2|2021-04-06 03:47:00|2021-04|         3|\n",
            "| 68|  611.53|2021-05-21 06:56:00|2021-05|         1|\n",
            "+---+--------+-------------------+-------+----------+\n",
            "only showing top 20 rows\n",
            "\n",
            "+---+--------+-------------------+-------+----------+\n",
            "| id|   valor|     data_transacao|ano_mes|row_number|\n",
            "+---+--------+-------------------+-------+----------+\n",
            "| 86|94736.79|2021-01-26 00:04:00|2021-01|         1|\n",
            "| 30| 3035.83|2021-01-09 02:17:00|2021-01|         2|\n",
            "| 78|81977.98|2021-02-16 18:57:00|2021-02|         1|\n",
            "| 34|58083.62|2021-02-10 06:13:00|2021-02|         2|\n",
            "| 37|19799.16|2021-02-15 14:13:00|2021-02|         3|\n",
            "| 89|  958.07|2021-02-13 10:07:00|2021-02|         4|\n",
            "|100|  705.81|2021-02-07 10:57:00|2021-02|         5|\n",
            "| 38|   32.79|2021-02-18 04:08:00|2021-02|         6|\n",
            "| 88|78347.58|2021-03-18 14:21:00|2021-03|         1|\n",
            "| 14|67758.87|2021-03-24 22:58:00|2021-03|         2|\n",
            "| 13|  507.18|2021-03-07 12:34:00|2021-03|         3|\n",
            "| 28|   89.94|2021-03-04 03:31:00|2021-03|         4|\n",
            "| 45|   69.76|2021-03-05 12:07:00|2021-03|         5|\n",
            "| 98|     6.0|2021-03-22 20:38:00|2021-03|         6|\n",
            "| 49|    0.57|2021-03-12 16:28:00|2021-03|         7|\n",
            "| 60|    0.03|2021-03-16 19:22:00|2021-03|         8|\n",
            "| 44|   459.2|2021-04-06 03:47:00|2021-04|         1|\n",
            "| 95|  202.69|2021-04-19 12:46:00|2021-04|         2|\n",
            "| 91|   10.33|2021-04-25 09:00:00|2021-04|         3|\n",
            "| 68|  611.53|2021-05-21 06:56:00|2021-05|         1|\n",
            "+---+--------+-------------------+-------+----------+\n",
            "only showing top 20 rows\n",
            "\n",
            "+---+--------+-------------------+-------+----------+\n",
            "| id|   valor|     data_transacao|ano_mes|row_number|\n",
            "+---+--------+-------------------+-------+----------+\n",
            "| 86|94736.79|2021-01-26 00:04:00|2021-01|         1|\n",
            "| 78|81977.98|2021-02-16 18:57:00|2021-02|         1|\n",
            "| 88|78347.58|2021-03-18 14:21:00|2021-03|         1|\n",
            "| 44|   459.2|2021-04-06 03:47:00|2021-04|         1|\n",
            "| 68|  611.53|2021-05-21 06:56:00|2021-05|         1|\n",
            "| 52|60139.23|2021-06-13 16:31:00|2021-06|         1|\n",
            "| 76| 9320.87|2021-07-16 00:01:00|2021-07|         1|\n",
            "| 73|  570.52|2021-08-02 18:40:00|2021-08|         1|\n",
            "| 54|95977.62|2021-09-22 10:17:00|2021-09|         1|\n",
            "| 32| 1508.83|2021-10-12 10:04:00|2021-10|         1|\n",
            "| 71|80083.34|2021-11-16 10:58:00|2021-11|         1|\n",
            "| 40|  829.87|2021-12-09 06:10:00|2021-12|         1|\n",
            "| 79| 78559.4|2022-01-09 22:31:00|2022-01|         1|\n",
            "| 35| 7944.02|2022-02-02 14:41:00|2022-02|         1|\n",
            "| 55|35409.61|2022-03-02 03:04:00|2022-03|         1|\n",
            "| 31|20875.64|2022-04-29 10:17:00|2022-04|         1|\n",
            "| 47|38219.08|2022-05-23 06:48:00|2022-05|         1|\n",
            "| 36|48714.95|2022-06-07 05:40:00|2022-06|         1|\n",
            "| 18|49836.72|2022-07-18 22:46:00|2022-07|         1|\n",
            "| 12| 4374.56|2022-08-07 17:01:00|2022-08|         1|\n",
            "+---+--------+-------------------+-------+----------+\n",
            "only showing top 20 rows\n",
            "\n"
          ]
        }
      ],
      "source": [
        "# Exercicio 8\n",
        "# Descubra qual foi a maior transação de cada mês na base de dados.\n",
        "from pyspark.sql.functions import date_format\n",
        "\n",
        "df.select(\n",
        "    'id', 'valor', 'data_transacao'\n",
        ").withColumn(\n",
        "    'ano_mes', date_format(col('data_transacao'), 'y-MM')\n",
        ").show()\n",
        "\n",
        "\n",
        "from pyspark.sql.window import Window\n",
        "from pyspark.sql.functions import row_number\n",
        "\n",
        "window_func  = Window.partitionBy(\"ano_mes\").orderBy(\"valor\")\n",
        "\n",
        "df.select(\n",
        "    'id', 'valor', 'data_transacao'\n",
        ").withColumn(\n",
        "    'ano_mes', date_format(col('data_transacao'), 'y-MM')\n",
        ").withColumn('row_number', row_number().over(window_func)).show()\n",
        "\n",
        "window_func  = Window.partitionBy(\"ano_mes\").orderBy(col(\"valor\").desc())\n",
        "\n",
        "df.select(\n",
        "    'id', 'valor', 'data_transacao'\n",
        ").withColumn(\n",
        "    'ano_mes', date_format(col('data_transacao'), 'y-MM')\n",
        ").withColumn('row_number', row_number().over(window_func)).show()\n",
        "\n",
        "\n",
        "df.select(\n",
        "    'id', 'valor', 'data_transacao'\n",
        ").withColumn(\n",
        "    'ano_mes', date_format(col('data_transacao'), 'y-MM')\n",
        ").withColumn('row_number', row_number().over(window_func)).filter(col('row_number') == 1).show()\n"
      ]
    },
    {
      "cell_type": "code",
      "execution_count": null,
      "metadata": {
        "colab": {
          "base_uri": "https://localhost:8080/"
        },
        "id": "KU2Gr-VUlq5B",
        "outputId": "e0ac5731-8dac-4d1c-bdb4-01c43624b24b"
      },
      "outputs": [
        {
          "name": "stdout",
          "output_type": "stream",
          "text": [
            "+---+--------+-----------+\n",
            "| id|   valor|valor_dolar|\n",
            "+---+--------+-----------+\n",
            "|  1|    9.93|      50.54|\n",
            "|  2|   15.38|      78.28|\n",
            "|  3|   57.58|     293.08|\n",
            "|  4|53705.13|  273359.11|\n",
            "|  5|25299.69|  128775.42|\n",
            "|  6| 7165.06|   36470.16|\n",
            "|  7|    6.16|      31.35|\n",
            "|  8|  136.36|     694.07|\n",
            "|  9|  574.39|    2923.65|\n",
            "| 10|   42.88|     218.26|\n",
            "| 11|33629.97|  171176.55|\n",
            "| 12| 4374.56|   22266.51|\n",
            "| 13|  507.18|    2581.55|\n",
            "| 14|67758.87|  344892.65|\n",
            "| 15|  815.53|    4151.05|\n",
            "| 16|    2.73|       13.9|\n",
            "| 17|    0.54|       2.75|\n",
            "| 18|49836.72|   253668.9|\n",
            "| 19|    9.68|      49.27|\n",
            "| 20| 9837.22|   50071.45|\n",
            "+---+--------+-----------+\n",
            "only showing top 20 rows\n",
            "\n"
          ]
        }
      ],
      "source": [
        "# Exercicio 9\n",
        "# Crie uma nova coluna que contenha o valor da transação em dólar.\n",
        "\n",
        "df.withColumn('valor_dolar', round(col('valor') * 5.09, 2)).select('id', 'valor', 'valor_dolar').show()"
      ]
    }
  ],
  "metadata": {
    "colab": {
      "collapsed_sections": [
        "DoC24P6NmAuN"
      ],
      "provenance": []
    },
    "kernelspec": {
      "display_name": "Python 3",
      "name": "python3"
    },
    "language_info": {
      "codemirror_mode": {
        "name": "ipython",
        "version": 3
      },
      "file_extension": ".py",
      "mimetype": "text/x-python",
      "name": "python",
      "nbconvert_exporter": "python",
      "pygments_lexer": "ipython3",
      "version": "3.8.16"
    }
  },
  "nbformat": 4,
  "nbformat_minor": 0
}
